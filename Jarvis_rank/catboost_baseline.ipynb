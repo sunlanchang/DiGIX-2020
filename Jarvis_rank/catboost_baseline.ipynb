{
 "cells": [
  {
   "cell_type": "code",
   "execution_count": null,
   "metadata": {},
   "outputs": [],
   "source": [
    "# zlh实现，加大迭代次数，线上0.4428左右，和lxf加权融合得到最优线上结果0.4446\n",
    "\n",
    "import gc\n",
    "import os\n",
    "import time\n",
    "import random\n",
    "import pickle\n",
    "import pandas as pd\n",
    "import numpy as np\n",
    "import lightgbm as lgb\n",
    "import xgboost as xgb\n",
    "import catboost as cbt\n",
    "import seaborn as sns\n",
    "\n",
    "from tqdm import tqdm\n",
    "from sklearn.metrics import *\n",
    "from sklearn.model_selection import *\n",
    "from matplotlib import pyplot as plt\n",
    "\n",
    "\n",
    "seed = 2020\n",
    "os.environ['PYTHONHASHSEED'] = str(seed)\n",
    "np.random.seed(seed)\n",
    "random.seed(seed)"
   ]
  },
  {
   "cell_type": "code",
   "execution_count": null,
   "metadata": {},
   "outputs": [],
   "source": [
    "with open('./input/origin_df.pkl', 'rb') as f:\n",
    "    df = pickle.load(f)"
   ]
  },
  {
   "cell_type": "code",
   "execution_count": null,
   "metadata": {},
   "outputs": [],
   "source": [
    "train_df = df.iloc[:6355374]\n",
    "test_df = df.iloc[-849077:]\n",
    "\n",
    "feature_name = [i for i in df.columns if 'feature' in i]\n",
    "len(feature_name)"
   ]
  },
  {
   "cell_type": "code",
   "execution_count": null,
   "metadata": {},
   "outputs": [],
   "source": [
    "fold = 5\n",
    "kf = KFold(n_splits=fold, shuffle=True, random_state=2020)\n",
    "\n",
    "oof = np.zeros(train_df.shape[0], )\n",
    "pre = np.zeros(test_df.shape[0], )\n",
    "for fold, (train_index, valid_index) in enumerate(kf.split(train, train[target].astype(int).values)):\n",
    "    X_train, label_train = train.iloc[train_index][feature_name], train.iloc[train_index][target].astype(int).values\n",
    "    X_valid, label_valid = train.iloc[valid_index][feature_name], train.iloc[valid_index][target].astype(int).values\n",
    "    \n",
    "    catboost_params = {\n",
    "    'iterations': 300000,\n",
    "    'learning_rate': 0.01,\n",
    "    'depth': 10,\n",
    "    'l2_leaf_reg': 10,\n",
    "    'loss_function':'RMSE',\n",
    "    'eval_metric': 'RMSE',\n",
    "    'task_type':'GPU',   \n",
    "    'simple_ctr':'FeatureFreq',\n",
    "    'combinations_ctr':'FeatureFreq',\n",
    "    'random_seed': 2020,\n",
    "    'early_stopping_rounds': 500,\n",
    "    'use_best_model': True,\n",
    "    'verbose': 1000,\n",
    "}\n",
    "    \n",
    "    clf = cbt.CatBoostRegressor(**catboost_params)\n",
    "    clf.fit(X_train, label_train, eval_set = [(X_valid, label_valid)],)\n",
    "    x1 = clf.predict(X_valid)\n",
    "    y1 = clf.predict(test[feature_name])\n",
    "    \n",
    "    oof_train[valid_index]=x1\n",
    "    predictions += y1 / nfold"
   ]
  },
  {
   "cell_type": "code",
   "execution_count": null,
   "metadata": {},
   "outputs": [],
   "source": [
    "result = test_df[['query_id','doc_id']].reset_index(drop=True)\n",
    "result['predict_label'] = predictions \n",
    "result.to_csv('xgb_baseline.csv', index=False)"
   ]
  }
 ],
 "metadata": {
  "kernelspec": {
   "display_name": "Python 3",
   "language": "python",
   "name": "python3"
  },
  "language_info": {
   "codemirror_mode": {
    "name": "ipython",
    "version": 3
   },
   "file_extension": ".py",
   "mimetype": "text/x-python",
   "name": "python",
   "nbconvert_exporter": "python",
   "pygments_lexer": "ipython3",
   "version": "3.7.7"
  }
 },
 "nbformat": 4,
 "nbformat_minor": 4
}
