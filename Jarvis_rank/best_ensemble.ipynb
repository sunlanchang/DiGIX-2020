{
 "cells": [
  {
   "cell_type": "code",
   "execution_count": null,
   "metadata": {},
   "outputs": [],
   "source": [
    "# 将lgb以及xgb cat的结果做加权融合得到lxf的最佳线上结果 0.443019\n",
    "\n",
    "import pandas as pd\n",
    "import numpy as np\n",
    "import glob\n",
    "\n",
    "file_names = glob.glob(pathname='./ensemble/*.csv')\n",
    "\n",
    "result = pd.read_csv(file_names[0])\n",
    "prob = []\n",
    "\n",
    "for i in file_names:\n",
    "    print(i)\n",
    "    df = pd.read_csv(i)\n",
    "    prob.append(np.array(df['probability']))\n",
    "\n",
    "# lgb * 0.7 + xgb_cat * 0.3\n",
    "result_prob = prob[0] * 0.7 + prob[1] * 0.3\n",
    "result['predict_label'] = result_prob\n",
    "result.to_csv('fusion_0.443019.csv', index=False)\n",
    "result"
   ]
  }
 ],
 "metadata": {
  "kernelspec": {
   "display_name": "Python 3",
   "language": "python",
   "name": "python3"
  },
  "language_info": {
   "codemirror_mode": {
    "name": "ipython",
    "version": 3
   },
   "file_extension": ".py",
   "mimetype": "text/x-python",
   "name": "python",
   "nbconvert_exporter": "python",
   "pygments_lexer": "ipython3",
   "version": "3.7.7"
  }
 },
 "nbformat": 4,
 "nbformat_minor": 4
}
