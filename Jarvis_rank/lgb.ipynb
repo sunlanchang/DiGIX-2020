{
 "cells": [
  {
   "cell_type": "code",
   "execution_count": null,
   "metadata": {},
   "outputs": [],
   "source": [
    "import gc\n",
    "import os\n",
    "import time\n",
    "import random\n",
    "import pickle\n",
    "import pandas as pd\n",
    "import numpy as np\n",
    "import lightgbm as lgb\n",
    "import xgboost as xgb\n",
    "import catboost as cbt\n",
    "import seaborn as sns\n",
    "\n",
    "from tqdm import tqdm\n",
    "from sklearn.metrics import *\n",
    "from sklearn.model_selection import *\n",
    "from matplotlib import pyplot as plt\n",
    "\n",
    "\n",
    "seed = 2020\n",
    "os.environ['PYTHONHASHSEED'] = str(seed)\n",
    "np.random.seed(seed)\n",
    "random.seed(seed)"
   ]
  },
  {
   "cell_type": "code",
   "execution_count": null,
   "metadata": {},
   "outputs": [],
   "source": [
    "with open('./input/origin_df.pkl', 'rb') as f:\n",
    "    df = pickle.load(f)"
   ]
  },
  {
   "cell_type": "code",
   "execution_count": null,
   "metadata": {},
   "outputs": [],
   "source": [
    "df['label'].value_counts()"
   ]
  },
  {
   "cell_type": "code",
   "execution_count": null,
   "metadata": {},
   "outputs": [],
   "source": [
    "train_df = df.iloc[:6355374]\n",
    "test_df = df.iloc[-849077:]\n",
    "\n",
    "feature_name = [i for i in df.columns if 'feature' in i]\n",
    "len(feature_name)"
   ]
  },
  {
   "cell_type": "code",
   "execution_count": null,
   "metadata": {},
   "outputs": [],
   "source": [
    "fold = 5\n",
    "test_num = 849077\n",
    "skf = StratifiedKFold(n_splits=5, random_state=seed, shuffle=True)\n",
    "sub = np.zeros((test_df.shape[0],))\n",
    "oof_pred = np.zeros((train_df.shape[0],))\n",
    "metric_list = []\n",
    "y_pre_list = []\n",
    "model_count = 4\n",
    "\n",
    "for i, (train_index, valid_index) in enumerate(skf.split(train_df, train_df['label'])):\n",
    "    \n",
    "    x_train = train_df.iloc[train_index][feature_name]\n",
    "    y_train = train_df.iloc[train_index]['label']\n",
    "    x_valid = train_df.iloc[valid_index][feature_name]\n",
    "    y_valid = train_df.iloc[valid_index]['label']\n",
    "    \n",
    "    lgb_train = lgb.Dataset(x_train, label=y_train)\n",
    "    lgb_valid = lgb.Dataset(x_valid, label=y_valid)\n",
    "    \n",
    "    params = {\n",
    "    'boosting_type': 'gbdt',\n",
    "    'objective': 'regression',\n",
    "    'metric': {'mse'},\n",
    "    'num_threads': 60,\n",
    "    'num_leaves': 511,\n",
    "    'num_iterations': 40000,\n",
    "    'learning_rate': 0.1,\n",
    "    'feature_fraction': 1,\n",
    "    'bagging_fraction': 1,\n",
    "    'bagging_freq': 1,\n",
    "    'verbose': 1\n",
    "    }\n",
    "\n",
    "    model = lgb.train(params, lgb_train, valid_sets=[lgb_train, lgb_valid], verbose_eval=500, early_stopping_rounds=1000)\n",
    "    y_test_pred = model.predict(test_df[feature_name], num_iteration=model.best_iteration)\n",
    "    sub += y_test_pred / 5\n",
    "    y_pre_list.append(y_test_pred)\n",
    "    \n",
    "    y_valid_pred = model.predict(x_valid, num_iteration=model.best_iteration)\n",
    "    oof_pred[valid_index] = y_valid_pred\n",
    "    metric_result = mean_squared_error(y_valid, y_valid_pred)\n",
    "    metric_list.append(metric_result)\n",
    "\n",
    "    with open('./model/prob/lgb_score_%s.pkl' % model_count, 'wb') as f:\n",
    "        pickle.dump(metric_list, f)\n",
    "\n",
    "    with open('./model/prob/lgb_result_%s.pkl' % model_count, 'wb') as f:\n",
    "        pickle.dump(y_pre_list, f)\n",
    "\n",
    "    with open('./model/prob/lgb_oof_%s.pkl' % model_count, 'wb') as f:\n",
    "        pickle.dump(oof_pred, f)"
   ]
  },
  {
   "cell_type": "code",
   "execution_count": null,
   "metadata": {},
   "outputs": [],
   "source": [
    "metric_list"
   ]
  },
  {
   "cell_type": "code",
   "execution_count": null,
   "metadata": {},
   "outputs": [],
   "source": [
    "submit = test_df[['query_id', 'doc_id']].reset_index(drop=True)\n",
    "submit['predict_label'] = sub\n",
    "submit.columns = ['queryid', 'documentid', 'predict_label']\n",
    "submit.to_csv('./ensemble/lgb.csv', index=False)\n",
    "submit"
   ]
  },
  {
   "cell_type": "code",
   "execution_count": null,
   "metadata": {},
   "outputs": [],
   "source": []
  }
 ],
 "metadata": {
  "kernelspec": {
   "display_name": "Python 3",
   "language": "python",
   "name": "python3"
  },
  "language_info": {
   "codemirror_mode": {
    "name": "ipython",
    "version": 3
   },
   "file_extension": ".py",
   "mimetype": "text/x-python",
   "name": "python",
   "nbconvert_exporter": "python",
   "pygments_lexer": "ipython3",
   "version": "3.7.7"
  }
 },
 "nbformat": 4,
 "nbformat_minor": 4
}
