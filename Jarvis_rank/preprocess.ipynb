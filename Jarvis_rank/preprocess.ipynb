{
 "cells": [
  {
   "cell_type": "code",
   "execution_count": 1,
   "metadata": {},
   "outputs": [],
   "source": [
    "import pandas as pd\n",
    "import numpy as np\n",
    "\n",
    "from tqdm import tqdm"
   ]
  },
  {
   "cell_type": "code",
   "execution_count": 5,
   "metadata": {},
   "outputs": [],
   "source": [
    "def reduce_mem(df):\n",
    "    int_list = ['int', 'int32', 'int16']\n",
    "    float_list = ['float', 'float32']\n",
    "    for col in tqdm(df.columns):\n",
    "        col_type = df[col].dtypes\n",
    "        if col_type in int_list:\n",
    "            c_min = df[col].min()\n",
    "            c_max = df[col].max()\n",
    "            if c_min > np.iinfo(np.int8).min and c_max < np.iinfo(np.int8).max:\n",
    "                df[col] = df[col].astype(np.int8)\n",
    "            elif c_min > np.iinfo(np.int16).min and c_max < np.iinfo(np.int16).max:\n",
    "                df[col] = df[col].astype(np.int16)\n",
    "            elif c_min > np.iinfo(np.int32).min and c_max < np.iinfo(np.int32).max:\n",
    "                df[col] = df[col].astype(np.int32)\n",
    "        elif col_type in float_list:\n",
    "            c_min = df[col].min()\n",
    "            c_max = df[col].max()\n",
    "            if c_min > np.finfo(np.float16).min and c_max < np.finfo(np.float16).max:\n",
    "                df[col] = df[col].astype(np.float16)\n",
    "            elif c_min > np.finfo(np.float32).min and c_max < np.finfo(np.float32).max:\n",
    "                df[col] = df[col].astype(np.float32)\n",
    "    return df"
   ]
  },
  {
   "cell_type": "code",
   "execution_count": 4,
   "metadata": {},
   "outputs": [],
   "source": [
    "train_df = pd.read_csv('./data/train_dataset.csv',sep='\\t',names=['label','query_id','doc_id'] + [\"feature_{}\".format(i) for i in range(362)])\n",
    "test_A_df = pd.read_csv('./data/test_dataset_A.csv',sep='\\t',names=['query_id','doc_id'] + [\"feature_{}\".format(i) for i in range(362)])\n",
    "test_B_df = pd.read_csv('./data/test_dataset_B.csv',sep='\\t',names=['query_id','doc_id'] + [\"feature_{}\".format(i) for i in range(362)])\n",
    "\n",
    "df = pd.concat([train_df, test_A_df, test_B_df], ignore_index=True)\n",
    "df.shape"
   ]
  },
  {
   "cell_type": "code",
   "execution_count": null,
   "metadata": {},
   "outputs": [],
   "source": [
    "feature_name = [i for i in df.columns if 'feature' in i]\n",
    "target = 'label'\n",
    "drop_col = []\n",
    "for i in tqdm(feature_name):\n",
    "    if df[i].std() == 0:\n",
    "        drop_col.append(i)\n",
    "\n",
    "df = df.drop(drop_col, axis=1)\n",
    "for i in df.columns:\n",
    "    df[i] = df[i].map(df[i].value_counts())\n",
    "\n",
    "df = reduce_mem(df)"
   ]
  },
  {
   "cell_type": "code",
   "execution_count": null,
   "metadata": {},
   "outputs": [],
   "source": [
    "with open('./input/origin_df.pkl', 'wb') as f:\n",
    "    pickle.dump(df, f, protocol=4)"
   ]
  }
 ],
 "metadata": {
  "kernelspec": {
   "display_name": "Python 3",
   "language": "python",
   "name": "python3"
  },
  "language_info": {
   "codemirror_mode": {
    "name": "ipython",
    "version": 3
   },
   "file_extension": ".py",
   "mimetype": "text/x-python",
   "name": "python",
   "nbconvert_exporter": "python",
   "pygments_lexer": "ipython3",
   "version": "3.7.7"
  }
 },
 "nbformat": 4,
 "nbformat_minor": 4
}
