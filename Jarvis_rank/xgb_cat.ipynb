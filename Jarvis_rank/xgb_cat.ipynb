{
 "cells": [
  {
   "cell_type": "code",
   "execution_count": null,
   "metadata": {},
   "outputs": [],
   "source": [
    "import gc\n",
    "import os\n",
    "import time\n",
    "import random\n",
    "import pickle\n",
    "import pandas as pd\n",
    "import numpy as np\n",
    "import lightgbm as lgb\n",
    "import xgboost as xgb\n",
    "import catboost as cbt\n",
    "import seaborn as sns\n",
    "\n",
    "from tqdm import tqdm\n",
    "from sklearn.metrics import *\n",
    "from sklearn.model_selection import *\n",
    "from matplotlib import pyplot as plt\n",
    "\n",
    "\n",
    "seed = 2020\n",
    "os.environ['PYTHONHASHSEED'] = str(seed)\n",
    "np.random.seed(seed)\n",
    "random.seed(seed)"
   ]
  },
  {
   "cell_type": "code",
   "execution_count": null,
   "metadata": {},
   "outputs": [],
   "source": [
    "with open('./input/origin_df.pkl', 'rb') as f:\n",
    "    df = pickle.load(f)"
   ]
  },
  {
   "cell_type": "code",
   "execution_count": null,
   "metadata": {},
   "outputs": [],
   "source": [
    "train_df = df.iloc[:6355374]\n",
    "test_df = df.iloc[-849077:]\n",
    "\n",
    "feature_name = [i for i in df.columns if 'feature' in i]\n",
    "len(feature_name)"
   ]
  },
  {
   "cell_type": "code",
   "execution_count": null,
   "metadata": {},
   "outputs": [],
   "source": [
    "fold = 5\n",
    "test_num = 849077\n",
    "skf = StratifiedKFold(n_splits=5, random_state=seed, shuffle=True)\n",
    "cat_sub = np.zeros((test_df.shape[0],))\n",
    "xgb_sub = np.zeros((test_df.shape[0],))\n",
    "cat_oof = np.zeros((train_df.shape[0],))\n",
    "xgb_oof = np.zeros((train_df.shape[0],))\n",
    "metric_list = []\n",
    "y_pre_list = []\n",
    "model_count = 1"
   ]
  },
  {
   "cell_type": "code",
   "execution_count": null,
   "metadata": {},
   "outputs": [],
   "source": [
    "i = 0\n",
    "metric_list = []\n",
    "\n",
    "for train_index, valid_index in skf.split(train_df, train_df['label'].astype(int).values):\n",
    "    print('Fold %s' % i)\n",
    "    X_train, label_train = train_df.iloc[train_index][feature_name], train_df.iloc[train_index]['label'].astype(int).values\n",
    "    X_valid, label_valid = train_df.iloc[valid_index][feature_name], train_df.iloc[valid_index]['label'].astype(int).values\n",
    "\n",
    "    clf1 = cbt.CatBoostRegressor(iterations=100000, learning_rate=0.1, depth=7, loss_function='RMSE', eval_metric='RMSE')\n",
    "    clf1.fit(X_train, label_train, eval_set=[(X_valid, label_valid)], early_stopping_rounds=500, verbose=1000)\n",
    "    x1 = clf1.predict(X_valid)\n",
    "    y1 = clf1.predict(test_df[feature_name])\n",
    "\n",
    "    clf2 = xgb.XGBRegressor(learning_rate=0.1, max_depth=7, subsample=0.5, colsample_bytree=0.5, n_estimators=100000, eval_metric='rmse')\n",
    "    clf2.fit(X_train, label_train, eval_set=[(X_valid, label_valid)], early_stopping_rounds=500, verbose=1000)\n",
    "    x2 = clf2.predict(X_valid)\n",
    "    y2 = clf2.predict(test_df[feature_name])\n",
    "\n",
    "    cat_oof[valid_index] = y1\n",
    "    xgb_oof[valid_index] = y2\n",
    "\n",
    "    cat_sub += (y1 / 5)\n",
    "    xgb_sub += (y2 / 5)\n",
    "    i += 1"
   ]
  },
  {
   "cell_type": "code",
   "execution_count": null,
   "metadata": {},
   "outputs": [],
   "source": [
    "y = (y1 + y2) / 2\n",
    "submit = test_df[['query_id','doc_id']].reset_index(drop=True)\n",
    "submit['predict_label'] = y\n",
    "submit.columns = ['queryid','documentid','predict_label']\n",
    "submit.to_csv('./ensemble/xgb_cat.csv'), index=False)\n",
    "submit"
   ]
  }
 ],
 "metadata": {
  "kernelspec": {
   "display_name": "Python 3",
   "language": "python",
   "name": "python3"
  },
  "language_info": {
   "codemirror_mode": {
    "name": "ipython",
    "version": 3
   },
   "file_extension": ".py",
   "mimetype": "text/x-python",
   "name": "python",
   "nbconvert_exporter": "python",
   "pygments_lexer": "ipython3",
   "version": "3.7.7"
  }
 },
 "nbformat": 4,
 "nbformat_minor": 4
}
