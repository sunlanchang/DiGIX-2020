{
 "cells": [
  {
   "cell_type": "code",
   "execution_count": null,
   "metadata": {},
   "outputs": [],
   "source": [
    "# zlh和lxf融合，得到线上最优结果0.444608\n",
    "\n",
    "import pickle\n",
    "import pandas as pd\n",
    "import numpy as np\n",
    "\n",
    "sub_cols = pd.read_csv('fusion_0.443019.csv')\n",
    "\n",
    "first = pd.read_csv('fusion_0.443019.csv')['predict_label']\n",
    "second = pd.read_csv('xgb_baseline.csv')['predict_label']\n",
    "\n",
    "np.set_printoptions(precision=6)\n",
    "result = pd.DataFrame()\n",
    "\n",
    "result['queryid'] = sub_cols['queryid']\n",
    "result['documentid'] = sub_cols['documentid']\n",
    "\n",
    "pred = first * 0.55 + second * 0.45\n",
    "pred_prob = pred\n",
    "result['predict_label'] = pred\n",
    "result.to_csv('submission.csv', encoding='utf-8', index=None)"
   ]
  }
 ],
 "metadata": {
  "kernelspec": {
   "display_name": "Python 3",
   "language": "python",
   "name": "python3"
  },
  "language_info": {
   "codemirror_mode": {
    "name": "ipython",
    "version": 3
   },
   "file_extension": ".py",
   "mimetype": "text/x-python",
   "name": "python",
   "nbconvert_exporter": "python",
   "pygments_lexer": "ipython3",
   "version": "3.7.7"
  }
 },
 "nbformat": 4,
 "nbformat_minor": 4
}
