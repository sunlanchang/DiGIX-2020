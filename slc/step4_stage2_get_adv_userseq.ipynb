{
 "cells": [
  {
   "cell_type": "code",
   "execution_count": 1,
   "metadata": {
    "ExecuteTime": {
     "end_time": "2020-09-26T09:21:50.286876Z",
     "start_time": "2020-09-26T09:21:50.063276Z"
    }
   },
   "outputs": [],
   "source": [
    "import pandas as pd \n",
    "import numpy as np\n",
    "import gc\n",
    "from base import Cache\n",
    "from tqdm import tqdm\n"
   ]
  },
  {
   "cell_type": "code",
   "execution_count": 2,
   "metadata": {
    "ExecuteTime": {
     "end_time": "2020-09-26T09:21:50.875609Z",
     "start_time": "2020-09-26T09:21:50.861904Z"
    }
   },
   "outputs": [],
   "source": [
    "def reduce_mem(df, use_float16=False):\n",
    "    start_mem = df.memory_usage().sum() / 1024**2\n",
    "    tm_cols = df.select_dtypes('datetime').columns\n",
    "    for col in df.columns:\n",
    "        if col in tm_cols:\n",
    "            continue\n",
    "        col_type = df[col].dtypes\n",
    "        if col_type != object:\n",
    "            c_min = df[col].min()\n",
    "            c_max = df[col].max()\n",
    "            if str(col_type)[:3] == 'int':\n",
    "                if c_min > np.iinfo(np.int8).min and c_max < np.iinfo(\n",
    "                        np.int8).max:\n",
    "                    df[col] = df[col].astype(np.int8)\n",
    "                elif c_min > np.iinfo(np.int16).min and c_max < np.iinfo(\n",
    "                        np.int16).max:\n",
    "                    df[col] = df[col].astype(np.int16)\n",
    "                elif c_min > np.iinfo(np.int32).min and c_max < np.iinfo(\n",
    "                        np.int32).max:\n",
    "                    df[col] = df[col].astype(np.int32)\n",
    "                elif c_min > np.iinfo(np.int64).min and c_max < np.iinfo(\n",
    "                        np.int64).max:\n",
    "                    df[col] = df[col].astype(np.int64)\n",
    "            else:\n",
    "                if use_float16 and c_min > np.finfo(\n",
    "                        np.float16).min and c_max < np.finfo(np.float16).max:\n",
    "                    df[col] = df[col].astype(np.float16)\n",
    "                elif c_min > np.finfo(np.float32).min and c_max < np.finfo(\n",
    "                        np.float32).max:\n",
    "                    df[col] = df[col].astype(np.float32)\n",
    "                else:\n",
    "                    df[col] = df[col].astype(np.float64)\n",
    "    end_mem = df.memory_usage().sum() / 1024**2\n",
    "    print('{:.2f} Mb, {:.2f} Mb ({:.2f} %)'.format(\n",
    "        start_mem, end_mem, 100 * (start_mem - end_mem) / start_mem))\n",
    "    return df"
   ]
  },
  {
   "cell_type": "markdown",
   "metadata": {},
   "source": [
    "# list_df"
   ]
  },
  {
   "cell_type": "code",
   "execution_count": 3,
   "metadata": {
    "ExecuteTime": {
     "end_time": "2020-09-26T09:21:55.282362Z",
     "start_time": "2020-09-26T09:21:55.273139Z"
    }
   },
   "outputs": [],
   "source": [
    "\n",
    "def gen_list_df(data,feature1,feature2):\n",
    "    try:\n",
    "        data_group = data.groupby([feature1])\n",
    "        del data\n",
    "        gc.collect()\n",
    "        feature2_name_list = []\n",
    "        for name,group in data_group:\n",
    "            feature2_name_list.append(name)    \n",
    "        list_feature2 = []\n",
    "        for i in feature2_name_list:\n",
    "            list_feature2_ = []\n",
    "            index_get_group = data_group.get_group(i)\n",
    "            buf = []\n",
    "            for j in index_get_group[[feature2,'label']].values:\n",
    "                if j[1] == 1:\n",
    "                    buf.append(j[0])\n",
    "            list_feature2_.append(buf)\n",
    "            list_feature2_.append(i)\n",
    "            list_feature2.append(list_feature2_)\n",
    "        list_df = pd.DataFrame(list_feature2)\n",
    "        Cache.cache_data(list_df, nm_marker='list_df_adv_userseq_'+feature1+'_'+feature2)\n",
    "        del list_df,data_group,feature2_name_list,list_feature2_,index_get_group,list_feature2\n",
    "        gc.collect()\n",
    "        return True\n",
    "    except:\n",
    "        return False"
   ]
  },
  {
   "cell_type": "code",
   "execution_count": 4,
   "metadata": {
    "ExecuteTime": {
     "end_time": "2020-09-26T10:26:16.371760Z",
     "start_time": "2020-09-26T09:21:56.534015Z"
    }
   },
   "outputs": [
    {
     "name": "stderr",
     "output_type": "stream",
     "text": [
      "[2020-09-26 17:22:36] - __init__.py[line:126] - INFO: Successfully Reload: /home/zhangqibot/proj/digix/zlh/stage2/cached_data/CACHE_train_raw.pkl\n"
     ]
    },
    {
     "name": "stdout",
     "output_type": "stream",
     "text": [
      "11190.41 Mb, 1718.53 Mb (84.64 %)\n"
     ]
    },
    {
     "name": "stderr",
     "output_type": "stream",
     "text": [
      "[2020-09-26 17:26:16] - __init__.py[line:126] - INFO: Successfully Reload: /home/zhangqibot/proj/digix/zlh/stage2/cached_data/CACHE_test_B_raw.pkl\n"
     ]
    },
    {
     "name": "stdout",
     "output_type": "stream",
     "text": [
      "267.03 Mb, 41.01 Mb (84.64 %)\n"
     ]
    },
    {
     "name": "stderr",
     "output_type": "stream",
     "text": [
      "\r",
      "  0%|          | 0/35 [00:00<?, ?it/s]"
     ]
    },
    {
     "name": "stdout",
     "output_type": "stream",
     "text": [
      "1759.54 Mb, 1759.54 Mb (0.00 %)\n"
     ]
    },
    {
     "name": "stderr",
     "output_type": "stream",
     "text": [
      "[2020-09-26 17:28:27] - __init__.py[line:111] - INFO: Cache Successfully! File name: /home/zhangqibot/proj/digix/zlh/stage2/cached_data/CACHE_list_df_adv_userseq_task_id_age.pkl\n",
      "  3%|▎         | 1/35 [01:58<1:07:08, 118.48s/it]"
     ]
    },
    {
     "name": "stdout",
     "output_type": "stream",
     "text": [
      "['task_id', 'age']  Done\n"
     ]
    },
    {
     "name": "stderr",
     "output_type": "stream",
     "text": [
      "[2020-09-26 17:30:29] - __init__.py[line:111] - INFO: Cache Successfully! File name: /home/zhangqibot/proj/digix/zlh/stage2/cached_data/CACHE_list_df_adv_userseq_task_id_city.pkl\n",
      "  6%|▌         | 2/35 [03:59<1:05:39, 119.37s/it]"
     ]
    },
    {
     "name": "stdout",
     "output_type": "stream",
     "text": [
      "['task_id', 'city']  Done\n"
     ]
    },
    {
     "name": "stderr",
     "output_type": "stream",
     "text": [
      "[2020-09-26 17:32:26] - __init__.py[line:111] - INFO: Cache Successfully! File name: /home/zhangqibot/proj/digix/zlh/stage2/cached_data/CACHE_list_df_adv_userseq_task_id_city_rank.pkl\n",
      "  9%|▊         | 3/35 [05:57<1:03:22, 118.84s/it]"
     ]
    },
    {
     "name": "stdout",
     "output_type": "stream",
     "text": [
      "['task_id', 'city_rank']  Done\n"
     ]
    },
    {
     "name": "stderr",
     "output_type": "stream",
     "text": [
      "[2020-09-26 17:34:28] - __init__.py[line:111] - INFO: Cache Successfully! File name: /home/zhangqibot/proj/digix/zlh/stage2/cached_data/CACHE_list_df_adv_userseq_task_id_device_name.pkl\n",
      " 11%|█▏        | 4/35 [07:58<1:01:47, 119.60s/it]"
     ]
    },
    {
     "name": "stdout",
     "output_type": "stream",
     "text": [
      "['task_id', 'device_name']  Done\n"
     ]
    },
    {
     "name": "stderr",
     "output_type": "stream",
     "text": [
      "[2020-09-26 17:36:31] - __init__.py[line:111] - INFO: Cache Successfully! File name: /home/zhangqibot/proj/digix/zlh/stage2/cached_data/CACHE_list_df_adv_userseq_task_id_career.pkl\n",
      " 14%|█▍        | 5/35 [10:01<1:00:16, 120.54s/it]"
     ]
    },
    {
     "name": "stdout",
     "output_type": "stream",
     "text": [
      "['task_id', 'career']  Done\n"
     ]
    },
    {
     "name": "stderr",
     "output_type": "stream",
     "text": [
      "[2020-09-26 17:38:31] - __init__.py[line:111] - INFO: Cache Successfully! File name: /home/zhangqibot/proj/digix/zlh/stage2/cached_data/CACHE_list_df_adv_userseq_task_id_gender.pkl\n",
      " 17%|█▋        | 6/35 [12:01<58:12, 120.42s/it]  "
     ]
    },
    {
     "name": "stdout",
     "output_type": "stream",
     "text": [
      "['task_id', 'gender']  Done\n"
     ]
    },
    {
     "name": "stderr",
     "output_type": "stream",
     "text": [
      "[2020-09-26 17:40:36] - __init__.py[line:111] - INFO: Cache Successfully! File name: /home/zhangqibot/proj/digix/zlh/stage2/cached_data/CACHE_list_df_adv_userseq_task_id_residence.pkl\n",
      " 20%|██        | 7/35 [14:06<56:51, 121.83s/it]"
     ]
    },
    {
     "name": "stdout",
     "output_type": "stream",
     "text": [
      "['task_id', 'residence']  Done\n"
     ]
    },
    {
     "name": "stderr",
     "output_type": "stream",
     "text": [
      "[2020-09-26 17:42:36] - __init__.py[line:111] - INFO: Cache Successfully! File name: /home/zhangqibot/proj/digix/zlh/stage2/cached_data/CACHE_list_df_adv_userseq_adv_id_age.pkl\n",
      " 23%|██▎       | 8/35 [16:07<54:39, 121.45s/it]"
     ]
    },
    {
     "name": "stdout",
     "output_type": "stream",
     "text": [
      "['adv_id', 'age']  Done\n"
     ]
    },
    {
     "name": "stderr",
     "output_type": "stream",
     "text": [
      "[2020-09-26 17:44:39] - __init__.py[line:111] - INFO: Cache Successfully! File name: /home/zhangqibot/proj/digix/zlh/stage2/cached_data/CACHE_list_df_adv_userseq_adv_id_city.pkl\n",
      " 26%|██▌       | 9/35 [18:10<52:46, 121.80s/it]"
     ]
    },
    {
     "name": "stdout",
     "output_type": "stream",
     "text": [
      "['adv_id', 'city']  Done\n"
     ]
    },
    {
     "name": "stderr",
     "output_type": "stream",
     "text": [
      "[2020-09-26 17:46:42] - __init__.py[line:111] - INFO: Cache Successfully! File name: /home/zhangqibot/proj/digix/zlh/stage2/cached_data/CACHE_list_df_adv_userseq_adv_id_city_rank.pkl\n",
      " 29%|██▊       | 10/35 [20:12<50:51, 122.05s/it]"
     ]
    },
    {
     "name": "stdout",
     "output_type": "stream",
     "text": [
      "['adv_id', 'city_rank']  Done\n"
     ]
    },
    {
     "name": "stderr",
     "output_type": "stream",
     "text": [
      "[2020-09-26 17:48:43] - __init__.py[line:111] - INFO: Cache Successfully! File name: /home/zhangqibot/proj/digix/zlh/stage2/cached_data/CACHE_list_df_adv_userseq_adv_id_device_name.pkl\n",
      " 31%|███▏      | 11/35 [22:13<48:43, 121.81s/it]"
     ]
    },
    {
     "name": "stdout",
     "output_type": "stream",
     "text": [
      "['adv_id', 'device_name']  Done\n"
     ]
    },
    {
     "name": "stderr",
     "output_type": "stream",
     "text": [
      "[2020-09-26 17:50:44] - __init__.py[line:111] - INFO: Cache Successfully! File name: /home/zhangqibot/proj/digix/zlh/stage2/cached_data/CACHE_list_df_adv_userseq_adv_id_career.pkl\n",
      " 34%|███▍      | 12/35 [24:15<46:37, 121.64s/it]"
     ]
    },
    {
     "name": "stdout",
     "output_type": "stream",
     "text": [
      "['adv_id', 'career']  Done\n"
     ]
    },
    {
     "name": "stderr",
     "output_type": "stream",
     "text": [
      "[2020-09-26 17:52:46] - __init__.py[line:111] - INFO: Cache Successfully! File name: /home/zhangqibot/proj/digix/zlh/stage2/cached_data/CACHE_list_df_adv_userseq_adv_id_gender.pkl\n",
      " 37%|███▋      | 13/35 [26:16<44:35, 121.63s/it]"
     ]
    },
    {
     "name": "stdout",
     "output_type": "stream",
     "text": [
      "['adv_id', 'gender']  Done\n"
     ]
    },
    {
     "name": "stderr",
     "output_type": "stream",
     "text": [
      "[2020-09-26 17:54:45] - __init__.py[line:111] - INFO: Cache Successfully! File name: /home/zhangqibot/proj/digix/zlh/stage2/cached_data/CACHE_list_df_adv_userseq_adv_id_residence.pkl\n",
      " 40%|████      | 14/35 [28:16<42:22, 121.07s/it]"
     ]
    },
    {
     "name": "stdout",
     "output_type": "stream",
     "text": [
      "['adv_id', 'residence']  Done\n"
     ]
    },
    {
     "name": "stderr",
     "output_type": "stream",
     "text": [
      "[2020-09-26 17:56:15] - __init__.py[line:111] - INFO: Cache Successfully! File name: /home/zhangqibot/proj/digix/zlh/stage2/cached_data/CACHE_list_df_adv_userseq_creat_type_cd_age.pkl\n",
      " 43%|████▎     | 15/35 [29:46<37:14, 111.73s/it]"
     ]
    },
    {
     "name": "stdout",
     "output_type": "stream",
     "text": [
      "['creat_type_cd', 'age']  Done\n"
     ]
    },
    {
     "name": "stderr",
     "output_type": "stream",
     "text": [
      "[2020-09-26 17:57:40] - __init__.py[line:111] - INFO: Cache Successfully! File name: /home/zhangqibot/proj/digix/zlh/stage2/cached_data/CACHE_list_df_adv_userseq_creat_type_cd_city.pkl\n",
      " 46%|████▌     | 16/35 [31:11<32:48, 103.62s/it]"
     ]
    },
    {
     "name": "stdout",
     "output_type": "stream",
     "text": [
      "['creat_type_cd', 'city']  Done\n"
     ]
    },
    {
     "name": "stderr",
     "output_type": "stream",
     "text": [
      "[2020-09-26 17:59:06] - __init__.py[line:111] - INFO: Cache Successfully! File name: /home/zhangqibot/proj/digix/zlh/stage2/cached_data/CACHE_list_df_adv_userseq_creat_type_cd_city_rank.pkl\n",
      " 49%|████▊     | 17/35 [32:37<29:29, 98.32s/it] "
     ]
    },
    {
     "name": "stdout",
     "output_type": "stream",
     "text": [
      "['creat_type_cd', 'city_rank']  Done\n"
     ]
    },
    {
     "name": "stderr",
     "output_type": "stream",
     "text": [
      "[2020-09-26 18:00:32] - __init__.py[line:111] - INFO: Cache Successfully! File name: /home/zhangqibot/proj/digix/zlh/stage2/cached_data/CACHE_list_df_adv_userseq_creat_type_cd_device_name.pkl\n",
      " 51%|█████▏    | 18/35 [34:03<26:47, 94.59s/it]"
     ]
    },
    {
     "name": "stdout",
     "output_type": "stream",
     "text": [
      "['creat_type_cd', 'device_name']  Done\n"
     ]
    },
    {
     "name": "stderr",
     "output_type": "stream",
     "text": [
      "[2020-09-26 18:01:55] - __init__.py[line:111] - INFO: Cache Successfully! File name: /home/zhangqibot/proj/digix/zlh/stage2/cached_data/CACHE_list_df_adv_userseq_creat_type_cd_career.pkl\n",
      " 54%|█████▍    | 19/35 [35:26<24:19, 91.20s/it]"
     ]
    },
    {
     "name": "stdout",
     "output_type": "stream",
     "text": [
      "['creat_type_cd', 'career']  Done\n"
     ]
    },
    {
     "name": "stderr",
     "output_type": "stream",
     "text": [
      "[2020-09-26 18:03:21] - __init__.py[line:111] - INFO: Cache Successfully! File name: /home/zhangqibot/proj/digix/zlh/stage2/cached_data/CACHE_list_df_adv_userseq_creat_type_cd_gender.pkl\n",
      " 57%|█████▋    | 20/35 [36:51<22:22, 89.50s/it]"
     ]
    },
    {
     "name": "stdout",
     "output_type": "stream",
     "text": [
      "['creat_type_cd', 'gender']  Done\n"
     ]
    },
    {
     "name": "stderr",
     "output_type": "stream",
     "text": [
      "[2020-09-26 18:04:44] - __init__.py[line:111] - INFO: Cache Successfully! File name: /home/zhangqibot/proj/digix/zlh/stage2/cached_data/CACHE_list_df_adv_userseq_creat_type_cd_residence.pkl\n",
      " 60%|██████    | 21/35 [38:15<20:26, 87.63s/it]"
     ]
    },
    {
     "name": "stdout",
     "output_type": "stream",
     "text": [
      "['creat_type_cd', 'residence']  Done\n"
     ]
    },
    {
     "name": "stderr",
     "output_type": "stream",
     "text": [
      "[2020-09-26 18:06:13] - __init__.py[line:111] - INFO: Cache Successfully! File name: /home/zhangqibot/proj/digix/zlh/stage2/cached_data/CACHE_list_df_adv_userseq_indu_name_age.pkl\n",
      " 63%|██████▎   | 22/35 [39:43<19:03, 87.92s/it]"
     ]
    },
    {
     "name": "stdout",
     "output_type": "stream",
     "text": [
      "['indu_name', 'age']  Done\n"
     ]
    },
    {
     "name": "stderr",
     "output_type": "stream",
     "text": [
      "[2020-09-26 18:07:39] - __init__.py[line:111] - INFO: Cache Successfully! File name: /home/zhangqibot/proj/digix/zlh/stage2/cached_data/CACHE_list_df_adv_userseq_indu_name_city.pkl\n",
      " 66%|██████▌   | 23/35 [41:10<17:29, 87.47s/it]"
     ]
    },
    {
     "name": "stdout",
     "output_type": "stream",
     "text": [
      "['indu_name', 'city']  Done\n"
     ]
    },
    {
     "name": "stderr",
     "output_type": "stream",
     "text": [
      "[2020-09-26 18:09:08] - __init__.py[line:111] - INFO: Cache Successfully! File name: /home/zhangqibot/proj/digix/zlh/stage2/cached_data/CACHE_list_df_adv_userseq_indu_name_city_rank.pkl\n",
      " 69%|██████▊   | 24/35 [42:38<16:06, 87.84s/it]"
     ]
    },
    {
     "name": "stdout",
     "output_type": "stream",
     "text": [
      "['indu_name', 'city_rank']  Done\n"
     ]
    },
    {
     "name": "stderr",
     "output_type": "stream",
     "text": [
      "[2020-09-26 18:10:39] - __init__.py[line:111] - INFO: Cache Successfully! File name: /home/zhangqibot/proj/digix/zlh/stage2/cached_data/CACHE_list_df_adv_userseq_indu_name_device_name.pkl\n",
      " 71%|███████▏  | 25/35 [44:10<14:49, 88.91s/it]"
     ]
    },
    {
     "name": "stdout",
     "output_type": "stream",
     "text": [
      "['indu_name', 'device_name']  Done\n"
     ]
    },
    {
     "name": "stderr",
     "output_type": "stream",
     "text": [
      "[2020-09-26 18:12:10] - __init__.py[line:111] - INFO: Cache Successfully! File name: /home/zhangqibot/proj/digix/zlh/stage2/cached_data/CACHE_list_df_adv_userseq_indu_name_career.pkl\n",
      " 74%|███████▍  | 26/35 [45:41<13:25, 89.54s/it]"
     ]
    },
    {
     "name": "stdout",
     "output_type": "stream",
     "text": [
      "['indu_name', 'career']  Done\n"
     ]
    },
    {
     "name": "stderr",
     "output_type": "stream",
     "text": [
      "[2020-09-26 18:13:38] - __init__.py[line:111] - INFO: Cache Successfully! File name: /home/zhangqibot/proj/digix/zlh/stage2/cached_data/CACHE_list_df_adv_userseq_indu_name_gender.pkl\n",
      " 77%|███████▋  | 27/35 [47:08<11:51, 88.97s/it]"
     ]
    },
    {
     "name": "stdout",
     "output_type": "stream",
     "text": [
      "['indu_name', 'gender']  Done\n"
     ]
    },
    {
     "name": "stderr",
     "output_type": "stream",
     "text": [
      "[2020-09-26 18:15:06] - __init__.py[line:111] - INFO: Cache Successfully! File name: /home/zhangqibot/proj/digix/zlh/stage2/cached_data/CACHE_list_df_adv_userseq_indu_name_residence.pkl\n",
      " 80%|████████  | 28/35 [48:36<10:20, 88.64s/it]"
     ]
    },
    {
     "name": "stdout",
     "output_type": "stream",
     "text": [
      "['indu_name', 'residence']  Done\n"
     ]
    },
    {
     "name": "stderr",
     "output_type": "stream",
     "text": [
      "[2020-09-26 18:16:41] - __init__.py[line:111] - INFO: Cache Successfully! File name: /home/zhangqibot/proj/digix/zlh/stage2/cached_data/CACHE_list_df_adv_userseq_adv_prim_id_age.pkl\n",
      " 83%|████████▎ | 29/35 [50:11<09:03, 90.51s/it]"
     ]
    },
    {
     "name": "stdout",
     "output_type": "stream",
     "text": [
      "['adv_prim_id', 'age']  Done\n"
     ]
    },
    {
     "name": "stderr",
     "output_type": "stream",
     "text": [
      "[2020-09-26 18:18:16] - __init__.py[line:111] - INFO: Cache Successfully! File name: /home/zhangqibot/proj/digix/zlh/stage2/cached_data/CACHE_list_df_adv_userseq_adv_prim_id_city.pkl\n",
      " 86%|████████▌ | 30/35 [51:47<07:40, 92.10s/it]"
     ]
    },
    {
     "name": "stdout",
     "output_type": "stream",
     "text": [
      "['adv_prim_id', 'city']  Done\n"
     ]
    },
    {
     "name": "stderr",
     "output_type": "stream",
     "text": [
      "[2020-09-26 18:19:52] - __init__.py[line:111] - INFO: Cache Successfully! File name: /home/zhangqibot/proj/digix/zlh/stage2/cached_data/CACHE_list_df_adv_userseq_adv_prim_id_city_rank.pkl\n",
      " 89%|████████▊ | 31/35 [53:23<06:12, 93.22s/it]"
     ]
    },
    {
     "name": "stdout",
     "output_type": "stream",
     "text": [
      "['adv_prim_id', 'city_rank']  Done\n"
     ]
    },
    {
     "name": "stderr",
     "output_type": "stream",
     "text": [
      "[2020-09-26 18:21:28] - __init__.py[line:111] - INFO: Cache Successfully! File name: /home/zhangqibot/proj/digix/zlh/stage2/cached_data/CACHE_list_df_adv_userseq_adv_prim_id_device_name.pkl\n",
      " 91%|█████████▏| 32/35 [54:59<04:42, 94.02s/it]"
     ]
    },
    {
     "name": "stdout",
     "output_type": "stream",
     "text": [
      "['adv_prim_id', 'device_name']  Done\n"
     ]
    },
    {
     "name": "stderr",
     "output_type": "stream",
     "text": [
      "[2020-09-26 18:23:05] - __init__.py[line:111] - INFO: Cache Successfully! File name: /home/zhangqibot/proj/digix/zlh/stage2/cached_data/CACHE_list_df_adv_userseq_adv_prim_id_career.pkl\n",
      " 94%|█████████▍| 33/35 [56:36<03:09, 94.97s/it]"
     ]
    },
    {
     "name": "stdout",
     "output_type": "stream",
     "text": [
      "['adv_prim_id', 'career']  Done\n"
     ]
    },
    {
     "name": "stderr",
     "output_type": "stream",
     "text": [
      "[2020-09-26 18:24:39] - __init__.py[line:111] - INFO: Cache Successfully! File name: /home/zhangqibot/proj/digix/zlh/stage2/cached_data/CACHE_list_df_adv_userseq_adv_prim_id_gender.pkl\n",
      " 97%|█████████▋| 34/35 [58:10<01:34, 94.70s/it]"
     ]
    },
    {
     "name": "stdout",
     "output_type": "stream",
     "text": [
      "['adv_prim_id', 'gender']  Done\n"
     ]
    },
    {
     "name": "stderr",
     "output_type": "stream",
     "text": [
      "[2020-09-26 18:26:16] - __init__.py[line:111] - INFO: Cache Successfully! File name: /home/zhangqibot/proj/digix/zlh/stage2/cached_data/CACHE_list_df_adv_userseq_adv_prim_id_residence.pkl\n",
      "100%|██████████| 35/35 [59:46<00:00, 102.48s/it]"
     ]
    },
    {
     "name": "stdout",
     "output_type": "stream",
     "text": [
      "['adv_prim_id', 'residence']  Done\n"
     ]
    },
    {
     "name": "stderr",
     "output_type": "stream",
     "text": [
      "\n"
     ]
    }
   ],
   "source": [
    "\n",
    "train = Cache.reload_cache('CACHE_train_raw.pkl').drop(columns = ['communication_onlinerate']).astype(int)\n",
    "train = reduce_mem(train, use_float16=True)\n",
    "test = Cache.reload_cache('CACHE_test_B_raw.pkl').drop(columns = ['id','communication_onlinerate']).astype(int)\n",
    "test = reduce_mem(test, use_float16=True)\n",
    "data = pd.concat([train,test],axis=0,ignore_index=True)\n",
    "data = reduce_mem(data, use_float16=True)\n",
    "del train,test\n",
    "gc.collect()\n",
    "poc_feature1_list = [['task_id','age'],['task_id','city'],['task_id','city_rank'],['task_id','device_name'],['task_id','career'],\n",
    "                  ['task_id','gender'],['task_id','residence'],['adv_id','age'],['adv_id','city'],['adv_id','city_rank'],\n",
    "                  ['adv_id','device_name'],['adv_id','career'],['adv_id','gender'],['adv_id','residence'],['creat_type_cd','age'],\n",
    "                  ['creat_type_cd','city'],['creat_type_cd','city_rank'],['creat_type_cd','device_name'],['creat_type_cd','career'],\n",
    "                  ['creat_type_cd','gender'],['creat_type_cd','residence'],['indu_name','age'],['indu_name','city'],['indu_name','city_rank'],\n",
    "                  ['indu_name','device_name'],['indu_name','career'],['indu_name','gender'],['indu_name','residence'],['adv_prim_id','age'],\n",
    "                  ['adv_prim_id','city'],['adv_prim_id','city_rank'],['adv_prim_id','device_name'],['adv_prim_id','career'],['adv_prim_id','gender'],\n",
    "                  ['adv_prim_id','residence']]\n",
    "for i in tqdm(poc_feature1_list):\n",
    "    if gen_list_df(data,i[0],i[1]):\n",
    "        print(i,' Done')\n",
    "    else:\n",
    "        print(i,' Err')"
   ]
  },
  {
   "cell_type": "markdown",
   "metadata": {},
   "source": [
    "# list_txt"
   ]
  },
  {
   "cell_type": "code",
   "execution_count": 5,
   "metadata": {
    "ExecuteTime": {
     "end_time": "2020-09-26T10:26:16.377955Z",
     "start_time": "2020-09-26T10:26:16.373180Z"
    }
   },
   "outputs": [],
   "source": [
    "def write(feature1_feature2):\n",
    "    list_df = Cache.reload_cache('CACHE_list_df_adv_userseq_'+feature1_feature2+'.pkl')[0].values.tolist()\n",
    "    f = open('adv_userseq_'+feature1_feature2+'.txt', 'w')\n",
    "    for i in list_df:\n",
    "        if i:\n",
    "            for j in i:\n",
    "                f.write(str(j))\n",
    "                f.write(' ')\n",
    "            f.write('\\n')\n",
    "        else:\n",
    "            f.write(str(-2))\n",
    "            f.write(' ')\n",
    "            f.write('\\n')\n",
    "    f.close()"
   ]
  },
  {
   "cell_type": "code",
   "execution_count": 6,
   "metadata": {
    "ExecuteTime": {
     "end_time": "2020-09-26T10:27:10.596563Z",
     "start_time": "2020-09-26T10:26:16.379395Z"
    }
   },
   "outputs": [
    {
     "name": "stderr",
     "output_type": "stream",
     "text": [
      "  0%|          | 0/35 [00:00<?, ?it/s][2020-09-26 18:26:16] - __init__.py[line:126] - INFO: Successfully Reload: /home/zhangqibot/proj/digix/zlh/stage2/cached_data/CACHE_list_df_adv_userseq_task_id_age.pkl\n",
      "  3%|▎         | 1/35 [00:01<01:03,  1.88s/it][2020-09-26 18:26:18] - __init__.py[line:126] - INFO: Successfully Reload: /home/zhangqibot/proj/digix/zlh/stage2/cached_data/CACHE_list_df_adv_userseq_task_id_city.pkl\n",
      "  6%|▌         | 2/35 [00:03<01:02,  1.89s/it][2020-09-26 18:26:20] - __init__.py[line:126] - INFO: Successfully Reload: /home/zhangqibot/proj/digix/zlh/stage2/cached_data/CACHE_list_df_adv_userseq_task_id_city_rank.pkl\n",
      "  9%|▊         | 3/35 [00:05<00:55,  1.74s/it][2020-09-26 18:26:21] - __init__.py[line:126] - INFO: Successfully Reload: /home/zhangqibot/proj/digix/zlh/stage2/cached_data/CACHE_list_df_adv_userseq_task_id_device_name.pkl\n",
      " 11%|█▏        | 4/35 [00:06<00:52,  1.68s/it][2020-09-26 18:26:23] - __init__.py[line:126] - INFO: Successfully Reload: /home/zhangqibot/proj/digix/zlh/stage2/cached_data/CACHE_list_df_adv_userseq_task_id_career.pkl\n",
      " 14%|█▍        | 5/35 [00:08<00:48,  1.62s/it][2020-09-26 18:26:24] - __init__.py[line:126] - INFO: Successfully Reload: /home/zhangqibot/proj/digix/zlh/stage2/cached_data/CACHE_list_df_adv_userseq_task_id_gender.pkl\n",
      " 17%|█▋        | 6/35 [00:09<00:45,  1.55s/it][2020-09-26 18:26:26] - __init__.py[line:126] - INFO: Successfully Reload: /home/zhangqibot/proj/digix/zlh/stage2/cached_data/CACHE_list_df_adv_userseq_task_id_residence.pkl\n",
      " 20%|██        | 7/35 [00:10<00:42,  1.50s/it][2020-09-26 18:26:27] - __init__.py[line:126] - INFO: Successfully Reload: /home/zhangqibot/proj/digix/zlh/stage2/cached_data/CACHE_list_df_adv_userseq_adv_id_age.pkl\n",
      " 23%|██▎       | 8/35 [00:12<00:39,  1.47s/it][2020-09-26 18:26:29] - __init__.py[line:126] - INFO: Successfully Reload: /home/zhangqibot/proj/digix/zlh/stage2/cached_data/CACHE_list_df_adv_userseq_adv_id_city.pkl\n",
      " 26%|██▌       | 9/35 [00:13<00:38,  1.48s/it][2020-09-26 18:26:30] - __init__.py[line:126] - INFO: Successfully Reload: /home/zhangqibot/proj/digix/zlh/stage2/cached_data/CACHE_list_df_adv_userseq_adv_id_city_rank.pkl\n",
      " 29%|██▊       | 10/35 [00:15<00:35,  1.44s/it][2020-09-26 18:26:32] - __init__.py[line:126] - INFO: Successfully Reload: /home/zhangqibot/proj/digix/zlh/stage2/cached_data/CACHE_list_df_adv_userseq_adv_id_device_name.pkl\n",
      " 31%|███▏      | 11/35 [00:16<00:35,  1.46s/it][2020-09-26 18:26:33] - __init__.py[line:126] - INFO: Successfully Reload: /home/zhangqibot/proj/digix/zlh/stage2/cached_data/CACHE_list_df_adv_userseq_adv_id_career.pkl\n",
      " 34%|███▍      | 12/35 [00:18<00:33,  1.45s/it][2020-09-26 18:26:34] - __init__.py[line:126] - INFO: Successfully Reload: /home/zhangqibot/proj/digix/zlh/stage2/cached_data/CACHE_list_df_adv_userseq_adv_id_gender.pkl\n",
      " 37%|███▋      | 13/35 [00:19<00:33,  1.51s/it][2020-09-26 18:26:36] - __init__.py[line:126] - INFO: Successfully Reload: /home/zhangqibot/proj/digix/zlh/stage2/cached_data/CACHE_list_df_adv_userseq_adv_id_residence.pkl\n",
      " 40%|████      | 14/35 [00:21<00:32,  1.57s/it][2020-09-26 18:26:38] - __init__.py[line:126] - INFO: Successfully Reload: /home/zhangqibot/proj/digix/zlh/stage2/cached_data/CACHE_list_df_adv_userseq_creat_type_cd_age.pkl\n",
      " 43%|████▎     | 15/35 [00:23<00:31,  1.56s/it][2020-09-26 18:26:39] - __init__.py[line:126] - INFO: Successfully Reload: /home/zhangqibot/proj/digix/zlh/stage2/cached_data/CACHE_list_df_adv_userseq_creat_type_cd_city.pkl\n",
      " 46%|████▌     | 16/35 [00:24<00:30,  1.62s/it][2020-09-26 18:26:41] - __init__.py[line:126] - INFO: Successfully Reload: /home/zhangqibot/proj/digix/zlh/stage2/cached_data/CACHE_list_df_adv_userseq_creat_type_cd_city_rank.pkl\n",
      " 49%|████▊     | 17/35 [00:26<00:29,  1.65s/it][2020-09-26 18:26:43] - __init__.py[line:126] - INFO: Successfully Reload: /home/zhangqibot/proj/digix/zlh/stage2/cached_data/CACHE_list_df_adv_userseq_creat_type_cd_device_name.pkl\n",
      " 51%|█████▏    | 18/35 [00:27<00:27,  1.59s/it][2020-09-26 18:26:44] - __init__.py[line:126] - INFO: Successfully Reload: /home/zhangqibot/proj/digix/zlh/stage2/cached_data/CACHE_list_df_adv_userseq_creat_type_cd_career.pkl\n",
      " 54%|█████▍    | 19/35 [00:29<00:24,  1.52s/it][2020-09-26 18:26:46] - __init__.py[line:126] - INFO: Successfully Reload: /home/zhangqibot/proj/digix/zlh/stage2/cached_data/CACHE_list_df_adv_userseq_creat_type_cd_gender.pkl\n",
      " 57%|█████▋    | 20/35 [00:30<00:22,  1.47s/it][2020-09-26 18:26:47] - __init__.py[line:126] - INFO: Successfully Reload: /home/zhangqibot/proj/digix/zlh/stage2/cached_data/CACHE_list_df_adv_userseq_creat_type_cd_residence.pkl\n",
      " 60%|██████    | 21/35 [00:32<00:22,  1.64s/it][2020-09-26 18:26:49] - __init__.py[line:126] - INFO: Successfully Reload: /home/zhangqibot/proj/digix/zlh/stage2/cached_data/CACHE_list_df_adv_userseq_indu_name_age.pkl\n",
      " 63%|██████▎   | 22/35 [00:34<00:20,  1.58s/it][2020-09-26 18:26:51] - __init__.py[line:126] - INFO: Successfully Reload: /home/zhangqibot/proj/digix/zlh/stage2/cached_data/CACHE_list_df_adv_userseq_indu_name_city.pkl\n",
      " 66%|██████▌   | 23/35 [00:36<00:20,  1.68s/it][2020-09-26 18:26:52] - __init__.py[line:126] - INFO: Successfully Reload: /home/zhangqibot/proj/digix/zlh/stage2/cached_data/CACHE_list_df_adv_userseq_indu_name_city_rank.pkl\n",
      " 69%|██████▊   | 24/35 [00:37<00:17,  1.62s/it][2020-09-26 18:26:54] - __init__.py[line:126] - INFO: Successfully Reload: /home/zhangqibot/proj/digix/zlh/stage2/cached_data/CACHE_list_df_adv_userseq_indu_name_device_name.pkl\n",
      " 71%|███████▏  | 25/35 [00:39<00:16,  1.60s/it][2020-09-26 18:26:55] - __init__.py[line:126] - INFO: Successfully Reload: /home/zhangqibot/proj/digix/zlh/stage2/cached_data/CACHE_list_df_adv_userseq_indu_name_career.pkl\n",
      " 74%|███████▍  | 26/35 [00:40<00:13,  1.53s/it][2020-09-26 18:26:57] - __init__.py[line:126] - INFO: Successfully Reload: /home/zhangqibot/proj/digix/zlh/stage2/cached_data/CACHE_list_df_adv_userseq_indu_name_gender.pkl\n",
      " 77%|███████▋  | 27/35 [00:42<00:13,  1.65s/it][2020-09-26 18:26:59] - __init__.py[line:126] - INFO: Successfully Reload: /home/zhangqibot/proj/digix/zlh/stage2/cached_data/CACHE_list_df_adv_userseq_indu_name_residence.pkl\n",
      " 80%|████████  | 28/35 [00:43<00:11,  1.58s/it][2020-09-26 18:27:00] - __init__.py[line:126] - INFO: Successfully Reload: /home/zhangqibot/proj/digix/zlh/stage2/cached_data/CACHE_list_df_adv_userseq_adv_prim_id_age.pkl\n",
      " 83%|████████▎ | 29/35 [00:45<00:09,  1.53s/it][2020-09-26 18:27:02] - __init__.py[line:126] - INFO: Successfully Reload: /home/zhangqibot/proj/digix/zlh/stage2/cached_data/CACHE_list_df_adv_userseq_adv_prim_id_city.pkl\n",
      " 86%|████████▌ | 30/35 [00:47<00:08,  1.61s/it][2020-09-26 18:27:03] - __init__.py[line:126] - INFO: Successfully Reload: /home/zhangqibot/proj/digix/zlh/stage2/cached_data/CACHE_list_df_adv_userseq_adv_prim_id_city_rank.pkl\n",
      " 89%|████████▊ | 31/35 [00:48<00:06,  1.54s/it][2020-09-26 18:27:05] - __init__.py[line:126] - INFO: Successfully Reload: /home/zhangqibot/proj/digix/zlh/stage2/cached_data/CACHE_list_df_adv_userseq_adv_prim_id_device_name.pkl\n",
      " 91%|█████████▏| 32/35 [00:49<00:04,  1.49s/it][2020-09-26 18:27:06] - __init__.py[line:126] - INFO: Successfully Reload: /home/zhangqibot/proj/digix/zlh/stage2/cached_data/CACHE_list_df_adv_userseq_adv_prim_id_career.pkl\n",
      " 94%|█████████▍| 33/35 [00:51<00:03,  1.52s/it][2020-09-26 18:27:08] - __init__.py[line:126] - INFO: Successfully Reload: /home/zhangqibot/proj/digix/zlh/stage2/cached_data/CACHE_list_df_adv_userseq_adv_prim_id_gender.pkl\n",
      " 97%|█████████▋| 34/35 [00:52<00:01,  1.47s/it][2020-09-26 18:27:09] - __init__.py[line:126] - INFO: Successfully Reload: /home/zhangqibot/proj/digix/zlh/stage2/cached_data/CACHE_list_df_adv_userseq_adv_prim_id_residence.pkl\n",
      "100%|██████████| 35/35 [00:54<00:00,  1.55s/it]\n"
     ]
    }
   ],
   "source": [
    "f1_f2_list = [['task_id','age'],['task_id','city'],['task_id','city_rank'],['task_id','device_name'],['task_id','career'],\n",
    "              ['task_id','gender'],['task_id','residence'],['adv_id','age'],['adv_id','city'],['adv_id','city_rank'],\n",
    "              ['adv_id','device_name'],['adv_id','career'],['adv_id','gender'],['adv_id','residence'],['creat_type_cd','age'],\n",
    "              ['creat_type_cd','city'],['creat_type_cd','city_rank'],['creat_type_cd','device_name'],['creat_type_cd','career'],\n",
    "              ['creat_type_cd','gender'],['creat_type_cd','residence'],['indu_name','age'],['indu_name','city'],['indu_name','city_rank'],\n",
    "              ['indu_name','device_name'],['indu_name','career'],['indu_name','gender'],['indu_name','residence'],['adv_prim_id','age'],\n",
    "              ['adv_prim_id','city'],['adv_prim_id','city_rank'],['adv_prim_id','device_name'],['adv_prim_id','career'],['adv_prim_id','gender'],\n",
    "              ['adv_prim_id','residence']]\n",
    "for i in tqdm(f1_f2_list):\n",
    "    write(str(i[0])+'_'+str(i[1]))"
   ]
  },
  {
   "cell_type": "markdown",
   "metadata": {},
   "source": [
    "# w2v"
   ]
  },
  {
   "cell_type": "code",
   "execution_count": 7,
   "metadata": {
    "ExecuteTime": {
     "end_time": "2020-09-26T10:27:10.992521Z",
     "start_time": "2020-09-26T10:27:10.598313Z"
    }
   },
   "outputs": [],
   "source": [
    "from gensim.models import word2vec\n",
    "from gensim.models.callbacks import CallbackAny2Vec\n",
    "from tqdm import tqdm"
   ]
  },
  {
   "cell_type": "code",
   "execution_count": 8,
   "metadata": {
    "ExecuteTime": {
     "end_time": "2020-09-26T10:27:10.997994Z",
     "start_time": "2020-09-26T10:27:10.993872Z"
    }
   },
   "outputs": [],
   "source": [
    "def f1_f2_w2v(f1_f2):\n",
    "    print('LineSentence start')\n",
    "    sentences = word2vec.LineSentence('adv_userseq_'+f1_f2+'.txt') \n",
    "    print('Word2Vec start')\n",
    "    # model = word2vec.Word2Vec(sentences , size=128, window=35, sg=0, hs=1, min_count=1, iter=5, callbacks=[bsz_loss])\n",
    "    model = word2vec.Word2Vec(sentences , size=64, window=10000, sg=0, hs=1, min_count=1, iter=10, workers=-1)\n",
    "    print('save start')\n",
    "    model.save('adv_userseq_'+f1_f2+'_word2vec.model')\n",
    "    model.wv.save('adv_userseq_'+f1_f2+'_word2vec.kv')\n",
    "    print('Done')"
   ]
  },
  {
   "cell_type": "code",
   "execution_count": 9,
   "metadata": {
    "ExecuteTime": {
     "end_time": "2020-09-26T10:27:59.869923Z",
     "start_time": "2020-09-26T10:27:10.999078Z"
    },
    "jupyter": {
     "outputs_hidden": true
    }
   },
   "outputs": [
    {
     "name": "stderr",
     "output_type": "stream",
     "text": [
      "[2020-09-26 18:27:11] - word2vec.py[line:1399] - INFO: collecting all words and their counts\n",
      "[2020-09-26 18:27:11] - word2vec.py[line:1384] - INFO: PROGRESS: at sentence #0, processed 0 words, keeping 0 word types\n",
      "[2020-09-26 18:27:11] - word2vec.py[line:1407] - INFO: collected 9 word types from a corpus of 1446773 raw words and 4941 sentences\n"
     ]
    },
    {
     "name": "stdout",
     "output_type": "stream",
     "text": [
      "LineSentence start\n",
      "Word2Vec start\n"
     ]
    },
    {
     "name": "stderr",
     "output_type": "stream",
     "text": [
      "[2020-09-26 18:27:11] - word2vec.py[line:1458] - INFO: Loading a fresh vocabulary\n",
      "[2020-09-26 18:27:11] - word2vec.py[line:1482] - INFO: effective_min_count=1 retains 9 unique words (100% of original 9, drops 0)\n",
      "[2020-09-26 18:27:11] - word2vec.py[line:1488] - INFO: effective_min_count=1 leaves 1446773 word corpus (100% of original 1446773, drops 0)\n",
      "[2020-09-26 18:27:11] - word2vec.py[line:1547] - INFO: deleting the raw counts dictionary of 9 items\n",
      "[2020-09-26 18:27:11] - word2vec.py[line:1550] - INFO: sample=0.001 downsamples 8 most-common words\n",
      "[2020-09-26 18:27:11] - word2vec.py[line:1553] - INFO: downsampling leaves estimated 129968 word corpus (9.0% of prior 1446773)\n",
      "[2020-09-26 18:27:11] - word2vec.py[line:1648] - INFO: constructing a huffman tree from 9 words\n",
      "[2020-09-26 18:27:11] - word2vec.py[line:1673] - INFO: built huffman tree with maximum node depth 6\n",
      "[2020-09-26 18:27:11] - base_any2vec.py[line:1008] - INFO: estimated required memory for 9 words and 64 dimensions: 13212 bytes\n",
      "[2020-09-26 18:27:11] - word2vec.py[line:1699] - INFO: resetting layer weights\n",
      "[2020-09-26 18:27:11] - base_any2vec.py[line:1196] - INFO: training model with -1 workers on 9 vocabulary and 64 features, using sg=0 hs=1 sample=0.001 negative=5 window=10000\n",
      "[2020-09-26 18:27:11] - base_any2vec.py[line:1332] - INFO: EPOCH - 1 : training on 0 raw words (0 effective words) took 0.0s, 0 effective words/s\n",
      "[2020-09-26 18:27:11] - base_any2vec.py[line:1343] - WARNING: EPOCH - 1 : supplied example count (0) did not equal expected count (4941)\n",
      "[2020-09-26 18:27:11] - base_any2vec.py[line:1348] - WARNING: EPOCH - 1 : supplied raw word count (0) did not equal expected count (1446773)\n",
      "[2020-09-26 18:27:11] - base_any2vec.py[line:1332] - INFO: EPOCH - 2 : training on 0 raw words (0 effective words) took 0.0s, 0 effective words/s\n",
      "[2020-09-26 18:27:11] - base_any2vec.py[line:1343] - WARNING: EPOCH - 2 : supplied example count (0) did not equal expected count (4941)\n",
      "[2020-09-26 18:27:11] - base_any2vec.py[line:1348] - WARNING: EPOCH - 2 : supplied raw word count (0) did not equal expected count (1446773)\n",
      "[2020-09-26 18:27:11] - base_any2vec.py[line:1332] - INFO: EPOCH - 3 : training on 0 raw words (0 effective words) took 0.0s, 0 effective words/s\n",
      "[2020-09-26 18:27:11] - base_any2vec.py[line:1343] - WARNING: EPOCH - 3 : supplied example count (0) did not equal expected count (4941)\n",
      "[2020-09-26 18:27:11] - base_any2vec.py[line:1348] - WARNING: EPOCH - 3 : supplied raw word count (0) did not equal expected count (1446773)\n",
      "[2020-09-26 18:27:11] - base_any2vec.py[line:1332] - INFO: EPOCH - 4 : training on 0 raw words (0 effective words) took 0.0s, 0 effective words/s\n",
      "[2020-09-26 18:27:11] - base_any2vec.py[line:1343] - WARNING: EPOCH - 4 : supplied example count (0) did not equal expected count (4941)\n",
      "[2020-09-26 18:27:11] - base_any2vec.py[line:1348] - WARNING: EPOCH - 4 : supplied raw word count (0) did not equal expected count (1446773)\n",
      "[2020-09-26 18:27:11] - base_any2vec.py[line:1332] - INFO: EPOCH - 5 : training on 0 raw words (0 effective words) took 0.0s, 0 effective words/s\n",
      "[2020-09-26 18:27:11] - base_any2vec.py[line:1343] - WARNING: EPOCH - 5 : supplied example count (0) did not equal expected count (4941)\n",
      "[2020-09-26 18:27:11] - base_any2vec.py[line:1348] - WARNING: EPOCH - 5 : supplied raw word count (0) did not equal expected count (1446773)\n",
      "[2020-09-26 18:27:11] - base_any2vec.py[line:1332] - INFO: EPOCH - 6 : training on 0 raw words (0 effective words) took 0.0s, 0 effective words/s\n",
      "[2020-09-26 18:27:11] - base_any2vec.py[line:1343] - WARNING: EPOCH - 6 : supplied example count (0) did not equal expected count (4941)\n",
      "[2020-09-26 18:27:11] - base_any2vec.py[line:1348] - WARNING: EPOCH - 6 : supplied raw word count (0) did not equal expected count (1446773)\n",
      "[2020-09-26 18:27:11] - base_any2vec.py[line:1332] - INFO: EPOCH - 7 : training on 0 raw words (0 effective words) took 0.0s, 0 effective words/s\n",
      "[2020-09-26 18:27:11] - base_any2vec.py[line:1343] - WARNING: EPOCH - 7 : supplied example count (0) did not equal expected count (4941)\n",
      "[2020-09-26 18:27:11] - base_any2vec.py[line:1348] - WARNING: EPOCH - 7 : supplied raw word count (0) did not equal expected count (1446773)\n",
      "[2020-09-26 18:27:11] - base_any2vec.py[line:1332] - INFO: EPOCH - 8 : training on 0 raw words (0 effective words) took 0.0s, 0 effective words/s\n",
      "[2020-09-26 18:27:11] - base_any2vec.py[line:1343] - WARNING: EPOCH - 8 : supplied example count (0) did not equal expected count (4941)\n",
      "[2020-09-26 18:27:11] - base_any2vec.py[line:1348] - WARNING: EPOCH - 8 : supplied raw word count (0) did not equal expected count (1446773)\n",
      "[2020-09-26 18:27:11] - base_any2vec.py[line:1332] - INFO: EPOCH - 9 : training on 0 raw words (0 effective words) took 0.0s, 0 effective words/s\n",
      "[2020-09-26 18:27:11] - base_any2vec.py[line:1343] - WARNING: EPOCH - 9 : supplied example count (0) did not equal expected count (4941)\n",
      "[2020-09-26 18:27:11] - base_any2vec.py[line:1348] - WARNING: EPOCH - 9 : supplied raw word count (0) did not equal expected count (1446773)\n",
      "[2020-09-26 18:27:11] - base_any2vec.py[line:1332] - INFO: EPOCH - 10 : training on 0 raw words (0 effective words) took 0.0s, 0 effective words/s\n",
      "[2020-09-26 18:27:11] - base_any2vec.py[line:1343] - WARNING: EPOCH - 10 : supplied example count (0) did not equal expected count (4941)\n",
      "[2020-09-26 18:27:12] - base_any2vec.py[line:1348] - WARNING: EPOCH - 10 : supplied raw word count (0) did not equal expected count (1446773)\n",
      "[2020-09-26 18:27:12] - base_any2vec.py[line:1368] - INFO: training on a 0 raw words (0 effective words) took 0.8s, 0 effective words/s\n",
      "[2020-09-26 18:27:12] - utils.py[line:551] - INFO: saving Word2Vec object under adv_userseq_task_id_age_word2vec.model, separately None\n",
      "[2020-09-26 18:27:12] - utils.py[line:657] - INFO: not storing attribute vectors_norm\n",
      "[2020-09-26 18:27:12] - utils.py[line:657] - INFO: not storing attribute cum_table\n",
      "[2020-09-26 18:27:12] - utils.py[line:565] - INFO: saved adv_userseq_task_id_age_word2vec.model\n",
      "[2020-09-26 18:27:12] - utils.py[line:551] - INFO: saving Word2VecKeyedVectors object under adv_userseq_task_id_age_word2vec.kv, separately None\n",
      "[2020-09-26 18:27:12] - utils.py[line:657] - INFO: not storing attribute vectors_norm\n",
      "[2020-09-26 18:27:12] - utils.py[line:565] - INFO: saved adv_userseq_task_id_age_word2vec.kv\n",
      "[2020-09-26 18:27:12] - word2vec.py[line:1399] - INFO: collecting all words and their counts\n",
      "[2020-09-26 18:27:12] - word2vec.py[line:1384] - INFO: PROGRESS: at sentence #0, processed 0 words, keeping 0 word types\n"
     ]
    },
    {
     "name": "stdout",
     "output_type": "stream",
     "text": [
      "save start\n",
      "Done\n",
      "LineSentence start\n",
      "Word2Vec start\n"
     ]
    },
    {
     "name": "stderr",
     "output_type": "stream",
     "text": [
      "[2020-09-26 18:27:12] - word2vec.py[line:1407] - INFO: collected 345 word types from a corpus of 1446773 raw words and 4941 sentences\n",
      "[2020-09-26 18:27:12] - word2vec.py[line:1458] - INFO: Loading a fresh vocabulary\n",
      "[2020-09-26 18:27:12] - word2vec.py[line:1482] - INFO: effective_min_count=1 retains 345 unique words (100% of original 345, drops 0)\n",
      "[2020-09-26 18:27:12] - word2vec.py[line:1488] - INFO: effective_min_count=1 leaves 1446773 word corpus (100% of original 1446773, drops 0)\n",
      "[2020-09-26 18:27:12] - word2vec.py[line:1547] - INFO: deleting the raw counts dictionary of 345 items\n",
      "[2020-09-26 18:27:12] - word2vec.py[line:1550] - INFO: sample=0.001 downsamples 98 most-common words\n",
      "[2020-09-26 18:27:12] - word2vec.py[line:1553] - INFO: downsampling leaves estimated 912919 word corpus (63.1% of prior 1446773)\n",
      "[2020-09-26 18:27:12] - word2vec.py[line:1648] - INFO: constructing a huffman tree from 345 words\n",
      "[2020-09-26 18:27:12] - word2vec.py[line:1673] - INFO: built huffman tree with maximum node depth 17\n",
      "[2020-09-26 18:27:12] - base_any2vec.py[line:1008] - INFO: estimated required memory for 345 words and 64 dimensions: 506460 bytes\n",
      "[2020-09-26 18:27:12] - word2vec.py[line:1699] - INFO: resetting layer weights\n",
      "[2020-09-26 18:27:12] - base_any2vec.py[line:1196] - INFO: training model with -1 workers on 345 vocabulary and 64 features, using sg=0 hs=1 sample=0.001 negative=5 window=10000\n",
      "[2020-09-26 18:27:12] - base_any2vec.py[line:1332] - INFO: EPOCH - 1 : training on 0 raw words (0 effective words) took 0.0s, 0 effective words/s\n",
      "[2020-09-26 18:27:12] - base_any2vec.py[line:1343] - WARNING: EPOCH - 1 : supplied example count (0) did not equal expected count (4941)\n",
      "[2020-09-26 18:27:12] - base_any2vec.py[line:1348] - WARNING: EPOCH - 1 : supplied raw word count (0) did not equal expected count (1446773)\n",
      "[2020-09-26 18:27:12] - base_any2vec.py[line:1332] - INFO: EPOCH - 2 : training on 0 raw words (0 effective words) took 0.0s, 0 effective words/s\n",
      "[2020-09-26 18:27:12] - base_any2vec.py[line:1343] - WARNING: EPOCH - 2 : supplied example count (0) did not equal expected count (4941)\n",
      "[2020-09-26 18:27:12] - base_any2vec.py[line:1348] - WARNING: EPOCH - 2 : supplied raw word count (0) did not equal expected count (1446773)\n",
      "[2020-09-26 18:27:12] - base_any2vec.py[line:1332] - INFO: EPOCH - 3 : training on 0 raw words (0 effective words) took 0.0s, 0 effective words/s\n",
      "[2020-09-26 18:27:12] - base_any2vec.py[line:1343] - WARNING: EPOCH - 3 : supplied example count (0) did not equal expected count (4941)\n",
      "[2020-09-26 18:27:12] - base_any2vec.py[line:1348] - WARNING: EPOCH - 3 : supplied raw word count (0) did not equal expected count (1446773)\n",
      "[2020-09-26 18:27:12] - base_any2vec.py[line:1332] - INFO: EPOCH - 4 : training on 0 raw words (0 effective words) took 0.0s, 0 effective words/s\n",
      "[2020-09-26 18:27:12] - base_any2vec.py[line:1343] - WARNING: EPOCH - 4 : supplied example count (0) did not equal expected count (4941)\n",
      "[2020-09-26 18:27:12] - base_any2vec.py[line:1348] - WARNING: EPOCH - 4 : supplied raw word count (0) did not equal expected count (1446773)\n",
      "[2020-09-26 18:27:12] - base_any2vec.py[line:1332] - INFO: EPOCH - 5 : training on 0 raw words (0 effective words) took 0.0s, 0 effective words/s\n",
      "[2020-09-26 18:27:12] - base_any2vec.py[line:1343] - WARNING: EPOCH - 5 : supplied example count (0) did not equal expected count (4941)\n",
      "[2020-09-26 18:27:12] - base_any2vec.py[line:1348] - WARNING: EPOCH - 5 : supplied raw word count (0) did not equal expected count (1446773)\n",
      "[2020-09-26 18:27:13] - base_any2vec.py[line:1332] - INFO: EPOCH - 6 : training on 0 raw words (0 effective words) took 0.0s, 0 effective words/s\n",
      "[2020-09-26 18:27:13] - base_any2vec.py[line:1343] - WARNING: EPOCH - 6 : supplied example count (0) did not equal expected count (4941)\n",
      "[2020-09-26 18:27:13] - base_any2vec.py[line:1348] - WARNING: EPOCH - 6 : supplied raw word count (0) did not equal expected count (1446773)\n",
      "[2020-09-26 18:27:13] - base_any2vec.py[line:1332] - INFO: EPOCH - 7 : training on 0 raw words (0 effective words) took 0.0s, 0 effective words/s\n",
      "[2020-09-26 18:27:13] - base_any2vec.py[line:1343] - WARNING: EPOCH - 7 : supplied example count (0) did not equal expected count (4941)\n",
      "[2020-09-26 18:27:13] - base_any2vec.py[line:1348] - WARNING: EPOCH - 7 : supplied raw word count (0) did not equal expected count (1446773)\n",
      "[2020-09-26 18:27:13] - base_any2vec.py[line:1332] - INFO: EPOCH - 8 : training on 0 raw words (0 effective words) took 0.0s, 0 effective words/s\n",
      "[2020-09-26 18:27:13] - base_any2vec.py[line:1343] - WARNING: EPOCH - 8 : supplied example count (0) did not equal expected count (4941)\n",
      "[2020-09-26 18:27:13] - base_any2vec.py[line:1348] - WARNING: EPOCH - 8 : supplied raw word count (0) did not equal expected count (1446773)\n",
      "[2020-09-26 18:27:13] - base_any2vec.py[line:1332] - INFO: EPOCH - 9 : training on 0 raw words (0 effective words) took 0.0s, 0 effective words/s\n",
      "[2020-09-26 18:27:13] - base_any2vec.py[line:1343] - WARNING: EPOCH - 9 : supplied example count (0) did not equal expected count (4941)\n",
      "[2020-09-26 18:27:13] - base_any2vec.py[line:1348] - WARNING: EPOCH - 9 : supplied raw word count (0) did not equal expected count (1446773)\n",
      "[2020-09-26 18:27:13] - base_any2vec.py[line:1332] - INFO: EPOCH - 10 : training on 0 raw words (0 effective words) took 0.0s, 0 effective words/s\n",
      "[2020-09-26 18:27:14] - base_any2vec.py[line:1343] - WARNING: EPOCH - 10 : supplied example count (0) did not equal expected count (4941)\n",
      "[2020-09-26 18:27:14] - base_any2vec.py[line:1348] - WARNING: EPOCH - 10 : supplied raw word count (0) did not equal expected count (1446773)\n",
      "[2020-09-26 18:27:14] - base_any2vec.py[line:1368] - INFO: training on a 0 raw words (0 effective words) took 1.6s, 0 effective words/s\n",
      "[2020-09-26 18:27:14] - utils.py[line:551] - INFO: saving Word2Vec object under adv_userseq_task_id_city_word2vec.model, separately None\n",
      "[2020-09-26 18:27:14] - utils.py[line:657] - INFO: not storing attribute vectors_norm\n",
      "[2020-09-26 18:27:14] - utils.py[line:657] - INFO: not storing attribute cum_table\n",
      "[2020-09-26 18:27:14] - utils.py[line:565] - INFO: saved adv_userseq_task_id_city_word2vec.model\n",
      "[2020-09-26 18:27:14] - utils.py[line:551] - INFO: saving Word2VecKeyedVectors object under adv_userseq_task_id_city_word2vec.kv, separately None\n",
      "[2020-09-26 18:27:14] - utils.py[line:657] - INFO: not storing attribute vectors_norm\n"
     ]
    },
    {
     "name": "stdout",
     "output_type": "stream",
     "text": [
      "save start\n"
     ]
    },
    {
     "name": "stderr",
     "output_type": "stream",
     "text": [
      "[2020-09-26 18:27:14] - utils.py[line:565] - INFO: saved adv_userseq_task_id_city_word2vec.kv\n",
      "[2020-09-26 18:27:14] - word2vec.py[line:1399] - INFO: collecting all words and their counts\n",
      "[2020-09-26 18:27:14] - word2vec.py[line:1384] - INFO: PROGRESS: at sentence #0, processed 0 words, keeping 0 word types\n",
      "[2020-09-26 18:27:14] - word2vec.py[line:1407] - INFO: collected 5 word types from a corpus of 1446773 raw words and 4941 sentences\n",
      "[2020-09-26 18:27:14] - word2vec.py[line:1458] - INFO: Loading a fresh vocabulary\n",
      "[2020-09-26 18:27:14] - word2vec.py[line:1482] - INFO: effective_min_count=1 retains 5 unique words (100% of original 5, drops 0)\n",
      "[2020-09-26 18:27:14] - word2vec.py[line:1488] - INFO: effective_min_count=1 leaves 1446773 word corpus (100% of original 1446773, drops 0)\n",
      "[2020-09-26 18:27:14] - word2vec.py[line:1547] - INFO: deleting the raw counts dictionary of 5 items\n",
      "[2020-09-26 18:27:14] - word2vec.py[line:1550] - INFO: sample=0.001 downsamples 4 most-common words\n",
      "[2020-09-26 18:27:14] - word2vec.py[line:1553] - INFO: downsampling leaves estimated 90300 word corpus (6.2% of prior 1446773)\n",
      "[2020-09-26 18:27:14] - word2vec.py[line:1648] - INFO: constructing a huffman tree from 5 words\n",
      "[2020-09-26 18:27:14] - word2vec.py[line:1673] - INFO: built huffman tree with maximum node depth 4\n",
      "[2020-09-26 18:27:14] - base_any2vec.py[line:1008] - INFO: estimated required memory for 5 words and 64 dimensions: 7340 bytes\n",
      "[2020-09-26 18:27:14] - word2vec.py[line:1699] - INFO: resetting layer weights\n",
      "[2020-09-26 18:27:14] - base_any2vec.py[line:1196] - INFO: training model with -1 workers on 5 vocabulary and 64 features, using sg=0 hs=1 sample=0.001 negative=5 window=10000\n",
      "[2020-09-26 18:27:14] - base_any2vec.py[line:1332] - INFO: EPOCH - 1 : training on 0 raw words (0 effective words) took 0.0s, 0 effective words/s\n",
      "[2020-09-26 18:27:14] - base_any2vec.py[line:1343] - WARNING: EPOCH - 1 : supplied example count (0) did not equal expected count (4941)\n",
      "[2020-09-26 18:27:14] - base_any2vec.py[line:1348] - WARNING: EPOCH - 1 : supplied raw word count (0) did not equal expected count (1446773)\n"
     ]
    },
    {
     "name": "stdout",
     "output_type": "stream",
     "text": [
      "Done\n",
      "LineSentence start\n",
      "Word2Vec start\n"
     ]
    },
    {
     "name": "stderr",
     "output_type": "stream",
     "text": [
      "[2020-09-26 18:27:14] - base_any2vec.py[line:1332] - INFO: EPOCH - 2 : training on 0 raw words (0 effective words) took 0.0s, 0 effective words/s\n",
      "[2020-09-26 18:27:14] - base_any2vec.py[line:1343] - WARNING: EPOCH - 2 : supplied example count (0) did not equal expected count (4941)\n",
      "[2020-09-26 18:27:14] - base_any2vec.py[line:1348] - WARNING: EPOCH - 2 : supplied raw word count (0) did not equal expected count (1446773)\n",
      "[2020-09-26 18:27:14] - base_any2vec.py[line:1332] - INFO: EPOCH - 3 : training on 0 raw words (0 effective words) took 0.0s, 0 effective words/s\n",
      "[2020-09-26 18:27:14] - base_any2vec.py[line:1343] - WARNING: EPOCH - 3 : supplied example count (0) did not equal expected count (4941)\n",
      "[2020-09-26 18:27:14] - base_any2vec.py[line:1348] - WARNING: EPOCH - 3 : supplied raw word count (0) did not equal expected count (1446773)\n",
      "[2020-09-26 18:27:14] - base_any2vec.py[line:1332] - INFO: EPOCH - 4 : training on 0 raw words (0 effective words) took 0.0s, 0 effective words/s\n",
      "[2020-09-26 18:27:14] - base_any2vec.py[line:1343] - WARNING: EPOCH - 4 : supplied example count (0) did not equal expected count (4941)\n",
      "[2020-09-26 18:27:14] - base_any2vec.py[line:1348] - WARNING: EPOCH - 4 : supplied raw word count (0) did not equal expected count (1446773)\n",
      "[2020-09-26 18:27:14] - base_any2vec.py[line:1332] - INFO: EPOCH - 5 : training on 0 raw words (0 effective words) took 0.0s, 0 effective words/s\n",
      "[2020-09-26 18:27:14] - base_any2vec.py[line:1343] - WARNING: EPOCH - 5 : supplied example count (0) did not equal expected count (4941)\n",
      "[2020-09-26 18:27:14] - base_any2vec.py[line:1348] - WARNING: EPOCH - 5 : supplied raw word count (0) did not equal expected count (1446773)\n",
      "[2020-09-26 18:27:14] - base_any2vec.py[line:1332] - INFO: EPOCH - 6 : training on 0 raw words (0 effective words) took 0.0s, 0 effective words/s\n",
      "[2020-09-26 18:27:14] - base_any2vec.py[line:1343] - WARNING: EPOCH - 6 : supplied example count (0) did not equal expected count (4941)\n",
      "[2020-09-26 18:27:14] - base_any2vec.py[line:1348] - WARNING: EPOCH - 6 : supplied raw word count (0) did not equal expected count (1446773)\n",
      "[2020-09-26 18:27:14] - base_any2vec.py[line:1332] - INFO: EPOCH - 7 : training on 0 raw words (0 effective words) took 0.0s, 0 effective words/s\n",
      "[2020-09-26 18:27:14] - base_any2vec.py[line:1343] - WARNING: EPOCH - 7 : supplied example count (0) did not equal expected count (4941)\n",
      "[2020-09-26 18:27:14] - base_any2vec.py[line:1348] - WARNING: EPOCH - 7 : supplied raw word count (0) did not equal expected count (1446773)\n",
      "[2020-09-26 18:27:14] - base_any2vec.py[line:1332] - INFO: EPOCH - 8 : training on 0 raw words (0 effective words) took 0.0s, 0 effective words/s\n",
      "[2020-09-26 18:27:15] - base_any2vec.py[line:1343] - WARNING: EPOCH - 8 : supplied example count (0) did not equal expected count (4941)\n",
      "[2020-09-26 18:27:15] - base_any2vec.py[line:1348] - WARNING: EPOCH - 8 : supplied raw word count (0) did not equal expected count (1446773)\n",
      "[2020-09-26 18:27:15] - base_any2vec.py[line:1332] - INFO: EPOCH - 9 : training on 0 raw words (0 effective words) took 0.0s, 0 effective words/s\n",
      "[2020-09-26 18:27:15] - base_any2vec.py[line:1343] - WARNING: EPOCH - 9 : supplied example count (0) did not equal expected count (4941)\n",
      "[2020-09-26 18:27:15] - base_any2vec.py[line:1348] - WARNING: EPOCH - 9 : supplied raw word count (0) did not equal expected count (1446773)\n",
      "[2020-09-26 18:27:15] - base_any2vec.py[line:1332] - INFO: EPOCH - 10 : training on 0 raw words (0 effective words) took 0.0s, 0 effective words/s\n",
      "[2020-09-26 18:27:15] - base_any2vec.py[line:1343] - WARNING: EPOCH - 10 : supplied example count (0) did not equal expected count (4941)\n",
      "[2020-09-26 18:27:15] - base_any2vec.py[line:1348] - WARNING: EPOCH - 10 : supplied raw word count (0) did not equal expected count (1446773)\n",
      "[2020-09-26 18:27:15] - base_any2vec.py[line:1368] - INFO: training on a 0 raw words (0 effective words) took 0.8s, 0 effective words/s\n",
      "[2020-09-26 18:27:15] - utils.py[line:551] - INFO: saving Word2Vec object under adv_userseq_task_id_city_rank_word2vec.model, separately None\n",
      "[2020-09-26 18:27:15] - utils.py[line:657] - INFO: not storing attribute vectors_norm\n",
      "[2020-09-26 18:27:15] - utils.py[line:657] - INFO: not storing attribute cum_table\n",
      "[2020-09-26 18:27:15] - utils.py[line:565] - INFO: saved adv_userseq_task_id_city_rank_word2vec.model\n",
      "[2020-09-26 18:27:15] - utils.py[line:551] - INFO: saving Word2VecKeyedVectors object under adv_userseq_task_id_city_rank_word2vec.kv, separately None\n",
      "[2020-09-26 18:27:15] - utils.py[line:657] - INFO: not storing attribute vectors_norm\n",
      "[2020-09-26 18:27:15] - utils.py[line:565] - INFO: saved adv_userseq_task_id_city_rank_word2vec.kv\n",
      "[2020-09-26 18:27:15] - word2vec.py[line:1399] - INFO: collecting all words and their counts\n",
      "[2020-09-26 18:27:15] - word2vec.py[line:1384] - INFO: PROGRESS: at sentence #0, processed 0 words, keeping 0 word types\n"
     ]
    },
    {
     "name": "stdout",
     "output_type": "stream",
     "text": [
      "save start\n",
      "Done\n",
      "LineSentence start\n",
      "Word2Vec start\n"
     ]
    },
    {
     "name": "stderr",
     "output_type": "stream",
     "text": [
      "[2020-09-26 18:27:15] - word2vec.py[line:1407] - INFO: collected 91 word types from a corpus of 1446773 raw words and 4941 sentences\n",
      "[2020-09-26 18:27:15] - word2vec.py[line:1458] - INFO: Loading a fresh vocabulary\n",
      "[2020-09-26 18:27:15] - word2vec.py[line:1482] - INFO: effective_min_count=1 retains 91 unique words (100% of original 91, drops 0)\n",
      "[2020-09-26 18:27:15] - word2vec.py[line:1488] - INFO: effective_min_count=1 leaves 1446773 word corpus (100% of original 1446773, drops 0)\n",
      "[2020-09-26 18:27:15] - word2vec.py[line:1547] - INFO: deleting the raw counts dictionary of 91 items\n",
      "[2020-09-26 18:27:15] - word2vec.py[line:1550] - INFO: sample=0.001 downsamples 51 most-common words\n",
      "[2020-09-26 18:27:15] - word2vec.py[line:1553] - INFO: downsampling leaves estimated 405191 word corpus (28.0% of prior 1446773)\n",
      "[2020-09-26 18:27:15] - word2vec.py[line:1648] - INFO: constructing a huffman tree from 91 words\n",
      "[2020-09-26 18:27:15] - word2vec.py[line:1673] - INFO: built huffman tree with maximum node depth 20\n",
      "[2020-09-26 18:27:15] - base_any2vec.py[line:1008] - INFO: estimated required memory for 91 words and 64 dimensions: 133588 bytes\n",
      "[2020-09-26 18:27:15] - word2vec.py[line:1699] - INFO: resetting layer weights\n",
      "[2020-09-26 18:27:15] - base_any2vec.py[line:1196] - INFO: training model with -1 workers on 91 vocabulary and 64 features, using sg=0 hs=1 sample=0.001 negative=5 window=10000\n",
      "[2020-09-26 18:27:15] - base_any2vec.py[line:1332] - INFO: EPOCH - 1 : training on 0 raw words (0 effective words) took 0.0s, 0 effective words/s\n",
      "[2020-09-26 18:27:15] - base_any2vec.py[line:1343] - WARNING: EPOCH - 1 : supplied example count (0) did not equal expected count (4941)\n",
      "[2020-09-26 18:27:15] - base_any2vec.py[line:1348] - WARNING: EPOCH - 1 : supplied raw word count (0) did not equal expected count (1446773)\n",
      "[2020-09-26 18:27:15] - base_any2vec.py[line:1332] - INFO: EPOCH - 2 : training on 0 raw words (0 effective words) took 0.0s, 0 effective words/s\n",
      "[2020-09-26 18:27:15] - base_any2vec.py[line:1343] - WARNING: EPOCH - 2 : supplied example count (0) did not equal expected count (4941)\n",
      "[2020-09-26 18:27:15] - base_any2vec.py[line:1348] - WARNING: EPOCH - 2 : supplied raw word count (0) did not equal expected count (1446773)\n",
      "[2020-09-26 18:27:15] - base_any2vec.py[line:1332] - INFO: EPOCH - 3 : training on 0 raw words (0 effective words) took 0.0s, 0 effective words/s\n",
      "[2020-09-26 18:27:15] - base_any2vec.py[line:1343] - WARNING: EPOCH - 3 : supplied example count (0) did not equal expected count (4941)\n",
      "[2020-09-26 18:27:15] - base_any2vec.py[line:1348] - WARNING: EPOCH - 3 : supplied raw word count (0) did not equal expected count (1446773)\n",
      "[2020-09-26 18:27:15] - base_any2vec.py[line:1332] - INFO: EPOCH - 4 : training on 0 raw words (0 effective words) took 0.0s, 0 effective words/s\n",
      "[2020-09-26 18:27:15] - base_any2vec.py[line:1343] - WARNING: EPOCH - 4 : supplied example count (0) did not equal expected count (4941)\n",
      "[2020-09-26 18:27:15] - base_any2vec.py[line:1348] - WARNING: EPOCH - 4 : supplied raw word count (0) did not equal expected count (1446773)\n",
      "[2020-09-26 18:27:15] - base_any2vec.py[line:1332] - INFO: EPOCH - 5 : training on 0 raw words (0 effective words) took 0.0s, 0 effective words/s\n",
      "[2020-09-26 18:27:15] - base_any2vec.py[line:1343] - WARNING: EPOCH - 5 : supplied example count (0) did not equal expected count (4941)\n",
      "[2020-09-26 18:27:16] - base_any2vec.py[line:1348] - WARNING: EPOCH - 5 : supplied raw word count (0) did not equal expected count (1446773)\n",
      "[2020-09-26 18:27:16] - base_any2vec.py[line:1332] - INFO: EPOCH - 6 : training on 0 raw words (0 effective words) took 0.0s, 0 effective words/s\n",
      "[2020-09-26 18:27:16] - base_any2vec.py[line:1343] - WARNING: EPOCH - 6 : supplied example count (0) did not equal expected count (4941)\n",
      "[2020-09-26 18:27:16] - base_any2vec.py[line:1348] - WARNING: EPOCH - 6 : supplied raw word count (0) did not equal expected count (1446773)\n",
      "[2020-09-26 18:27:16] - base_any2vec.py[line:1332] - INFO: EPOCH - 7 : training on 0 raw words (0 effective words) took 0.0s, 0 effective words/s\n",
      "[2020-09-26 18:27:16] - base_any2vec.py[line:1343] - WARNING: EPOCH - 7 : supplied example count (0) did not equal expected count (4941)\n",
      "[2020-09-26 18:27:16] - base_any2vec.py[line:1348] - WARNING: EPOCH - 7 : supplied raw word count (0) did not equal expected count (1446773)\n",
      "[2020-09-26 18:27:16] - base_any2vec.py[line:1332] - INFO: EPOCH - 8 : training on 0 raw words (0 effective words) took 0.0s, 0 effective words/s\n",
      "[2020-09-26 18:27:16] - base_any2vec.py[line:1343] - WARNING: EPOCH - 8 : supplied example count (0) did not equal expected count (4941)\n",
      "[2020-09-26 18:27:16] - base_any2vec.py[line:1348] - WARNING: EPOCH - 8 : supplied raw word count (0) did not equal expected count (1446773)\n",
      "[2020-09-26 18:27:16] - base_any2vec.py[line:1332] - INFO: EPOCH - 9 : training on 0 raw words (0 effective words) took 0.0s, 0 effective words/s\n",
      "[2020-09-26 18:27:17] - base_any2vec.py[line:1343] - WARNING: EPOCH - 9 : supplied example count (0) did not equal expected count (4941)\n",
      "[2020-09-26 18:27:17] - base_any2vec.py[line:1348] - WARNING: EPOCH - 9 : supplied raw word count (0) did not equal expected count (1446773)\n",
      "[2020-09-26 18:27:17] - base_any2vec.py[line:1332] - INFO: EPOCH - 10 : training on 0 raw words (0 effective words) took 0.0s, 0 effective words/s\n",
      "[2020-09-26 18:27:17] - base_any2vec.py[line:1343] - WARNING: EPOCH - 10 : supplied example count (0) did not equal expected count (4941)\n",
      "[2020-09-26 18:27:17] - base_any2vec.py[line:1348] - WARNING: EPOCH - 10 : supplied raw word count (0) did not equal expected count (1446773)\n",
      "[2020-09-26 18:27:17] - base_any2vec.py[line:1368] - INFO: training on a 0 raw words (0 effective words) took 1.8s, 0 effective words/s\n",
      "[2020-09-26 18:27:17] - utils.py[line:551] - INFO: saving Word2Vec object under adv_userseq_task_id_device_name_word2vec.model, separately None\n",
      "[2020-09-26 18:27:17] - utils.py[line:657] - INFO: not storing attribute vectors_norm\n",
      "[2020-09-26 18:27:17] - utils.py[line:657] - INFO: not storing attribute cum_table\n",
      "[2020-09-26 18:27:17] - utils.py[line:565] - INFO: saved adv_userseq_task_id_device_name_word2vec.model\n",
      "[2020-09-26 18:27:17] - utils.py[line:551] - INFO: saving Word2VecKeyedVectors object under adv_userseq_task_id_device_name_word2vec.kv, separately None\n",
      "[2020-09-26 18:27:17] - utils.py[line:657] - INFO: not storing attribute vectors_norm\n",
      "[2020-09-26 18:27:17] - utils.py[line:565] - INFO: saved adv_userseq_task_id_device_name_word2vec.kv\n",
      "[2020-09-26 18:27:17] - word2vec.py[line:1399] - INFO: collecting all words and their counts\n",
      "[2020-09-26 18:27:17] - word2vec.py[line:1384] - INFO: PROGRESS: at sentence #0, processed 0 words, keeping 0 word types\n"
     ]
    },
    {
     "name": "stdout",
     "output_type": "stream",
     "text": [
      "save start\n",
      "Done\n",
      "LineSentence start\n",
      "Word2Vec start\n"
     ]
    },
    {
     "name": "stderr",
     "output_type": "stream",
     "text": [
      "[2020-09-26 18:27:17] - word2vec.py[line:1407] - INFO: collected 10 word types from a corpus of 1446773 raw words and 4941 sentences\n",
      "[2020-09-26 18:27:17] - word2vec.py[line:1458] - INFO: Loading a fresh vocabulary\n",
      "[2020-09-26 18:27:17] - word2vec.py[line:1482] - INFO: effective_min_count=1 retains 10 unique words (100% of original 10, drops 0)\n",
      "[2020-09-26 18:27:17] - word2vec.py[line:1488] - INFO: effective_min_count=1 leaves 1446773 word corpus (100% of original 1446773, drops 0)\n",
      "[2020-09-26 18:27:17] - word2vec.py[line:1547] - INFO: deleting the raw counts dictionary of 10 items\n",
      "[2020-09-26 18:27:17] - word2vec.py[line:1550] - INFO: sample=0.001 downsamples 8 most-common words\n",
      "[2020-09-26 18:27:17] - word2vec.py[line:1553] - INFO: downsampling leaves estimated 117287 word corpus (8.1% of prior 1446773)\n",
      "[2020-09-26 18:27:17] - word2vec.py[line:1648] - INFO: constructing a huffman tree from 10 words\n",
      "[2020-09-26 18:27:17] - word2vec.py[line:1673] - INFO: built huffman tree with maximum node depth 7\n",
      "[2020-09-26 18:27:17] - base_any2vec.py[line:1008] - INFO: estimated required memory for 10 words and 64 dimensions: 14680 bytes\n",
      "[2020-09-26 18:27:17] - word2vec.py[line:1699] - INFO: resetting layer weights\n",
      "[2020-09-26 18:27:17] - base_any2vec.py[line:1196] - INFO: training model with -1 workers on 10 vocabulary and 64 features, using sg=0 hs=1 sample=0.001 negative=5 window=10000\n",
      "[2020-09-26 18:27:17] - base_any2vec.py[line:1332] - INFO: EPOCH - 1 : training on 0 raw words (0 effective words) took 0.0s, 0 effective words/s\n",
      "[2020-09-26 18:27:17] - base_any2vec.py[line:1343] - WARNING: EPOCH - 1 : supplied example count (0) did not equal expected count (4941)\n",
      "[2020-09-26 18:27:17] - base_any2vec.py[line:1348] - WARNING: EPOCH - 1 : supplied raw word count (0) did not equal expected count (1446773)\n",
      "[2020-09-26 18:27:17] - base_any2vec.py[line:1332] - INFO: EPOCH - 2 : training on 0 raw words (0 effective words) took 0.0s, 0 effective words/s\n",
      "[2020-09-26 18:27:17] - base_any2vec.py[line:1343] - WARNING: EPOCH - 2 : supplied example count (0) did not equal expected count (4941)\n",
      "[2020-09-26 18:27:17] - base_any2vec.py[line:1348] - WARNING: EPOCH - 2 : supplied raw word count (0) did not equal expected count (1446773)\n",
      "[2020-09-26 18:27:17] - base_any2vec.py[line:1332] - INFO: EPOCH - 3 : training on 0 raw words (0 effective words) took 0.0s, 0 effective words/s\n",
      "[2020-09-26 18:27:17] - base_any2vec.py[line:1343] - WARNING: EPOCH - 3 : supplied example count (0) did not equal expected count (4941)\n",
      "[2020-09-26 18:27:18] - base_any2vec.py[line:1348] - WARNING: EPOCH - 3 : supplied raw word count (0) did not equal expected count (1446773)\n",
      "[2020-09-26 18:27:18] - base_any2vec.py[line:1332] - INFO: EPOCH - 4 : training on 0 raw words (0 effective words) took 0.0s, 0 effective words/s\n",
      "[2020-09-26 18:27:18] - base_any2vec.py[line:1343] - WARNING: EPOCH - 4 : supplied example count (0) did not equal expected count (4941)\n",
      "[2020-09-26 18:27:18] - base_any2vec.py[line:1348] - WARNING: EPOCH - 4 : supplied raw word count (0) did not equal expected count (1446773)\n",
      "[2020-09-26 18:27:18] - base_any2vec.py[line:1332] - INFO: EPOCH - 5 : training on 0 raw words (0 effective words) took 0.0s, 0 effective words/s\n",
      "[2020-09-26 18:27:18] - base_any2vec.py[line:1343] - WARNING: EPOCH - 5 : supplied example count (0) did not equal expected count (4941)\n",
      "[2020-09-26 18:27:18] - base_any2vec.py[line:1348] - WARNING: EPOCH - 5 : supplied raw word count (0) did not equal expected count (1446773)\n",
      "[2020-09-26 18:27:18] - base_any2vec.py[line:1332] - INFO: EPOCH - 6 : training on 0 raw words (0 effective words) took 0.0s, 0 effective words/s\n",
      "[2020-09-26 18:27:18] - base_any2vec.py[line:1343] - WARNING: EPOCH - 6 : supplied example count (0) did not equal expected count (4941)\n",
      "[2020-09-26 18:27:18] - base_any2vec.py[line:1348] - WARNING: EPOCH - 6 : supplied raw word count (0) did not equal expected count (1446773)\n",
      "[2020-09-26 18:27:18] - base_any2vec.py[line:1332] - INFO: EPOCH - 7 : training on 0 raw words (0 effective words) took 0.0s, 0 effective words/s\n",
      "[2020-09-26 18:27:18] - base_any2vec.py[line:1343] - WARNING: EPOCH - 7 : supplied example count (0) did not equal expected count (4941)\n",
      "[2020-09-26 18:27:18] - base_any2vec.py[line:1348] - WARNING: EPOCH - 7 : supplied raw word count (0) did not equal expected count (1446773)\n",
      "[2020-09-26 18:27:18] - base_any2vec.py[line:1332] - INFO: EPOCH - 8 : training on 0 raw words (0 effective words) took 0.0s, 0 effective words/s\n",
      "[2020-09-26 18:27:18] - base_any2vec.py[line:1343] - WARNING: EPOCH - 8 : supplied example count (0) did not equal expected count (4941)\n",
      "[2020-09-26 18:27:18] - base_any2vec.py[line:1348] - WARNING: EPOCH - 8 : supplied raw word count (0) did not equal expected count (1446773)\n",
      "[2020-09-26 18:27:18] - base_any2vec.py[line:1332] - INFO: EPOCH - 9 : training on 0 raw words (0 effective words) took 0.0s, 0 effective words/s\n",
      "[2020-09-26 18:27:18] - base_any2vec.py[line:1343] - WARNING: EPOCH - 9 : supplied example count (0) did not equal expected count (4941)\n",
      "[2020-09-26 18:27:18] - base_any2vec.py[line:1348] - WARNING: EPOCH - 9 : supplied raw word count (0) did not equal expected count (1446773)\n",
      "[2020-09-26 18:27:18] - base_any2vec.py[line:1332] - INFO: EPOCH - 10 : training on 0 raw words (0 effective words) took 0.0s, 0 effective words/s\n",
      "[2020-09-26 18:27:18] - base_any2vec.py[line:1343] - WARNING: EPOCH - 10 : supplied example count (0) did not equal expected count (4941)\n",
      "[2020-09-26 18:27:18] - base_any2vec.py[line:1348] - WARNING: EPOCH - 10 : supplied raw word count (0) did not equal expected count (1446773)\n",
      "[2020-09-26 18:27:18] - base_any2vec.py[line:1368] - INFO: training on a 0 raw words (0 effective words) took 0.8s, 0 effective words/s\n",
      "[2020-09-26 18:27:18] - utils.py[line:551] - INFO: saving Word2Vec object under adv_userseq_task_id_career_word2vec.model, separately None\n",
      "[2020-09-26 18:27:18] - utils.py[line:657] - INFO: not storing attribute vectors_norm\n",
      "[2020-09-26 18:27:18] - utils.py[line:657] - INFO: not storing attribute cum_table\n",
      "[2020-09-26 18:27:18] - utils.py[line:565] - INFO: saved adv_userseq_task_id_career_word2vec.model\n",
      "[2020-09-26 18:27:18] - utils.py[line:551] - INFO: saving Word2VecKeyedVectors object under adv_userseq_task_id_career_word2vec.kv, separately None\n",
      "[2020-09-26 18:27:18] - utils.py[line:657] - INFO: not storing attribute vectors_norm\n",
      "[2020-09-26 18:27:18] - utils.py[line:565] - INFO: saved adv_userseq_task_id_career_word2vec.kv\n",
      "[2020-09-26 18:27:18] - word2vec.py[line:1399] - INFO: collecting all words and their counts\n",
      "[2020-09-26 18:27:18] - word2vec.py[line:1384] - INFO: PROGRESS: at sentence #0, processed 0 words, keeping 0 word types\n"
     ]
    },
    {
     "name": "stdout",
     "output_type": "stream",
     "text": [
      "save start\n",
      "Done\n",
      "LineSentence start\n",
      "Word2Vec start\n"
     ]
    },
    {
     "name": "stderr",
     "output_type": "stream",
     "text": [
      "[2020-09-26 18:27:18] - word2vec.py[line:1407] - INFO: collected 4 word types from a corpus of 1446773 raw words and 4941 sentences\n",
      "[2020-09-26 18:27:18] - word2vec.py[line:1458] - INFO: Loading a fresh vocabulary\n",
      "[2020-09-26 18:27:18] - word2vec.py[line:1482] - INFO: effective_min_count=1 retains 4 unique words (100% of original 4, drops 0)\n",
      "[2020-09-26 18:27:18] - word2vec.py[line:1488] - INFO: effective_min_count=1 leaves 1446773 word corpus (100% of original 1446773, drops 0)\n",
      "[2020-09-26 18:27:18] - word2vec.py[line:1547] - INFO: deleting the raw counts dictionary of 4 items\n",
      "[2020-09-26 18:27:18] - word2vec.py[line:1550] - INFO: sample=0.001 downsamples 3 most-common words\n",
      "[2020-09-26 18:27:18] - word2vec.py[line:1553] - INFO: downsampling leaves estimated 74575 word corpus (5.2% of prior 1446773)\n",
      "[2020-09-26 18:27:18] - word2vec.py[line:1648] - INFO: constructing a huffman tree from 4 words\n",
      "[2020-09-26 18:27:18] - word2vec.py[line:1673] - INFO: built huffman tree with maximum node depth 3\n",
      "[2020-09-26 18:27:18] - base_any2vec.py[line:1008] - INFO: estimated required memory for 4 words and 64 dimensions: 5872 bytes\n",
      "[2020-09-26 18:27:18] - word2vec.py[line:1699] - INFO: resetting layer weights\n",
      "[2020-09-26 18:27:18] - base_any2vec.py[line:1196] - INFO: training model with -1 workers on 4 vocabulary and 64 features, using sg=0 hs=1 sample=0.001 negative=5 window=10000\n",
      "[2020-09-26 18:27:18] - base_any2vec.py[line:1332] - INFO: EPOCH - 1 : training on 0 raw words (0 effective words) took 0.0s, 0 effective words/s\n",
      "[2020-09-26 18:27:18] - base_any2vec.py[line:1343] - WARNING: EPOCH - 1 : supplied example count (0) did not equal expected count (4941)\n",
      "[2020-09-26 18:27:18] - base_any2vec.py[line:1348] - WARNING: EPOCH - 1 : supplied raw word count (0) did not equal expected count (1446773)\n",
      "[2020-09-26 18:27:18] - base_any2vec.py[line:1332] - INFO: EPOCH - 2 : training on 0 raw words (0 effective words) took 0.0s, 0 effective words/s\n",
      "[2020-09-26 18:27:18] - base_any2vec.py[line:1343] - WARNING: EPOCH - 2 : supplied example count (0) did not equal expected count (4941)\n",
      "[2020-09-26 18:27:18] - base_any2vec.py[line:1348] - WARNING: EPOCH - 2 : supplied raw word count (0) did not equal expected count (1446773)\n",
      "[2020-09-26 18:27:18] - base_any2vec.py[line:1332] - INFO: EPOCH - 3 : training on 0 raw words (0 effective words) took 0.0s, 0 effective words/s\n",
      "[2020-09-26 18:27:18] - base_any2vec.py[line:1343] - WARNING: EPOCH - 3 : supplied example count (0) did not equal expected count (4941)\n",
      "[2020-09-26 18:27:18] - base_any2vec.py[line:1348] - WARNING: EPOCH - 3 : supplied raw word count (0) did not equal expected count (1446773)\n",
      "[2020-09-26 18:27:18] - base_any2vec.py[line:1332] - INFO: EPOCH - 4 : training on 0 raw words (0 effective words) took 0.0s, 0 effective words/s\n",
      "[2020-09-26 18:27:18] - base_any2vec.py[line:1343] - WARNING: EPOCH - 4 : supplied example count (0) did not equal expected count (4941)\n",
      "[2020-09-26 18:27:18] - base_any2vec.py[line:1348] - WARNING: EPOCH - 4 : supplied raw word count (0) did not equal expected count (1446773)\n",
      "[2020-09-26 18:27:18] - base_any2vec.py[line:1332] - INFO: EPOCH - 5 : training on 0 raw words (0 effective words) took 0.0s, 0 effective words/s\n",
      "[2020-09-26 18:27:18] - base_any2vec.py[line:1343] - WARNING: EPOCH - 5 : supplied example count (0) did not equal expected count (4941)\n",
      "[2020-09-26 18:27:19] - base_any2vec.py[line:1348] - WARNING: EPOCH - 5 : supplied raw word count (0) did not equal expected count (1446773)\n",
      "[2020-09-26 18:27:19] - base_any2vec.py[line:1332] - INFO: EPOCH - 6 : training on 0 raw words (0 effective words) took 0.0s, 0 effective words/s\n",
      "[2020-09-26 18:27:19] - base_any2vec.py[line:1343] - WARNING: EPOCH - 6 : supplied example count (0) did not equal expected count (4941)\n",
      "[2020-09-26 18:27:19] - base_any2vec.py[line:1348] - WARNING: EPOCH - 6 : supplied raw word count (0) did not equal expected count (1446773)\n",
      "[2020-09-26 18:27:19] - base_any2vec.py[line:1332] - INFO: EPOCH - 7 : training on 0 raw words (0 effective words) took 0.0s, 0 effective words/s\n",
      "[2020-09-26 18:27:19] - base_any2vec.py[line:1343] - WARNING: EPOCH - 7 : supplied example count (0) did not equal expected count (4941)\n",
      "[2020-09-26 18:27:19] - base_any2vec.py[line:1348] - WARNING: EPOCH - 7 : supplied raw word count (0) did not equal expected count (1446773)\n",
      "[2020-09-26 18:27:19] - base_any2vec.py[line:1332] - INFO: EPOCH - 8 : training on 0 raw words (0 effective words) took 0.0s, 0 effective words/s\n",
      "[2020-09-26 18:27:19] - base_any2vec.py[line:1343] - WARNING: EPOCH - 8 : supplied example count (0) did not equal expected count (4941)\n",
      "[2020-09-26 18:27:19] - base_any2vec.py[line:1348] - WARNING: EPOCH - 8 : supplied raw word count (0) did not equal expected count (1446773)\n",
      "[2020-09-26 18:27:19] - base_any2vec.py[line:1332] - INFO: EPOCH - 9 : training on 0 raw words (0 effective words) took 0.0s, 0 effective words/s\n",
      "[2020-09-26 18:27:19] - base_any2vec.py[line:1343] - WARNING: EPOCH - 9 : supplied example count (0) did not equal expected count (4941)\n",
      "[2020-09-26 18:27:19] - base_any2vec.py[line:1348] - WARNING: EPOCH - 9 : supplied raw word count (0) did not equal expected count (1446773)\n",
      "[2020-09-26 18:27:19] - base_any2vec.py[line:1332] - INFO: EPOCH - 10 : training on 0 raw words (0 effective words) took 0.0s, 0 effective words/s\n",
      "[2020-09-26 18:27:19] - base_any2vec.py[line:1343] - WARNING: EPOCH - 10 : supplied example count (0) did not equal expected count (4941)\n",
      "[2020-09-26 18:27:19] - base_any2vec.py[line:1348] - WARNING: EPOCH - 10 : supplied raw word count (0) did not equal expected count (1446773)\n",
      "[2020-09-26 18:27:19] - base_any2vec.py[line:1368] - INFO: training on a 0 raw words (0 effective words) took 0.7s, 0 effective words/s\n",
      "[2020-09-26 18:27:19] - utils.py[line:551] - INFO: saving Word2Vec object under adv_userseq_task_id_gender_word2vec.model, separately None\n",
      "[2020-09-26 18:27:19] - utils.py[line:657] - INFO: not storing attribute vectors_norm\n",
      "[2020-09-26 18:27:19] - utils.py[line:657] - INFO: not storing attribute cum_table\n",
      "[2020-09-26 18:27:19] - utils.py[line:565] - INFO: saved adv_userseq_task_id_gender_word2vec.model\n",
      "[2020-09-26 18:27:19] - utils.py[line:551] - INFO: saving Word2VecKeyedVectors object under adv_userseq_task_id_gender_word2vec.kv, separately None\n",
      "[2020-09-26 18:27:19] - utils.py[line:657] - INFO: not storing attribute vectors_norm\n",
      "[2020-09-26 18:27:19] - utils.py[line:565] - INFO: saved adv_userseq_task_id_gender_word2vec.kv\n",
      "[2020-09-26 18:27:19] - word2vec.py[line:1399] - INFO: collecting all words and their counts\n",
      "[2020-09-26 18:27:19] - word2vec.py[line:1384] - INFO: PROGRESS: at sentence #0, processed 0 words, keeping 0 word types\n"
     ]
    },
    {
     "name": "stdout",
     "output_type": "stream",
     "text": [
      "save start\n",
      "Done\n",
      "LineSentence start\n",
      "Word2Vec start\n"
     ]
    },
    {
     "name": "stderr",
     "output_type": "stream",
     "text": [
      "[2020-09-26 18:27:19] - word2vec.py[line:1407] - INFO: collected 37 word types from a corpus of 1446773 raw words and 4941 sentences\n",
      "[2020-09-26 18:27:19] - word2vec.py[line:1458] - INFO: Loading a fresh vocabulary\n",
      "[2020-09-26 18:27:19] - word2vec.py[line:1482] - INFO: effective_min_count=1 retains 37 unique words (100% of original 37, drops 0)\n",
      "[2020-09-26 18:27:19] - word2vec.py[line:1488] - INFO: effective_min_count=1 leaves 1446773 word corpus (100% of original 1446773, drops 0)\n",
      "[2020-09-26 18:27:19] - word2vec.py[line:1547] - INFO: deleting the raw counts dictionary of 37 items\n",
      "[2020-09-26 18:27:19] - word2vec.py[line:1550] - INFO: sample=0.001 downsamples 31 most-common words\n",
      "[2020-09-26 18:27:19] - word2vec.py[line:1553] - INFO: downsampling leaves estimated 289605 word corpus (20.0% of prior 1446773)\n",
      "[2020-09-26 18:27:19] - word2vec.py[line:1648] - INFO: constructing a huffman tree from 37 words\n",
      "[2020-09-26 18:27:19] - word2vec.py[line:1673] - INFO: built huffman tree with maximum node depth 13\n",
      "[2020-09-26 18:27:19] - base_any2vec.py[line:1008] - INFO: estimated required memory for 37 words and 64 dimensions: 54316 bytes\n",
      "[2020-09-26 18:27:19] - word2vec.py[line:1699] - INFO: resetting layer weights\n",
      "[2020-09-26 18:27:19] - base_any2vec.py[line:1196] - INFO: training model with -1 workers on 37 vocabulary and 64 features, using sg=0 hs=1 sample=0.001 negative=5 window=10000\n",
      "[2020-09-26 18:27:19] - base_any2vec.py[line:1332] - INFO: EPOCH - 1 : training on 0 raw words (0 effective words) took 0.0s, 0 effective words/s\n",
      "[2020-09-26 18:27:19] - base_any2vec.py[line:1343] - WARNING: EPOCH - 1 : supplied example count (0) did not equal expected count (4941)\n",
      "[2020-09-26 18:27:19] - base_any2vec.py[line:1348] - WARNING: EPOCH - 1 : supplied raw word count (0) did not equal expected count (1446773)\n",
      "[2020-09-26 18:27:19] - base_any2vec.py[line:1332] - INFO: EPOCH - 2 : training on 0 raw words (0 effective words) took 0.0s, 0 effective words/s\n",
      "[2020-09-26 18:27:19] - base_any2vec.py[line:1343] - WARNING: EPOCH - 2 : supplied example count (0) did not equal expected count (4941)\n",
      "[2020-09-26 18:27:19] - base_any2vec.py[line:1348] - WARNING: EPOCH - 2 : supplied raw word count (0) did not equal expected count (1446773)\n",
      "[2020-09-26 18:27:19] - base_any2vec.py[line:1332] - INFO: EPOCH - 3 : training on 0 raw words (0 effective words) took 0.0s, 0 effective words/s\n",
      "[2020-09-26 18:27:19] - base_any2vec.py[line:1343] - WARNING: EPOCH - 3 : supplied example count (0) did not equal expected count (4941)\n",
      "[2020-09-26 18:27:20] - base_any2vec.py[line:1348] - WARNING: EPOCH - 3 : supplied raw word count (0) did not equal expected count (1446773)\n",
      "[2020-09-26 18:27:20] - base_any2vec.py[line:1332] - INFO: EPOCH - 4 : training on 0 raw words (0 effective words) took 0.0s, 0 effective words/s\n",
      "[2020-09-26 18:27:20] - base_any2vec.py[line:1343] - WARNING: EPOCH - 4 : supplied example count (0) did not equal expected count (4941)\n",
      "[2020-09-26 18:27:20] - base_any2vec.py[line:1348] - WARNING: EPOCH - 4 : supplied raw word count (0) did not equal expected count (1446773)\n",
      "[2020-09-26 18:27:20] - base_any2vec.py[line:1332] - INFO: EPOCH - 5 : training on 0 raw words (0 effective words) took 0.0s, 0 effective words/s\n",
      "[2020-09-26 18:27:20] - base_any2vec.py[line:1343] - WARNING: EPOCH - 5 : supplied example count (0) did not equal expected count (4941)\n",
      "[2020-09-26 18:27:20] - base_any2vec.py[line:1348] - WARNING: EPOCH - 5 : supplied raw word count (0) did not equal expected count (1446773)\n",
      "[2020-09-26 18:27:20] - base_any2vec.py[line:1332] - INFO: EPOCH - 6 : training on 0 raw words (0 effective words) took 0.0s, 0 effective words/s\n",
      "[2020-09-26 18:27:20] - base_any2vec.py[line:1343] - WARNING: EPOCH - 6 : supplied example count (0) did not equal expected count (4941)\n",
      "[2020-09-26 18:27:20] - base_any2vec.py[line:1348] - WARNING: EPOCH - 6 : supplied raw word count (0) did not equal expected count (1446773)\n",
      "[2020-09-26 18:27:20] - base_any2vec.py[line:1332] - INFO: EPOCH - 7 : training on 0 raw words (0 effective words) took 0.0s, 0 effective words/s\n",
      "[2020-09-26 18:27:20] - base_any2vec.py[line:1343] - WARNING: EPOCH - 7 : supplied example count (0) did not equal expected count (4941)\n",
      "[2020-09-26 18:27:20] - base_any2vec.py[line:1348] - WARNING: EPOCH - 7 : supplied raw word count (0) did not equal expected count (1446773)\n",
      "[2020-09-26 18:27:20] - base_any2vec.py[line:1332] - INFO: EPOCH - 8 : training on 0 raw words (0 effective words) took 0.0s, 0 effective words/s\n",
      "[2020-09-26 18:27:20] - base_any2vec.py[line:1343] - WARNING: EPOCH - 8 : supplied example count (0) did not equal expected count (4941)\n",
      "[2020-09-26 18:27:20] - base_any2vec.py[line:1348] - WARNING: EPOCH - 8 : supplied raw word count (0) did not equal expected count (1446773)\n",
      "[2020-09-26 18:27:20] - base_any2vec.py[line:1332] - INFO: EPOCH - 9 : training on 0 raw words (0 effective words) took 0.0s, 0 effective words/s\n",
      "[2020-09-26 18:27:21] - base_any2vec.py[line:1343] - WARNING: EPOCH - 9 : supplied example count (0) did not equal expected count (4941)\n",
      "[2020-09-26 18:27:21] - base_any2vec.py[line:1348] - WARNING: EPOCH - 9 : supplied raw word count (0) did not equal expected count (1446773)\n",
      "[2020-09-26 18:27:21] - base_any2vec.py[line:1332] - INFO: EPOCH - 10 : training on 0 raw words (0 effective words) took 0.0s, 0 effective words/s\n",
      "[2020-09-26 18:27:21] - base_any2vec.py[line:1343] - WARNING: EPOCH - 10 : supplied example count (0) did not equal expected count (4941)\n",
      "[2020-09-26 18:27:21] - base_any2vec.py[line:1348] - WARNING: EPOCH - 10 : supplied raw word count (0) did not equal expected count (1446773)\n",
      "[2020-09-26 18:27:21] - base_any2vec.py[line:1368] - INFO: training on a 0 raw words (0 effective words) took 1.6s, 0 effective words/s\n",
      "[2020-09-26 18:27:21] - utils.py[line:551] - INFO: saving Word2Vec object under adv_userseq_task_id_residence_word2vec.model, separately None\n",
      "[2020-09-26 18:27:21] - utils.py[line:657] - INFO: not storing attribute vectors_norm\n",
      "[2020-09-26 18:27:21] - utils.py[line:657] - INFO: not storing attribute cum_table\n",
      "[2020-09-26 18:27:21] - utils.py[line:565] - INFO: saved adv_userseq_task_id_residence_word2vec.model\n",
      "[2020-09-26 18:27:21] - utils.py[line:551] - INFO: saving Word2VecKeyedVectors object under adv_userseq_task_id_residence_word2vec.kv, separately None\n",
      "[2020-09-26 18:27:21] - utils.py[line:657] - INFO: not storing attribute vectors_norm\n"
     ]
    },
    {
     "name": "stdout",
     "output_type": "stream",
     "text": [
      "save start\n"
     ]
    },
    {
     "name": "stderr",
     "output_type": "stream",
     "text": [
      "[2020-09-26 18:27:21] - utils.py[line:565] - INFO: saved adv_userseq_task_id_residence_word2vec.kv\n",
      "[2020-09-26 18:27:21] - word2vec.py[line:1399] - INFO: collecting all words and their counts\n",
      "[2020-09-26 18:27:21] - word2vec.py[line:1384] - INFO: PROGRESS: at sentence #0, processed 0 words, keeping 0 word types\n"
     ]
    },
    {
     "name": "stdout",
     "output_type": "stream",
     "text": [
      "Done\n",
      "LineSentence start\n",
      "Word2Vec start\n"
     ]
    },
    {
     "name": "stderr",
     "output_type": "stream",
     "text": [
      "[2020-09-26 18:27:22] - word2vec.py[line:1407] - INFO: collected 9 word types from a corpus of 1447271 raw words and 5965 sentences\n",
      "[2020-09-26 18:27:22] - word2vec.py[line:1458] - INFO: Loading a fresh vocabulary\n",
      "[2020-09-26 18:27:22] - word2vec.py[line:1482] - INFO: effective_min_count=1 retains 9 unique words (100% of original 9, drops 0)\n",
      "[2020-09-26 18:27:22] - word2vec.py[line:1488] - INFO: effective_min_count=1 leaves 1447271 word corpus (100% of original 1447271, drops 0)\n",
      "[2020-09-26 18:27:22] - word2vec.py[line:1547] - INFO: deleting the raw counts dictionary of 9 items\n",
      "[2020-09-26 18:27:22] - word2vec.py[line:1550] - INFO: sample=0.001 downsamples 8 most-common words\n",
      "[2020-09-26 18:27:22] - word2vec.py[line:1553] - INFO: downsampling leaves estimated 130490 word corpus (9.0% of prior 1447271)\n",
      "[2020-09-26 18:27:22] - word2vec.py[line:1648] - INFO: constructing a huffman tree from 9 words\n",
      "[2020-09-26 18:27:22] - word2vec.py[line:1673] - INFO: built huffman tree with maximum node depth 6\n",
      "[2020-09-26 18:27:22] - base_any2vec.py[line:1008] - INFO: estimated required memory for 9 words and 64 dimensions: 13212 bytes\n",
      "[2020-09-26 18:27:22] - word2vec.py[line:1699] - INFO: resetting layer weights\n",
      "[2020-09-26 18:27:22] - base_any2vec.py[line:1196] - INFO: training model with -1 workers on 9 vocabulary and 64 features, using sg=0 hs=1 sample=0.001 negative=5 window=10000\n",
      "[2020-09-26 18:27:22] - base_any2vec.py[line:1332] - INFO: EPOCH - 1 : training on 0 raw words (0 effective words) took 0.0s, 0 effective words/s\n",
      "[2020-09-26 18:27:22] - base_any2vec.py[line:1343] - WARNING: EPOCH - 1 : supplied example count (0) did not equal expected count (5965)\n",
      "[2020-09-26 18:27:22] - base_any2vec.py[line:1348] - WARNING: EPOCH - 1 : supplied raw word count (0) did not equal expected count (1447271)\n",
      "[2020-09-26 18:27:22] - base_any2vec.py[line:1332] - INFO: EPOCH - 2 : training on 0 raw words (0 effective words) took 0.0s, 0 effective words/s\n",
      "[2020-09-26 18:27:22] - base_any2vec.py[line:1343] - WARNING: EPOCH - 2 : supplied example count (0) did not equal expected count (5965)\n",
      "[2020-09-26 18:27:22] - base_any2vec.py[line:1348] - WARNING: EPOCH - 2 : supplied raw word count (0) did not equal expected count (1447271)\n",
      "[2020-09-26 18:27:22] - base_any2vec.py[line:1332] - INFO: EPOCH - 3 : training on 0 raw words (0 effective words) took 0.0s, 0 effective words/s\n",
      "[2020-09-26 18:27:22] - base_any2vec.py[line:1343] - WARNING: EPOCH - 3 : supplied example count (0) did not equal expected count (5965)\n",
      "[2020-09-26 18:27:22] - base_any2vec.py[line:1348] - WARNING: EPOCH - 3 : supplied raw word count (0) did not equal expected count (1447271)\n",
      "[2020-09-26 18:27:22] - base_any2vec.py[line:1332] - INFO: EPOCH - 4 : training on 0 raw words (0 effective words) took 0.0s, 0 effective words/s\n",
      "[2020-09-26 18:27:22] - base_any2vec.py[line:1343] - WARNING: EPOCH - 4 : supplied example count (0) did not equal expected count (5965)\n",
      "[2020-09-26 18:27:22] - base_any2vec.py[line:1348] - WARNING: EPOCH - 4 : supplied raw word count (0) did not equal expected count (1447271)\n",
      "[2020-09-26 18:27:22] - base_any2vec.py[line:1332] - INFO: EPOCH - 5 : training on 0 raw words (0 effective words) took 0.0s, 0 effective words/s\n",
      "[2020-09-26 18:27:22] - base_any2vec.py[line:1343] - WARNING: EPOCH - 5 : supplied example count (0) did not equal expected count (5965)\n",
      "[2020-09-26 18:27:22] - base_any2vec.py[line:1348] - WARNING: EPOCH - 5 : supplied raw word count (0) did not equal expected count (1447271)\n",
      "[2020-09-26 18:27:22] - base_any2vec.py[line:1332] - INFO: EPOCH - 6 : training on 0 raw words (0 effective words) took 0.0s, 0 effective words/s\n",
      "[2020-09-26 18:27:22] - base_any2vec.py[line:1343] - WARNING: EPOCH - 6 : supplied example count (0) did not equal expected count (5965)\n",
      "[2020-09-26 18:27:22] - base_any2vec.py[line:1348] - WARNING: EPOCH - 6 : supplied raw word count (0) did not equal expected count (1447271)\n",
      "[2020-09-26 18:27:22] - base_any2vec.py[line:1332] - INFO: EPOCH - 7 : training on 0 raw words (0 effective words) took 0.0s, 0 effective words/s\n",
      "[2020-09-26 18:27:22] - base_any2vec.py[line:1343] - WARNING: EPOCH - 7 : supplied example count (0) did not equal expected count (5965)\n",
      "[2020-09-26 18:27:22] - base_any2vec.py[line:1348] - WARNING: EPOCH - 7 : supplied raw word count (0) did not equal expected count (1447271)\n",
      "[2020-09-26 18:27:22] - base_any2vec.py[line:1332] - INFO: EPOCH - 8 : training on 0 raw words (0 effective words) took 0.0s, 0 effective words/s\n",
      "[2020-09-26 18:27:22] - base_any2vec.py[line:1343] - WARNING: EPOCH - 8 : supplied example count (0) did not equal expected count (5965)\n",
      "[2020-09-26 18:27:22] - base_any2vec.py[line:1348] - WARNING: EPOCH - 8 : supplied raw word count (0) did not equal expected count (1447271)\n",
      "[2020-09-26 18:27:22] - base_any2vec.py[line:1332] - INFO: EPOCH - 9 : training on 0 raw words (0 effective words) took 0.0s, 0 effective words/s\n",
      "[2020-09-26 18:27:22] - base_any2vec.py[line:1343] - WARNING: EPOCH - 9 : supplied example count (0) did not equal expected count (5965)\n",
      "[2020-09-26 18:27:22] - base_any2vec.py[line:1348] - WARNING: EPOCH - 9 : supplied raw word count (0) did not equal expected count (1447271)\n",
      "[2020-09-26 18:27:22] - base_any2vec.py[line:1332] - INFO: EPOCH - 10 : training on 0 raw words (0 effective words) took 0.0s, 0 effective words/s\n",
      "[2020-09-26 18:27:22] - base_any2vec.py[line:1343] - WARNING: EPOCH - 10 : supplied example count (0) did not equal expected count (5965)\n",
      "[2020-09-26 18:27:22] - base_any2vec.py[line:1348] - WARNING: EPOCH - 10 : supplied raw word count (0) did not equal expected count (1447271)\n",
      "[2020-09-26 18:27:22] - base_any2vec.py[line:1368] - INFO: training on a 0 raw words (0 effective words) took 0.7s, 0 effective words/s\n",
      "[2020-09-26 18:27:22] - utils.py[line:551] - INFO: saving Word2Vec object under adv_userseq_adv_id_age_word2vec.model, separately None\n",
      "[2020-09-26 18:27:22] - utils.py[line:657] - INFO: not storing attribute vectors_norm\n",
      "[2020-09-26 18:27:22] - utils.py[line:657] - INFO: not storing attribute cum_table\n",
      "[2020-09-26 18:27:23] - utils.py[line:565] - INFO: saved adv_userseq_adv_id_age_word2vec.model\n",
      "[2020-09-26 18:27:23] - utils.py[line:551] - INFO: saving Word2VecKeyedVectors object under adv_userseq_adv_id_age_word2vec.kv, separately None\n",
      "[2020-09-26 18:27:23] - utils.py[line:657] - INFO: not storing attribute vectors_norm\n",
      "[2020-09-26 18:27:23] - utils.py[line:565] - INFO: saved adv_userseq_adv_id_age_word2vec.kv\n",
      "[2020-09-26 18:27:23] - word2vec.py[line:1399] - INFO: collecting all words and their counts\n",
      "[2020-09-26 18:27:23] - word2vec.py[line:1384] - INFO: PROGRESS: at sentence #0, processed 0 words, keeping 0 word types\n"
     ]
    },
    {
     "name": "stdout",
     "output_type": "stream",
     "text": [
      "save start\n",
      "Done\n",
      "LineSentence start\n",
      "Word2Vec start\n"
     ]
    },
    {
     "name": "stderr",
     "output_type": "stream",
     "text": [
      "[2020-09-26 18:27:23] - word2vec.py[line:1407] - INFO: collected 345 word types from a corpus of 1447271 raw words and 5965 sentences\n",
      "[2020-09-26 18:27:23] - word2vec.py[line:1458] - INFO: Loading a fresh vocabulary\n",
      "[2020-09-26 18:27:23] - word2vec.py[line:1482] - INFO: effective_min_count=1 retains 345 unique words (100% of original 345, drops 0)\n",
      "[2020-09-26 18:27:23] - word2vec.py[line:1488] - INFO: effective_min_count=1 leaves 1447271 word corpus (100% of original 1447271, drops 0)\n",
      "[2020-09-26 18:27:23] - word2vec.py[line:1547] - INFO: deleting the raw counts dictionary of 345 items\n",
      "[2020-09-26 18:27:23] - word2vec.py[line:1550] - INFO: sample=0.001 downsamples 98 most-common words\n",
      "[2020-09-26 18:27:23] - word2vec.py[line:1553] - INFO: downsampling leaves estimated 913527 word corpus (63.1% of prior 1447271)\n",
      "[2020-09-26 18:27:23] - word2vec.py[line:1648] - INFO: constructing a huffman tree from 345 words\n",
      "[2020-09-26 18:27:23] - word2vec.py[line:1673] - INFO: built huffman tree with maximum node depth 17\n",
      "[2020-09-26 18:27:23] - base_any2vec.py[line:1008] - INFO: estimated required memory for 345 words and 64 dimensions: 506460 bytes\n",
      "[2020-09-26 18:27:23] - word2vec.py[line:1699] - INFO: resetting layer weights\n",
      "[2020-09-26 18:27:23] - base_any2vec.py[line:1196] - INFO: training model with -1 workers on 345 vocabulary and 64 features, using sg=0 hs=1 sample=0.001 negative=5 window=10000\n",
      "[2020-09-26 18:27:23] - base_any2vec.py[line:1332] - INFO: EPOCH - 1 : training on 0 raw words (0 effective words) took 0.0s, 0 effective words/s\n",
      "[2020-09-26 18:27:23] - base_any2vec.py[line:1343] - WARNING: EPOCH - 1 : supplied example count (0) did not equal expected count (5965)\n",
      "[2020-09-26 18:27:23] - base_any2vec.py[line:1348] - WARNING: EPOCH - 1 : supplied raw word count (0) did not equal expected count (1447271)\n",
      "[2020-09-26 18:27:23] - base_any2vec.py[line:1332] - INFO: EPOCH - 2 : training on 0 raw words (0 effective words) took 0.0s, 0 effective words/s\n",
      "[2020-09-26 18:27:23] - base_any2vec.py[line:1343] - WARNING: EPOCH - 2 : supplied example count (0) did not equal expected count (5965)\n",
      "[2020-09-26 18:27:23] - base_any2vec.py[line:1348] - WARNING: EPOCH - 2 : supplied raw word count (0) did not equal expected count (1447271)\n",
      "[2020-09-26 18:27:23] - base_any2vec.py[line:1332] - INFO: EPOCH - 3 : training on 0 raw words (0 effective words) took 0.0s, 0 effective words/s\n",
      "[2020-09-26 18:27:23] - base_any2vec.py[line:1343] - WARNING: EPOCH - 3 : supplied example count (0) did not equal expected count (5965)\n",
      "[2020-09-26 18:27:23] - base_any2vec.py[line:1348] - WARNING: EPOCH - 3 : supplied raw word count (0) did not equal expected count (1447271)\n",
      "[2020-09-26 18:27:23] - base_any2vec.py[line:1332] - INFO: EPOCH - 4 : training on 0 raw words (0 effective words) took 0.0s, 0 effective words/s\n",
      "[2020-09-26 18:27:23] - base_any2vec.py[line:1343] - WARNING: EPOCH - 4 : supplied example count (0) did not equal expected count (5965)\n",
      "[2020-09-26 18:27:23] - base_any2vec.py[line:1348] - WARNING: EPOCH - 4 : supplied raw word count (0) did not equal expected count (1447271)\n",
      "[2020-09-26 18:27:23] - base_any2vec.py[line:1332] - INFO: EPOCH - 5 : training on 0 raw words (0 effective words) took 0.0s, 0 effective words/s\n",
      "[2020-09-26 18:27:23] - base_any2vec.py[line:1343] - WARNING: EPOCH - 5 : supplied example count (0) did not equal expected count (5965)\n",
      "[2020-09-26 18:27:23] - base_any2vec.py[line:1348] - WARNING: EPOCH - 5 : supplied raw word count (0) did not equal expected count (1447271)\n",
      "[2020-09-26 18:27:23] - base_any2vec.py[line:1332] - INFO: EPOCH - 6 : training on 0 raw words (0 effective words) took 0.0s, 0 effective words/s\n",
      "[2020-09-26 18:27:23] - base_any2vec.py[line:1343] - WARNING: EPOCH - 6 : supplied example count (0) did not equal expected count (5965)\n",
      "[2020-09-26 18:27:24] - base_any2vec.py[line:1348] - WARNING: EPOCH - 6 : supplied raw word count (0) did not equal expected count (1447271)\n",
      "[2020-09-26 18:27:24] - base_any2vec.py[line:1332] - INFO: EPOCH - 7 : training on 0 raw words (0 effective words) took 0.0s, 0 effective words/s\n",
      "[2020-09-26 18:27:24] - base_any2vec.py[line:1343] - WARNING: EPOCH - 7 : supplied example count (0) did not equal expected count (5965)\n",
      "[2020-09-26 18:27:24] - base_any2vec.py[line:1348] - WARNING: EPOCH - 7 : supplied raw word count (0) did not equal expected count (1447271)\n",
      "[2020-09-26 18:27:24] - base_any2vec.py[line:1332] - INFO: EPOCH - 8 : training on 0 raw words (0 effective words) took 0.0s, 0 effective words/s\n",
      "[2020-09-26 18:27:24] - base_any2vec.py[line:1343] - WARNING: EPOCH - 8 : supplied example count (0) did not equal expected count (5965)\n",
      "[2020-09-26 18:27:24] - base_any2vec.py[line:1348] - WARNING: EPOCH - 8 : supplied raw word count (0) did not equal expected count (1447271)\n",
      "[2020-09-26 18:27:24] - base_any2vec.py[line:1332] - INFO: EPOCH - 9 : training on 0 raw words (0 effective words) took 0.0s, 0 effective words/s\n",
      "[2020-09-26 18:27:24] - base_any2vec.py[line:1343] - WARNING: EPOCH - 9 : supplied example count (0) did not equal expected count (5965)\n",
      "[2020-09-26 18:27:24] - base_any2vec.py[line:1348] - WARNING: EPOCH - 9 : supplied raw word count (0) did not equal expected count (1447271)\n",
      "[2020-09-26 18:27:24] - base_any2vec.py[line:1332] - INFO: EPOCH - 10 : training on 0 raw words (0 effective words) took 0.0s, 0 effective words/s\n",
      "[2020-09-26 18:27:24] - base_any2vec.py[line:1343] - WARNING: EPOCH - 10 : supplied example count (0) did not equal expected count (5965)\n",
      "[2020-09-26 18:27:25] - base_any2vec.py[line:1348] - WARNING: EPOCH - 10 : supplied raw word count (0) did not equal expected count (1447271)\n",
      "[2020-09-26 18:27:25] - base_any2vec.py[line:1368] - INFO: training on a 0 raw words (0 effective words) took 1.8s, 0 effective words/s\n",
      "[2020-09-26 18:27:25] - utils.py[line:551] - INFO: saving Word2Vec object under adv_userseq_adv_id_city_word2vec.model, separately None\n",
      "[2020-09-26 18:27:25] - utils.py[line:657] - INFO: not storing attribute vectors_norm\n",
      "[2020-09-26 18:27:25] - utils.py[line:657] - INFO: not storing attribute cum_table\n",
      "[2020-09-26 18:27:25] - utils.py[line:565] - INFO: saved adv_userseq_adv_id_city_word2vec.model\n",
      "[2020-09-26 18:27:25] - utils.py[line:551] - INFO: saving Word2VecKeyedVectors object under adv_userseq_adv_id_city_word2vec.kv, separately None\n",
      "[2020-09-26 18:27:25] - utils.py[line:657] - INFO: not storing attribute vectors_norm\n",
      "[2020-09-26 18:27:25] - utils.py[line:565] - INFO: saved adv_userseq_adv_id_city_word2vec.kv\n",
      "[2020-09-26 18:27:25] - word2vec.py[line:1399] - INFO: collecting all words and their counts\n",
      "[2020-09-26 18:27:25] - word2vec.py[line:1384] - INFO: PROGRESS: at sentence #0, processed 0 words, keeping 0 word types\n"
     ]
    },
    {
     "name": "stdout",
     "output_type": "stream",
     "text": [
      "save start\n",
      "Done\n",
      "LineSentence start\n",
      "Word2Vec start\n"
     ]
    },
    {
     "name": "stderr",
     "output_type": "stream",
     "text": [
      "[2020-09-26 18:27:25] - word2vec.py[line:1407] - INFO: collected 5 word types from a corpus of 1447271 raw words and 5965 sentences\n",
      "[2020-09-26 18:27:25] - word2vec.py[line:1458] - INFO: Loading a fresh vocabulary\n",
      "[2020-09-26 18:27:25] - word2vec.py[line:1482] - INFO: effective_min_count=1 retains 5 unique words (100% of original 5, drops 0)\n",
      "[2020-09-26 18:27:25] - word2vec.py[line:1488] - INFO: effective_min_count=1 leaves 1447271 word corpus (100% of original 1447271, drops 0)\n",
      "[2020-09-26 18:27:25] - word2vec.py[line:1547] - INFO: deleting the raw counts dictionary of 5 items\n",
      "[2020-09-26 18:27:25] - word2vec.py[line:1550] - INFO: sample=0.001 downsamples 4 most-common words\n",
      "[2020-09-26 18:27:25] - word2vec.py[line:1553] - INFO: downsampling leaves estimated 90814 word corpus (6.3% of prior 1447271)\n",
      "[2020-09-26 18:27:25] - word2vec.py[line:1648] - INFO: constructing a huffman tree from 5 words\n",
      "[2020-09-26 18:27:25] - word2vec.py[line:1673] - INFO: built huffman tree with maximum node depth 4\n",
      "[2020-09-26 18:27:25] - base_any2vec.py[line:1008] - INFO: estimated required memory for 5 words and 64 dimensions: 7340 bytes\n",
      "[2020-09-26 18:27:25] - word2vec.py[line:1699] - INFO: resetting layer weights\n",
      "[2020-09-26 18:27:25] - base_any2vec.py[line:1196] - INFO: training model with -1 workers on 5 vocabulary and 64 features, using sg=0 hs=1 sample=0.001 negative=5 window=10000\n",
      "[2020-09-26 18:27:25] - base_any2vec.py[line:1332] - INFO: EPOCH - 1 : training on 0 raw words (0 effective words) took 0.0s, 0 effective words/s\n",
      "[2020-09-26 18:27:25] - base_any2vec.py[line:1343] - WARNING: EPOCH - 1 : supplied example count (0) did not equal expected count (5965)\n",
      "[2020-09-26 18:27:25] - base_any2vec.py[line:1348] - WARNING: EPOCH - 1 : supplied raw word count (0) did not equal expected count (1447271)\n",
      "[2020-09-26 18:27:25] - base_any2vec.py[line:1332] - INFO: EPOCH - 2 : training on 0 raw words (0 effective words) took 0.0s, 0 effective words/s\n",
      "[2020-09-26 18:27:25] - base_any2vec.py[line:1343] - WARNING: EPOCH - 2 : supplied example count (0) did not equal expected count (5965)\n",
      "[2020-09-26 18:27:25] - base_any2vec.py[line:1348] - WARNING: EPOCH - 2 : supplied raw word count (0) did not equal expected count (1447271)\n",
      "[2020-09-26 18:27:25] - base_any2vec.py[line:1332] - INFO: EPOCH - 3 : training on 0 raw words (0 effective words) took 0.0s, 0 effective words/s\n",
      "[2020-09-26 18:27:25] - base_any2vec.py[line:1343] - WARNING: EPOCH - 3 : supplied example count (0) did not equal expected count (5965)\n",
      "[2020-09-26 18:27:25] - base_any2vec.py[line:1348] - WARNING: EPOCH - 3 : supplied raw word count (0) did not equal expected count (1447271)\n",
      "[2020-09-26 18:27:25] - base_any2vec.py[line:1332] - INFO: EPOCH - 4 : training on 0 raw words (0 effective words) took 0.0s, 0 effective words/s\n",
      "[2020-09-26 18:27:25] - base_any2vec.py[line:1343] - WARNING: EPOCH - 4 : supplied example count (0) did not equal expected count (5965)\n",
      "[2020-09-26 18:27:26] - base_any2vec.py[line:1348] - WARNING: EPOCH - 4 : supplied raw word count (0) did not equal expected count (1447271)\n",
      "[2020-09-26 18:27:26] - base_any2vec.py[line:1332] - INFO: EPOCH - 5 : training on 0 raw words (0 effective words) took 0.0s, 0 effective words/s\n",
      "[2020-09-26 18:27:26] - base_any2vec.py[line:1343] - WARNING: EPOCH - 5 : supplied example count (0) did not equal expected count (5965)\n",
      "[2020-09-26 18:27:26] - base_any2vec.py[line:1348] - WARNING: EPOCH - 5 : supplied raw word count (0) did not equal expected count (1447271)\n",
      "[2020-09-26 18:27:26] - base_any2vec.py[line:1332] - INFO: EPOCH - 6 : training on 0 raw words (0 effective words) took 0.0s, 0 effective words/s\n",
      "[2020-09-26 18:27:26] - base_any2vec.py[line:1343] - WARNING: EPOCH - 6 : supplied example count (0) did not equal expected count (5965)\n",
      "[2020-09-26 18:27:26] - base_any2vec.py[line:1348] - WARNING: EPOCH - 6 : supplied raw word count (0) did not equal expected count (1447271)\n",
      "[2020-09-26 18:27:26] - base_any2vec.py[line:1332] - INFO: EPOCH - 7 : training on 0 raw words (0 effective words) took 0.0s, 0 effective words/s\n",
      "[2020-09-26 18:27:26] - base_any2vec.py[line:1343] - WARNING: EPOCH - 7 : supplied example count (0) did not equal expected count (5965)\n",
      "[2020-09-26 18:27:26] - base_any2vec.py[line:1348] - WARNING: EPOCH - 7 : supplied raw word count (0) did not equal expected count (1447271)\n",
      "[2020-09-26 18:27:26] - base_any2vec.py[line:1332] - INFO: EPOCH - 8 : training on 0 raw words (0 effective words) took 0.0s, 0 effective words/s\n",
      "[2020-09-26 18:27:26] - base_any2vec.py[line:1343] - WARNING: EPOCH - 8 : supplied example count (0) did not equal expected count (5965)\n",
      "[2020-09-26 18:27:26] - base_any2vec.py[line:1348] - WARNING: EPOCH - 8 : supplied raw word count (0) did not equal expected count (1447271)\n",
      "[2020-09-26 18:27:26] - base_any2vec.py[line:1332] - INFO: EPOCH - 9 : training on 0 raw words (0 effective words) took 0.0s, 0 effective words/s\n",
      "[2020-09-26 18:27:26] - base_any2vec.py[line:1343] - WARNING: EPOCH - 9 : supplied example count (0) did not equal expected count (5965)\n",
      "[2020-09-26 18:27:26] - base_any2vec.py[line:1348] - WARNING: EPOCH - 9 : supplied raw word count (0) did not equal expected count (1447271)\n",
      "[2020-09-26 18:27:26] - base_any2vec.py[line:1332] - INFO: EPOCH - 10 : training on 0 raw words (0 effective words) took 0.0s, 0 effective words/s\n",
      "[2020-09-26 18:27:26] - base_any2vec.py[line:1343] - WARNING: EPOCH - 10 : supplied example count (0) did not equal expected count (5965)\n",
      "[2020-09-26 18:27:26] - base_any2vec.py[line:1348] - WARNING: EPOCH - 10 : supplied raw word count (0) did not equal expected count (1447271)\n",
      "[2020-09-26 18:27:26] - base_any2vec.py[line:1368] - INFO: training on a 0 raw words (0 effective words) took 0.8s, 0 effective words/s\n",
      "[2020-09-26 18:27:26] - utils.py[line:551] - INFO: saving Word2Vec object under adv_userseq_adv_id_city_rank_word2vec.model, separately None\n",
      "[2020-09-26 18:27:26] - utils.py[line:657] - INFO: not storing attribute vectors_norm\n",
      "[2020-09-26 18:27:26] - utils.py[line:657] - INFO: not storing attribute cum_table\n",
      "[2020-09-26 18:27:26] - utils.py[line:565] - INFO: saved adv_userseq_adv_id_city_rank_word2vec.model\n",
      "[2020-09-26 18:27:26] - utils.py[line:551] - INFO: saving Word2VecKeyedVectors object under adv_userseq_adv_id_city_rank_word2vec.kv, separately None\n",
      "[2020-09-26 18:27:26] - utils.py[line:657] - INFO: not storing attribute vectors_norm\n",
      "[2020-09-26 18:27:26] - utils.py[line:565] - INFO: saved adv_userseq_adv_id_city_rank_word2vec.kv\n",
      "[2020-09-26 18:27:26] - word2vec.py[line:1399] - INFO: collecting all words and their counts\n",
      "[2020-09-26 18:27:26] - word2vec.py[line:1384] - INFO: PROGRESS: at sentence #0, processed 0 words, keeping 0 word types\n"
     ]
    },
    {
     "name": "stdout",
     "output_type": "stream",
     "text": [
      "save start\n",
      "Done\n",
      "LineSentence start\n",
      "Word2Vec start\n"
     ]
    },
    {
     "name": "stderr",
     "output_type": "stream",
     "text": [
      "[2020-09-26 18:27:26] - word2vec.py[line:1407] - INFO: collected 91 word types from a corpus of 1447271 raw words and 5965 sentences\n",
      "[2020-09-26 18:27:26] - word2vec.py[line:1458] - INFO: Loading a fresh vocabulary\n",
      "[2020-09-26 18:27:26] - word2vec.py[line:1482] - INFO: effective_min_count=1 retains 91 unique words (100% of original 91, drops 0)\n",
      "[2020-09-26 18:27:26] - word2vec.py[line:1488] - INFO: effective_min_count=1 leaves 1447271 word corpus (100% of original 1447271, drops 0)\n",
      "[2020-09-26 18:27:26] - word2vec.py[line:1547] - INFO: deleting the raw counts dictionary of 91 items\n",
      "[2020-09-26 18:27:26] - word2vec.py[line:1550] - INFO: sample=0.001 downsamples 51 most-common words\n",
      "[2020-09-26 18:27:26] - word2vec.py[line:1553] - INFO: downsampling leaves estimated 405765 word corpus (28.0% of prior 1447271)\n",
      "[2020-09-26 18:27:26] - word2vec.py[line:1648] - INFO: constructing a huffman tree from 91 words\n",
      "[2020-09-26 18:27:26] - word2vec.py[line:1673] - INFO: built huffman tree with maximum node depth 20\n",
      "[2020-09-26 18:27:26] - base_any2vec.py[line:1008] - INFO: estimated required memory for 91 words and 64 dimensions: 133588 bytes\n",
      "[2020-09-26 18:27:26] - word2vec.py[line:1699] - INFO: resetting layer weights\n",
      "[2020-09-26 18:27:26] - base_any2vec.py[line:1196] - INFO: training model with -1 workers on 91 vocabulary and 64 features, using sg=0 hs=1 sample=0.001 negative=5 window=10000\n",
      "[2020-09-26 18:27:26] - base_any2vec.py[line:1332] - INFO: EPOCH - 1 : training on 0 raw words (0 effective words) took 0.0s, 0 effective words/s\n",
      "[2020-09-26 18:27:26] - base_any2vec.py[line:1343] - WARNING: EPOCH - 1 : supplied example count (0) did not equal expected count (5965)\n",
      "[2020-09-26 18:27:26] - base_any2vec.py[line:1348] - WARNING: EPOCH - 1 : supplied raw word count (0) did not equal expected count (1447271)\n",
      "[2020-09-26 18:27:26] - base_any2vec.py[line:1332] - INFO: EPOCH - 2 : training on 0 raw words (0 effective words) took 0.0s, 0 effective words/s\n",
      "[2020-09-26 18:27:26] - base_any2vec.py[line:1343] - WARNING: EPOCH - 2 : supplied example count (0) did not equal expected count (5965)\n",
      "[2020-09-26 18:27:26] - base_any2vec.py[line:1348] - WARNING: EPOCH - 2 : supplied raw word count (0) did not equal expected count (1447271)\n",
      "[2020-09-26 18:27:26] - base_any2vec.py[line:1332] - INFO: EPOCH - 3 : training on 0 raw words (0 effective words) took 0.0s, 0 effective words/s\n",
      "[2020-09-26 18:27:26] - base_any2vec.py[line:1343] - WARNING: EPOCH - 3 : supplied example count (0) did not equal expected count (5965)\n",
      "[2020-09-26 18:27:26] - base_any2vec.py[line:1348] - WARNING: EPOCH - 3 : supplied raw word count (0) did not equal expected count (1447271)\n",
      "[2020-09-26 18:27:26] - base_any2vec.py[line:1332] - INFO: EPOCH - 4 : training on 0 raw words (0 effective words) took 0.0s, 0 effective words/s\n",
      "[2020-09-26 18:27:27] - base_any2vec.py[line:1343] - WARNING: EPOCH - 4 : supplied example count (0) did not equal expected count (5965)\n",
      "[2020-09-26 18:27:27] - base_any2vec.py[line:1348] - WARNING: EPOCH - 4 : supplied raw word count (0) did not equal expected count (1447271)\n",
      "[2020-09-26 18:27:27] - base_any2vec.py[line:1332] - INFO: EPOCH - 5 : training on 0 raw words (0 effective words) took 0.0s, 0 effective words/s\n",
      "[2020-09-26 18:27:27] - base_any2vec.py[line:1343] - WARNING: EPOCH - 5 : supplied example count (0) did not equal expected count (5965)\n",
      "[2020-09-26 18:27:27] - base_any2vec.py[line:1348] - WARNING: EPOCH - 5 : supplied raw word count (0) did not equal expected count (1447271)\n",
      "[2020-09-26 18:27:27] - base_any2vec.py[line:1332] - INFO: EPOCH - 6 : training on 0 raw words (0 effective words) took 0.0s, 0 effective words/s\n",
      "[2020-09-26 18:27:27] - base_any2vec.py[line:1343] - WARNING: EPOCH - 6 : supplied example count (0) did not equal expected count (5965)\n",
      "[2020-09-26 18:27:27] - base_any2vec.py[line:1348] - WARNING: EPOCH - 6 : supplied raw word count (0) did not equal expected count (1447271)\n",
      "[2020-09-26 18:27:27] - base_any2vec.py[line:1332] - INFO: EPOCH - 7 : training on 0 raw words (0 effective words) took 0.0s, 0 effective words/s\n",
      "[2020-09-26 18:27:27] - base_any2vec.py[line:1343] - WARNING: EPOCH - 7 : supplied example count (0) did not equal expected count (5965)\n",
      "[2020-09-26 18:27:27] - base_any2vec.py[line:1348] - WARNING: EPOCH - 7 : supplied raw word count (0) did not equal expected count (1447271)\n",
      "[2020-09-26 18:27:27] - base_any2vec.py[line:1332] - INFO: EPOCH - 8 : training on 0 raw words (0 effective words) took 0.0s, 0 effective words/s\n",
      "[2020-09-26 18:27:27] - base_any2vec.py[line:1343] - WARNING: EPOCH - 8 : supplied example count (0) did not equal expected count (5965)\n",
      "[2020-09-26 18:27:27] - base_any2vec.py[line:1348] - WARNING: EPOCH - 8 : supplied raw word count (0) did not equal expected count (1447271)\n",
      "[2020-09-26 18:27:27] - base_any2vec.py[line:1332] - INFO: EPOCH - 9 : training on 0 raw words (0 effective words) took 0.0s, 0 effective words/s\n",
      "[2020-09-26 18:27:27] - base_any2vec.py[line:1343] - WARNING: EPOCH - 9 : supplied example count (0) did not equal expected count (5965)\n",
      "[2020-09-26 18:27:27] - base_any2vec.py[line:1348] - WARNING: EPOCH - 9 : supplied raw word count (0) did not equal expected count (1447271)\n",
      "[2020-09-26 18:27:28] - base_any2vec.py[line:1332] - INFO: EPOCH - 10 : training on 0 raw words (0 effective words) took 0.0s, 0 effective words/s\n",
      "[2020-09-26 18:27:28] - base_any2vec.py[line:1343] - WARNING: EPOCH - 10 : supplied example count (0) did not equal expected count (5965)\n",
      "[2020-09-26 18:27:28] - base_any2vec.py[line:1348] - WARNING: EPOCH - 10 : supplied raw word count (0) did not equal expected count (1447271)\n",
      "[2020-09-26 18:27:28] - base_any2vec.py[line:1368] - INFO: training on a 0 raw words (0 effective words) took 1.4s, 0 effective words/s\n",
      "[2020-09-26 18:27:28] - utils.py[line:551] - INFO: saving Word2Vec object under adv_userseq_adv_id_device_name_word2vec.model, separately None\n",
      "[2020-09-26 18:27:28] - utils.py[line:657] - INFO: not storing attribute vectors_norm\n",
      "[2020-09-26 18:27:28] - utils.py[line:657] - INFO: not storing attribute cum_table\n",
      "[2020-09-26 18:27:28] - utils.py[line:565] - INFO: saved adv_userseq_adv_id_device_name_word2vec.model\n"
     ]
    },
    {
     "name": "stdout",
     "output_type": "stream",
     "text": [
      "save start\n"
     ]
    },
    {
     "name": "stderr",
     "output_type": "stream",
     "text": [
      "[2020-09-26 18:27:28] - utils.py[line:551] - INFO: saving Word2VecKeyedVectors object under adv_userseq_adv_id_device_name_word2vec.kv, separately None\n",
      "[2020-09-26 18:27:28] - utils.py[line:657] - INFO: not storing attribute vectors_norm\n",
      "[2020-09-26 18:27:28] - utils.py[line:565] - INFO: saved adv_userseq_adv_id_device_name_word2vec.kv\n",
      "[2020-09-26 18:27:28] - word2vec.py[line:1399] - INFO: collecting all words and their counts\n",
      "[2020-09-26 18:27:28] - word2vec.py[line:1384] - INFO: PROGRESS: at sentence #0, processed 0 words, keeping 0 word types\n"
     ]
    },
    {
     "name": "stdout",
     "output_type": "stream",
     "text": [
      "Done\n",
      "LineSentence start\n",
      "Word2Vec start\n"
     ]
    },
    {
     "name": "stderr",
     "output_type": "stream",
     "text": [
      "[2020-09-26 18:27:29] - word2vec.py[line:1407] - INFO: collected 10 word types from a corpus of 1447271 raw words and 5965 sentences\n",
      "[2020-09-26 18:27:29] - word2vec.py[line:1458] - INFO: Loading a fresh vocabulary\n",
      "[2020-09-26 18:27:29] - word2vec.py[line:1482] - INFO: effective_min_count=1 retains 10 unique words (100% of original 10, drops 0)\n",
      "[2020-09-26 18:27:29] - word2vec.py[line:1488] - INFO: effective_min_count=1 leaves 1447271 word corpus (100% of original 1447271, drops 0)\n",
      "[2020-09-26 18:27:29] - word2vec.py[line:1547] - INFO: deleting the raw counts dictionary of 10 items\n",
      "[2020-09-26 18:27:29] - word2vec.py[line:1550] - INFO: sample=0.001 downsamples 8 most-common words\n",
      "[2020-09-26 18:27:29] - word2vec.py[line:1553] - INFO: downsampling leaves estimated 117806 word corpus (8.1% of prior 1447271)\n",
      "[2020-09-26 18:27:29] - word2vec.py[line:1648] - INFO: constructing a huffman tree from 10 words\n",
      "[2020-09-26 18:27:29] - word2vec.py[line:1673] - INFO: built huffman tree with maximum node depth 7\n",
      "[2020-09-26 18:27:29] - base_any2vec.py[line:1008] - INFO: estimated required memory for 10 words and 64 dimensions: 14680 bytes\n",
      "[2020-09-26 18:27:29] - word2vec.py[line:1699] - INFO: resetting layer weights\n",
      "[2020-09-26 18:27:29] - base_any2vec.py[line:1196] - INFO: training model with -1 workers on 10 vocabulary and 64 features, using sg=0 hs=1 sample=0.001 negative=5 window=10000\n",
      "[2020-09-26 18:27:29] - base_any2vec.py[line:1332] - INFO: EPOCH - 1 : training on 0 raw words (0 effective words) took 0.0s, 0 effective words/s\n",
      "[2020-09-26 18:27:29] - base_any2vec.py[line:1343] - WARNING: EPOCH - 1 : supplied example count (0) did not equal expected count (5965)\n",
      "[2020-09-26 18:27:29] - base_any2vec.py[line:1348] - WARNING: EPOCH - 1 : supplied raw word count (0) did not equal expected count (1447271)\n",
      "[2020-09-26 18:27:29] - base_any2vec.py[line:1332] - INFO: EPOCH - 2 : training on 0 raw words (0 effective words) took 0.0s, 0 effective words/s\n",
      "[2020-09-26 18:27:29] - base_any2vec.py[line:1343] - WARNING: EPOCH - 2 : supplied example count (0) did not equal expected count (5965)\n",
      "[2020-09-26 18:27:29] - base_any2vec.py[line:1348] - WARNING: EPOCH - 2 : supplied raw word count (0) did not equal expected count (1447271)\n",
      "[2020-09-26 18:27:29] - base_any2vec.py[line:1332] - INFO: EPOCH - 3 : training on 0 raw words (0 effective words) took 0.0s, 0 effective words/s\n",
      "[2020-09-26 18:27:29] - base_any2vec.py[line:1343] - WARNING: EPOCH - 3 : supplied example count (0) did not equal expected count (5965)\n",
      "[2020-09-26 18:27:29] - base_any2vec.py[line:1348] - WARNING: EPOCH - 3 : supplied raw word count (0) did not equal expected count (1447271)\n",
      "[2020-09-26 18:27:29] - base_any2vec.py[line:1332] - INFO: EPOCH - 4 : training on 0 raw words (0 effective words) took 0.0s, 0 effective words/s\n",
      "[2020-09-26 18:27:29] - base_any2vec.py[line:1343] - WARNING: EPOCH - 4 : supplied example count (0) did not equal expected count (5965)\n",
      "[2020-09-26 18:27:29] - base_any2vec.py[line:1348] - WARNING: EPOCH - 4 : supplied raw word count (0) did not equal expected count (1447271)\n",
      "[2020-09-26 18:27:29] - base_any2vec.py[line:1332] - INFO: EPOCH - 5 : training on 0 raw words (0 effective words) took 0.0s, 0 effective words/s\n",
      "[2020-09-26 18:27:29] - base_any2vec.py[line:1343] - WARNING: EPOCH - 5 : supplied example count (0) did not equal expected count (5965)\n",
      "[2020-09-26 18:27:29] - base_any2vec.py[line:1348] - WARNING: EPOCH - 5 : supplied raw word count (0) did not equal expected count (1447271)\n",
      "[2020-09-26 18:27:29] - base_any2vec.py[line:1332] - INFO: EPOCH - 6 : training on 0 raw words (0 effective words) took 0.0s, 0 effective words/s\n",
      "[2020-09-26 18:27:29] - base_any2vec.py[line:1343] - WARNING: EPOCH - 6 : supplied example count (0) did not equal expected count (5965)\n",
      "[2020-09-26 18:27:29] - base_any2vec.py[line:1348] - WARNING: EPOCH - 6 : supplied raw word count (0) did not equal expected count (1447271)\n",
      "[2020-09-26 18:27:29] - base_any2vec.py[line:1332] - INFO: EPOCH - 7 : training on 0 raw words (0 effective words) took 0.0s, 0 effective words/s\n",
      "[2020-09-26 18:27:29] - base_any2vec.py[line:1343] - WARNING: EPOCH - 7 : supplied example count (0) did not equal expected count (5965)\n",
      "[2020-09-26 18:27:29] - base_any2vec.py[line:1348] - WARNING: EPOCH - 7 : supplied raw word count (0) did not equal expected count (1447271)\n",
      "[2020-09-26 18:27:29] - base_any2vec.py[line:1332] - INFO: EPOCH - 8 : training on 0 raw words (0 effective words) took 0.0s, 0 effective words/s\n",
      "[2020-09-26 18:27:29] - base_any2vec.py[line:1343] - WARNING: EPOCH - 8 : supplied example count (0) did not equal expected count (5965)\n",
      "[2020-09-26 18:27:29] - base_any2vec.py[line:1348] - WARNING: EPOCH - 8 : supplied raw word count (0) did not equal expected count (1447271)\n",
      "[2020-09-26 18:27:29] - base_any2vec.py[line:1332] - INFO: EPOCH - 9 : training on 0 raw words (0 effective words) took 0.0s, 0 effective words/s\n",
      "[2020-09-26 18:27:29] - base_any2vec.py[line:1343] - WARNING: EPOCH - 9 : supplied example count (0) did not equal expected count (5965)\n",
      "[2020-09-26 18:27:29] - base_any2vec.py[line:1348] - WARNING: EPOCH - 9 : supplied raw word count (0) did not equal expected count (1447271)\n",
      "[2020-09-26 18:27:29] - base_any2vec.py[line:1332] - INFO: EPOCH - 10 : training on 0 raw words (0 effective words) took 0.0s, 0 effective words/s\n",
      "[2020-09-26 18:27:29] - base_any2vec.py[line:1343] - WARNING: EPOCH - 10 : supplied example count (0) did not equal expected count (5965)\n",
      "[2020-09-26 18:27:29] - base_any2vec.py[line:1348] - WARNING: EPOCH - 10 : supplied raw word count (0) did not equal expected count (1447271)\n",
      "[2020-09-26 18:27:29] - base_any2vec.py[line:1368] - INFO: training on a 0 raw words (0 effective words) took 0.8s, 0 effective words/s\n",
      "[2020-09-26 18:27:29] - utils.py[line:551] - INFO: saving Word2Vec object under adv_userseq_adv_id_career_word2vec.model, separately None\n",
      "[2020-09-26 18:27:29] - utils.py[line:657] - INFO: not storing attribute vectors_norm\n",
      "[2020-09-26 18:27:29] - utils.py[line:657] - INFO: not storing attribute cum_table\n",
      "[2020-09-26 18:27:29] - utils.py[line:565] - INFO: saved adv_userseq_adv_id_career_word2vec.model\n",
      "[2020-09-26 18:27:29] - utils.py[line:551] - INFO: saving Word2VecKeyedVectors object under adv_userseq_adv_id_career_word2vec.kv, separately None\n",
      "[2020-09-26 18:27:29] - utils.py[line:657] - INFO: not storing attribute vectors_norm\n",
      "[2020-09-26 18:27:29] - utils.py[line:565] - INFO: saved adv_userseq_adv_id_career_word2vec.kv\n",
      "[2020-09-26 18:27:29] - word2vec.py[line:1399] - INFO: collecting all words and their counts\n",
      "[2020-09-26 18:27:29] - word2vec.py[line:1384] - INFO: PROGRESS: at sentence #0, processed 0 words, keeping 0 word types\n",
      "[2020-09-26 18:27:30] - word2vec.py[line:1407] - INFO: collected 4 word types from a corpus of 1447271 raw words and 5965 sentences\n",
      "[2020-09-26 18:27:30] - word2vec.py[line:1458] - INFO: Loading a fresh vocabulary\n",
      "[2020-09-26 18:27:30] - word2vec.py[line:1482] - INFO: effective_min_count=1 retains 4 unique words (100% of original 4, drops 0)\n",
      "[2020-09-26 18:27:30] - word2vec.py[line:1488] - INFO: effective_min_count=1 leaves 1447271 word corpus (100% of original 1447271, drops 0)\n",
      "[2020-09-26 18:27:30] - word2vec.py[line:1547] - INFO: deleting the raw counts dictionary of 4 items\n",
      "[2020-09-26 18:27:30] - word2vec.py[line:1550] - INFO: sample=0.001 downsamples 3 most-common words\n",
      "[2020-09-26 18:27:30] - word2vec.py[line:1553] - INFO: downsampling leaves estimated 75086 word corpus (5.2% of prior 1447271)\n",
      "[2020-09-26 18:27:30] - word2vec.py[line:1648] - INFO: constructing a huffman tree from 4 words\n",
      "[2020-09-26 18:27:30] - word2vec.py[line:1673] - INFO: built huffman tree with maximum node depth 3\n",
      "[2020-09-26 18:27:30] - base_any2vec.py[line:1008] - INFO: estimated required memory for 4 words and 64 dimensions: 5872 bytes\n",
      "[2020-09-26 18:27:30] - word2vec.py[line:1699] - INFO: resetting layer weights\n",
      "[2020-09-26 18:27:30] - base_any2vec.py[line:1196] - INFO: training model with -1 workers on 4 vocabulary and 64 features, using sg=0 hs=1 sample=0.001 negative=5 window=10000\n",
      "[2020-09-26 18:27:30] - base_any2vec.py[line:1332] - INFO: EPOCH - 1 : training on 0 raw words (0 effective words) took 0.0s, 0 effective words/s\n"
     ]
    },
    {
     "name": "stderr",
     "output_type": "stream",
     "text": [
      "[2020-09-26 18:27:30] - base_any2vec.py[line:1343] - WARNING: EPOCH - 1 : supplied example count (0) did not equal expected count (5965)\n",
      "[2020-09-26 18:27:30] - base_any2vec.py[line:1348] - WARNING: EPOCH - 1 : supplied raw word count (0) did not equal expected count (1447271)\n",
      "[2020-09-26 18:27:30] - base_any2vec.py[line:1332] - INFO: EPOCH - 2 : training on 0 raw words (0 effective words) took 0.0s, 0 effective words/s\n",
      "[2020-09-26 18:27:30] - base_any2vec.py[line:1343] - WARNING: EPOCH - 2 : supplied example count (0) did not equal expected count (5965)\n",
      "[2020-09-26 18:27:30] - base_any2vec.py[line:1348] - WARNING: EPOCH - 2 : supplied raw word count (0) did not equal expected count (1447271)\n"
     ]
    },
    {
     "name": "stdout",
     "output_type": "stream",
     "text": [
      "save start\n",
      "Done\n",
      "LineSentence start\n",
      "Word2Vec start\n"
     ]
    },
    {
     "name": "stderr",
     "output_type": "stream",
     "text": [
      "[2020-09-26 18:27:30] - base_any2vec.py[line:1332] - INFO: EPOCH - 3 : training on 0 raw words (0 effective words) took 0.0s, 0 effective words/s\n",
      "[2020-09-26 18:27:30] - base_any2vec.py[line:1343] - WARNING: EPOCH - 3 : supplied example count (0) did not equal expected count (5965)\n",
      "[2020-09-26 18:27:30] - base_any2vec.py[line:1348] - WARNING: EPOCH - 3 : supplied raw word count (0) did not equal expected count (1447271)\n",
      "[2020-09-26 18:27:30] - base_any2vec.py[line:1332] - INFO: EPOCH - 4 : training on 0 raw words (0 effective words) took 0.0s, 0 effective words/s\n",
      "[2020-09-26 18:27:30] - base_any2vec.py[line:1343] - WARNING: EPOCH - 4 : supplied example count (0) did not equal expected count (5965)\n",
      "[2020-09-26 18:27:30] - base_any2vec.py[line:1348] - WARNING: EPOCH - 4 : supplied raw word count (0) did not equal expected count (1447271)\n",
      "[2020-09-26 18:27:30] - base_any2vec.py[line:1332] - INFO: EPOCH - 5 : training on 0 raw words (0 effective words) took 0.0s, 0 effective words/s\n",
      "[2020-09-26 18:27:30] - base_any2vec.py[line:1343] - WARNING: EPOCH - 5 : supplied example count (0) did not equal expected count (5965)\n",
      "[2020-09-26 18:27:30] - base_any2vec.py[line:1348] - WARNING: EPOCH - 5 : supplied raw word count (0) did not equal expected count (1447271)\n",
      "[2020-09-26 18:27:30] - base_any2vec.py[line:1332] - INFO: EPOCH - 6 : training on 0 raw words (0 effective words) took 0.0s, 0 effective words/s\n",
      "[2020-09-26 18:27:30] - base_any2vec.py[line:1343] - WARNING: EPOCH - 6 : supplied example count (0) did not equal expected count (5965)\n",
      "[2020-09-26 18:27:30] - base_any2vec.py[line:1348] - WARNING: EPOCH - 6 : supplied raw word count (0) did not equal expected count (1447271)\n",
      "[2020-09-26 18:27:30] - base_any2vec.py[line:1332] - INFO: EPOCH - 7 : training on 0 raw words (0 effective words) took 0.0s, 0 effective words/s\n",
      "[2020-09-26 18:27:30] - base_any2vec.py[line:1343] - WARNING: EPOCH - 7 : supplied example count (0) did not equal expected count (5965)\n",
      "[2020-09-26 18:27:30] - base_any2vec.py[line:1348] - WARNING: EPOCH - 7 : supplied raw word count (0) did not equal expected count (1447271)\n",
      "[2020-09-26 18:27:30] - base_any2vec.py[line:1332] - INFO: EPOCH - 8 : training on 0 raw words (0 effective words) took 0.0s, 0 effective words/s\n",
      "[2020-09-26 18:27:30] - base_any2vec.py[line:1343] - WARNING: EPOCH - 8 : supplied example count (0) did not equal expected count (5965)\n",
      "[2020-09-26 18:27:30] - base_any2vec.py[line:1348] - WARNING: EPOCH - 8 : supplied raw word count (0) did not equal expected count (1447271)\n",
      "[2020-09-26 18:27:30] - base_any2vec.py[line:1332] - INFO: EPOCH - 9 : training on 0 raw words (0 effective words) took 0.0s, 0 effective words/s\n",
      "[2020-09-26 18:27:30] - base_any2vec.py[line:1343] - WARNING: EPOCH - 9 : supplied example count (0) did not equal expected count (5965)\n",
      "[2020-09-26 18:27:30] - base_any2vec.py[line:1348] - WARNING: EPOCH - 9 : supplied raw word count (0) did not equal expected count (1447271)\n",
      "[2020-09-26 18:27:30] - base_any2vec.py[line:1332] - INFO: EPOCH - 10 : training on 0 raw words (0 effective words) took 0.0s, 0 effective words/s\n",
      "[2020-09-26 18:27:30] - base_any2vec.py[line:1343] - WARNING: EPOCH - 10 : supplied example count (0) did not equal expected count (5965)\n",
      "[2020-09-26 18:27:30] - base_any2vec.py[line:1348] - WARNING: EPOCH - 10 : supplied raw word count (0) did not equal expected count (1447271)\n",
      "[2020-09-26 18:27:30] - base_any2vec.py[line:1368] - INFO: training on a 0 raw words (0 effective words) took 0.7s, 0 effective words/s\n",
      "[2020-09-26 18:27:30] - utils.py[line:551] - INFO: saving Word2Vec object under adv_userseq_adv_id_gender_word2vec.model, separately None\n",
      "[2020-09-26 18:27:30] - utils.py[line:657] - INFO: not storing attribute vectors_norm\n",
      "[2020-09-26 18:27:30] - utils.py[line:657] - INFO: not storing attribute cum_table\n",
      "[2020-09-26 18:27:30] - utils.py[line:565] - INFO: saved adv_userseq_adv_id_gender_word2vec.model\n",
      "[2020-09-26 18:27:30] - utils.py[line:551] - INFO: saving Word2VecKeyedVectors object under adv_userseq_adv_id_gender_word2vec.kv, separately None\n",
      "[2020-09-26 18:27:30] - utils.py[line:657] - INFO: not storing attribute vectors_norm\n",
      "[2020-09-26 18:27:30] - utils.py[line:565] - INFO: saved adv_userseq_adv_id_gender_word2vec.kv\n"
     ]
    },
    {
     "name": "stdout",
     "output_type": "stream",
     "text": [
      "save start\n",
      "Done\n",
      "LineSentence start\n",
      "Word2Vec start\n"
     ]
    },
    {
     "name": "stderr",
     "output_type": "stream",
     "text": [
      "[2020-09-26 18:27:31] - word2vec.py[line:1399] - INFO: collecting all words and their counts\n",
      "[2020-09-26 18:27:31] - word2vec.py[line:1384] - INFO: PROGRESS: at sentence #0, processed 0 words, keeping 0 word types\n",
      "[2020-09-26 18:27:31] - word2vec.py[line:1407] - INFO: collected 37 word types from a corpus of 1447271 raw words and 5965 sentences\n",
      "[2020-09-26 18:27:31] - word2vec.py[line:1458] - INFO: Loading a fresh vocabulary\n",
      "[2020-09-26 18:27:31] - word2vec.py[line:1482] - INFO: effective_min_count=1 retains 37 unique words (100% of original 37, drops 0)\n",
      "[2020-09-26 18:27:31] - word2vec.py[line:1488] - INFO: effective_min_count=1 leaves 1447271 word corpus (100% of original 1447271, drops 0)\n",
      "[2020-09-26 18:27:31] - word2vec.py[line:1547] - INFO: deleting the raw counts dictionary of 37 items\n",
      "[2020-09-26 18:27:31] - word2vec.py[line:1550] - INFO: sample=0.001 downsamples 31 most-common words\n",
      "[2020-09-26 18:27:31] - word2vec.py[line:1553] - INFO: downsampling leaves estimated 290159 word corpus (20.0% of prior 1447271)\n",
      "[2020-09-26 18:27:31] - word2vec.py[line:1648] - INFO: constructing a huffman tree from 37 words\n",
      "[2020-09-26 18:27:31] - word2vec.py[line:1673] - INFO: built huffman tree with maximum node depth 12\n",
      "[2020-09-26 18:27:31] - base_any2vec.py[line:1008] - INFO: estimated required memory for 37 words and 64 dimensions: 54316 bytes\n",
      "[2020-09-26 18:27:31] - word2vec.py[line:1699] - INFO: resetting layer weights\n",
      "[2020-09-26 18:27:31] - base_any2vec.py[line:1196] - INFO: training model with -1 workers on 37 vocabulary and 64 features, using sg=0 hs=1 sample=0.001 negative=5 window=10000\n",
      "[2020-09-26 18:27:31] - base_any2vec.py[line:1332] - INFO: EPOCH - 1 : training on 0 raw words (0 effective words) took 0.0s, 0 effective words/s\n",
      "[2020-09-26 18:27:31] - base_any2vec.py[line:1343] - WARNING: EPOCH - 1 : supplied example count (0) did not equal expected count (5965)\n",
      "[2020-09-26 18:27:31] - base_any2vec.py[line:1348] - WARNING: EPOCH - 1 : supplied raw word count (0) did not equal expected count (1447271)\n",
      "[2020-09-26 18:27:31] - base_any2vec.py[line:1332] - INFO: EPOCH - 2 : training on 0 raw words (0 effective words) took 0.0s, 0 effective words/s\n",
      "[2020-09-26 18:27:31] - base_any2vec.py[line:1343] - WARNING: EPOCH - 2 : supplied example count (0) did not equal expected count (5965)\n",
      "[2020-09-26 18:27:31] - base_any2vec.py[line:1348] - WARNING: EPOCH - 2 : supplied raw word count (0) did not equal expected count (1447271)\n",
      "[2020-09-26 18:27:31] - base_any2vec.py[line:1332] - INFO: EPOCH - 3 : training on 0 raw words (0 effective words) took 0.0s, 0 effective words/s\n",
      "[2020-09-26 18:27:31] - base_any2vec.py[line:1343] - WARNING: EPOCH - 3 : supplied example count (0) did not equal expected count (5965)\n",
      "[2020-09-26 18:27:31] - base_any2vec.py[line:1348] - WARNING: EPOCH - 3 : supplied raw word count (0) did not equal expected count (1447271)\n",
      "[2020-09-26 18:27:31] - base_any2vec.py[line:1332] - INFO: EPOCH - 4 : training on 0 raw words (0 effective words) took 0.0s, 0 effective words/s\n",
      "[2020-09-26 18:27:31] - base_any2vec.py[line:1343] - WARNING: EPOCH - 4 : supplied example count (0) did not equal expected count (5965)\n",
      "[2020-09-26 18:27:31] - base_any2vec.py[line:1348] - WARNING: EPOCH - 4 : supplied raw word count (0) did not equal expected count (1447271)\n",
      "[2020-09-26 18:27:31] - base_any2vec.py[line:1332] - INFO: EPOCH - 5 : training on 0 raw words (0 effective words) took 0.0s, 0 effective words/s\n",
      "[2020-09-26 18:27:31] - base_any2vec.py[line:1343] - WARNING: EPOCH - 5 : supplied example count (0) did not equal expected count (5965)\n",
      "[2020-09-26 18:27:31] - base_any2vec.py[line:1348] - WARNING: EPOCH - 5 : supplied raw word count (0) did not equal expected count (1447271)\n",
      "[2020-09-26 18:27:31] - base_any2vec.py[line:1332] - INFO: EPOCH - 6 : training on 0 raw words (0 effective words) took 0.0s, 0 effective words/s\n",
      "[2020-09-26 18:27:31] - base_any2vec.py[line:1343] - WARNING: EPOCH - 6 : supplied example count (0) did not equal expected count (5965)\n",
      "[2020-09-26 18:27:31] - base_any2vec.py[line:1348] - WARNING: EPOCH - 6 : supplied raw word count (0) did not equal expected count (1447271)\n",
      "[2020-09-26 18:27:31] - base_any2vec.py[line:1332] - INFO: EPOCH - 7 : training on 0 raw words (0 effective words) took 0.0s, 0 effective words/s\n",
      "[2020-09-26 18:27:31] - base_any2vec.py[line:1343] - WARNING: EPOCH - 7 : supplied example count (0) did not equal expected count (5965)\n",
      "[2020-09-26 18:27:31] - base_any2vec.py[line:1348] - WARNING: EPOCH - 7 : supplied raw word count (0) did not equal expected count (1447271)\n",
      "[2020-09-26 18:27:32] - base_any2vec.py[line:1332] - INFO: EPOCH - 8 : training on 0 raw words (0 effective words) took 0.0s, 0 effective words/s\n",
      "[2020-09-26 18:27:32] - base_any2vec.py[line:1343] - WARNING: EPOCH - 8 : supplied example count (0) did not equal expected count (5965)\n",
      "[2020-09-26 18:27:32] - base_any2vec.py[line:1348] - WARNING: EPOCH - 8 : supplied raw word count (0) did not equal expected count (1447271)\n",
      "[2020-09-26 18:27:32] - base_any2vec.py[line:1332] - INFO: EPOCH - 9 : training on 0 raw words (0 effective words) took 0.0s, 0 effective words/s\n",
      "[2020-09-26 18:27:32] - base_any2vec.py[line:1343] - WARNING: EPOCH - 9 : supplied example count (0) did not equal expected count (5965)\n",
      "[2020-09-26 18:27:32] - base_any2vec.py[line:1348] - WARNING: EPOCH - 9 : supplied raw word count (0) did not equal expected count (1447271)\n",
      "[2020-09-26 18:27:32] - base_any2vec.py[line:1332] - INFO: EPOCH - 10 : training on 0 raw words (0 effective words) took 0.0s, 0 effective words/s\n",
      "[2020-09-26 18:27:32] - base_any2vec.py[line:1343] - WARNING: EPOCH - 10 : supplied example count (0) did not equal expected count (5965)\n",
      "[2020-09-26 18:27:32] - base_any2vec.py[line:1348] - WARNING: EPOCH - 10 : supplied raw word count (0) did not equal expected count (1447271)\n",
      "[2020-09-26 18:27:32] - base_any2vec.py[line:1368] - INFO: training on a 0 raw words (0 effective words) took 1.7s, 0 effective words/s\n",
      "[2020-09-26 18:27:33] - utils.py[line:551] - INFO: saving Word2Vec object under adv_userseq_adv_id_residence_word2vec.model, separately None\n",
      "[2020-09-26 18:27:33] - utils.py[line:657] - INFO: not storing attribute vectors_norm\n",
      "[2020-09-26 18:27:33] - utils.py[line:657] - INFO: not storing attribute cum_table\n",
      "[2020-09-26 18:27:33] - utils.py[line:565] - INFO: saved adv_userseq_adv_id_residence_word2vec.model\n",
      "[2020-09-26 18:27:33] - utils.py[line:551] - INFO: saving Word2VecKeyedVectors object under adv_userseq_adv_id_residence_word2vec.kv, separately None\n",
      "[2020-09-26 18:27:33] - utils.py[line:657] - INFO: not storing attribute vectors_norm\n",
      "[2020-09-26 18:27:33] - utils.py[line:565] - INFO: saved adv_userseq_adv_id_residence_word2vec.kv\n"
     ]
    },
    {
     "name": "stdout",
     "output_type": "stream",
     "text": [
      "save start\n"
     ]
    },
    {
     "name": "stderr",
     "output_type": "stream",
     "text": [
      "[2020-09-26 18:27:33] - word2vec.py[line:1399] - INFO: collecting all words and their counts\n",
      "[2020-09-26 18:27:33] - word2vec.py[line:1384] - INFO: PROGRESS: at sentence #0, processed 0 words, keeping 0 word types\n"
     ]
    },
    {
     "name": "stdout",
     "output_type": "stream",
     "text": [
      "Done\n",
      "LineSentence start\n",
      "Word2Vec start\n"
     ]
    },
    {
     "name": "stderr",
     "output_type": "stream",
     "text": [
      "[2020-09-26 18:27:33] - word2vec.py[line:1407] - INFO: collected 8 word types from a corpus of 1445488 raw words and 148 sentences\n",
      "[2020-09-26 18:27:33] - word2vec.py[line:1458] - INFO: Loading a fresh vocabulary\n",
      "[2020-09-26 18:27:33] - word2vec.py[line:1482] - INFO: effective_min_count=1 retains 8 unique words (100% of original 8, drops 0)\n",
      "[2020-09-26 18:27:33] - word2vec.py[line:1488] - INFO: effective_min_count=1 leaves 1445488 word corpus (100% of original 1445488, drops 0)\n",
      "[2020-09-26 18:27:33] - word2vec.py[line:1547] - INFO: deleting the raw counts dictionary of 8 items\n",
      "[2020-09-26 18:27:33] - word2vec.py[line:1550] - INFO: sample=0.001 downsamples 8 most-common words\n",
      "[2020-09-26 18:27:33] - word2vec.py[line:1553] - INFO: downsampling leaves estimated 128620 word corpus (8.9% of prior 1445488)\n",
      "[2020-09-26 18:27:33] - word2vec.py[line:1648] - INFO: constructing a huffman tree from 8 words\n",
      "[2020-09-26 18:27:33] - word2vec.py[line:1673] - INFO: built huffman tree with maximum node depth 5\n",
      "[2020-09-26 18:27:33] - base_any2vec.py[line:1008] - INFO: estimated required memory for 8 words and 64 dimensions: 11744 bytes\n",
      "[2020-09-26 18:27:33] - word2vec.py[line:1699] - INFO: resetting layer weights\n",
      "[2020-09-26 18:27:33] - base_any2vec.py[line:1196] - INFO: training model with -1 workers on 8 vocabulary and 64 features, using sg=0 hs=1 sample=0.001 negative=5 window=10000\n",
      "[2020-09-26 18:27:33] - base_any2vec.py[line:1332] - INFO: EPOCH - 1 : training on 0 raw words (0 effective words) took 0.0s, 0 effective words/s\n",
      "[2020-09-26 18:27:33] - base_any2vec.py[line:1343] - WARNING: EPOCH - 1 : supplied example count (0) did not equal expected count (148)\n",
      "[2020-09-26 18:27:33] - base_any2vec.py[line:1348] - WARNING: EPOCH - 1 : supplied raw word count (0) did not equal expected count (1445488)\n",
      "[2020-09-26 18:27:33] - base_any2vec.py[line:1332] - INFO: EPOCH - 2 : training on 0 raw words (0 effective words) took 0.0s, 0 effective words/s\n",
      "[2020-09-26 18:27:33] - base_any2vec.py[line:1343] - WARNING: EPOCH - 2 : supplied example count (0) did not equal expected count (148)\n",
      "[2020-09-26 18:27:33] - base_any2vec.py[line:1348] - WARNING: EPOCH - 2 : supplied raw word count (0) did not equal expected count (1445488)\n",
      "[2020-09-26 18:27:33] - base_any2vec.py[line:1332] - INFO: EPOCH - 3 : training on 0 raw words (0 effective words) took 0.0s, 0 effective words/s\n",
      "[2020-09-26 18:27:33] - base_any2vec.py[line:1343] - WARNING: EPOCH - 3 : supplied example count (0) did not equal expected count (148)\n",
      "[2020-09-26 18:27:33] - base_any2vec.py[line:1348] - WARNING: EPOCH - 3 : supplied raw word count (0) did not equal expected count (1445488)\n",
      "[2020-09-26 18:27:33] - base_any2vec.py[line:1332] - INFO: EPOCH - 4 : training on 0 raw words (0 effective words) took 0.0s, 0 effective words/s\n",
      "[2020-09-26 18:27:33] - base_any2vec.py[line:1343] - WARNING: EPOCH - 4 : supplied example count (0) did not equal expected count (148)\n",
      "[2020-09-26 18:27:33] - base_any2vec.py[line:1348] - WARNING: EPOCH - 4 : supplied raw word count (0) did not equal expected count (1445488)\n",
      "[2020-09-26 18:27:33] - base_any2vec.py[line:1332] - INFO: EPOCH - 5 : training on 0 raw words (0 effective words) took 0.0s, 0 effective words/s\n",
      "[2020-09-26 18:27:33] - base_any2vec.py[line:1343] - WARNING: EPOCH - 5 : supplied example count (0) did not equal expected count (148)\n",
      "[2020-09-26 18:27:33] - base_any2vec.py[line:1348] - WARNING: EPOCH - 5 : supplied raw word count (0) did not equal expected count (1445488)\n",
      "[2020-09-26 18:27:33] - base_any2vec.py[line:1332] - INFO: EPOCH - 6 : training on 0 raw words (0 effective words) took 0.0s, 0 effective words/s\n",
      "[2020-09-26 18:27:33] - base_any2vec.py[line:1343] - WARNING: EPOCH - 6 : supplied example count (0) did not equal expected count (148)\n",
      "[2020-09-26 18:27:33] - base_any2vec.py[line:1348] - WARNING: EPOCH - 6 : supplied raw word count (0) did not equal expected count (1445488)\n",
      "[2020-09-26 18:27:33] - base_any2vec.py[line:1332] - INFO: EPOCH - 7 : training on 0 raw words (0 effective words) took 0.0s, 0 effective words/s\n",
      "[2020-09-26 18:27:33] - base_any2vec.py[line:1343] - WARNING: EPOCH - 7 : supplied example count (0) did not equal expected count (148)\n",
      "[2020-09-26 18:27:33] - base_any2vec.py[line:1348] - WARNING: EPOCH - 7 : supplied raw word count (0) did not equal expected count (1445488)\n",
      "[2020-09-26 18:27:33] - base_any2vec.py[line:1332] - INFO: EPOCH - 8 : training on 0 raw words (0 effective words) took 0.0s, 0 effective words/s\n",
      "[2020-09-26 18:27:33] - base_any2vec.py[line:1343] - WARNING: EPOCH - 8 : supplied example count (0) did not equal expected count (148)\n",
      "[2020-09-26 18:27:33] - base_any2vec.py[line:1348] - WARNING: EPOCH - 8 : supplied raw word count (0) did not equal expected count (1445488)\n",
      "[2020-09-26 18:27:33] - base_any2vec.py[line:1332] - INFO: EPOCH - 9 : training on 0 raw words (0 effective words) took 0.0s, 0 effective words/s\n",
      "[2020-09-26 18:27:33] - base_any2vec.py[line:1343] - WARNING: EPOCH - 9 : supplied example count (0) did not equal expected count (148)\n",
      "[2020-09-26 18:27:33] - base_any2vec.py[line:1348] - WARNING: EPOCH - 9 : supplied raw word count (0) did not equal expected count (1445488)\n",
      "[2020-09-26 18:27:33] - base_any2vec.py[line:1332] - INFO: EPOCH - 10 : training on 0 raw words (0 effective words) took 0.0s, 0 effective words/s\n",
      "[2020-09-26 18:27:34] - base_any2vec.py[line:1343] - WARNING: EPOCH - 10 : supplied example count (0) did not equal expected count (148)\n",
      "[2020-09-26 18:27:34] - base_any2vec.py[line:1348] - WARNING: EPOCH - 10 : supplied raw word count (0) did not equal expected count (1445488)\n",
      "[2020-09-26 18:27:34] - base_any2vec.py[line:1368] - INFO: training on a 0 raw words (0 effective words) took 0.5s, 0 effective words/s\n",
      "[2020-09-26 18:27:34] - utils.py[line:551] - INFO: saving Word2Vec object under adv_userseq_creat_type_cd_age_word2vec.model, separately None\n",
      "[2020-09-26 18:27:34] - utils.py[line:657] - INFO: not storing attribute vectors_norm\n",
      "[2020-09-26 18:27:34] - utils.py[line:657] - INFO: not storing attribute cum_table\n",
      "[2020-09-26 18:27:34] - utils.py[line:565] - INFO: saved adv_userseq_creat_type_cd_age_word2vec.model\n",
      "[2020-09-26 18:27:34] - utils.py[line:551] - INFO: saving Word2VecKeyedVectors object under adv_userseq_creat_type_cd_age_word2vec.kv, separately None\n",
      "[2020-09-26 18:27:34] - utils.py[line:657] - INFO: not storing attribute vectors_norm\n",
      "[2020-09-26 18:27:34] - utils.py[line:565] - INFO: saved adv_userseq_creat_type_cd_age_word2vec.kv\n",
      "[2020-09-26 18:27:34] - word2vec.py[line:1399] - INFO: collecting all words and their counts\n",
      "[2020-09-26 18:27:34] - word2vec.py[line:1384] - INFO: PROGRESS: at sentence #0, processed 0 words, keeping 0 word types\n"
     ]
    },
    {
     "name": "stdout",
     "output_type": "stream",
     "text": [
      "save start\n",
      "Done\n",
      "LineSentence start\n",
      "Word2Vec start\n"
     ]
    },
    {
     "name": "stderr",
     "output_type": "stream",
     "text": [
      "[2020-09-26 18:27:34] - word2vec.py[line:1407] - INFO: collected 344 word types from a corpus of 1445488 raw words and 148 sentences\n",
      "[2020-09-26 18:27:34] - word2vec.py[line:1458] - INFO: Loading a fresh vocabulary\n",
      "[2020-09-26 18:27:34] - word2vec.py[line:1482] - INFO: effective_min_count=1 retains 344 unique words (100% of original 344, drops 0)\n",
      "[2020-09-26 18:27:34] - word2vec.py[line:1488] - INFO: effective_min_count=1 leaves 1445488 word corpus (100% of original 1445488, drops 0)\n",
      "[2020-09-26 18:27:34] - word2vec.py[line:1547] - INFO: deleting the raw counts dictionary of 344 items\n",
      "[2020-09-26 18:27:34] - word2vec.py[line:1550] - INFO: sample=0.001 downsamples 98 most-common words\n",
      "[2020-09-26 18:27:34] - word2vec.py[line:1553] - INFO: downsampling leaves estimated 911350 word corpus (63.0% of prior 1445488)\n",
      "[2020-09-26 18:27:34] - word2vec.py[line:1648] - INFO: constructing a huffman tree from 344 words\n",
      "[2020-09-26 18:27:34] - word2vec.py[line:1673] - INFO: built huffman tree with maximum node depth 17\n",
      "[2020-09-26 18:27:34] - base_any2vec.py[line:1008] - INFO: estimated required memory for 344 words and 64 dimensions: 504992 bytes\n",
      "[2020-09-26 18:27:34] - word2vec.py[line:1699] - INFO: resetting layer weights\n",
      "[2020-09-26 18:27:34] - base_any2vec.py[line:1196] - INFO: training model with -1 workers on 344 vocabulary and 64 features, using sg=0 hs=1 sample=0.001 negative=5 window=10000\n",
      "[2020-09-26 18:27:34] - base_any2vec.py[line:1332] - INFO: EPOCH - 1 : training on 0 raw words (0 effective words) took 0.0s, 0 effective words/s\n",
      "[2020-09-26 18:27:34] - base_any2vec.py[line:1343] - WARNING: EPOCH - 1 : supplied example count (0) did not equal expected count (148)\n",
      "[2020-09-26 18:27:34] - base_any2vec.py[line:1348] - WARNING: EPOCH - 1 : supplied raw word count (0) did not equal expected count (1445488)\n",
      "[2020-09-26 18:27:34] - base_any2vec.py[line:1332] - INFO: EPOCH - 2 : training on 0 raw words (0 effective words) took 0.0s, 0 effective words/s\n",
      "[2020-09-26 18:27:34] - base_any2vec.py[line:1343] - WARNING: EPOCH - 2 : supplied example count (0) did not equal expected count (148)\n",
      "[2020-09-26 18:27:34] - base_any2vec.py[line:1348] - WARNING: EPOCH - 2 : supplied raw word count (0) did not equal expected count (1445488)\n",
      "[2020-09-26 18:27:34] - base_any2vec.py[line:1332] - INFO: EPOCH - 3 : training on 0 raw words (0 effective words) took 0.0s, 0 effective words/s\n",
      "[2020-09-26 18:27:34] - base_any2vec.py[line:1343] - WARNING: EPOCH - 3 : supplied example count (0) did not equal expected count (148)\n",
      "[2020-09-26 18:27:34] - base_any2vec.py[line:1348] - WARNING: EPOCH - 3 : supplied raw word count (0) did not equal expected count (1445488)\n",
      "[2020-09-26 18:27:34] - base_any2vec.py[line:1332] - INFO: EPOCH - 4 : training on 0 raw words (0 effective words) took 0.0s, 0 effective words/s\n",
      "[2020-09-26 18:27:34] - base_any2vec.py[line:1343] - WARNING: EPOCH - 4 : supplied example count (0) did not equal expected count (148)\n",
      "[2020-09-26 18:27:34] - base_any2vec.py[line:1348] - WARNING: EPOCH - 4 : supplied raw word count (0) did not equal expected count (1445488)\n",
      "[2020-09-26 18:27:35] - base_any2vec.py[line:1332] - INFO: EPOCH - 5 : training on 0 raw words (0 effective words) took 0.0s, 0 effective words/s\n",
      "[2020-09-26 18:27:35] - base_any2vec.py[line:1343] - WARNING: EPOCH - 5 : supplied example count (0) did not equal expected count (148)\n",
      "[2020-09-26 18:27:35] - base_any2vec.py[line:1348] - WARNING: EPOCH - 5 : supplied raw word count (0) did not equal expected count (1445488)\n",
      "[2020-09-26 18:27:35] - base_any2vec.py[line:1332] - INFO: EPOCH - 6 : training on 0 raw words (0 effective words) took 0.0s, 0 effective words/s\n",
      "[2020-09-26 18:27:35] - base_any2vec.py[line:1343] - WARNING: EPOCH - 6 : supplied example count (0) did not equal expected count (148)\n",
      "[2020-09-26 18:27:35] - base_any2vec.py[line:1348] - WARNING: EPOCH - 6 : supplied raw word count (0) did not equal expected count (1445488)\n",
      "[2020-09-26 18:27:35] - base_any2vec.py[line:1332] - INFO: EPOCH - 7 : training on 0 raw words (0 effective words) took 0.0s, 0 effective words/s\n",
      "[2020-09-26 18:27:35] - base_any2vec.py[line:1343] - WARNING: EPOCH - 7 : supplied example count (0) did not equal expected count (148)\n",
      "[2020-09-26 18:27:35] - base_any2vec.py[line:1348] - WARNING: EPOCH - 7 : supplied raw word count (0) did not equal expected count (1445488)\n",
      "[2020-09-26 18:27:35] - base_any2vec.py[line:1332] - INFO: EPOCH - 8 : training on 0 raw words (0 effective words) took 0.0s, 0 effective words/s\n",
      "[2020-09-26 18:27:35] - base_any2vec.py[line:1343] - WARNING: EPOCH - 8 : supplied example count (0) did not equal expected count (148)\n",
      "[2020-09-26 18:27:35] - base_any2vec.py[line:1348] - WARNING: EPOCH - 8 : supplied raw word count (0) did not equal expected count (1445488)\n",
      "[2020-09-26 18:27:35] - base_any2vec.py[line:1332] - INFO: EPOCH - 9 : training on 0 raw words (0 effective words) took 0.0s, 0 effective words/s\n",
      "[2020-09-26 18:27:35] - base_any2vec.py[line:1343] - WARNING: EPOCH - 9 : supplied example count (0) did not equal expected count (148)\n",
      "[2020-09-26 18:27:35] - base_any2vec.py[line:1348] - WARNING: EPOCH - 9 : supplied raw word count (0) did not equal expected count (1445488)\n",
      "[2020-09-26 18:27:35] - base_any2vec.py[line:1332] - INFO: EPOCH - 10 : training on 0 raw words (0 effective words) took 0.0s, 0 effective words/s\n",
      "[2020-09-26 18:27:35] - base_any2vec.py[line:1343] - WARNING: EPOCH - 10 : supplied example count (0) did not equal expected count (148)\n",
      "[2020-09-26 18:27:35] - base_any2vec.py[line:1348] - WARNING: EPOCH - 10 : supplied raw word count (0) did not equal expected count (1445488)\n",
      "[2020-09-26 18:27:35] - base_any2vec.py[line:1368] - INFO: training on a 0 raw words (0 effective words) took 1.3s, 0 effective words/s\n",
      "[2020-09-26 18:27:35] - utils.py[line:551] - INFO: saving Word2Vec object under adv_userseq_creat_type_cd_city_word2vec.model, separately None\n",
      "[2020-09-26 18:27:35] - utils.py[line:657] - INFO: not storing attribute vectors_norm\n",
      "[2020-09-26 18:27:35] - utils.py[line:657] - INFO: not storing attribute cum_table\n",
      "[2020-09-26 18:27:35] - utils.py[line:565] - INFO: saved adv_userseq_creat_type_cd_city_word2vec.model\n",
      "[2020-09-26 18:27:36] - utils.py[line:551] - INFO: saving Word2VecKeyedVectors object under adv_userseq_creat_type_cd_city_word2vec.kv, separately None\n",
      "[2020-09-26 18:27:36] - utils.py[line:657] - INFO: not storing attribute vectors_norm\n"
     ]
    },
    {
     "name": "stdout",
     "output_type": "stream",
     "text": [
      "save start\n"
     ]
    },
    {
     "name": "stderr",
     "output_type": "stream",
     "text": [
      "[2020-09-26 18:27:36] - utils.py[line:565] - INFO: saved adv_userseq_creat_type_cd_city_word2vec.kv\n",
      "[2020-09-26 18:27:36] - word2vec.py[line:1399] - INFO: collecting all words and their counts\n",
      "[2020-09-26 18:27:36] - word2vec.py[line:1384] - INFO: PROGRESS: at sentence #0, processed 0 words, keeping 0 word types\n",
      "[2020-09-26 18:27:36] - word2vec.py[line:1407] - INFO: collected 4 word types from a corpus of 1445488 raw words and 148 sentences\n",
      "[2020-09-26 18:27:36] - word2vec.py[line:1458] - INFO: Loading a fresh vocabulary\n",
      "[2020-09-26 18:27:36] - word2vec.py[line:1482] - INFO: effective_min_count=1 retains 4 unique words (100% of original 4, drops 0)\n",
      "[2020-09-26 18:27:36] - word2vec.py[line:1488] - INFO: effective_min_count=1 leaves 1445488 word corpus (100% of original 1445488, drops 0)\n",
      "[2020-09-26 18:27:36] - word2vec.py[line:1547] - INFO: deleting the raw counts dictionary of 4 items\n",
      "[2020-09-26 18:27:36] - word2vec.py[line:1550] - INFO: sample=0.001 downsamples 4 most-common words\n",
      "[2020-09-26 18:27:36] - word2vec.py[line:1553] - INFO: downsampling leaves estimated 88973 word corpus (6.2% of prior 1445488)\n",
      "[2020-09-26 18:27:36] - word2vec.py[line:1648] - INFO: constructing a huffman tree from 4 words\n",
      "[2020-09-26 18:27:36] - word2vec.py[line:1673] - INFO: built huffman tree with maximum node depth 3\n",
      "[2020-09-26 18:27:36] - base_any2vec.py[line:1008] - INFO: estimated required memory for 4 words and 64 dimensions: 5872 bytes\n",
      "[2020-09-26 18:27:36] - word2vec.py[line:1699] - INFO: resetting layer weights\n",
      "[2020-09-26 18:27:36] - base_any2vec.py[line:1196] - INFO: training model with -1 workers on 4 vocabulary and 64 features, using sg=0 hs=1 sample=0.001 negative=5 window=10000\n",
      "[2020-09-26 18:27:36] - base_any2vec.py[line:1332] - INFO: EPOCH - 1 : training on 0 raw words (0 effective words) took 0.0s, 0 effective words/s\n",
      "[2020-09-26 18:27:36] - base_any2vec.py[line:1343] - WARNING: EPOCH - 1 : supplied example count (0) did not equal expected count (148)\n",
      "[2020-09-26 18:27:36] - base_any2vec.py[line:1348] - WARNING: EPOCH - 1 : supplied raw word count (0) did not equal expected count (1445488)\n",
      "[2020-09-26 18:27:36] - base_any2vec.py[line:1332] - INFO: EPOCH - 2 : training on 0 raw words (0 effective words) took 0.0s, 0 effective words/s\n",
      "[2020-09-26 18:27:36] - base_any2vec.py[line:1343] - WARNING: EPOCH - 2 : supplied example count (0) did not equal expected count (148)\n",
      "[2020-09-26 18:27:36] - base_any2vec.py[line:1348] - WARNING: EPOCH - 2 : supplied raw word count (0) did not equal expected count (1445488)\n",
      "[2020-09-26 18:27:36] - base_any2vec.py[line:1332] - INFO: EPOCH - 3 : training on 0 raw words (0 effective words) took 0.0s, 0 effective words/s\n",
      "[2020-09-26 18:27:36] - base_any2vec.py[line:1343] - WARNING: EPOCH - 3 : supplied example count (0) did not equal expected count (148)\n",
      "[2020-09-26 18:27:36] - base_any2vec.py[line:1348] - WARNING: EPOCH - 3 : supplied raw word count (0) did not equal expected count (1445488)\n"
     ]
    },
    {
     "name": "stdout",
     "output_type": "stream",
     "text": [
      "Done\n",
      "LineSentence start\n",
      "Word2Vec start\n"
     ]
    },
    {
     "name": "stderr",
     "output_type": "stream",
     "text": [
      "[2020-09-26 18:27:36] - base_any2vec.py[line:1332] - INFO: EPOCH - 4 : training on 0 raw words (0 effective words) took 0.0s, 0 effective words/s\n",
      "[2020-09-26 18:27:36] - base_any2vec.py[line:1343] - WARNING: EPOCH - 4 : supplied example count (0) did not equal expected count (148)\n",
      "[2020-09-26 18:27:36] - base_any2vec.py[line:1348] - WARNING: EPOCH - 4 : supplied raw word count (0) did not equal expected count (1445488)\n",
      "[2020-09-26 18:27:36] - base_any2vec.py[line:1332] - INFO: EPOCH - 5 : training on 0 raw words (0 effective words) took 0.0s, 0 effective words/s\n",
      "[2020-09-26 18:27:36] - base_any2vec.py[line:1343] - WARNING: EPOCH - 5 : supplied example count (0) did not equal expected count (148)\n",
      "[2020-09-26 18:27:36] - base_any2vec.py[line:1348] - WARNING: EPOCH - 5 : supplied raw word count (0) did not equal expected count (1445488)\n",
      "[2020-09-26 18:27:36] - base_any2vec.py[line:1332] - INFO: EPOCH - 6 : training on 0 raw words (0 effective words) took 0.0s, 0 effective words/s\n",
      "[2020-09-26 18:27:36] - base_any2vec.py[line:1343] - WARNING: EPOCH - 6 : supplied example count (0) did not equal expected count (148)\n",
      "[2020-09-26 18:27:36] - base_any2vec.py[line:1348] - WARNING: EPOCH - 6 : supplied raw word count (0) did not equal expected count (1445488)\n",
      "[2020-09-26 18:27:36] - base_any2vec.py[line:1332] - INFO: EPOCH - 7 : training on 0 raw words (0 effective words) took 0.0s, 0 effective words/s\n",
      "[2020-09-26 18:27:36] - base_any2vec.py[line:1343] - WARNING: EPOCH - 7 : supplied example count (0) did not equal expected count (148)\n",
      "[2020-09-26 18:27:36] - base_any2vec.py[line:1348] - WARNING: EPOCH - 7 : supplied raw word count (0) did not equal expected count (1445488)\n",
      "[2020-09-26 18:27:36] - base_any2vec.py[line:1332] - INFO: EPOCH - 8 : training on 0 raw words (0 effective words) took 0.0s, 0 effective words/s\n",
      "[2020-09-26 18:27:36] - base_any2vec.py[line:1343] - WARNING: EPOCH - 8 : supplied example count (0) did not equal expected count (148)\n",
      "[2020-09-26 18:27:36] - base_any2vec.py[line:1348] - WARNING: EPOCH - 8 : supplied raw word count (0) did not equal expected count (1445488)\n",
      "[2020-09-26 18:27:36] - base_any2vec.py[line:1332] - INFO: EPOCH - 9 : training on 0 raw words (0 effective words) took 0.0s, 0 effective words/s\n",
      "[2020-09-26 18:27:36] - base_any2vec.py[line:1343] - WARNING: EPOCH - 9 : supplied example count (0) did not equal expected count (148)\n",
      "[2020-09-26 18:27:36] - base_any2vec.py[line:1348] - WARNING: EPOCH - 9 : supplied raw word count (0) did not equal expected count (1445488)\n",
      "[2020-09-26 18:27:36] - base_any2vec.py[line:1332] - INFO: EPOCH - 10 : training on 0 raw words (0 effective words) took 0.0s, 0 effective words/s\n",
      "[2020-09-26 18:27:36] - base_any2vec.py[line:1343] - WARNING: EPOCH - 10 : supplied example count (0) did not equal expected count (148)\n",
      "[2020-09-26 18:27:36] - base_any2vec.py[line:1348] - WARNING: EPOCH - 10 : supplied raw word count (0) did not equal expected count (1445488)\n",
      "[2020-09-26 18:27:36] - base_any2vec.py[line:1368] - INFO: training on a 0 raw words (0 effective words) took 0.3s, 0 effective words/s\n",
      "[2020-09-26 18:27:36] - utils.py[line:551] - INFO: saving Word2Vec object under adv_userseq_creat_type_cd_city_rank_word2vec.model, separately None\n",
      "[2020-09-26 18:27:36] - utils.py[line:657] - INFO: not storing attribute vectors_norm\n",
      "[2020-09-26 18:27:36] - utils.py[line:657] - INFO: not storing attribute cum_table\n",
      "[2020-09-26 18:27:36] - utils.py[line:565] - INFO: saved adv_userseq_creat_type_cd_city_rank_word2vec.model\n",
      "[2020-09-26 18:27:36] - utils.py[line:551] - INFO: saving Word2VecKeyedVectors object under adv_userseq_creat_type_cd_city_rank_word2vec.kv, separately None\n",
      "[2020-09-26 18:27:36] - utils.py[line:657] - INFO: not storing attribute vectors_norm\n",
      "[2020-09-26 18:27:36] - utils.py[line:565] - INFO: saved adv_userseq_creat_type_cd_city_rank_word2vec.kv\n",
      "[2020-09-26 18:27:36] - word2vec.py[line:1399] - INFO: collecting all words and their counts\n",
      "[2020-09-26 18:27:36] - word2vec.py[line:1384] - INFO: PROGRESS: at sentence #0, processed 0 words, keeping 0 word types\n"
     ]
    },
    {
     "name": "stdout",
     "output_type": "stream",
     "text": [
      "save start\n",
      "Done\n",
      "LineSentence start\n",
      "Word2Vec start\n"
     ]
    },
    {
     "name": "stderr",
     "output_type": "stream",
     "text": [
      "[2020-09-26 18:27:37] - word2vec.py[line:1407] - INFO: collected 90 word types from a corpus of 1445488 raw words and 148 sentences\n",
      "[2020-09-26 18:27:37] - word2vec.py[line:1458] - INFO: Loading a fresh vocabulary\n",
      "[2020-09-26 18:27:37] - word2vec.py[line:1482] - INFO: effective_min_count=1 retains 90 unique words (100% of original 90, drops 0)\n",
      "[2020-09-26 18:27:37] - word2vec.py[line:1488] - INFO: effective_min_count=1 leaves 1445488 word corpus (100% of original 1445488, drops 0)\n",
      "[2020-09-26 18:27:37] - word2vec.py[line:1547] - INFO: deleting the raw counts dictionary of 90 items\n",
      "[2020-09-26 18:27:37] - word2vec.py[line:1550] - INFO: sample=0.001 downsamples 51 most-common words\n",
      "[2020-09-26 18:27:37] - word2vec.py[line:1553] - INFO: downsampling leaves estimated 403710 word corpus (27.9% of prior 1445488)\n",
      "[2020-09-26 18:27:37] - word2vec.py[line:1648] - INFO: constructing a huffman tree from 90 words\n",
      "[2020-09-26 18:27:37] - word2vec.py[line:1673] - INFO: built huffman tree with maximum node depth 20\n",
      "[2020-09-26 18:27:37] - base_any2vec.py[line:1008] - INFO: estimated required memory for 90 words and 64 dimensions: 132120 bytes\n",
      "[2020-09-26 18:27:37] - word2vec.py[line:1699] - INFO: resetting layer weights\n",
      "[2020-09-26 18:27:37] - base_any2vec.py[line:1196] - INFO: training model with -1 workers on 90 vocabulary and 64 features, using sg=0 hs=1 sample=0.001 negative=5 window=10000\n",
      "[2020-09-26 18:27:37] - base_any2vec.py[line:1332] - INFO: EPOCH - 1 : training on 0 raw words (0 effective words) took 0.0s, 0 effective words/s\n",
      "[2020-09-26 18:27:37] - base_any2vec.py[line:1343] - WARNING: EPOCH - 1 : supplied example count (0) did not equal expected count (148)\n",
      "[2020-09-26 18:27:37] - base_any2vec.py[line:1348] - WARNING: EPOCH - 1 : supplied raw word count (0) did not equal expected count (1445488)\n",
      "[2020-09-26 18:27:37] - base_any2vec.py[line:1332] - INFO: EPOCH - 2 : training on 0 raw words (0 effective words) took 0.0s, 0 effective words/s\n",
      "[2020-09-26 18:27:37] - base_any2vec.py[line:1343] - WARNING: EPOCH - 2 : supplied example count (0) did not equal expected count (148)\n",
      "[2020-09-26 18:27:37] - base_any2vec.py[line:1348] - WARNING: EPOCH - 2 : supplied raw word count (0) did not equal expected count (1445488)\n",
      "[2020-09-26 18:27:37] - base_any2vec.py[line:1332] - INFO: EPOCH - 3 : training on 0 raw words (0 effective words) took 0.0s, 0 effective words/s\n",
      "[2020-09-26 18:27:37] - base_any2vec.py[line:1343] - WARNING: EPOCH - 3 : supplied example count (0) did not equal expected count (148)\n",
      "[2020-09-26 18:27:37] - base_any2vec.py[line:1348] - WARNING: EPOCH - 3 : supplied raw word count (0) did not equal expected count (1445488)\n",
      "[2020-09-26 18:27:37] - base_any2vec.py[line:1332] - INFO: EPOCH - 4 : training on 0 raw words (0 effective words) took 0.0s, 0 effective words/s\n",
      "[2020-09-26 18:27:37] - base_any2vec.py[line:1343] - WARNING: EPOCH - 4 : supplied example count (0) did not equal expected count (148)\n",
      "[2020-09-26 18:27:37] - base_any2vec.py[line:1348] - WARNING: EPOCH - 4 : supplied raw word count (0) did not equal expected count (1445488)\n",
      "[2020-09-26 18:27:37] - base_any2vec.py[line:1332] - INFO: EPOCH - 5 : training on 0 raw words (0 effective words) took 0.0s, 0 effective words/s\n",
      "[2020-09-26 18:27:37] - base_any2vec.py[line:1343] - WARNING: EPOCH - 5 : supplied example count (0) did not equal expected count (148)\n",
      "[2020-09-26 18:27:37] - base_any2vec.py[line:1348] - WARNING: EPOCH - 5 : supplied raw word count (0) did not equal expected count (1445488)\n",
      "[2020-09-26 18:27:37] - base_any2vec.py[line:1332] - INFO: EPOCH - 6 : training on 0 raw words (0 effective words) took 0.0s, 0 effective words/s\n",
      "[2020-09-26 18:27:37] - base_any2vec.py[line:1343] - WARNING: EPOCH - 6 : supplied example count (0) did not equal expected count (148)\n",
      "[2020-09-26 18:27:38] - base_any2vec.py[line:1348] - WARNING: EPOCH - 6 : supplied raw word count (0) did not equal expected count (1445488)\n",
      "[2020-09-26 18:27:38] - base_any2vec.py[line:1332] - INFO: EPOCH - 7 : training on 0 raw words (0 effective words) took 0.0s, 0 effective words/s\n",
      "[2020-09-26 18:27:38] - base_any2vec.py[line:1343] - WARNING: EPOCH - 7 : supplied example count (0) did not equal expected count (148)\n",
      "[2020-09-26 18:27:38] - base_any2vec.py[line:1348] - WARNING: EPOCH - 7 : supplied raw word count (0) did not equal expected count (1445488)\n",
      "[2020-09-26 18:27:38] - base_any2vec.py[line:1332] - INFO: EPOCH - 8 : training on 0 raw words (0 effective words) took 0.0s, 0 effective words/s\n",
      "[2020-09-26 18:27:38] - base_any2vec.py[line:1343] - WARNING: EPOCH - 8 : supplied example count (0) did not equal expected count (148)\n",
      "[2020-09-26 18:27:38] - base_any2vec.py[line:1348] - WARNING: EPOCH - 8 : supplied raw word count (0) did not equal expected count (1445488)\n",
      "[2020-09-26 18:27:38] - base_any2vec.py[line:1332] - INFO: EPOCH - 9 : training on 0 raw words (0 effective words) took 0.0s, 0 effective words/s\n",
      "[2020-09-26 18:27:38] - base_any2vec.py[line:1343] - WARNING: EPOCH - 9 : supplied example count (0) did not equal expected count (148)\n",
      "[2020-09-26 18:27:38] - base_any2vec.py[line:1348] - WARNING: EPOCH - 9 : supplied raw word count (0) did not equal expected count (1445488)\n",
      "[2020-09-26 18:27:38] - base_any2vec.py[line:1332] - INFO: EPOCH - 10 : training on 0 raw words (0 effective words) took 0.0s, 0 effective words/s\n",
      "[2020-09-26 18:27:38] - base_any2vec.py[line:1343] - WARNING: EPOCH - 10 : supplied example count (0) did not equal expected count (148)\n",
      "[2020-09-26 18:27:38] - base_any2vec.py[line:1348] - WARNING: EPOCH - 10 : supplied raw word count (0) did not equal expected count (1445488)\n",
      "[2020-09-26 18:27:38] - base_any2vec.py[line:1368] - INFO: training on a 0 raw words (0 effective words) took 1.3s, 0 effective words/s\n",
      "[2020-09-26 18:27:38] - utils.py[line:551] - INFO: saving Word2Vec object under adv_userseq_creat_type_cd_device_name_word2vec.model, separately None\n",
      "[2020-09-26 18:27:38] - utils.py[line:657] - INFO: not storing attribute vectors_norm\n",
      "[2020-09-26 18:27:38] - utils.py[line:657] - INFO: not storing attribute cum_table\n",
      "[2020-09-26 18:27:38] - utils.py[line:565] - INFO: saved adv_userseq_creat_type_cd_device_name_word2vec.model\n",
      "[2020-09-26 18:27:38] - utils.py[line:551] - INFO: saving Word2VecKeyedVectors object under adv_userseq_creat_type_cd_device_name_word2vec.kv, separately None\n"
     ]
    },
    {
     "name": "stdout",
     "output_type": "stream",
     "text": [
      "save start\n"
     ]
    },
    {
     "name": "stderr",
     "output_type": "stream",
     "text": [
      "[2020-09-26 18:27:38] - utils.py[line:657] - INFO: not storing attribute vectors_norm\n",
      "[2020-09-26 18:27:38] - utils.py[line:565] - INFO: saved adv_userseq_creat_type_cd_device_name_word2vec.kv\n",
      "[2020-09-26 18:27:38] - word2vec.py[line:1399] - INFO: collecting all words and their counts\n",
      "[2020-09-26 18:27:38] - word2vec.py[line:1384] - INFO: PROGRESS: at sentence #0, processed 0 words, keeping 0 word types\n",
      "[2020-09-26 18:27:39] - word2vec.py[line:1407] - INFO: collected 9 word types from a corpus of 1445488 raw words and 148 sentences\n",
      "[2020-09-26 18:27:39] - word2vec.py[line:1458] - INFO: Loading a fresh vocabulary\n",
      "[2020-09-26 18:27:39] - word2vec.py[line:1482] - INFO: effective_min_count=1 retains 9 unique words (100% of original 9, drops 0)\n",
      "[2020-09-26 18:27:39] - word2vec.py[line:1488] - INFO: effective_min_count=1 leaves 1445488 word corpus (100% of original 1445488, drops 0)\n",
      "[2020-09-26 18:27:39] - word2vec.py[line:1547] - INFO: deleting the raw counts dictionary of 9 items\n",
      "[2020-09-26 18:27:39] - word2vec.py[line:1550] - INFO: sample=0.001 downsamples 8 most-common words\n",
      "[2020-09-26 18:27:39] - word2vec.py[line:1553] - INFO: downsampling leaves estimated 115946 word corpus (8.0% of prior 1445488)\n",
      "[2020-09-26 18:27:39] - word2vec.py[line:1648] - INFO: constructing a huffman tree from 9 words\n",
      "[2020-09-26 18:27:39] - word2vec.py[line:1673] - INFO: built huffman tree with maximum node depth 6\n",
      "[2020-09-26 18:27:39] - base_any2vec.py[line:1008] - INFO: estimated required memory for 9 words and 64 dimensions: 13212 bytes\n",
      "[2020-09-26 18:27:39] - word2vec.py[line:1699] - INFO: resetting layer weights\n",
      "[2020-09-26 18:27:39] - base_any2vec.py[line:1196] - INFO: training model with -1 workers on 9 vocabulary and 64 features, using sg=0 hs=1 sample=0.001 negative=5 window=10000\n",
      "[2020-09-26 18:27:39] - base_any2vec.py[line:1332] - INFO: EPOCH - 1 : training on 0 raw words (0 effective words) took 0.0s, 0 effective words/s\n",
      "[2020-09-26 18:27:39] - base_any2vec.py[line:1343] - WARNING: EPOCH - 1 : supplied example count (0) did not equal expected count (148)\n",
      "[2020-09-26 18:27:39] - base_any2vec.py[line:1348] - WARNING: EPOCH - 1 : supplied raw word count (0) did not equal expected count (1445488)\n"
     ]
    },
    {
     "name": "stdout",
     "output_type": "stream",
     "text": [
      "Done\n",
      "LineSentence start\n",
      "Word2Vec start\n"
     ]
    },
    {
     "name": "stderr",
     "output_type": "stream",
     "text": [
      "[2020-09-26 18:27:39] - base_any2vec.py[line:1332] - INFO: EPOCH - 2 : training on 0 raw words (0 effective words) took 0.0s, 0 effective words/s\n",
      "[2020-09-26 18:27:39] - base_any2vec.py[line:1343] - WARNING: EPOCH - 2 : supplied example count (0) did not equal expected count (148)\n",
      "[2020-09-26 18:27:39] - base_any2vec.py[line:1348] - WARNING: EPOCH - 2 : supplied raw word count (0) did not equal expected count (1445488)\n",
      "[2020-09-26 18:27:39] - base_any2vec.py[line:1332] - INFO: EPOCH - 3 : training on 0 raw words (0 effective words) took 0.0s, 0 effective words/s\n",
      "[2020-09-26 18:27:39] - base_any2vec.py[line:1343] - WARNING: EPOCH - 3 : supplied example count (0) did not equal expected count (148)\n",
      "[2020-09-26 18:27:39] - base_any2vec.py[line:1348] - WARNING: EPOCH - 3 : supplied raw word count (0) did not equal expected count (1445488)\n",
      "[2020-09-26 18:27:39] - base_any2vec.py[line:1332] - INFO: EPOCH - 4 : training on 0 raw words (0 effective words) took 0.0s, 0 effective words/s\n",
      "[2020-09-26 18:27:39] - base_any2vec.py[line:1343] - WARNING: EPOCH - 4 : supplied example count (0) did not equal expected count (148)\n",
      "[2020-09-26 18:27:39] - base_any2vec.py[line:1348] - WARNING: EPOCH - 4 : supplied raw word count (0) did not equal expected count (1445488)\n",
      "[2020-09-26 18:27:39] - base_any2vec.py[line:1332] - INFO: EPOCH - 5 : training on 0 raw words (0 effective words) took 0.0s, 0 effective words/s\n",
      "[2020-09-26 18:27:39] - base_any2vec.py[line:1343] - WARNING: EPOCH - 5 : supplied example count (0) did not equal expected count (148)\n",
      "[2020-09-26 18:27:39] - base_any2vec.py[line:1348] - WARNING: EPOCH - 5 : supplied raw word count (0) did not equal expected count (1445488)\n",
      "[2020-09-26 18:27:39] - base_any2vec.py[line:1332] - INFO: EPOCH - 6 : training on 0 raw words (0 effective words) took 0.0s, 0 effective words/s\n",
      "[2020-09-26 18:27:39] - base_any2vec.py[line:1343] - WARNING: EPOCH - 6 : supplied example count (0) did not equal expected count (148)\n",
      "[2020-09-26 18:27:39] - base_any2vec.py[line:1348] - WARNING: EPOCH - 6 : supplied raw word count (0) did not equal expected count (1445488)\n",
      "[2020-09-26 18:27:39] - base_any2vec.py[line:1332] - INFO: EPOCH - 7 : training on 0 raw words (0 effective words) took 0.0s, 0 effective words/s\n",
      "[2020-09-26 18:27:39] - base_any2vec.py[line:1343] - WARNING: EPOCH - 7 : supplied example count (0) did not equal expected count (148)\n",
      "[2020-09-26 18:27:39] - base_any2vec.py[line:1348] - WARNING: EPOCH - 7 : supplied raw word count (0) did not equal expected count (1445488)\n",
      "[2020-09-26 18:27:39] - base_any2vec.py[line:1332] - INFO: EPOCH - 8 : training on 0 raw words (0 effective words) took 0.0s, 0 effective words/s\n",
      "[2020-09-26 18:27:39] - base_any2vec.py[line:1343] - WARNING: EPOCH - 8 : supplied example count (0) did not equal expected count (148)\n",
      "[2020-09-26 18:27:39] - base_any2vec.py[line:1348] - WARNING: EPOCH - 8 : supplied raw word count (0) did not equal expected count (1445488)\n",
      "[2020-09-26 18:27:39] - base_any2vec.py[line:1332] - INFO: EPOCH - 9 : training on 0 raw words (0 effective words) took 0.0s, 0 effective words/s\n",
      "[2020-09-26 18:27:39] - base_any2vec.py[line:1343] - WARNING: EPOCH - 9 : supplied example count (0) did not equal expected count (148)\n",
      "[2020-09-26 18:27:39] - base_any2vec.py[line:1348] - WARNING: EPOCH - 9 : supplied raw word count (0) did not equal expected count (1445488)\n",
      "[2020-09-26 18:27:39] - base_any2vec.py[line:1332] - INFO: EPOCH - 10 : training on 0 raw words (0 effective words) took 0.0s, 0 effective words/s\n",
      "[2020-09-26 18:27:39] - base_any2vec.py[line:1343] - WARNING: EPOCH - 10 : supplied example count (0) did not equal expected count (148)\n",
      "[2020-09-26 18:27:39] - base_any2vec.py[line:1348] - WARNING: EPOCH - 10 : supplied raw word count (0) did not equal expected count (1445488)\n",
      "[2020-09-26 18:27:39] - base_any2vec.py[line:1368] - INFO: training on a 0 raw words (0 effective words) took 0.4s, 0 effective words/s\n",
      "[2020-09-26 18:27:39] - utils.py[line:551] - INFO: saving Word2Vec object under adv_userseq_creat_type_cd_career_word2vec.model, separately None\n",
      "[2020-09-26 18:27:39] - utils.py[line:657] - INFO: not storing attribute vectors_norm\n",
      "[2020-09-26 18:27:39] - utils.py[line:657] - INFO: not storing attribute cum_table\n",
      "[2020-09-26 18:27:39] - utils.py[line:565] - INFO: saved adv_userseq_creat_type_cd_career_word2vec.model\n",
      "[2020-09-26 18:27:39] - utils.py[line:551] - INFO: saving Word2VecKeyedVectors object under adv_userseq_creat_type_cd_career_word2vec.kv, separately None\n",
      "[2020-09-26 18:27:39] - utils.py[line:657] - INFO: not storing attribute vectors_norm\n",
      "[2020-09-26 18:27:39] - utils.py[line:565] - INFO: saved adv_userseq_creat_type_cd_career_word2vec.kv\n",
      "[2020-09-26 18:27:39] - word2vec.py[line:1399] - INFO: collecting all words and their counts\n",
      "[2020-09-26 18:27:39] - word2vec.py[line:1384] - INFO: PROGRESS: at sentence #0, processed 0 words, keeping 0 word types\n"
     ]
    },
    {
     "name": "stdout",
     "output_type": "stream",
     "text": [
      "save start\n",
      "Done\n",
      "LineSentence start\n",
      "Word2Vec start\n"
     ]
    },
    {
     "name": "stderr",
     "output_type": "stream",
     "text": [
      "[2020-09-26 18:27:39] - word2vec.py[line:1407] - INFO: collected 3 word types from a corpus of 1445488 raw words and 148 sentences\n",
      "[2020-09-26 18:27:39] - word2vec.py[line:1458] - INFO: Loading a fresh vocabulary\n",
      "[2020-09-26 18:27:39] - word2vec.py[line:1482] - INFO: effective_min_count=1 retains 3 unique words (100% of original 3, drops 0)\n",
      "[2020-09-26 18:27:39] - word2vec.py[line:1488] - INFO: effective_min_count=1 leaves 1445488 word corpus (100% of original 1445488, drops 0)\n",
      "[2020-09-26 18:27:39] - word2vec.py[line:1547] - INFO: deleting the raw counts dictionary of 3 items\n",
      "[2020-09-26 18:27:39] - word2vec.py[line:1550] - INFO: sample=0.001 downsamples 3 most-common words\n",
      "[2020-09-26 18:27:39] - word2vec.py[line:1553] - INFO: downsampling leaves estimated 73255 word corpus (5.1% of prior 1445488)\n",
      "[2020-09-26 18:27:39] - word2vec.py[line:1648] - INFO: constructing a huffman tree from 3 words\n",
      "[2020-09-26 18:27:39] - word2vec.py[line:1673] - INFO: built huffman tree with maximum node depth 2\n",
      "[2020-09-26 18:27:39] - base_any2vec.py[line:1008] - INFO: estimated required memory for 3 words and 64 dimensions: 4404 bytes\n",
      "[2020-09-26 18:27:39] - word2vec.py[line:1699] - INFO: resetting layer weights\n",
      "[2020-09-26 18:27:39] - base_any2vec.py[line:1196] - INFO: training model with -1 workers on 3 vocabulary and 64 features, using sg=0 hs=1 sample=0.001 negative=5 window=10000\n",
      "[2020-09-26 18:27:39] - base_any2vec.py[line:1332] - INFO: EPOCH - 1 : training on 0 raw words (0 effective words) took 0.0s, 0 effective words/s\n",
      "[2020-09-26 18:27:39] - base_any2vec.py[line:1343] - WARNING: EPOCH - 1 : supplied example count (0) did not equal expected count (148)\n",
      "[2020-09-26 18:27:39] - base_any2vec.py[line:1348] - WARNING: EPOCH - 1 : supplied raw word count (0) did not equal expected count (1445488)\n",
      "[2020-09-26 18:27:39] - base_any2vec.py[line:1332] - INFO: EPOCH - 2 : training on 0 raw words (0 effective words) took 0.0s, 0 effective words/s\n",
      "[2020-09-26 18:27:39] - base_any2vec.py[line:1343] - WARNING: EPOCH - 2 : supplied example count (0) did not equal expected count (148)\n",
      "[2020-09-26 18:27:39] - base_any2vec.py[line:1348] - WARNING: EPOCH - 2 : supplied raw word count (0) did not equal expected count (1445488)\n",
      "[2020-09-26 18:27:39] - base_any2vec.py[line:1332] - INFO: EPOCH - 3 : training on 0 raw words (0 effective words) took 0.0s, 0 effective words/s\n",
      "[2020-09-26 18:27:39] - base_any2vec.py[line:1343] - WARNING: EPOCH - 3 : supplied example count (0) did not equal expected count (148)\n",
      "[2020-09-26 18:27:39] - base_any2vec.py[line:1348] - WARNING: EPOCH - 3 : supplied raw word count (0) did not equal expected count (1445488)\n",
      "[2020-09-26 18:27:39] - base_any2vec.py[line:1332] - INFO: EPOCH - 4 : training on 0 raw words (0 effective words) took 0.0s, 0 effective words/s\n",
      "[2020-09-26 18:27:39] - base_any2vec.py[line:1343] - WARNING: EPOCH - 4 : supplied example count (0) did not equal expected count (148)\n",
      "[2020-09-26 18:27:39] - base_any2vec.py[line:1348] - WARNING: EPOCH - 4 : supplied raw word count (0) did not equal expected count (1445488)\n",
      "[2020-09-26 18:27:39] - base_any2vec.py[line:1332] - INFO: EPOCH - 5 : training on 0 raw words (0 effective words) took 0.0s, 0 effective words/s\n",
      "[2020-09-26 18:27:39] - base_any2vec.py[line:1343] - WARNING: EPOCH - 5 : supplied example count (0) did not equal expected count (148)\n",
      "[2020-09-26 18:27:39] - base_any2vec.py[line:1348] - WARNING: EPOCH - 5 : supplied raw word count (0) did not equal expected count (1445488)\n",
      "[2020-09-26 18:27:39] - base_any2vec.py[line:1332] - INFO: EPOCH - 6 : training on 0 raw words (0 effective words) took 0.0s, 0 effective words/s\n",
      "[2020-09-26 18:27:39] - base_any2vec.py[line:1343] - WARNING: EPOCH - 6 : supplied example count (0) did not equal expected count (148)\n",
      "[2020-09-26 18:27:39] - base_any2vec.py[line:1348] - WARNING: EPOCH - 6 : supplied raw word count (0) did not equal expected count (1445488)\n",
      "[2020-09-26 18:27:39] - base_any2vec.py[line:1332] - INFO: EPOCH - 7 : training on 0 raw words (0 effective words) took 0.0s, 0 effective words/s\n",
      "[2020-09-26 18:27:39] - base_any2vec.py[line:1343] - WARNING: EPOCH - 7 : supplied example count (0) did not equal expected count (148)\n",
      "[2020-09-26 18:27:39] - base_any2vec.py[line:1348] - WARNING: EPOCH - 7 : supplied raw word count (0) did not equal expected count (1445488)\n",
      "[2020-09-26 18:27:39] - base_any2vec.py[line:1332] - INFO: EPOCH - 8 : training on 0 raw words (0 effective words) took 0.0s, 0 effective words/s\n",
      "[2020-09-26 18:27:39] - base_any2vec.py[line:1343] - WARNING: EPOCH - 8 : supplied example count (0) did not equal expected count (148)\n",
      "[2020-09-26 18:27:40] - base_any2vec.py[line:1348] - WARNING: EPOCH - 8 : supplied raw word count (0) did not equal expected count (1445488)\n",
      "[2020-09-26 18:27:40] - base_any2vec.py[line:1332] - INFO: EPOCH - 9 : training on 0 raw words (0 effective words) took 0.0s, 0 effective words/s\n",
      "[2020-09-26 18:27:40] - base_any2vec.py[line:1343] - WARNING: EPOCH - 9 : supplied example count (0) did not equal expected count (148)\n",
      "[2020-09-26 18:27:40] - base_any2vec.py[line:1348] - WARNING: EPOCH - 9 : supplied raw word count (0) did not equal expected count (1445488)\n",
      "[2020-09-26 18:27:40] - base_any2vec.py[line:1332] - INFO: EPOCH - 10 : training on 0 raw words (0 effective words) took 0.0s, 0 effective words/s\n",
      "[2020-09-26 18:27:40] - base_any2vec.py[line:1343] - WARNING: EPOCH - 10 : supplied example count (0) did not equal expected count (148)\n",
      "[2020-09-26 18:27:40] - base_any2vec.py[line:1348] - WARNING: EPOCH - 10 : supplied raw word count (0) did not equal expected count (1445488)\n",
      "[2020-09-26 18:27:40] - base_any2vec.py[line:1368] - INFO: training on a 0 raw words (0 effective words) took 0.5s, 0 effective words/s\n",
      "[2020-09-26 18:27:40] - utils.py[line:551] - INFO: saving Word2Vec object under adv_userseq_creat_type_cd_gender_word2vec.model, separately None\n",
      "[2020-09-26 18:27:40] - utils.py[line:657] - INFO: not storing attribute vectors_norm\n",
      "[2020-09-26 18:27:40] - utils.py[line:657] - INFO: not storing attribute cum_table\n",
      "[2020-09-26 18:27:40] - utils.py[line:565] - INFO: saved adv_userseq_creat_type_cd_gender_word2vec.model\n",
      "[2020-09-26 18:27:40] - utils.py[line:551] - INFO: saving Word2VecKeyedVectors object under adv_userseq_creat_type_cd_gender_word2vec.kv, separately None\n",
      "[2020-09-26 18:27:40] - utils.py[line:657] - INFO: not storing attribute vectors_norm\n",
      "[2020-09-26 18:27:40] - utils.py[line:565] - INFO: saved adv_userseq_creat_type_cd_gender_word2vec.kv\n",
      "[2020-09-26 18:27:40] - word2vec.py[line:1399] - INFO: collecting all words and their counts\n",
      "[2020-09-26 18:27:40] - word2vec.py[line:1384] - INFO: PROGRESS: at sentence #0, processed 0 words, keeping 0 word types\n"
     ]
    },
    {
     "name": "stdout",
     "output_type": "stream",
     "text": [
      "save start\n",
      "Done\n",
      "LineSentence start\n",
      "Word2Vec start\n"
     ]
    },
    {
     "name": "stderr",
     "output_type": "stream",
     "text": [
      "[2020-09-26 18:27:40] - word2vec.py[line:1407] - INFO: collected 36 word types from a corpus of 1445488 raw words and 148 sentences\n",
      "[2020-09-26 18:27:40] - word2vec.py[line:1458] - INFO: Loading a fresh vocabulary\n",
      "[2020-09-26 18:27:40] - word2vec.py[line:1482] - INFO: effective_min_count=1 retains 36 unique words (100% of original 36, drops 0)\n",
      "[2020-09-26 18:27:40] - word2vec.py[line:1488] - INFO: effective_min_count=1 leaves 1445488 word corpus (100% of original 1445488, drops 0)\n",
      "[2020-09-26 18:27:40] - word2vec.py[line:1547] - INFO: deleting the raw counts dictionary of 36 items\n",
      "[2020-09-26 18:27:40] - word2vec.py[line:1550] - INFO: sample=0.001 downsamples 31 most-common words\n",
      "[2020-09-26 18:27:40] - word2vec.py[line:1553] - INFO: downsampling leaves estimated 288175 word corpus (19.9% of prior 1445488)\n",
      "[2020-09-26 18:27:40] - word2vec.py[line:1648] - INFO: constructing a huffman tree from 36 words\n",
      "[2020-09-26 18:27:40] - word2vec.py[line:1673] - INFO: built huffman tree with maximum node depth 12\n",
      "[2020-09-26 18:27:40] - base_any2vec.py[line:1008] - INFO: estimated required memory for 36 words and 64 dimensions: 52848 bytes\n",
      "[2020-09-26 18:27:40] - word2vec.py[line:1699] - INFO: resetting layer weights\n",
      "[2020-09-26 18:27:40] - base_any2vec.py[line:1196] - INFO: training model with -1 workers on 36 vocabulary and 64 features, using sg=0 hs=1 sample=0.001 negative=5 window=10000\n",
      "[2020-09-26 18:27:40] - base_any2vec.py[line:1332] - INFO: EPOCH - 1 : training on 0 raw words (0 effective words) took 0.0s, 0 effective words/s\n",
      "[2020-09-26 18:27:40] - base_any2vec.py[line:1343] - WARNING: EPOCH - 1 : supplied example count (0) did not equal expected count (148)\n",
      "[2020-09-26 18:27:40] - base_any2vec.py[line:1348] - WARNING: EPOCH - 1 : supplied raw word count (0) did not equal expected count (1445488)\n",
      "[2020-09-26 18:27:40] - base_any2vec.py[line:1332] - INFO: EPOCH - 2 : training on 0 raw words (0 effective words) took 0.0s, 0 effective words/s\n",
      "[2020-09-26 18:27:40] - base_any2vec.py[line:1343] - WARNING: EPOCH - 2 : supplied example count (0) did not equal expected count (148)\n",
      "[2020-09-26 18:27:40] - base_any2vec.py[line:1348] - WARNING: EPOCH - 2 : supplied raw word count (0) did not equal expected count (1445488)\n",
      "[2020-09-26 18:27:40] - base_any2vec.py[line:1332] - INFO: EPOCH - 3 : training on 0 raw words (0 effective words) took 0.0s, 0 effective words/s\n",
      "[2020-09-26 18:27:40] - base_any2vec.py[line:1343] - WARNING: EPOCH - 3 : supplied example count (0) did not equal expected count (148)\n",
      "[2020-09-26 18:27:40] - base_any2vec.py[line:1348] - WARNING: EPOCH - 3 : supplied raw word count (0) did not equal expected count (1445488)\n",
      "[2020-09-26 18:27:40] - base_any2vec.py[line:1332] - INFO: EPOCH - 4 : training on 0 raw words (0 effective words) took 0.0s, 0 effective words/s\n",
      "[2020-09-26 18:27:40] - base_any2vec.py[line:1343] - WARNING: EPOCH - 4 : supplied example count (0) did not equal expected count (148)\n",
      "[2020-09-26 18:27:40] - base_any2vec.py[line:1348] - WARNING: EPOCH - 4 : supplied raw word count (0) did not equal expected count (1445488)\n",
      "[2020-09-26 18:27:40] - base_any2vec.py[line:1332] - INFO: EPOCH - 5 : training on 0 raw words (0 effective words) took 0.0s, 0 effective words/s\n",
      "[2020-09-26 18:27:40] - base_any2vec.py[line:1343] - WARNING: EPOCH - 5 : supplied example count (0) did not equal expected count (148)\n",
      "[2020-09-26 18:27:40] - base_any2vec.py[line:1348] - WARNING: EPOCH - 5 : supplied raw word count (0) did not equal expected count (1445488)\n",
      "[2020-09-26 18:27:40] - base_any2vec.py[line:1332] - INFO: EPOCH - 6 : training on 0 raw words (0 effective words) took 0.0s, 0 effective words/s\n",
      "[2020-09-26 18:27:40] - base_any2vec.py[line:1343] - WARNING: EPOCH - 6 : supplied example count (0) did not equal expected count (148)\n",
      "[2020-09-26 18:27:40] - base_any2vec.py[line:1348] - WARNING: EPOCH - 6 : supplied raw word count (0) did not equal expected count (1445488)\n",
      "[2020-09-26 18:27:40] - base_any2vec.py[line:1332] - INFO: EPOCH - 7 : training on 0 raw words (0 effective words) took 0.0s, 0 effective words/s\n",
      "[2020-09-26 18:27:41] - base_any2vec.py[line:1343] - WARNING: EPOCH - 7 : supplied example count (0) did not equal expected count (148)\n",
      "[2020-09-26 18:27:41] - base_any2vec.py[line:1348] - WARNING: EPOCH - 7 : supplied raw word count (0) did not equal expected count (1445488)\n",
      "[2020-09-26 18:27:41] - base_any2vec.py[line:1332] - INFO: EPOCH - 8 : training on 0 raw words (0 effective words) took 0.0s, 0 effective words/s\n",
      "[2020-09-26 18:27:41] - base_any2vec.py[line:1343] - WARNING: EPOCH - 8 : supplied example count (0) did not equal expected count (148)\n",
      "[2020-09-26 18:27:41] - base_any2vec.py[line:1348] - WARNING: EPOCH - 8 : supplied raw word count (0) did not equal expected count (1445488)\n",
      "[2020-09-26 18:27:41] - base_any2vec.py[line:1332] - INFO: EPOCH - 9 : training on 0 raw words (0 effective words) took 0.0s, 0 effective words/s\n",
      "[2020-09-26 18:27:41] - base_any2vec.py[line:1343] - WARNING: EPOCH - 9 : supplied example count (0) did not equal expected count (148)\n",
      "[2020-09-26 18:27:41] - base_any2vec.py[line:1348] - WARNING: EPOCH - 9 : supplied raw word count (0) did not equal expected count (1445488)\n",
      "[2020-09-26 18:27:41] - base_any2vec.py[line:1332] - INFO: EPOCH - 10 : training on 0 raw words (0 effective words) took 0.0s, 0 effective words/s\n",
      "[2020-09-26 18:27:41] - base_any2vec.py[line:1343] - WARNING: EPOCH - 10 : supplied example count (0) did not equal expected count (148)\n",
      "[2020-09-26 18:27:41] - base_any2vec.py[line:1348] - WARNING: EPOCH - 10 : supplied raw word count (0) did not equal expected count (1445488)\n",
      "[2020-09-26 18:27:41] - base_any2vec.py[line:1368] - INFO: training on a 0 raw words (0 effective words) took 1.2s, 0 effective words/s\n",
      "[2020-09-26 18:27:41] - utils.py[line:551] - INFO: saving Word2Vec object under adv_userseq_creat_type_cd_residence_word2vec.model, separately None\n",
      "[2020-09-26 18:27:41] - utils.py[line:657] - INFO: not storing attribute vectors_norm\n",
      "[2020-09-26 18:27:42] - utils.py[line:657] - INFO: not storing attribute cum_table\n",
      "[2020-09-26 18:27:42] - utils.py[line:565] - INFO: saved adv_userseq_creat_type_cd_residence_word2vec.model\n"
     ]
    },
    {
     "name": "stdout",
     "output_type": "stream",
     "text": [
      "save start\n"
     ]
    },
    {
     "name": "stderr",
     "output_type": "stream",
     "text": [
      "[2020-09-26 18:27:42] - utils.py[line:551] - INFO: saving Word2VecKeyedVectors object under adv_userseq_creat_type_cd_residence_word2vec.kv, separately None\n",
      "[2020-09-26 18:27:42] - utils.py[line:657] - INFO: not storing attribute vectors_norm\n",
      "[2020-09-26 18:27:42] - utils.py[line:565] - INFO: saved adv_userseq_creat_type_cd_residence_word2vec.kv\n",
      "[2020-09-26 18:27:42] - word2vec.py[line:1399] - INFO: collecting all words and their counts\n",
      "[2020-09-26 18:27:42] - word2vec.py[line:1384] - INFO: PROGRESS: at sentence #0, processed 0 words, keeping 0 word types\n",
      "[2020-09-26 18:27:42] - word2vec.py[line:1407] - INFO: collected 9 word types from a corpus of 1445492 raw words and 174 sentences\n",
      "[2020-09-26 18:27:42] - word2vec.py[line:1458] - INFO: Loading a fresh vocabulary\n",
      "[2020-09-26 18:27:42] - word2vec.py[line:1482] - INFO: effective_min_count=1 retains 9 unique words (100% of original 9, drops 0)\n",
      "[2020-09-26 18:27:42] - word2vec.py[line:1488] - INFO: effective_min_count=1 leaves 1445492 word corpus (100% of original 1445492, drops 0)\n",
      "[2020-09-26 18:27:42] - word2vec.py[line:1547] - INFO: deleting the raw counts dictionary of 9 items\n",
      "[2020-09-26 18:27:42] - word2vec.py[line:1550] - INFO: sample=0.001 downsamples 8 most-common words\n",
      "[2020-09-26 18:27:42] - word2vec.py[line:1553] - INFO: downsampling leaves estimated 128625 word corpus (8.9% of prior 1445492)\n",
      "[2020-09-26 18:27:42] - word2vec.py[line:1648] - INFO: constructing a huffman tree from 9 words\n",
      "[2020-09-26 18:27:42] - word2vec.py[line:1673] - INFO: built huffman tree with maximum node depth 6\n",
      "[2020-09-26 18:27:42] - base_any2vec.py[line:1008] - INFO: estimated required memory for 9 words and 64 dimensions: 13212 bytes\n",
      "[2020-09-26 18:27:42] - word2vec.py[line:1699] - INFO: resetting layer weights\n",
      "[2020-09-26 18:27:42] - base_any2vec.py[line:1196] - INFO: training model with -1 workers on 9 vocabulary and 64 features, using sg=0 hs=1 sample=0.001 negative=5 window=10000\n",
      "[2020-09-26 18:27:42] - base_any2vec.py[line:1332] - INFO: EPOCH - 1 : training on 0 raw words (0 effective words) took 0.0s, 0 effective words/s\n",
      "[2020-09-26 18:27:42] - base_any2vec.py[line:1343] - WARNING: EPOCH - 1 : supplied example count (0) did not equal expected count (174)\n",
      "[2020-09-26 18:27:42] - base_any2vec.py[line:1348] - WARNING: EPOCH - 1 : supplied raw word count (0) did not equal expected count (1445492)\n",
      "[2020-09-26 18:27:42] - base_any2vec.py[line:1332] - INFO: EPOCH - 2 : training on 0 raw words (0 effective words) took 0.0s, 0 effective words/s\n",
      "[2020-09-26 18:27:42] - base_any2vec.py[line:1343] - WARNING: EPOCH - 2 : supplied example count (0) did not equal expected count (174)\n",
      "[2020-09-26 18:27:42] - base_any2vec.py[line:1348] - WARNING: EPOCH - 2 : supplied raw word count (0) did not equal expected count (1445492)\n"
     ]
    },
    {
     "name": "stdout",
     "output_type": "stream",
     "text": [
      "Done\n",
      "LineSentence start\n",
      "Word2Vec start\n"
     ]
    },
    {
     "name": "stderr",
     "output_type": "stream",
     "text": [
      "[2020-09-26 18:27:42] - base_any2vec.py[line:1332] - INFO: EPOCH - 3 : training on 0 raw words (0 effective words) took 0.0s, 0 effective words/s\n",
      "[2020-09-26 18:27:42] - base_any2vec.py[line:1343] - WARNING: EPOCH - 3 : supplied example count (0) did not equal expected count (174)\n",
      "[2020-09-26 18:27:42] - base_any2vec.py[line:1348] - WARNING: EPOCH - 3 : supplied raw word count (0) did not equal expected count (1445492)\n",
      "[2020-09-26 18:27:42] - base_any2vec.py[line:1332] - INFO: EPOCH - 4 : training on 0 raw words (0 effective words) took 0.0s, 0 effective words/s\n",
      "[2020-09-26 18:27:42] - base_any2vec.py[line:1343] - WARNING: EPOCH - 4 : supplied example count (0) did not equal expected count (174)\n",
      "[2020-09-26 18:27:42] - base_any2vec.py[line:1348] - WARNING: EPOCH - 4 : supplied raw word count (0) did not equal expected count (1445492)\n",
      "[2020-09-26 18:27:42] - base_any2vec.py[line:1332] - INFO: EPOCH - 5 : training on 0 raw words (0 effective words) took 0.0s, 0 effective words/s\n",
      "[2020-09-26 18:27:42] - base_any2vec.py[line:1343] - WARNING: EPOCH - 5 : supplied example count (0) did not equal expected count (174)\n",
      "[2020-09-26 18:27:42] - base_any2vec.py[line:1348] - WARNING: EPOCH - 5 : supplied raw word count (0) did not equal expected count (1445492)\n",
      "[2020-09-26 18:27:42] - base_any2vec.py[line:1332] - INFO: EPOCH - 6 : training on 0 raw words (0 effective words) took 0.0s, 0 effective words/s\n",
      "[2020-09-26 18:27:42] - base_any2vec.py[line:1343] - WARNING: EPOCH - 6 : supplied example count (0) did not equal expected count (174)\n",
      "[2020-09-26 18:27:42] - base_any2vec.py[line:1348] - WARNING: EPOCH - 6 : supplied raw word count (0) did not equal expected count (1445492)\n",
      "[2020-09-26 18:27:42] - base_any2vec.py[line:1332] - INFO: EPOCH - 7 : training on 0 raw words (0 effective words) took 0.0s, 0 effective words/s\n",
      "[2020-09-26 18:27:42] - base_any2vec.py[line:1343] - WARNING: EPOCH - 7 : supplied example count (0) did not equal expected count (174)\n",
      "[2020-09-26 18:27:42] - base_any2vec.py[line:1348] - WARNING: EPOCH - 7 : supplied raw word count (0) did not equal expected count (1445492)\n",
      "[2020-09-26 18:27:42] - base_any2vec.py[line:1332] - INFO: EPOCH - 8 : training on 0 raw words (0 effective words) took 0.0s, 0 effective words/s\n",
      "[2020-09-26 18:27:42] - base_any2vec.py[line:1343] - WARNING: EPOCH - 8 : supplied example count (0) did not equal expected count (174)\n",
      "[2020-09-26 18:27:42] - base_any2vec.py[line:1348] - WARNING: EPOCH - 8 : supplied raw word count (0) did not equal expected count (1445492)\n",
      "[2020-09-26 18:27:42] - base_any2vec.py[line:1332] - INFO: EPOCH - 9 : training on 0 raw words (0 effective words) took 0.0s, 0 effective words/s\n",
      "[2020-09-26 18:27:42] - base_any2vec.py[line:1343] - WARNING: EPOCH - 9 : supplied example count (0) did not equal expected count (174)\n",
      "[2020-09-26 18:27:42] - base_any2vec.py[line:1348] - WARNING: EPOCH - 9 : supplied raw word count (0) did not equal expected count (1445492)\n",
      "[2020-09-26 18:27:42] - base_any2vec.py[line:1332] - INFO: EPOCH - 10 : training on 0 raw words (0 effective words) took 0.0s, 0 effective words/s\n",
      "[2020-09-26 18:27:42] - base_any2vec.py[line:1343] - WARNING: EPOCH - 10 : supplied example count (0) did not equal expected count (174)\n",
      "[2020-09-26 18:27:42] - base_any2vec.py[line:1348] - WARNING: EPOCH - 10 : supplied raw word count (0) did not equal expected count (1445492)\n",
      "[2020-09-26 18:27:42] - base_any2vec.py[line:1368] - INFO: training on a 0 raw words (0 effective words) took 0.5s, 0 effective words/s\n",
      "[2020-09-26 18:27:42] - utils.py[line:551] - INFO: saving Word2Vec object under adv_userseq_indu_name_age_word2vec.model, separately None\n",
      "[2020-09-26 18:27:42] - utils.py[line:657] - INFO: not storing attribute vectors_norm\n",
      "[2020-09-26 18:27:42] - utils.py[line:657] - INFO: not storing attribute cum_table\n",
      "[2020-09-26 18:27:42] - utils.py[line:565] - INFO: saved adv_userseq_indu_name_age_word2vec.model\n",
      "[2020-09-26 18:27:42] - utils.py[line:551] - INFO: saving Word2VecKeyedVectors object under adv_userseq_indu_name_age_word2vec.kv, separately None\n",
      "[2020-09-26 18:27:42] - utils.py[line:657] - INFO: not storing attribute vectors_norm\n",
      "[2020-09-26 18:27:42] - utils.py[line:565] - INFO: saved adv_userseq_indu_name_age_word2vec.kv\n",
      "[2020-09-26 18:27:42] - word2vec.py[line:1399] - INFO: collecting all words and their counts\n",
      "[2020-09-26 18:27:42] - word2vec.py[line:1384] - INFO: PROGRESS: at sentence #0, processed 0 words, keeping 0 word types\n"
     ]
    },
    {
     "name": "stdout",
     "output_type": "stream",
     "text": [
      "save start\n",
      "Done\n",
      "LineSentence start\n",
      "Word2Vec start\n"
     ]
    },
    {
     "name": "stderr",
     "output_type": "stream",
     "text": [
      "[2020-09-26 18:27:43] - word2vec.py[line:1407] - INFO: collected 345 word types from a corpus of 1445492 raw words and 174 sentences\n",
      "[2020-09-26 18:27:43] - word2vec.py[line:1458] - INFO: Loading a fresh vocabulary\n",
      "[2020-09-26 18:27:43] - word2vec.py[line:1482] - INFO: effective_min_count=1 retains 345 unique words (100% of original 345, drops 0)\n",
      "[2020-09-26 18:27:43] - word2vec.py[line:1488] - INFO: effective_min_count=1 leaves 1445492 word corpus (100% of original 1445492, drops 0)\n",
      "[2020-09-26 18:27:43] - word2vec.py[line:1547] - INFO: deleting the raw counts dictionary of 345 items\n",
      "[2020-09-26 18:27:43] - word2vec.py[line:1550] - INFO: sample=0.001 downsamples 98 most-common words\n",
      "[2020-09-26 18:27:43] - word2vec.py[line:1553] - INFO: downsampling leaves estimated 911355 word corpus (63.0% of prior 1445492)\n",
      "[2020-09-26 18:27:43] - word2vec.py[line:1648] - INFO: constructing a huffman tree from 345 words\n",
      "[2020-09-26 18:27:43] - word2vec.py[line:1673] - INFO: built huffman tree with maximum node depth 18\n",
      "[2020-09-26 18:27:43] - base_any2vec.py[line:1008] - INFO: estimated required memory for 345 words and 64 dimensions: 506460 bytes\n",
      "[2020-09-26 18:27:43] - word2vec.py[line:1699] - INFO: resetting layer weights\n",
      "[2020-09-26 18:27:43] - base_any2vec.py[line:1196] - INFO: training model with -1 workers on 345 vocabulary and 64 features, using sg=0 hs=1 sample=0.001 negative=5 window=10000\n",
      "[2020-09-26 18:27:43] - base_any2vec.py[line:1332] - INFO: EPOCH - 1 : training on 0 raw words (0 effective words) took 0.0s, 0 effective words/s\n",
      "[2020-09-26 18:27:43] - base_any2vec.py[line:1343] - WARNING: EPOCH - 1 : supplied example count (0) did not equal expected count (174)\n",
      "[2020-09-26 18:27:43] - base_any2vec.py[line:1348] - WARNING: EPOCH - 1 : supplied raw word count (0) did not equal expected count (1445492)\n",
      "[2020-09-26 18:27:43] - base_any2vec.py[line:1332] - INFO: EPOCH - 2 : training on 0 raw words (0 effective words) took 0.0s, 0 effective words/s\n",
      "[2020-09-26 18:27:43] - base_any2vec.py[line:1343] - WARNING: EPOCH - 2 : supplied example count (0) did not equal expected count (174)\n",
      "[2020-09-26 18:27:43] - base_any2vec.py[line:1348] - WARNING: EPOCH - 2 : supplied raw word count (0) did not equal expected count (1445492)\n",
      "[2020-09-26 18:27:43] - base_any2vec.py[line:1332] - INFO: EPOCH - 3 : training on 0 raw words (0 effective words) took 0.0s, 0 effective words/s\n",
      "[2020-09-26 18:27:43] - base_any2vec.py[line:1343] - WARNING: EPOCH - 3 : supplied example count (0) did not equal expected count (174)\n",
      "[2020-09-26 18:27:43] - base_any2vec.py[line:1348] - WARNING: EPOCH - 3 : supplied raw word count (0) did not equal expected count (1445492)\n",
      "[2020-09-26 18:27:43] - base_any2vec.py[line:1332] - INFO: EPOCH - 4 : training on 0 raw words (0 effective words) took 0.0s, 0 effective words/s\n",
      "[2020-09-26 18:27:43] - base_any2vec.py[line:1343] - WARNING: EPOCH - 4 : supplied example count (0) did not equal expected count (174)\n",
      "[2020-09-26 18:27:43] - base_any2vec.py[line:1348] - WARNING: EPOCH - 4 : supplied raw word count (0) did not equal expected count (1445492)\n",
      "[2020-09-26 18:27:43] - base_any2vec.py[line:1332] - INFO: EPOCH - 5 : training on 0 raw words (0 effective words) took 0.0s, 0 effective words/s\n",
      "[2020-09-26 18:27:43] - base_any2vec.py[line:1343] - WARNING: EPOCH - 5 : supplied example count (0) did not equal expected count (174)\n",
      "[2020-09-26 18:27:43] - base_any2vec.py[line:1348] - WARNING: EPOCH - 5 : supplied raw word count (0) did not equal expected count (1445492)\n",
      "[2020-09-26 18:27:44] - base_any2vec.py[line:1332] - INFO: EPOCH - 6 : training on 0 raw words (0 effective words) took 0.0s, 0 effective words/s\n",
      "[2020-09-26 18:27:44] - base_any2vec.py[line:1343] - WARNING: EPOCH - 6 : supplied example count (0) did not equal expected count (174)\n",
      "[2020-09-26 18:27:44] - base_any2vec.py[line:1348] - WARNING: EPOCH - 6 : supplied raw word count (0) did not equal expected count (1445492)\n",
      "[2020-09-26 18:27:44] - base_any2vec.py[line:1332] - INFO: EPOCH - 7 : training on 0 raw words (0 effective words) took 0.0s, 0 effective words/s\n",
      "[2020-09-26 18:27:44] - base_any2vec.py[line:1343] - WARNING: EPOCH - 7 : supplied example count (0) did not equal expected count (174)\n",
      "[2020-09-26 18:27:44] - base_any2vec.py[line:1348] - WARNING: EPOCH - 7 : supplied raw word count (0) did not equal expected count (1445492)\n",
      "[2020-09-26 18:27:44] - base_any2vec.py[line:1332] - INFO: EPOCH - 8 : training on 0 raw words (0 effective words) took 0.0s, 0 effective words/s\n",
      "[2020-09-26 18:27:44] - base_any2vec.py[line:1343] - WARNING: EPOCH - 8 : supplied example count (0) did not equal expected count (174)\n",
      "[2020-09-26 18:27:44] - base_any2vec.py[line:1348] - WARNING: EPOCH - 8 : supplied raw word count (0) did not equal expected count (1445492)\n",
      "[2020-09-26 18:27:44] - base_any2vec.py[line:1332] - INFO: EPOCH - 9 : training on 0 raw words (0 effective words) took 0.0s, 0 effective words/s\n",
      "[2020-09-26 18:27:44] - base_any2vec.py[line:1343] - WARNING: EPOCH - 9 : supplied example count (0) did not equal expected count (174)\n",
      "[2020-09-26 18:27:44] - base_any2vec.py[line:1348] - WARNING: EPOCH - 9 : supplied raw word count (0) did not equal expected count (1445492)\n",
      "[2020-09-26 18:27:44] - base_any2vec.py[line:1332] - INFO: EPOCH - 10 : training on 0 raw words (0 effective words) took 0.0s, 0 effective words/s\n",
      "[2020-09-26 18:27:44] - base_any2vec.py[line:1343] - WARNING: EPOCH - 10 : supplied example count (0) did not equal expected count (174)\n",
      "[2020-09-26 18:27:44] - base_any2vec.py[line:1348] - WARNING: EPOCH - 10 : supplied raw word count (0) did not equal expected count (1445492)\n",
      "[2020-09-26 18:27:44] - base_any2vec.py[line:1368] - INFO: training on a 0 raw words (0 effective words) took 1.3s, 0 effective words/s\n",
      "[2020-09-26 18:27:44] - utils.py[line:551] - INFO: saving Word2Vec object under adv_userseq_indu_name_city_word2vec.model, separately None\n",
      "[2020-09-26 18:27:44] - utils.py[line:657] - INFO: not storing attribute vectors_norm\n",
      "[2020-09-26 18:27:44] - utils.py[line:657] - INFO: not storing attribute cum_table\n",
      "[2020-09-26 18:27:44] - utils.py[line:565] - INFO: saved adv_userseq_indu_name_city_word2vec.model\n"
     ]
    },
    {
     "name": "stdout",
     "output_type": "stream",
     "text": [
      "save start\n"
     ]
    },
    {
     "name": "stderr",
     "output_type": "stream",
     "text": [
      "[2020-09-26 18:27:44] - utils.py[line:551] - INFO: saving Word2VecKeyedVectors object under adv_userseq_indu_name_city_word2vec.kv, separately None\n",
      "[2020-09-26 18:27:44] - utils.py[line:657] - INFO: not storing attribute vectors_norm\n",
      "[2020-09-26 18:27:44] - utils.py[line:565] - INFO: saved adv_userseq_indu_name_city_word2vec.kv\n",
      "[2020-09-26 18:27:44] - word2vec.py[line:1399] - INFO: collecting all words and their counts\n",
      "[2020-09-26 18:27:44] - word2vec.py[line:1384] - INFO: PROGRESS: at sentence #0, processed 0 words, keeping 0 word types\n",
      "[2020-09-26 18:27:45] - word2vec.py[line:1407] - INFO: collected 5 word types from a corpus of 1445492 raw words and 174 sentences\n",
      "[2020-09-26 18:27:45] - word2vec.py[line:1458] - INFO: Loading a fresh vocabulary\n",
      "[2020-09-26 18:27:45] - word2vec.py[line:1482] - INFO: effective_min_count=1 retains 5 unique words (100% of original 5, drops 0)\n",
      "[2020-09-26 18:27:45] - word2vec.py[line:1488] - INFO: effective_min_count=1 leaves 1445492 word corpus (100% of original 1445492, drops 0)\n",
      "[2020-09-26 18:27:45] - word2vec.py[line:1547] - INFO: deleting the raw counts dictionary of 5 items\n",
      "[2020-09-26 18:27:45] - word2vec.py[line:1550] - INFO: sample=0.001 downsamples 4 most-common words\n",
      "[2020-09-26 18:27:45] - word2vec.py[line:1553] - INFO: downsampling leaves estimated 88977 word corpus (6.2% of prior 1445492)\n",
      "[2020-09-26 18:27:45] - word2vec.py[line:1648] - INFO: constructing a huffman tree from 5 words\n"
     ]
    },
    {
     "name": "stdout",
     "output_type": "stream",
     "text": [
      "Done\n",
      "LineSentence start\n",
      "Word2Vec start\n"
     ]
    },
    {
     "name": "stderr",
     "output_type": "stream",
     "text": [
      "[2020-09-26 18:27:45] - word2vec.py[line:1673] - INFO: built huffman tree with maximum node depth 4\n",
      "[2020-09-26 18:27:45] - base_any2vec.py[line:1008] - INFO: estimated required memory for 5 words and 64 dimensions: 7340 bytes\n",
      "[2020-09-26 18:27:45] - word2vec.py[line:1699] - INFO: resetting layer weights\n",
      "[2020-09-26 18:27:45] - base_any2vec.py[line:1196] - INFO: training model with -1 workers on 5 vocabulary and 64 features, using sg=0 hs=1 sample=0.001 negative=5 window=10000\n",
      "[2020-09-26 18:27:45] - base_any2vec.py[line:1332] - INFO: EPOCH - 1 : training on 0 raw words (0 effective words) took 0.0s, 0 effective words/s\n",
      "[2020-09-26 18:27:45] - base_any2vec.py[line:1343] - WARNING: EPOCH - 1 : supplied example count (0) did not equal expected count (174)\n",
      "[2020-09-26 18:27:45] - base_any2vec.py[line:1348] - WARNING: EPOCH - 1 : supplied raw word count (0) did not equal expected count (1445492)\n",
      "[2020-09-26 18:27:45] - base_any2vec.py[line:1332] - INFO: EPOCH - 2 : training on 0 raw words (0 effective words) took 0.0s, 0 effective words/s\n",
      "[2020-09-26 18:27:45] - base_any2vec.py[line:1343] - WARNING: EPOCH - 2 : supplied example count (0) did not equal expected count (174)\n",
      "[2020-09-26 18:27:45] - base_any2vec.py[line:1348] - WARNING: EPOCH - 2 : supplied raw word count (0) did not equal expected count (1445492)\n",
      "[2020-09-26 18:27:45] - base_any2vec.py[line:1332] - INFO: EPOCH - 3 : training on 0 raw words (0 effective words) took 0.0s, 0 effective words/s\n",
      "[2020-09-26 18:27:45] - base_any2vec.py[line:1343] - WARNING: EPOCH - 3 : supplied example count (0) did not equal expected count (174)\n",
      "[2020-09-26 18:27:45] - base_any2vec.py[line:1348] - WARNING: EPOCH - 3 : supplied raw word count (0) did not equal expected count (1445492)\n",
      "[2020-09-26 18:27:45] - base_any2vec.py[line:1332] - INFO: EPOCH - 4 : training on 0 raw words (0 effective words) took 0.0s, 0 effective words/s\n",
      "[2020-09-26 18:27:45] - base_any2vec.py[line:1343] - WARNING: EPOCH - 4 : supplied example count (0) did not equal expected count (174)\n",
      "[2020-09-26 18:27:45] - base_any2vec.py[line:1348] - WARNING: EPOCH - 4 : supplied raw word count (0) did not equal expected count (1445492)\n",
      "[2020-09-26 18:27:45] - base_any2vec.py[line:1332] - INFO: EPOCH - 5 : training on 0 raw words (0 effective words) took 0.0s, 0 effective words/s\n",
      "[2020-09-26 18:27:45] - base_any2vec.py[line:1343] - WARNING: EPOCH - 5 : supplied example count (0) did not equal expected count (174)\n",
      "[2020-09-26 18:27:45] - base_any2vec.py[line:1348] - WARNING: EPOCH - 5 : supplied raw word count (0) did not equal expected count (1445492)\n",
      "[2020-09-26 18:27:45] - base_any2vec.py[line:1332] - INFO: EPOCH - 6 : training on 0 raw words (0 effective words) took 0.0s, 0 effective words/s\n",
      "[2020-09-26 18:27:45] - base_any2vec.py[line:1343] - WARNING: EPOCH - 6 : supplied example count (0) did not equal expected count (174)\n",
      "[2020-09-26 18:27:45] - base_any2vec.py[line:1348] - WARNING: EPOCH - 6 : supplied raw word count (0) did not equal expected count (1445492)\n",
      "[2020-09-26 18:27:45] - base_any2vec.py[line:1332] - INFO: EPOCH - 7 : training on 0 raw words (0 effective words) took 0.0s, 0 effective words/s\n",
      "[2020-09-26 18:27:45] - base_any2vec.py[line:1343] - WARNING: EPOCH - 7 : supplied example count (0) did not equal expected count (174)\n",
      "[2020-09-26 18:27:45] - base_any2vec.py[line:1348] - WARNING: EPOCH - 7 : supplied raw word count (0) did not equal expected count (1445492)\n",
      "[2020-09-26 18:27:45] - base_any2vec.py[line:1332] - INFO: EPOCH - 8 : training on 0 raw words (0 effective words) took 0.0s, 0 effective words/s\n",
      "[2020-09-26 18:27:45] - base_any2vec.py[line:1343] - WARNING: EPOCH - 8 : supplied example count (0) did not equal expected count (174)\n",
      "[2020-09-26 18:27:45] - base_any2vec.py[line:1348] - WARNING: EPOCH - 8 : supplied raw word count (0) did not equal expected count (1445492)\n",
      "[2020-09-26 18:27:45] - base_any2vec.py[line:1332] - INFO: EPOCH - 9 : training on 0 raw words (0 effective words) took 0.0s, 0 effective words/s\n",
      "[2020-09-26 18:27:45] - base_any2vec.py[line:1343] - WARNING: EPOCH - 9 : supplied example count (0) did not equal expected count (174)\n",
      "[2020-09-26 18:27:45] - base_any2vec.py[line:1348] - WARNING: EPOCH - 9 : supplied raw word count (0) did not equal expected count (1445492)\n",
      "[2020-09-26 18:27:45] - base_any2vec.py[line:1332] - INFO: EPOCH - 10 : training on 0 raw words (0 effective words) took 0.0s, 0 effective words/s\n",
      "[2020-09-26 18:27:45] - base_any2vec.py[line:1343] - WARNING: EPOCH - 10 : supplied example count (0) did not equal expected count (174)\n",
      "[2020-09-26 18:27:45] - base_any2vec.py[line:1348] - WARNING: EPOCH - 10 : supplied raw word count (0) did not equal expected count (1445492)\n",
      "[2020-09-26 18:27:45] - base_any2vec.py[line:1368] - INFO: training on a 0 raw words (0 effective words) took 0.4s, 0 effective words/s\n",
      "[2020-09-26 18:27:45] - utils.py[line:551] - INFO: saving Word2Vec object under adv_userseq_indu_name_city_rank_word2vec.model, separately None\n",
      "[2020-09-26 18:27:45] - utils.py[line:657] - INFO: not storing attribute vectors_norm\n",
      "[2020-09-26 18:27:45] - utils.py[line:657] - INFO: not storing attribute cum_table\n",
      "[2020-09-26 18:27:45] - utils.py[line:565] - INFO: saved adv_userseq_indu_name_city_rank_word2vec.model\n",
      "[2020-09-26 18:27:45] - utils.py[line:551] - INFO: saving Word2VecKeyedVectors object under adv_userseq_indu_name_city_rank_word2vec.kv, separately None\n",
      "[2020-09-26 18:27:45] - utils.py[line:657] - INFO: not storing attribute vectors_norm\n",
      "[2020-09-26 18:27:45] - utils.py[line:565] - INFO: saved adv_userseq_indu_name_city_rank_word2vec.kv\n",
      "[2020-09-26 18:27:45] - word2vec.py[line:1399] - INFO: collecting all words and their counts\n",
      "[2020-09-26 18:27:45] - word2vec.py[line:1384] - INFO: PROGRESS: at sentence #0, processed 0 words, keeping 0 word types\n"
     ]
    },
    {
     "name": "stdout",
     "output_type": "stream",
     "text": [
      "save start\n",
      "Done\n",
      "LineSentence start\n",
      "Word2Vec start\n"
     ]
    },
    {
     "name": "stderr",
     "output_type": "stream",
     "text": [
      "[2020-09-26 18:27:45] - word2vec.py[line:1407] - INFO: collected 91 word types from a corpus of 1445492 raw words and 174 sentences\n",
      "[2020-09-26 18:27:45] - word2vec.py[line:1458] - INFO: Loading a fresh vocabulary\n",
      "[2020-09-26 18:27:45] - word2vec.py[line:1482] - INFO: effective_min_count=1 retains 91 unique words (100% of original 91, drops 0)\n",
      "[2020-09-26 18:27:45] - word2vec.py[line:1488] - INFO: effective_min_count=1 leaves 1445492 word corpus (100% of original 1445492, drops 0)\n",
      "[2020-09-26 18:27:45] - word2vec.py[line:1547] - INFO: deleting the raw counts dictionary of 91 items\n",
      "[2020-09-26 18:27:45] - word2vec.py[line:1550] - INFO: sample=0.001 downsamples 51 most-common words\n",
      "[2020-09-26 18:27:45] - word2vec.py[line:1553] - INFO: downsampling leaves estimated 403715 word corpus (27.9% of prior 1445492)\n",
      "[2020-09-26 18:27:45] - word2vec.py[line:1648] - INFO: constructing a huffman tree from 91 words\n",
      "[2020-09-26 18:27:45] - word2vec.py[line:1673] - INFO: built huffman tree with maximum node depth 20\n",
      "[2020-09-26 18:27:45] - base_any2vec.py[line:1008] - INFO: estimated required memory for 91 words and 64 dimensions: 133588 bytes\n",
      "[2020-09-26 18:27:45] - word2vec.py[line:1699] - INFO: resetting layer weights\n",
      "[2020-09-26 18:27:46] - base_any2vec.py[line:1196] - INFO: training model with -1 workers on 91 vocabulary and 64 features, using sg=0 hs=1 sample=0.001 negative=5 window=10000\n",
      "[2020-09-26 18:27:46] - base_any2vec.py[line:1332] - INFO: EPOCH - 1 : training on 0 raw words (0 effective words) took 0.0s, 0 effective words/s\n",
      "[2020-09-26 18:27:46] - base_any2vec.py[line:1343] - WARNING: EPOCH - 1 : supplied example count (0) did not equal expected count (174)\n",
      "[2020-09-26 18:27:46] - base_any2vec.py[line:1348] - WARNING: EPOCH - 1 : supplied raw word count (0) did not equal expected count (1445492)\n",
      "[2020-09-26 18:27:46] - base_any2vec.py[line:1332] - INFO: EPOCH - 2 : training on 0 raw words (0 effective words) took 0.0s, 0 effective words/s\n",
      "[2020-09-26 18:27:46] - base_any2vec.py[line:1343] - WARNING: EPOCH - 2 : supplied example count (0) did not equal expected count (174)\n",
      "[2020-09-26 18:27:46] - base_any2vec.py[line:1348] - WARNING: EPOCH - 2 : supplied raw word count (0) did not equal expected count (1445492)\n",
      "[2020-09-26 18:27:46] - base_any2vec.py[line:1332] - INFO: EPOCH - 3 : training on 0 raw words (0 effective words) took 0.0s, 0 effective words/s\n",
      "[2020-09-26 18:27:46] - base_any2vec.py[line:1343] - WARNING: EPOCH - 3 : supplied example count (0) did not equal expected count (174)\n",
      "[2020-09-26 18:27:46] - base_any2vec.py[line:1348] - WARNING: EPOCH - 3 : supplied raw word count (0) did not equal expected count (1445492)\n",
      "[2020-09-26 18:27:46] - base_any2vec.py[line:1332] - INFO: EPOCH - 4 : training on 0 raw words (0 effective words) took 0.0s, 0 effective words/s\n",
      "[2020-09-26 18:27:46] - base_any2vec.py[line:1343] - WARNING: EPOCH - 4 : supplied example count (0) did not equal expected count (174)\n",
      "[2020-09-26 18:27:46] - base_any2vec.py[line:1348] - WARNING: EPOCH - 4 : supplied raw word count (0) did not equal expected count (1445492)\n",
      "[2020-09-26 18:27:46] - base_any2vec.py[line:1332] - INFO: EPOCH - 5 : training on 0 raw words (0 effective words) took 0.0s, 0 effective words/s\n",
      "[2020-09-26 18:27:46] - base_any2vec.py[line:1343] - WARNING: EPOCH - 5 : supplied example count (0) did not equal expected count (174)\n",
      "[2020-09-26 18:27:46] - base_any2vec.py[line:1348] - WARNING: EPOCH - 5 : supplied raw word count (0) did not equal expected count (1445492)\n",
      "[2020-09-26 18:27:46] - base_any2vec.py[line:1332] - INFO: EPOCH - 6 : training on 0 raw words (0 effective words) took 0.0s, 0 effective words/s\n",
      "[2020-09-26 18:27:46] - base_any2vec.py[line:1343] - WARNING: EPOCH - 6 : supplied example count (0) did not equal expected count (174)\n",
      "[2020-09-26 18:27:46] - base_any2vec.py[line:1348] - WARNING: EPOCH - 6 : supplied raw word count (0) did not equal expected count (1445492)\n",
      "[2020-09-26 18:27:46] - base_any2vec.py[line:1332] - INFO: EPOCH - 7 : training on 0 raw words (0 effective words) took 0.0s, 0 effective words/s\n",
      "[2020-09-26 18:27:46] - base_any2vec.py[line:1343] - WARNING: EPOCH - 7 : supplied example count (0) did not equal expected count (174)\n",
      "[2020-09-26 18:27:46] - base_any2vec.py[line:1348] - WARNING: EPOCH - 7 : supplied raw word count (0) did not equal expected count (1445492)\n",
      "[2020-09-26 18:27:46] - base_any2vec.py[line:1332] - INFO: EPOCH - 8 : training on 0 raw words (0 effective words) took 0.0s, 0 effective words/s\n",
      "[2020-09-26 18:27:46] - base_any2vec.py[line:1343] - WARNING: EPOCH - 8 : supplied example count (0) did not equal expected count (174)\n",
      "[2020-09-26 18:27:46] - base_any2vec.py[line:1348] - WARNING: EPOCH - 8 : supplied raw word count (0) did not equal expected count (1445492)\n",
      "[2020-09-26 18:27:46] - base_any2vec.py[line:1332] - INFO: EPOCH - 9 : training on 0 raw words (0 effective words) took 0.0s, 0 effective words/s\n",
      "[2020-09-26 18:27:46] - base_any2vec.py[line:1343] - WARNING: EPOCH - 9 : supplied example count (0) did not equal expected count (174)\n",
      "[2020-09-26 18:27:46] - base_any2vec.py[line:1348] - WARNING: EPOCH - 9 : supplied raw word count (0) did not equal expected count (1445492)\n",
      "[2020-09-26 18:27:46] - base_any2vec.py[line:1332] - INFO: EPOCH - 10 : training on 0 raw words (0 effective words) took 0.0s, 0 effective words/s\n",
      "[2020-09-26 18:27:47] - base_any2vec.py[line:1343] - WARNING: EPOCH - 10 : supplied example count (0) did not equal expected count (174)\n",
      "[2020-09-26 18:27:47] - base_any2vec.py[line:1348] - WARNING: EPOCH - 10 : supplied raw word count (0) did not equal expected count (1445492)\n",
      "[2020-09-26 18:27:47] - base_any2vec.py[line:1368] - INFO: training on a 0 raw words (0 effective words) took 1.4s, 0 effective words/s\n",
      "[2020-09-26 18:27:47] - utils.py[line:551] - INFO: saving Word2Vec object under adv_userseq_indu_name_device_name_word2vec.model, separately None\n",
      "[2020-09-26 18:27:47] - utils.py[line:657] - INFO: not storing attribute vectors_norm\n",
      "[2020-09-26 18:27:47] - utils.py[line:657] - INFO: not storing attribute cum_table\n",
      "[2020-09-26 18:27:47] - utils.py[line:565] - INFO: saved adv_userseq_indu_name_device_name_word2vec.model\n"
     ]
    },
    {
     "name": "stdout",
     "output_type": "stream",
     "text": [
      "save start\n"
     ]
    },
    {
     "name": "stderr",
     "output_type": "stream",
     "text": [
      "[2020-09-26 18:27:47] - utils.py[line:551] - INFO: saving Word2VecKeyedVectors object under adv_userseq_indu_name_device_name_word2vec.kv, separately None\n",
      "[2020-09-26 18:27:47] - utils.py[line:657] - INFO: not storing attribute vectors_norm\n",
      "[2020-09-26 18:27:47] - utils.py[line:565] - INFO: saved adv_userseq_indu_name_device_name_word2vec.kv\n",
      "[2020-09-26 18:27:47] - word2vec.py[line:1399] - INFO: collecting all words and their counts\n",
      "[2020-09-26 18:27:47] - word2vec.py[line:1384] - INFO: PROGRESS: at sentence #0, processed 0 words, keeping 0 word types\n",
      "[2020-09-26 18:27:48] - word2vec.py[line:1407] - INFO: collected 10 word types from a corpus of 1445492 raw words and 174 sentences\n",
      "[2020-09-26 18:27:48] - word2vec.py[line:1458] - INFO: Loading a fresh vocabulary\n",
      "[2020-09-26 18:27:48] - word2vec.py[line:1482] - INFO: effective_min_count=1 retains 10 unique words (100% of original 10, drops 0)\n",
      "[2020-09-26 18:27:48] - word2vec.py[line:1488] - INFO: effective_min_count=1 leaves 1445492 word corpus (100% of original 1445492, drops 0)\n",
      "[2020-09-26 18:27:48] - word2vec.py[line:1547] - INFO: deleting the raw counts dictionary of 10 items\n",
      "[2020-09-26 18:27:48] - word2vec.py[line:1550] - INFO: sample=0.001 downsamples 8 most-common words\n",
      "[2020-09-26 18:27:48] - word2vec.py[line:1553] - INFO: downsampling leaves estimated 115950 word corpus (8.0% of prior 1445492)\n",
      "[2020-09-26 18:27:48] - word2vec.py[line:1648] - INFO: constructing a huffman tree from 10 words\n",
      "[2020-09-26 18:27:48] - word2vec.py[line:1673] - INFO: built huffman tree with maximum node depth 7\n",
      "[2020-09-26 18:27:48] - base_any2vec.py[line:1008] - INFO: estimated required memory for 10 words and 64 dimensions: 14680 bytes\n",
      "[2020-09-26 18:27:48] - word2vec.py[line:1699] - INFO: resetting layer weights\n",
      "[2020-09-26 18:27:48] - base_any2vec.py[line:1196] - INFO: training model with -1 workers on 10 vocabulary and 64 features, using sg=0 hs=1 sample=0.001 negative=5 window=10000\n",
      "[2020-09-26 18:27:48] - base_any2vec.py[line:1332] - INFO: EPOCH - 1 : training on 0 raw words (0 effective words) took 0.0s, 0 effective words/s\n",
      "[2020-09-26 18:27:48] - base_any2vec.py[line:1343] - WARNING: EPOCH - 1 : supplied example count (0) did not equal expected count (174)\n",
      "[2020-09-26 18:27:48] - base_any2vec.py[line:1348] - WARNING: EPOCH - 1 : supplied raw word count (0) did not equal expected count (1445492)\n",
      "[2020-09-26 18:27:48] - base_any2vec.py[line:1332] - INFO: EPOCH - 2 : training on 0 raw words (0 effective words) took 0.0s, 0 effective words/s\n",
      "[2020-09-26 18:27:48] - base_any2vec.py[line:1343] - WARNING: EPOCH - 2 : supplied example count (0) did not equal expected count (174)\n",
      "[2020-09-26 18:27:48] - base_any2vec.py[line:1348] - WARNING: EPOCH - 2 : supplied raw word count (0) did not equal expected count (1445492)\n",
      "[2020-09-26 18:27:48] - base_any2vec.py[line:1332] - INFO: EPOCH - 3 : training on 0 raw words (0 effective words) took 0.0s, 0 effective words/s\n",
      "[2020-09-26 18:27:48] - base_any2vec.py[line:1343] - WARNING: EPOCH - 3 : supplied example count (0) did not equal expected count (174)\n"
     ]
    },
    {
     "name": "stdout",
     "output_type": "stream",
     "text": [
      "Done\n",
      "LineSentence start\n",
      "Word2Vec start\n"
     ]
    },
    {
     "name": "stderr",
     "output_type": "stream",
     "text": [
      "[2020-09-26 18:27:48] - base_any2vec.py[line:1348] - WARNING: EPOCH - 3 : supplied raw word count (0) did not equal expected count (1445492)\n",
      "[2020-09-26 18:27:48] - base_any2vec.py[line:1332] - INFO: EPOCH - 4 : training on 0 raw words (0 effective words) took 0.0s, 0 effective words/s\n",
      "[2020-09-26 18:27:48] - base_any2vec.py[line:1343] - WARNING: EPOCH - 4 : supplied example count (0) did not equal expected count (174)\n",
      "[2020-09-26 18:27:48] - base_any2vec.py[line:1348] - WARNING: EPOCH - 4 : supplied raw word count (0) did not equal expected count (1445492)\n",
      "[2020-09-26 18:27:48] - base_any2vec.py[line:1332] - INFO: EPOCH - 5 : training on 0 raw words (0 effective words) took 0.0s, 0 effective words/s\n",
      "[2020-09-26 18:27:48] - base_any2vec.py[line:1343] - WARNING: EPOCH - 5 : supplied example count (0) did not equal expected count (174)\n",
      "[2020-09-26 18:27:48] - base_any2vec.py[line:1348] - WARNING: EPOCH - 5 : supplied raw word count (0) did not equal expected count (1445492)\n",
      "[2020-09-26 18:27:48] - base_any2vec.py[line:1332] - INFO: EPOCH - 6 : training on 0 raw words (0 effective words) took 0.0s, 0 effective words/s\n",
      "[2020-09-26 18:27:48] - base_any2vec.py[line:1343] - WARNING: EPOCH - 6 : supplied example count (0) did not equal expected count (174)\n",
      "[2020-09-26 18:27:48] - base_any2vec.py[line:1348] - WARNING: EPOCH - 6 : supplied raw word count (0) did not equal expected count (1445492)\n",
      "[2020-09-26 18:27:48] - base_any2vec.py[line:1332] - INFO: EPOCH - 7 : training on 0 raw words (0 effective words) took 0.0s, 0 effective words/s\n",
      "[2020-09-26 18:27:48] - base_any2vec.py[line:1343] - WARNING: EPOCH - 7 : supplied example count (0) did not equal expected count (174)\n",
      "[2020-09-26 18:27:48] - base_any2vec.py[line:1348] - WARNING: EPOCH - 7 : supplied raw word count (0) did not equal expected count (1445492)\n",
      "[2020-09-26 18:27:48] - base_any2vec.py[line:1332] - INFO: EPOCH - 8 : training on 0 raw words (0 effective words) took 0.0s, 0 effective words/s\n",
      "[2020-09-26 18:27:48] - base_any2vec.py[line:1343] - WARNING: EPOCH - 8 : supplied example count (0) did not equal expected count (174)\n",
      "[2020-09-26 18:27:48] - base_any2vec.py[line:1348] - WARNING: EPOCH - 8 : supplied raw word count (0) did not equal expected count (1445492)\n",
      "[2020-09-26 18:27:48] - base_any2vec.py[line:1332] - INFO: EPOCH - 9 : training on 0 raw words (0 effective words) took 0.0s, 0 effective words/s\n",
      "[2020-09-26 18:27:48] - base_any2vec.py[line:1343] - WARNING: EPOCH - 9 : supplied example count (0) did not equal expected count (174)\n",
      "[2020-09-26 18:27:48] - base_any2vec.py[line:1348] - WARNING: EPOCH - 9 : supplied raw word count (0) did not equal expected count (1445492)\n",
      "[2020-09-26 18:27:48] - base_any2vec.py[line:1332] - INFO: EPOCH - 10 : training on 0 raw words (0 effective words) took 0.0s, 0 effective words/s\n",
      "[2020-09-26 18:27:48] - base_any2vec.py[line:1343] - WARNING: EPOCH - 10 : supplied example count (0) did not equal expected count (174)\n",
      "[2020-09-26 18:27:48] - base_any2vec.py[line:1348] - WARNING: EPOCH - 10 : supplied raw word count (0) did not equal expected count (1445492)\n",
      "[2020-09-26 18:27:48] - base_any2vec.py[line:1368] - INFO: training on a 0 raw words (0 effective words) took 0.4s, 0 effective words/s\n",
      "[2020-09-26 18:27:48] - utils.py[line:551] - INFO: saving Word2Vec object under adv_userseq_indu_name_career_word2vec.model, separately None\n",
      "[2020-09-26 18:27:48] - utils.py[line:657] - INFO: not storing attribute vectors_norm\n",
      "[2020-09-26 18:27:48] - utils.py[line:657] - INFO: not storing attribute cum_table\n",
      "[2020-09-26 18:27:48] - utils.py[line:565] - INFO: saved adv_userseq_indu_name_career_word2vec.model\n",
      "[2020-09-26 18:27:48] - utils.py[line:551] - INFO: saving Word2VecKeyedVectors object under adv_userseq_indu_name_career_word2vec.kv, separately None\n",
      "[2020-09-26 18:27:48] - utils.py[line:657] - INFO: not storing attribute vectors_norm\n",
      "[2020-09-26 18:27:48] - utils.py[line:565] - INFO: saved adv_userseq_indu_name_career_word2vec.kv\n",
      "[2020-09-26 18:27:48] - word2vec.py[line:1399] - INFO: collecting all words and their counts\n",
      "[2020-09-26 18:27:48] - word2vec.py[line:1384] - INFO: PROGRESS: at sentence #0, processed 0 words, keeping 0 word types\n"
     ]
    },
    {
     "name": "stdout",
     "output_type": "stream",
     "text": [
      "save start\n",
      "Done\n",
      "LineSentence start\n",
      "Word2Vec start\n"
     ]
    },
    {
     "name": "stderr",
     "output_type": "stream",
     "text": [
      "[2020-09-26 18:27:48] - word2vec.py[line:1407] - INFO: collected 4 word types from a corpus of 1445492 raw words and 174 sentences\n",
      "[2020-09-26 18:27:48] - word2vec.py[line:1458] - INFO: Loading a fresh vocabulary\n",
      "[2020-09-26 18:27:48] - word2vec.py[line:1482] - INFO: effective_min_count=1 retains 4 unique words (100% of original 4, drops 0)\n",
      "[2020-09-26 18:27:48] - word2vec.py[line:1488] - INFO: effective_min_count=1 leaves 1445492 word corpus (100% of original 1445492, drops 0)\n",
      "[2020-09-26 18:27:48] - word2vec.py[line:1547] - INFO: deleting the raw counts dictionary of 4 items\n",
      "[2020-09-26 18:27:48] - word2vec.py[line:1550] - INFO: sample=0.001 downsamples 3 most-common words\n",
      "[2020-09-26 18:27:48] - word2vec.py[line:1553] - INFO: downsampling leaves estimated 73260 word corpus (5.1% of prior 1445492)\n",
      "[2020-09-26 18:27:48] - word2vec.py[line:1648] - INFO: constructing a huffman tree from 4 words\n",
      "[2020-09-26 18:27:48] - word2vec.py[line:1673] - INFO: built huffman tree with maximum node depth 3\n",
      "[2020-09-26 18:27:48] - base_any2vec.py[line:1008] - INFO: estimated required memory for 4 words and 64 dimensions: 5872 bytes\n",
      "[2020-09-26 18:27:48] - word2vec.py[line:1699] - INFO: resetting layer weights\n",
      "[2020-09-26 18:27:48] - base_any2vec.py[line:1196] - INFO: training model with -1 workers on 4 vocabulary and 64 features, using sg=0 hs=1 sample=0.001 negative=5 window=10000\n",
      "[2020-09-26 18:27:48] - base_any2vec.py[line:1332] - INFO: EPOCH - 1 : training on 0 raw words (0 effective words) took 0.0s, 0 effective words/s\n",
      "[2020-09-26 18:27:48] - base_any2vec.py[line:1343] - WARNING: EPOCH - 1 : supplied example count (0) did not equal expected count (174)\n",
      "[2020-09-26 18:27:48] - base_any2vec.py[line:1348] - WARNING: EPOCH - 1 : supplied raw word count (0) did not equal expected count (1445492)\n",
      "[2020-09-26 18:27:48] - base_any2vec.py[line:1332] - INFO: EPOCH - 2 : training on 0 raw words (0 effective words) took 0.0s, 0 effective words/s\n",
      "[2020-09-26 18:27:48] - base_any2vec.py[line:1343] - WARNING: EPOCH - 2 : supplied example count (0) did not equal expected count (174)\n",
      "[2020-09-26 18:27:48] - base_any2vec.py[line:1348] - WARNING: EPOCH - 2 : supplied raw word count (0) did not equal expected count (1445492)\n",
      "[2020-09-26 18:27:48] - base_any2vec.py[line:1332] - INFO: EPOCH - 3 : training on 0 raw words (0 effective words) took 0.0s, 0 effective words/s\n",
      "[2020-09-26 18:27:48] - base_any2vec.py[line:1343] - WARNING: EPOCH - 3 : supplied example count (0) did not equal expected count (174)\n",
      "[2020-09-26 18:27:48] - base_any2vec.py[line:1348] - WARNING: EPOCH - 3 : supplied raw word count (0) did not equal expected count (1445492)\n",
      "[2020-09-26 18:27:48] - base_any2vec.py[line:1332] - INFO: EPOCH - 4 : training on 0 raw words (0 effective words) took 0.0s, 0 effective words/s\n",
      "[2020-09-26 18:27:48] - base_any2vec.py[line:1343] - WARNING: EPOCH - 4 : supplied example count (0) did not equal expected count (174)\n",
      "[2020-09-26 18:27:48] - base_any2vec.py[line:1348] - WARNING: EPOCH - 4 : supplied raw word count (0) did not equal expected count (1445492)\n",
      "[2020-09-26 18:27:48] - base_any2vec.py[line:1332] - INFO: EPOCH - 5 : training on 0 raw words (0 effective words) took 0.0s, 0 effective words/s\n",
      "[2020-09-26 18:27:48] - base_any2vec.py[line:1343] - WARNING: EPOCH - 5 : supplied example count (0) did not equal expected count (174)\n",
      "[2020-09-26 18:27:48] - base_any2vec.py[line:1348] - WARNING: EPOCH - 5 : supplied raw word count (0) did not equal expected count (1445492)\n",
      "[2020-09-26 18:27:48] - base_any2vec.py[line:1332] - INFO: EPOCH - 6 : training on 0 raw words (0 effective words) took 0.0s, 0 effective words/s\n",
      "[2020-09-26 18:27:49] - base_any2vec.py[line:1343] - WARNING: EPOCH - 6 : supplied example count (0) did not equal expected count (174)\n",
      "[2020-09-26 18:27:49] - base_any2vec.py[line:1348] - WARNING: EPOCH - 6 : supplied raw word count (0) did not equal expected count (1445492)\n",
      "[2020-09-26 18:27:49] - base_any2vec.py[line:1332] - INFO: EPOCH - 7 : training on 0 raw words (0 effective words) took 0.0s, 0 effective words/s\n",
      "[2020-09-26 18:27:49] - base_any2vec.py[line:1343] - WARNING: EPOCH - 7 : supplied example count (0) did not equal expected count (174)\n",
      "[2020-09-26 18:27:49] - base_any2vec.py[line:1348] - WARNING: EPOCH - 7 : supplied raw word count (0) did not equal expected count (1445492)\n",
      "[2020-09-26 18:27:49] - base_any2vec.py[line:1332] - INFO: EPOCH - 8 : training on 0 raw words (0 effective words) took 0.0s, 0 effective words/s\n",
      "[2020-09-26 18:27:49] - base_any2vec.py[line:1343] - WARNING: EPOCH - 8 : supplied example count (0) did not equal expected count (174)\n",
      "[2020-09-26 18:27:49] - base_any2vec.py[line:1348] - WARNING: EPOCH - 8 : supplied raw word count (0) did not equal expected count (1445492)\n",
      "[2020-09-26 18:27:49] - base_any2vec.py[line:1332] - INFO: EPOCH - 9 : training on 0 raw words (0 effective words) took 0.0s, 0 effective words/s\n",
      "[2020-09-26 18:27:49] - base_any2vec.py[line:1343] - WARNING: EPOCH - 9 : supplied example count (0) did not equal expected count (174)\n",
      "[2020-09-26 18:27:49] - base_any2vec.py[line:1348] - WARNING: EPOCH - 9 : supplied raw word count (0) did not equal expected count (1445492)\n",
      "[2020-09-26 18:27:49] - base_any2vec.py[line:1332] - INFO: EPOCH - 10 : training on 0 raw words (0 effective words) took 0.0s, 0 effective words/s\n",
      "[2020-09-26 18:27:49] - base_any2vec.py[line:1343] - WARNING: EPOCH - 10 : supplied example count (0) did not equal expected count (174)\n",
      "[2020-09-26 18:27:49] - base_any2vec.py[line:1348] - WARNING: EPOCH - 10 : supplied raw word count (0) did not equal expected count (1445492)\n",
      "[2020-09-26 18:27:49] - base_any2vec.py[line:1368] - INFO: training on a 0 raw words (0 effective words) took 0.5s, 0 effective words/s\n",
      "[2020-09-26 18:27:49] - utils.py[line:551] - INFO: saving Word2Vec object under adv_userseq_indu_name_gender_word2vec.model, separately None\n",
      "[2020-09-26 18:27:49] - utils.py[line:657] - INFO: not storing attribute vectors_norm\n",
      "[2020-09-26 18:27:49] - utils.py[line:657] - INFO: not storing attribute cum_table\n",
      "[2020-09-26 18:27:49] - utils.py[line:565] - INFO: saved adv_userseq_indu_name_gender_word2vec.model\n",
      "[2020-09-26 18:27:49] - utils.py[line:551] - INFO: saving Word2VecKeyedVectors object under adv_userseq_indu_name_gender_word2vec.kv, separately None\n",
      "[2020-09-26 18:27:49] - utils.py[line:657] - INFO: not storing attribute vectors_norm\n",
      "[2020-09-26 18:27:49] - utils.py[line:565] - INFO: saved adv_userseq_indu_name_gender_word2vec.kv\n",
      "[2020-09-26 18:27:49] - word2vec.py[line:1399] - INFO: collecting all words and their counts\n",
      "[2020-09-26 18:27:49] - word2vec.py[line:1384] - INFO: PROGRESS: at sentence #0, processed 0 words, keeping 0 word types\n"
     ]
    },
    {
     "name": "stdout",
     "output_type": "stream",
     "text": [
      "save start\n",
      "Done\n",
      "LineSentence start\n",
      "Word2Vec start\n"
     ]
    },
    {
     "name": "stderr",
     "output_type": "stream",
     "text": [
      "[2020-09-26 18:27:49] - word2vec.py[line:1407] - INFO: collected 37 word types from a corpus of 1445492 raw words and 174 sentences\n",
      "[2020-09-26 18:27:49] - word2vec.py[line:1458] - INFO: Loading a fresh vocabulary\n",
      "[2020-09-26 18:27:49] - word2vec.py[line:1482] - INFO: effective_min_count=1 retains 37 unique words (100% of original 37, drops 0)\n",
      "[2020-09-26 18:27:49] - word2vec.py[line:1488] - INFO: effective_min_count=1 leaves 1445492 word corpus (100% of original 1445492, drops 0)\n",
      "[2020-09-26 18:27:49] - word2vec.py[line:1547] - INFO: deleting the raw counts dictionary of 37 items\n",
      "[2020-09-26 18:27:49] - word2vec.py[line:1550] - INFO: sample=0.001 downsamples 31 most-common words\n",
      "[2020-09-26 18:27:49] - word2vec.py[line:1553] - INFO: downsampling leaves estimated 288179 word corpus (19.9% of prior 1445492)\n",
      "[2020-09-26 18:27:49] - word2vec.py[line:1648] - INFO: constructing a huffman tree from 37 words\n",
      "[2020-09-26 18:27:49] - word2vec.py[line:1673] - INFO: built huffman tree with maximum node depth 13\n",
      "[2020-09-26 18:27:49] - base_any2vec.py[line:1008] - INFO: estimated required memory for 37 words and 64 dimensions: 54316 bytes\n",
      "[2020-09-26 18:27:49] - word2vec.py[line:1699] - INFO: resetting layer weights\n",
      "[2020-09-26 18:27:49] - base_any2vec.py[line:1196] - INFO: training model with -1 workers on 37 vocabulary and 64 features, using sg=0 hs=1 sample=0.001 negative=5 window=10000\n",
      "[2020-09-26 18:27:49] - base_any2vec.py[line:1332] - INFO: EPOCH - 1 : training on 0 raw words (0 effective words) took 0.0s, 0 effective words/s\n",
      "[2020-09-26 18:27:49] - base_any2vec.py[line:1343] - WARNING: EPOCH - 1 : supplied example count (0) did not equal expected count (174)\n",
      "[2020-09-26 18:27:49] - base_any2vec.py[line:1348] - WARNING: EPOCH - 1 : supplied raw word count (0) did not equal expected count (1445492)\n",
      "[2020-09-26 18:27:49] - base_any2vec.py[line:1332] - INFO: EPOCH - 2 : training on 0 raw words (0 effective words) took 0.0s, 0 effective words/s\n",
      "[2020-09-26 18:27:49] - base_any2vec.py[line:1343] - WARNING: EPOCH - 2 : supplied example count (0) did not equal expected count (174)\n",
      "[2020-09-26 18:27:49] - base_any2vec.py[line:1348] - WARNING: EPOCH - 2 : supplied raw word count (0) did not equal expected count (1445492)\n",
      "[2020-09-26 18:27:49] - base_any2vec.py[line:1332] - INFO: EPOCH - 3 : training on 0 raw words (0 effective words) took 0.0s, 0 effective words/s\n",
      "[2020-09-26 18:27:49] - base_any2vec.py[line:1343] - WARNING: EPOCH - 3 : supplied example count (0) did not equal expected count (174)\n",
      "[2020-09-26 18:27:49] - base_any2vec.py[line:1348] - WARNING: EPOCH - 3 : supplied raw word count (0) did not equal expected count (1445492)\n",
      "[2020-09-26 18:27:49] - base_any2vec.py[line:1332] - INFO: EPOCH - 4 : training on 0 raw words (0 effective words) took 0.0s, 0 effective words/s\n",
      "[2020-09-26 18:27:49] - base_any2vec.py[line:1343] - WARNING: EPOCH - 4 : supplied example count (0) did not equal expected count (174)\n",
      "[2020-09-26 18:27:49] - base_any2vec.py[line:1348] - WARNING: EPOCH - 4 : supplied raw word count (0) did not equal expected count (1445492)\n",
      "[2020-09-26 18:27:50] - base_any2vec.py[line:1332] - INFO: EPOCH - 5 : training on 0 raw words (0 effective words) took 0.0s, 0 effective words/s\n",
      "[2020-09-26 18:27:50] - base_any2vec.py[line:1343] - WARNING: EPOCH - 5 : supplied example count (0) did not equal expected count (174)\n",
      "[2020-09-26 18:27:50] - base_any2vec.py[line:1348] - WARNING: EPOCH - 5 : supplied raw word count (0) did not equal expected count (1445492)\n",
      "[2020-09-26 18:27:50] - base_any2vec.py[line:1332] - INFO: EPOCH - 6 : training on 0 raw words (0 effective words) took 0.0s, 0 effective words/s\n",
      "[2020-09-26 18:27:50] - base_any2vec.py[line:1343] - WARNING: EPOCH - 6 : supplied example count (0) did not equal expected count (174)\n",
      "[2020-09-26 18:27:50] - base_any2vec.py[line:1348] - WARNING: EPOCH - 6 : supplied raw word count (0) did not equal expected count (1445492)\n",
      "[2020-09-26 18:27:50] - base_any2vec.py[line:1332] - INFO: EPOCH - 7 : training on 0 raw words (0 effective words) took 0.0s, 0 effective words/s\n",
      "[2020-09-26 18:27:50] - base_any2vec.py[line:1343] - WARNING: EPOCH - 7 : supplied example count (0) did not equal expected count (174)\n",
      "[2020-09-26 18:27:50] - base_any2vec.py[line:1348] - WARNING: EPOCH - 7 : supplied raw word count (0) did not equal expected count (1445492)\n",
      "[2020-09-26 18:27:50] - base_any2vec.py[line:1332] - INFO: EPOCH - 8 : training on 0 raw words (0 effective words) took 0.0s, 0 effective words/s\n",
      "[2020-09-26 18:27:50] - base_any2vec.py[line:1343] - WARNING: EPOCH - 8 : supplied example count (0) did not equal expected count (174)\n",
      "[2020-09-26 18:27:50] - base_any2vec.py[line:1348] - WARNING: EPOCH - 8 : supplied raw word count (0) did not equal expected count (1445492)\n",
      "[2020-09-26 18:27:50] - base_any2vec.py[line:1332] - INFO: EPOCH - 9 : training on 0 raw words (0 effective words) took 0.0s, 0 effective words/s\n",
      "[2020-09-26 18:27:50] - base_any2vec.py[line:1343] - WARNING: EPOCH - 9 : supplied example count (0) did not equal expected count (174)\n",
      "[2020-09-26 18:27:50] - base_any2vec.py[line:1348] - WARNING: EPOCH - 9 : supplied raw word count (0) did not equal expected count (1445492)\n",
      "[2020-09-26 18:27:50] - base_any2vec.py[line:1332] - INFO: EPOCH - 10 : training on 0 raw words (0 effective words) took 0.0s, 0 effective words/s\n",
      "[2020-09-26 18:27:50] - base_any2vec.py[line:1343] - WARNING: EPOCH - 10 : supplied example count (0) did not equal expected count (174)\n",
      "[2020-09-26 18:27:50] - base_any2vec.py[line:1348] - WARNING: EPOCH - 10 : supplied raw word count (0) did not equal expected count (1445492)\n",
      "[2020-09-26 18:27:50] - base_any2vec.py[line:1368] - INFO: training on a 0 raw words (0 effective words) took 1.3s, 0 effective words/s\n",
      "[2020-09-26 18:27:50] - utils.py[line:551] - INFO: saving Word2Vec object under adv_userseq_indu_name_residence_word2vec.model, separately None\n",
      "[2020-09-26 18:27:50] - utils.py[line:657] - INFO: not storing attribute vectors_norm\n",
      "[2020-09-26 18:27:51] - utils.py[line:657] - INFO: not storing attribute cum_table\n",
      "[2020-09-26 18:27:51] - utils.py[line:565] - INFO: saved adv_userseq_indu_name_residence_word2vec.model\n",
      "[2020-09-26 18:27:51] - utils.py[line:551] - INFO: saving Word2VecKeyedVectors object under adv_userseq_indu_name_residence_word2vec.kv, separately None\n",
      "[2020-09-26 18:27:51] - utils.py[line:657] - INFO: not storing attribute vectors_norm\n",
      "[2020-09-26 18:27:51] - utils.py[line:565] - INFO: saved adv_userseq_indu_name_residence_word2vec.kv\n",
      "[2020-09-26 18:27:51] - word2vec.py[line:1399] - INFO: collecting all words and their counts\n",
      "[2020-09-26 18:27:51] - word2vec.py[line:1384] - INFO: PROGRESS: at sentence #0, processed 0 words, keeping 0 word types\n"
     ]
    },
    {
     "name": "stdout",
     "output_type": "stream",
     "text": [
      "save start\n",
      "Done\n",
      "LineSentence start\n",
      "Word2Vec start\n"
     ]
    },
    {
     "name": "stderr",
     "output_type": "stream",
     "text": [
      "[2020-09-26 18:27:51] - word2vec.py[line:1407] - INFO: collected 9 word types from a corpus of 1445501 raw words and 232 sentences\n",
      "[2020-09-26 18:27:51] - word2vec.py[line:1458] - INFO: Loading a fresh vocabulary\n",
      "[2020-09-26 18:27:51] - word2vec.py[line:1482] - INFO: effective_min_count=1 retains 9 unique words (100% of original 9, drops 0)\n",
      "[2020-09-26 18:27:51] - word2vec.py[line:1488] - INFO: effective_min_count=1 leaves 1445501 word corpus (100% of original 1445501, drops 0)\n",
      "[2020-09-26 18:27:51] - word2vec.py[line:1547] - INFO: deleting the raw counts dictionary of 9 items\n",
      "[2020-09-26 18:27:51] - word2vec.py[line:1550] - INFO: sample=0.001 downsamples 8 most-common words\n",
      "[2020-09-26 18:27:51] - word2vec.py[line:1553] - INFO: downsampling leaves estimated 128634 word corpus (8.9% of prior 1445501)\n",
      "[2020-09-26 18:27:51] - word2vec.py[line:1648] - INFO: constructing a huffman tree from 9 words\n",
      "[2020-09-26 18:27:51] - word2vec.py[line:1673] - INFO: built huffman tree with maximum node depth 6\n",
      "[2020-09-26 18:27:51] - base_any2vec.py[line:1008] - INFO: estimated required memory for 9 words and 64 dimensions: 13212 bytes\n",
      "[2020-09-26 18:27:51] - word2vec.py[line:1699] - INFO: resetting layer weights\n",
      "[2020-09-26 18:27:51] - base_any2vec.py[line:1196] - INFO: training model with -1 workers on 9 vocabulary and 64 features, using sg=0 hs=1 sample=0.001 negative=5 window=10000\n",
      "[2020-09-26 18:27:51] - base_any2vec.py[line:1332] - INFO: EPOCH - 1 : training on 0 raw words (0 effective words) took 0.0s, 0 effective words/s\n",
      "[2020-09-26 18:27:51] - base_any2vec.py[line:1343] - WARNING: EPOCH - 1 : supplied example count (0) did not equal expected count (232)\n",
      "[2020-09-26 18:27:51] - base_any2vec.py[line:1348] - WARNING: EPOCH - 1 : supplied raw word count (0) did not equal expected count (1445501)\n",
      "[2020-09-26 18:27:51] - base_any2vec.py[line:1332] - INFO: EPOCH - 2 : training on 0 raw words (0 effective words) took 0.0s, 0 effective words/s\n",
      "[2020-09-26 18:27:51] - base_any2vec.py[line:1343] - WARNING: EPOCH - 2 : supplied example count (0) did not equal expected count (232)\n",
      "[2020-09-26 18:27:51] - base_any2vec.py[line:1348] - WARNING: EPOCH - 2 : supplied raw word count (0) did not equal expected count (1445501)\n",
      "[2020-09-26 18:27:51] - base_any2vec.py[line:1332] - INFO: EPOCH - 3 : training on 0 raw words (0 effective words) took 0.0s, 0 effective words/s\n",
      "[2020-09-26 18:27:51] - base_any2vec.py[line:1343] - WARNING: EPOCH - 3 : supplied example count (0) did not equal expected count (232)\n",
      "[2020-09-26 18:27:51] - base_any2vec.py[line:1348] - WARNING: EPOCH - 3 : supplied raw word count (0) did not equal expected count (1445501)\n",
      "[2020-09-26 18:27:51] - base_any2vec.py[line:1332] - INFO: EPOCH - 4 : training on 0 raw words (0 effective words) took 0.0s, 0 effective words/s\n",
      "[2020-09-26 18:27:51] - base_any2vec.py[line:1343] - WARNING: EPOCH - 4 : supplied example count (0) did not equal expected count (232)\n",
      "[2020-09-26 18:27:51] - base_any2vec.py[line:1348] - WARNING: EPOCH - 4 : supplied raw word count (0) did not equal expected count (1445501)\n",
      "[2020-09-26 18:27:51] - base_any2vec.py[line:1332] - INFO: EPOCH - 5 : training on 0 raw words (0 effective words) took 0.0s, 0 effective words/s\n",
      "[2020-09-26 18:27:51] - base_any2vec.py[line:1343] - WARNING: EPOCH - 5 : supplied example count (0) did not equal expected count (232)\n",
      "[2020-09-26 18:27:51] - base_any2vec.py[line:1348] - WARNING: EPOCH - 5 : supplied raw word count (0) did not equal expected count (1445501)\n",
      "[2020-09-26 18:27:51] - base_any2vec.py[line:1332] - INFO: EPOCH - 6 : training on 0 raw words (0 effective words) took 0.0s, 0 effective words/s\n",
      "[2020-09-26 18:27:51] - base_any2vec.py[line:1343] - WARNING: EPOCH - 6 : supplied example count (0) did not equal expected count (232)\n",
      "[2020-09-26 18:27:51] - base_any2vec.py[line:1348] - WARNING: EPOCH - 6 : supplied raw word count (0) did not equal expected count (1445501)\n",
      "[2020-09-26 18:27:51] - base_any2vec.py[line:1332] - INFO: EPOCH - 7 : training on 0 raw words (0 effective words) took 0.0s, 0 effective words/s\n",
      "[2020-09-26 18:27:51] - base_any2vec.py[line:1343] - WARNING: EPOCH - 7 : supplied example count (0) did not equal expected count (232)\n",
      "[2020-09-26 18:27:51] - base_any2vec.py[line:1348] - WARNING: EPOCH - 7 : supplied raw word count (0) did not equal expected count (1445501)\n",
      "[2020-09-26 18:27:51] - base_any2vec.py[line:1332] - INFO: EPOCH - 8 : training on 0 raw words (0 effective words) took 0.0s, 0 effective words/s\n",
      "[2020-09-26 18:27:51] - base_any2vec.py[line:1343] - WARNING: EPOCH - 8 : supplied example count (0) did not equal expected count (232)\n",
      "[2020-09-26 18:27:51] - base_any2vec.py[line:1348] - WARNING: EPOCH - 8 : supplied raw word count (0) did not equal expected count (1445501)\n",
      "[2020-09-26 18:27:51] - base_any2vec.py[line:1332] - INFO: EPOCH - 9 : training on 0 raw words (0 effective words) took 0.0s, 0 effective words/s\n",
      "[2020-09-26 18:27:51] - base_any2vec.py[line:1343] - WARNING: EPOCH - 9 : supplied example count (0) did not equal expected count (232)\n",
      "[2020-09-26 18:27:51] - base_any2vec.py[line:1348] - WARNING: EPOCH - 9 : supplied raw word count (0) did not equal expected count (1445501)\n",
      "[2020-09-26 18:27:51] - base_any2vec.py[line:1332] - INFO: EPOCH - 10 : training on 0 raw words (0 effective words) took 0.0s, 0 effective words/s\n",
      "[2020-09-26 18:27:51] - base_any2vec.py[line:1343] - WARNING: EPOCH - 10 : supplied example count (0) did not equal expected count (232)\n",
      "[2020-09-26 18:27:51] - base_any2vec.py[line:1348] - WARNING: EPOCH - 10 : supplied raw word count (0) did not equal expected count (1445501)\n",
      "[2020-09-26 18:27:51] - base_any2vec.py[line:1368] - INFO: training on a 0 raw words (0 effective words) took 0.4s, 0 effective words/s\n",
      "[2020-09-26 18:27:51] - utils.py[line:551] - INFO: saving Word2Vec object under adv_userseq_adv_prim_id_age_word2vec.model, separately None\n",
      "[2020-09-26 18:27:51] - utils.py[line:657] - INFO: not storing attribute vectors_norm\n",
      "[2020-09-26 18:27:51] - utils.py[line:657] - INFO: not storing attribute cum_table\n",
      "[2020-09-26 18:27:51] - utils.py[line:565] - INFO: saved adv_userseq_adv_prim_id_age_word2vec.model\n",
      "[2020-09-26 18:27:51] - utils.py[line:551] - INFO: saving Word2VecKeyedVectors object under adv_userseq_adv_prim_id_age_word2vec.kv, separately None\n",
      "[2020-09-26 18:27:51] - utils.py[line:657] - INFO: not storing attribute vectors_norm\n",
      "[2020-09-26 18:27:51] - utils.py[line:565] - INFO: saved adv_userseq_adv_prim_id_age_word2vec.kv\n",
      "[2020-09-26 18:27:51] - word2vec.py[line:1399] - INFO: collecting all words and their counts\n",
      "[2020-09-26 18:27:51] - word2vec.py[line:1384] - INFO: PROGRESS: at sentence #0, processed 0 words, keeping 0 word types\n"
     ]
    },
    {
     "name": "stdout",
     "output_type": "stream",
     "text": [
      "save start\n",
      "Done\n",
      "LineSentence start\n",
      "Word2Vec start\n"
     ]
    },
    {
     "name": "stderr",
     "output_type": "stream",
     "text": [
      "[2020-09-26 18:27:51] - word2vec.py[line:1407] - INFO: collected 345 word types from a corpus of 1445501 raw words and 232 sentences\n",
      "[2020-09-26 18:27:51] - word2vec.py[line:1458] - INFO: Loading a fresh vocabulary\n",
      "[2020-09-26 18:27:51] - word2vec.py[line:1482] - INFO: effective_min_count=1 retains 345 unique words (100% of original 345, drops 0)\n",
      "[2020-09-26 18:27:51] - word2vec.py[line:1488] - INFO: effective_min_count=1 leaves 1445501 word corpus (100% of original 1445501, drops 0)\n",
      "[2020-09-26 18:27:51] - word2vec.py[line:1547] - INFO: deleting the raw counts dictionary of 345 items\n",
      "[2020-09-26 18:27:51] - word2vec.py[line:1550] - INFO: sample=0.001 downsamples 98 most-common words\n",
      "[2020-09-26 18:27:51] - word2vec.py[line:1553] - INFO: downsampling leaves estimated 911366 word corpus (63.0% of prior 1445501)\n",
      "[2020-09-26 18:27:51] - word2vec.py[line:1648] - INFO: constructing a huffman tree from 345 words\n",
      "[2020-09-26 18:27:51] - word2vec.py[line:1673] - INFO: built huffman tree with maximum node depth 17\n",
      "[2020-09-26 18:27:52] - base_any2vec.py[line:1008] - INFO: estimated required memory for 345 words and 64 dimensions: 506460 bytes\n",
      "[2020-09-26 18:27:52] - word2vec.py[line:1699] - INFO: resetting layer weights\n",
      "[2020-09-26 18:27:52] - base_any2vec.py[line:1196] - INFO: training model with -1 workers on 345 vocabulary and 64 features, using sg=0 hs=1 sample=0.001 negative=5 window=10000\n",
      "[2020-09-26 18:27:52] - base_any2vec.py[line:1332] - INFO: EPOCH - 1 : training on 0 raw words (0 effective words) took 0.0s, 0 effective words/s\n",
      "[2020-09-26 18:27:52] - base_any2vec.py[line:1343] - WARNING: EPOCH - 1 : supplied example count (0) did not equal expected count (232)\n",
      "[2020-09-26 18:27:52] - base_any2vec.py[line:1348] - WARNING: EPOCH - 1 : supplied raw word count (0) did not equal expected count (1445501)\n",
      "[2020-09-26 18:27:52] - base_any2vec.py[line:1332] - INFO: EPOCH - 2 : training on 0 raw words (0 effective words) took 0.0s, 0 effective words/s\n",
      "[2020-09-26 18:27:52] - base_any2vec.py[line:1343] - WARNING: EPOCH - 2 : supplied example count (0) did not equal expected count (232)\n",
      "[2020-09-26 18:27:52] - base_any2vec.py[line:1348] - WARNING: EPOCH - 2 : supplied raw word count (0) did not equal expected count (1445501)\n",
      "[2020-09-26 18:27:52] - base_any2vec.py[line:1332] - INFO: EPOCH - 3 : training on 0 raw words (0 effective words) took 0.0s, 0 effective words/s\n",
      "[2020-09-26 18:27:52] - base_any2vec.py[line:1343] - WARNING: EPOCH - 3 : supplied example count (0) did not equal expected count (232)\n",
      "[2020-09-26 18:27:52] - base_any2vec.py[line:1348] - WARNING: EPOCH - 3 : supplied raw word count (0) did not equal expected count (1445501)\n",
      "[2020-09-26 18:27:52] - base_any2vec.py[line:1332] - INFO: EPOCH - 4 : training on 0 raw words (0 effective words) took 0.0s, 0 effective words/s\n",
      "[2020-09-26 18:27:52] - base_any2vec.py[line:1343] - WARNING: EPOCH - 4 : supplied example count (0) did not equal expected count (232)\n",
      "[2020-09-26 18:27:52] - base_any2vec.py[line:1348] - WARNING: EPOCH - 4 : supplied raw word count (0) did not equal expected count (1445501)\n",
      "[2020-09-26 18:27:52] - base_any2vec.py[line:1332] - INFO: EPOCH - 5 : training on 0 raw words (0 effective words) took 0.0s, 0 effective words/s\n",
      "[2020-09-26 18:27:52] - base_any2vec.py[line:1343] - WARNING: EPOCH - 5 : supplied example count (0) did not equal expected count (232)\n",
      "[2020-09-26 18:27:52] - base_any2vec.py[line:1348] - WARNING: EPOCH - 5 : supplied raw word count (0) did not equal expected count (1445501)\n",
      "[2020-09-26 18:27:52] - base_any2vec.py[line:1332] - INFO: EPOCH - 6 : training on 0 raw words (0 effective words) took 0.0s, 0 effective words/s\n",
      "[2020-09-26 18:27:52] - base_any2vec.py[line:1343] - WARNING: EPOCH - 6 : supplied example count (0) did not equal expected count (232)\n",
      "[2020-09-26 18:27:52] - base_any2vec.py[line:1348] - WARNING: EPOCH - 6 : supplied raw word count (0) did not equal expected count (1445501)\n",
      "[2020-09-26 18:27:52] - base_any2vec.py[line:1332] - INFO: EPOCH - 7 : training on 0 raw words (0 effective words) took 0.0s, 0 effective words/s\n",
      "[2020-09-26 18:27:52] - base_any2vec.py[line:1343] - WARNING: EPOCH - 7 : supplied example count (0) did not equal expected count (232)\n",
      "[2020-09-26 18:27:52] - base_any2vec.py[line:1348] - WARNING: EPOCH - 7 : supplied raw word count (0) did not equal expected count (1445501)\n",
      "[2020-09-26 18:27:52] - base_any2vec.py[line:1332] - INFO: EPOCH - 8 : training on 0 raw words (0 effective words) took 0.0s, 0 effective words/s\n",
      "[2020-09-26 18:27:52] - base_any2vec.py[line:1343] - WARNING: EPOCH - 8 : supplied example count (0) did not equal expected count (232)\n",
      "[2020-09-26 18:27:52] - base_any2vec.py[line:1348] - WARNING: EPOCH - 8 : supplied raw word count (0) did not equal expected count (1445501)\n",
      "[2020-09-26 18:27:52] - base_any2vec.py[line:1332] - INFO: EPOCH - 9 : training on 0 raw words (0 effective words) took 0.0s, 0 effective words/s\n",
      "[2020-09-26 18:27:52] - base_any2vec.py[line:1343] - WARNING: EPOCH - 9 : supplied example count (0) did not equal expected count (232)\n",
      "[2020-09-26 18:27:52] - base_any2vec.py[line:1348] - WARNING: EPOCH - 9 : supplied raw word count (0) did not equal expected count (1445501)\n",
      "[2020-09-26 18:27:52] - base_any2vec.py[line:1332] - INFO: EPOCH - 10 : training on 0 raw words (0 effective words) took 0.0s, 0 effective words/s\n",
      "[2020-09-26 18:27:52] - base_any2vec.py[line:1343] - WARNING: EPOCH - 10 : supplied example count (0) did not equal expected count (232)\n",
      "[2020-09-26 18:27:52] - base_any2vec.py[line:1348] - WARNING: EPOCH - 10 : supplied raw word count (0) did not equal expected count (1445501)\n",
      "[2020-09-26 18:27:53] - base_any2vec.py[line:1368] - INFO: training on a 0 raw words (0 effective words) took 1.0s, 0 effective words/s\n",
      "[2020-09-26 18:27:53] - utils.py[line:551] - INFO: saving Word2Vec object under adv_userseq_adv_prim_id_city_word2vec.model, separately None\n",
      "[2020-09-26 18:27:53] - utils.py[line:657] - INFO: not storing attribute vectors_norm\n",
      "[2020-09-26 18:27:53] - utils.py[line:657] - INFO: not storing attribute cum_table\n",
      "[2020-09-26 18:27:53] - utils.py[line:565] - INFO: saved adv_userseq_adv_prim_id_city_word2vec.model\n",
      "[2020-09-26 18:27:53] - utils.py[line:551] - INFO: saving Word2VecKeyedVectors object under adv_userseq_adv_prim_id_city_word2vec.kv, separately None\n"
     ]
    },
    {
     "name": "stdout",
     "output_type": "stream",
     "text": [
      "save start\n"
     ]
    },
    {
     "name": "stderr",
     "output_type": "stream",
     "text": [
      "[2020-09-26 18:27:53] - utils.py[line:657] - INFO: not storing attribute vectors_norm\n",
      "[2020-09-26 18:27:53] - utils.py[line:565] - INFO: saved adv_userseq_adv_prim_id_city_word2vec.kv\n",
      "[2020-09-26 18:27:53] - word2vec.py[line:1399] - INFO: collecting all words and their counts\n",
      "[2020-09-26 18:27:53] - word2vec.py[line:1384] - INFO: PROGRESS: at sentence #0, processed 0 words, keeping 0 word types\n"
     ]
    },
    {
     "name": "stdout",
     "output_type": "stream",
     "text": [
      "Done\n",
      "LineSentence start\n",
      "Word2Vec start\n"
     ]
    },
    {
     "name": "stderr",
     "output_type": "stream",
     "text": [
      "[2020-09-26 18:27:53] - word2vec.py[line:1407] - INFO: collected 5 word types from a corpus of 1445501 raw words and 232 sentences\n",
      "[2020-09-26 18:27:53] - word2vec.py[line:1458] - INFO: Loading a fresh vocabulary\n",
      "[2020-09-26 18:27:53] - word2vec.py[line:1482] - INFO: effective_min_count=1 retains 5 unique words (100% of original 5, drops 0)\n",
      "[2020-09-26 18:27:53] - word2vec.py[line:1488] - INFO: effective_min_count=1 leaves 1445501 word corpus (100% of original 1445501, drops 0)\n",
      "[2020-09-26 18:27:53] - word2vec.py[line:1547] - INFO: deleting the raw counts dictionary of 5 items\n",
      "[2020-09-26 18:27:53] - word2vec.py[line:1550] - INFO: sample=0.001 downsamples 4 most-common words\n",
      "[2020-09-26 18:27:53] - word2vec.py[line:1553] - INFO: downsampling leaves estimated 88986 word corpus (6.2% of prior 1445501)\n",
      "[2020-09-26 18:27:53] - word2vec.py[line:1648] - INFO: constructing a huffman tree from 5 words\n",
      "[2020-09-26 18:27:53] - word2vec.py[line:1673] - INFO: built huffman tree with maximum node depth 4\n",
      "[2020-09-26 18:27:53] - base_any2vec.py[line:1008] - INFO: estimated required memory for 5 words and 64 dimensions: 7340 bytes\n",
      "[2020-09-26 18:27:53] - word2vec.py[line:1699] - INFO: resetting layer weights\n",
      "[2020-09-26 18:27:53] - base_any2vec.py[line:1196] - INFO: training model with -1 workers on 5 vocabulary and 64 features, using sg=0 hs=1 sample=0.001 negative=5 window=10000\n",
      "[2020-09-26 18:27:53] - base_any2vec.py[line:1332] - INFO: EPOCH - 1 : training on 0 raw words (0 effective words) took 0.0s, 0 effective words/s\n",
      "[2020-09-26 18:27:53] - base_any2vec.py[line:1343] - WARNING: EPOCH - 1 : supplied example count (0) did not equal expected count (232)\n",
      "[2020-09-26 18:27:53] - base_any2vec.py[line:1348] - WARNING: EPOCH - 1 : supplied raw word count (0) did not equal expected count (1445501)\n",
      "[2020-09-26 18:27:53] - base_any2vec.py[line:1332] - INFO: EPOCH - 2 : training on 0 raw words (0 effective words) took 0.0s, 0 effective words/s\n",
      "[2020-09-26 18:27:53] - base_any2vec.py[line:1343] - WARNING: EPOCH - 2 : supplied example count (0) did not equal expected count (232)\n",
      "[2020-09-26 18:27:53] - base_any2vec.py[line:1348] - WARNING: EPOCH - 2 : supplied raw word count (0) did not equal expected count (1445501)\n",
      "[2020-09-26 18:27:53] - base_any2vec.py[line:1332] - INFO: EPOCH - 3 : training on 0 raw words (0 effective words) took 0.0s, 0 effective words/s\n",
      "[2020-09-26 18:27:53] - base_any2vec.py[line:1343] - WARNING: EPOCH - 3 : supplied example count (0) did not equal expected count (232)\n",
      "[2020-09-26 18:27:53] - base_any2vec.py[line:1348] - WARNING: EPOCH - 3 : supplied raw word count (0) did not equal expected count (1445501)\n",
      "[2020-09-26 18:27:53] - base_any2vec.py[line:1332] - INFO: EPOCH - 4 : training on 0 raw words (0 effective words) took 0.0s, 0 effective words/s\n",
      "[2020-09-26 18:27:53] - base_any2vec.py[line:1343] - WARNING: EPOCH - 4 : supplied example count (0) did not equal expected count (232)\n",
      "[2020-09-26 18:27:53] - base_any2vec.py[line:1348] - WARNING: EPOCH - 4 : supplied raw word count (0) did not equal expected count (1445501)\n",
      "[2020-09-26 18:27:54] - base_any2vec.py[line:1332] - INFO: EPOCH - 5 : training on 0 raw words (0 effective words) took 0.0s, 0 effective words/s\n",
      "[2020-09-26 18:27:54] - base_any2vec.py[line:1343] - WARNING: EPOCH - 5 : supplied example count (0) did not equal expected count (232)\n",
      "[2020-09-26 18:27:54] - base_any2vec.py[line:1348] - WARNING: EPOCH - 5 : supplied raw word count (0) did not equal expected count (1445501)\n",
      "[2020-09-26 18:27:54] - base_any2vec.py[line:1332] - INFO: EPOCH - 6 : training on 0 raw words (0 effective words) took 0.0s, 0 effective words/s\n",
      "[2020-09-26 18:27:54] - base_any2vec.py[line:1343] - WARNING: EPOCH - 6 : supplied example count (0) did not equal expected count (232)\n",
      "[2020-09-26 18:27:54] - base_any2vec.py[line:1348] - WARNING: EPOCH - 6 : supplied raw word count (0) did not equal expected count (1445501)\n",
      "[2020-09-26 18:27:54] - base_any2vec.py[line:1332] - INFO: EPOCH - 7 : training on 0 raw words (0 effective words) took 0.0s, 0 effective words/s\n",
      "[2020-09-26 18:27:54] - base_any2vec.py[line:1343] - WARNING: EPOCH - 7 : supplied example count (0) did not equal expected count (232)\n",
      "[2020-09-26 18:27:54] - base_any2vec.py[line:1348] - WARNING: EPOCH - 7 : supplied raw word count (0) did not equal expected count (1445501)\n",
      "[2020-09-26 18:27:54] - base_any2vec.py[line:1332] - INFO: EPOCH - 8 : training on 0 raw words (0 effective words) took 0.0s, 0 effective words/s\n",
      "[2020-09-26 18:27:54] - base_any2vec.py[line:1343] - WARNING: EPOCH - 8 : supplied example count (0) did not equal expected count (232)\n",
      "[2020-09-26 18:27:54] - base_any2vec.py[line:1348] - WARNING: EPOCH - 8 : supplied raw word count (0) did not equal expected count (1445501)\n",
      "[2020-09-26 18:27:54] - base_any2vec.py[line:1332] - INFO: EPOCH - 9 : training on 0 raw words (0 effective words) took 0.0s, 0 effective words/s\n",
      "[2020-09-26 18:27:54] - base_any2vec.py[line:1343] - WARNING: EPOCH - 9 : supplied example count (0) did not equal expected count (232)\n",
      "[2020-09-26 18:27:54] - base_any2vec.py[line:1348] - WARNING: EPOCH - 9 : supplied raw word count (0) did not equal expected count (1445501)\n",
      "[2020-09-26 18:27:54] - base_any2vec.py[line:1332] - INFO: EPOCH - 10 : training on 0 raw words (0 effective words) took 0.0s, 0 effective words/s\n",
      "[2020-09-26 18:27:54] - base_any2vec.py[line:1343] - WARNING: EPOCH - 10 : supplied example count (0) did not equal expected count (232)\n",
      "[2020-09-26 18:27:54] - base_any2vec.py[line:1348] - WARNING: EPOCH - 10 : supplied raw word count (0) did not equal expected count (1445501)\n",
      "[2020-09-26 18:27:54] - base_any2vec.py[line:1368] - INFO: training on a 0 raw words (0 effective words) took 0.5s, 0 effective words/s\n",
      "[2020-09-26 18:27:54] - utils.py[line:551] - INFO: saving Word2Vec object under adv_userseq_adv_prim_id_city_rank_word2vec.model, separately None\n",
      "[2020-09-26 18:27:54] - utils.py[line:657] - INFO: not storing attribute vectors_norm\n",
      "[2020-09-26 18:27:54] - utils.py[line:657] - INFO: not storing attribute cum_table\n",
      "[2020-09-26 18:27:54] - utils.py[line:565] - INFO: saved adv_userseq_adv_prim_id_city_rank_word2vec.model\n",
      "[2020-09-26 18:27:54] - utils.py[line:551] - INFO: saving Word2VecKeyedVectors object under adv_userseq_adv_prim_id_city_rank_word2vec.kv, separately None\n",
      "[2020-09-26 18:27:54] - utils.py[line:657] - INFO: not storing attribute vectors_norm\n",
      "[2020-09-26 18:27:54] - utils.py[line:565] - INFO: saved adv_userseq_adv_prim_id_city_rank_word2vec.kv\n",
      "[2020-09-26 18:27:54] - word2vec.py[line:1399] - INFO: collecting all words and their counts\n",
      "[2020-09-26 18:27:54] - word2vec.py[line:1384] - INFO: PROGRESS: at sentence #0, processed 0 words, keeping 0 word types\n"
     ]
    },
    {
     "name": "stdout",
     "output_type": "stream",
     "text": [
      "save start\n",
      "Done\n",
      "LineSentence start\n",
      "Word2Vec start\n"
     ]
    },
    {
     "name": "stderr",
     "output_type": "stream",
     "text": [
      "[2020-09-26 18:27:54] - word2vec.py[line:1407] - INFO: collected 91 word types from a corpus of 1445501 raw words and 232 sentences\n",
      "[2020-09-26 18:27:54] - word2vec.py[line:1458] - INFO: Loading a fresh vocabulary\n",
      "[2020-09-26 18:27:54] - word2vec.py[line:1482] - INFO: effective_min_count=1 retains 91 unique words (100% of original 91, drops 0)\n",
      "[2020-09-26 18:27:54] - word2vec.py[line:1488] - INFO: effective_min_count=1 leaves 1445501 word corpus (100% of original 1445501, drops 0)\n",
      "[2020-09-26 18:27:54] - word2vec.py[line:1547] - INFO: deleting the raw counts dictionary of 91 items\n",
      "[2020-09-26 18:27:54] - word2vec.py[line:1550] - INFO: sample=0.001 downsamples 51 most-common words\n",
      "[2020-09-26 18:27:54] - word2vec.py[line:1553] - INFO: downsampling leaves estimated 403725 word corpus (27.9% of prior 1445501)\n",
      "[2020-09-26 18:27:54] - word2vec.py[line:1648] - INFO: constructing a huffman tree from 91 words\n",
      "[2020-09-26 18:27:54] - word2vec.py[line:1673] - INFO: built huffman tree with maximum node depth 20\n",
      "[2020-09-26 18:27:54] - base_any2vec.py[line:1008] - INFO: estimated required memory for 91 words and 64 dimensions: 133588 bytes\n",
      "[2020-09-26 18:27:54] - word2vec.py[line:1699] - INFO: resetting layer weights\n",
      "[2020-09-26 18:27:54] - base_any2vec.py[line:1196] - INFO: training model with -1 workers on 91 vocabulary and 64 features, using sg=0 hs=1 sample=0.001 negative=5 window=10000\n",
      "[2020-09-26 18:27:54] - base_any2vec.py[line:1332] - INFO: EPOCH - 1 : training on 0 raw words (0 effective words) took 0.0s, 0 effective words/s\n",
      "[2020-09-26 18:27:54] - base_any2vec.py[line:1343] - WARNING: EPOCH - 1 : supplied example count (0) did not equal expected count (232)\n",
      "[2020-09-26 18:27:54] - base_any2vec.py[line:1348] - WARNING: EPOCH - 1 : supplied raw word count (0) did not equal expected count (1445501)\n",
      "[2020-09-26 18:27:54] - base_any2vec.py[line:1332] - INFO: EPOCH - 2 : training on 0 raw words (0 effective words) took 0.0s, 0 effective words/s\n",
      "[2020-09-26 18:27:54] - base_any2vec.py[line:1343] - WARNING: EPOCH - 2 : supplied example count (0) did not equal expected count (232)\n",
      "[2020-09-26 18:27:54] - base_any2vec.py[line:1348] - WARNING: EPOCH - 2 : supplied raw word count (0) did not equal expected count (1445501)\n",
      "[2020-09-26 18:27:54] - base_any2vec.py[line:1332] - INFO: EPOCH - 3 : training on 0 raw words (0 effective words) took 0.0s, 0 effective words/s\n",
      "[2020-09-26 18:27:54] - base_any2vec.py[line:1343] - WARNING: EPOCH - 3 : supplied example count (0) did not equal expected count (232)\n",
      "[2020-09-26 18:27:54] - base_any2vec.py[line:1348] - WARNING: EPOCH - 3 : supplied raw word count (0) did not equal expected count (1445501)\n",
      "[2020-09-26 18:27:54] - base_any2vec.py[line:1332] - INFO: EPOCH - 4 : training on 0 raw words (0 effective words) took 0.0s, 0 effective words/s\n",
      "[2020-09-26 18:27:54] - base_any2vec.py[line:1343] - WARNING: EPOCH - 4 : supplied example count (0) did not equal expected count (232)\n",
      "[2020-09-26 18:27:54] - base_any2vec.py[line:1348] - WARNING: EPOCH - 4 : supplied raw word count (0) did not equal expected count (1445501)\n",
      "[2020-09-26 18:27:55] - base_any2vec.py[line:1332] - INFO: EPOCH - 5 : training on 0 raw words (0 effective words) took 0.0s, 0 effective words/s\n",
      "[2020-09-26 18:27:55] - base_any2vec.py[line:1343] - WARNING: EPOCH - 5 : supplied example count (0) did not equal expected count (232)\n",
      "[2020-09-26 18:27:55] - base_any2vec.py[line:1348] - WARNING: EPOCH - 5 : supplied raw word count (0) did not equal expected count (1445501)\n",
      "[2020-09-26 18:27:55] - base_any2vec.py[line:1332] - INFO: EPOCH - 6 : training on 0 raw words (0 effective words) took 0.0s, 0 effective words/s\n",
      "[2020-09-26 18:27:55] - base_any2vec.py[line:1343] - WARNING: EPOCH - 6 : supplied example count (0) did not equal expected count (232)\n",
      "[2020-09-26 18:27:55] - base_any2vec.py[line:1348] - WARNING: EPOCH - 6 : supplied raw word count (0) did not equal expected count (1445501)\n",
      "[2020-09-26 18:27:55] - base_any2vec.py[line:1332] - INFO: EPOCH - 7 : training on 0 raw words (0 effective words) took 0.0s, 0 effective words/s\n",
      "[2020-09-26 18:27:55] - base_any2vec.py[line:1343] - WARNING: EPOCH - 7 : supplied example count (0) did not equal expected count (232)\n",
      "[2020-09-26 18:27:55] - base_any2vec.py[line:1348] - WARNING: EPOCH - 7 : supplied raw word count (0) did not equal expected count (1445501)\n",
      "[2020-09-26 18:27:55] - base_any2vec.py[line:1332] - INFO: EPOCH - 8 : training on 0 raw words (0 effective words) took 0.0s, 0 effective words/s\n",
      "[2020-09-26 18:27:55] - base_any2vec.py[line:1343] - WARNING: EPOCH - 8 : supplied example count (0) did not equal expected count (232)\n",
      "[2020-09-26 18:27:55] - base_any2vec.py[line:1348] - WARNING: EPOCH - 8 : supplied raw word count (0) did not equal expected count (1445501)\n",
      "[2020-09-26 18:27:55] - base_any2vec.py[line:1332] - INFO: EPOCH - 9 : training on 0 raw words (0 effective words) took 0.0s, 0 effective words/s\n",
      "[2020-09-26 18:27:55] - base_any2vec.py[line:1343] - WARNING: EPOCH - 9 : supplied example count (0) did not equal expected count (232)\n",
      "[2020-09-26 18:27:55] - base_any2vec.py[line:1348] - WARNING: EPOCH - 9 : supplied raw word count (0) did not equal expected count (1445501)\n",
      "[2020-09-26 18:27:55] - base_any2vec.py[line:1332] - INFO: EPOCH - 10 : training on 0 raw words (0 effective words) took 0.0s, 0 effective words/s\n",
      "[2020-09-26 18:27:55] - base_any2vec.py[line:1343] - WARNING: EPOCH - 10 : supplied example count (0) did not equal expected count (232)\n",
      "[2020-09-26 18:27:56] - base_any2vec.py[line:1348] - WARNING: EPOCH - 10 : supplied raw word count (0) did not equal expected count (1445501)\n",
      "[2020-09-26 18:27:56] - base_any2vec.py[line:1368] - INFO: training on a 0 raw words (0 effective words) took 1.3s, 0 effective words/s\n",
      "[2020-09-26 18:27:56] - utils.py[line:551] - INFO: saving Word2Vec object under adv_userseq_adv_prim_id_device_name_word2vec.model, separately None\n",
      "[2020-09-26 18:27:56] - utils.py[line:657] - INFO: not storing attribute vectors_norm\n",
      "[2020-09-26 18:27:56] - utils.py[line:657] - INFO: not storing attribute cum_table\n"
     ]
    },
    {
     "name": "stdout",
     "output_type": "stream",
     "text": [
      "save start\n"
     ]
    },
    {
     "name": "stderr",
     "output_type": "stream",
     "text": [
      "[2020-09-26 18:27:56] - utils.py[line:565] - INFO: saved adv_userseq_adv_prim_id_device_name_word2vec.model\n",
      "[2020-09-26 18:27:56] - utils.py[line:551] - INFO: saving Word2VecKeyedVectors object under adv_userseq_adv_prim_id_device_name_word2vec.kv, separately None\n",
      "[2020-09-26 18:27:56] - utils.py[line:657] - INFO: not storing attribute vectors_norm\n",
      "[2020-09-26 18:27:56] - utils.py[line:565] - INFO: saved adv_userseq_adv_prim_id_device_name_word2vec.kv\n",
      "[2020-09-26 18:27:56] - word2vec.py[line:1399] - INFO: collecting all words and their counts\n",
      "[2020-09-26 18:27:56] - word2vec.py[line:1384] - INFO: PROGRESS: at sentence #0, processed 0 words, keeping 0 word types\n",
      "[2020-09-26 18:27:56] - word2vec.py[line:1407] - INFO: collected 10 word types from a corpus of 1445501 raw words and 232 sentences\n",
      "[2020-09-26 18:27:56] - word2vec.py[line:1458] - INFO: Loading a fresh vocabulary\n",
      "[2020-09-26 18:27:56] - word2vec.py[line:1482] - INFO: effective_min_count=1 retains 10 unique words (100% of original 10, drops 0)\n",
      "[2020-09-26 18:27:56] - word2vec.py[line:1488] - INFO: effective_min_count=1 leaves 1445501 word corpus (100% of original 1445501, drops 0)\n",
      "[2020-09-26 18:27:56] - word2vec.py[line:1547] - INFO: deleting the raw counts dictionary of 10 items\n",
      "[2020-09-26 18:27:56] - word2vec.py[line:1550] - INFO: sample=0.001 downsamples 8 most-common words\n",
      "[2020-09-26 18:27:56] - word2vec.py[line:1553] - INFO: downsampling leaves estimated 115960 word corpus (8.0% of prior 1445501)\n"
     ]
    },
    {
     "name": "stdout",
     "output_type": "stream",
     "text": [
      "Done\n",
      "LineSentence start\n",
      "Word2Vec start\n"
     ]
    },
    {
     "name": "stderr",
     "output_type": "stream",
     "text": [
      "[2020-09-26 18:27:56] - word2vec.py[line:1648] - INFO: constructing a huffman tree from 10 words\n",
      "[2020-09-26 18:27:56] - word2vec.py[line:1673] - INFO: built huffman tree with maximum node depth 7\n",
      "[2020-09-26 18:27:56] - base_any2vec.py[line:1008] - INFO: estimated required memory for 10 words and 64 dimensions: 14680 bytes\n",
      "[2020-09-26 18:27:56] - word2vec.py[line:1699] - INFO: resetting layer weights\n",
      "[2020-09-26 18:27:56] - base_any2vec.py[line:1196] - INFO: training model with -1 workers on 10 vocabulary and 64 features, using sg=0 hs=1 sample=0.001 negative=5 window=10000\n",
      "[2020-09-26 18:27:56] - base_any2vec.py[line:1332] - INFO: EPOCH - 1 : training on 0 raw words (0 effective words) took 0.0s, 0 effective words/s\n",
      "[2020-09-26 18:27:56] - base_any2vec.py[line:1343] - WARNING: EPOCH - 1 : supplied example count (0) did not equal expected count (232)\n",
      "[2020-09-26 18:27:56] - base_any2vec.py[line:1348] - WARNING: EPOCH - 1 : supplied raw word count (0) did not equal expected count (1445501)\n",
      "[2020-09-26 18:27:56] - base_any2vec.py[line:1332] - INFO: EPOCH - 2 : training on 0 raw words (0 effective words) took 0.0s, 0 effective words/s\n",
      "[2020-09-26 18:27:56] - base_any2vec.py[line:1343] - WARNING: EPOCH - 2 : supplied example count (0) did not equal expected count (232)\n",
      "[2020-09-26 18:27:56] - base_any2vec.py[line:1348] - WARNING: EPOCH - 2 : supplied raw word count (0) did not equal expected count (1445501)\n",
      "[2020-09-26 18:27:56] - base_any2vec.py[line:1332] - INFO: EPOCH - 3 : training on 0 raw words (0 effective words) took 0.0s, 0 effective words/s\n",
      "[2020-09-26 18:27:56] - base_any2vec.py[line:1343] - WARNING: EPOCH - 3 : supplied example count (0) did not equal expected count (232)\n",
      "[2020-09-26 18:27:56] - base_any2vec.py[line:1348] - WARNING: EPOCH - 3 : supplied raw word count (0) did not equal expected count (1445501)\n",
      "[2020-09-26 18:27:56] - base_any2vec.py[line:1332] - INFO: EPOCH - 4 : training on 0 raw words (0 effective words) took 0.0s, 0 effective words/s\n",
      "[2020-09-26 18:27:56] - base_any2vec.py[line:1343] - WARNING: EPOCH - 4 : supplied example count (0) did not equal expected count (232)\n",
      "[2020-09-26 18:27:56] - base_any2vec.py[line:1348] - WARNING: EPOCH - 4 : supplied raw word count (0) did not equal expected count (1445501)\n",
      "[2020-09-26 18:27:56] - base_any2vec.py[line:1332] - INFO: EPOCH - 5 : training on 0 raw words (0 effective words) took 0.0s, 0 effective words/s\n",
      "[2020-09-26 18:27:56] - base_any2vec.py[line:1343] - WARNING: EPOCH - 5 : supplied example count (0) did not equal expected count (232)\n",
      "[2020-09-26 18:27:56] - base_any2vec.py[line:1348] - WARNING: EPOCH - 5 : supplied raw word count (0) did not equal expected count (1445501)\n",
      "[2020-09-26 18:27:56] - base_any2vec.py[line:1332] - INFO: EPOCH - 6 : training on 0 raw words (0 effective words) took 0.0s, 0 effective words/s\n",
      "[2020-09-26 18:27:56] - base_any2vec.py[line:1343] - WARNING: EPOCH - 6 : supplied example count (0) did not equal expected count (232)\n",
      "[2020-09-26 18:27:56] - base_any2vec.py[line:1348] - WARNING: EPOCH - 6 : supplied raw word count (0) did not equal expected count (1445501)\n",
      "[2020-09-26 18:27:56] - base_any2vec.py[line:1332] - INFO: EPOCH - 7 : training on 0 raw words (0 effective words) took 0.0s, 0 effective words/s\n",
      "[2020-09-26 18:27:56] - base_any2vec.py[line:1343] - WARNING: EPOCH - 7 : supplied example count (0) did not equal expected count (232)\n",
      "[2020-09-26 18:27:56] - base_any2vec.py[line:1348] - WARNING: EPOCH - 7 : supplied raw word count (0) did not equal expected count (1445501)\n",
      "[2020-09-26 18:27:56] - base_any2vec.py[line:1332] - INFO: EPOCH - 8 : training on 0 raw words (0 effective words) took 0.0s, 0 effective words/s\n",
      "[2020-09-26 18:27:56] - base_any2vec.py[line:1343] - WARNING: EPOCH - 8 : supplied example count (0) did not equal expected count (232)\n",
      "[2020-09-26 18:27:56] - base_any2vec.py[line:1348] - WARNING: EPOCH - 8 : supplied raw word count (0) did not equal expected count (1445501)\n",
      "[2020-09-26 18:27:57] - base_any2vec.py[line:1332] - INFO: EPOCH - 9 : training on 0 raw words (0 effective words) took 0.0s, 0 effective words/s\n",
      "[2020-09-26 18:27:57] - base_any2vec.py[line:1343] - WARNING: EPOCH - 9 : supplied example count (0) did not equal expected count (232)\n",
      "[2020-09-26 18:27:57] - base_any2vec.py[line:1348] - WARNING: EPOCH - 9 : supplied raw word count (0) did not equal expected count (1445501)\n",
      "[2020-09-26 18:27:57] - base_any2vec.py[line:1332] - INFO: EPOCH - 10 : training on 0 raw words (0 effective words) took 0.0s, 0 effective words/s\n",
      "[2020-09-26 18:27:57] - base_any2vec.py[line:1343] - WARNING: EPOCH - 10 : supplied example count (0) did not equal expected count (232)\n",
      "[2020-09-26 18:27:57] - base_any2vec.py[line:1348] - WARNING: EPOCH - 10 : supplied raw word count (0) did not equal expected count (1445501)\n",
      "[2020-09-26 18:27:57] - base_any2vec.py[line:1368] - INFO: training on a 0 raw words (0 effective words) took 0.4s, 0 effective words/s\n",
      "[2020-09-26 18:27:57] - utils.py[line:551] - INFO: saving Word2Vec object under adv_userseq_adv_prim_id_career_word2vec.model, separately None\n",
      "[2020-09-26 18:27:57] - utils.py[line:657] - INFO: not storing attribute vectors_norm\n",
      "[2020-09-26 18:27:57] - utils.py[line:657] - INFO: not storing attribute cum_table\n",
      "[2020-09-26 18:27:57] - utils.py[line:565] - INFO: saved adv_userseq_adv_prim_id_career_word2vec.model\n",
      "[2020-09-26 18:27:57] - utils.py[line:551] - INFO: saving Word2VecKeyedVectors object under adv_userseq_adv_prim_id_career_word2vec.kv, separately None\n",
      "[2020-09-26 18:27:57] - utils.py[line:657] - INFO: not storing attribute vectors_norm\n",
      "[2020-09-26 18:27:57] - utils.py[line:565] - INFO: saved adv_userseq_adv_prim_id_career_word2vec.kv\n",
      "[2020-09-26 18:27:57] - word2vec.py[line:1399] - INFO: collecting all words and their counts\n",
      "[2020-09-26 18:27:57] - word2vec.py[line:1384] - INFO: PROGRESS: at sentence #0, processed 0 words, keeping 0 word types\n"
     ]
    },
    {
     "name": "stdout",
     "output_type": "stream",
     "text": [
      "save start\n",
      "Done\n",
      "LineSentence start\n",
      "Word2Vec start\n"
     ]
    },
    {
     "name": "stderr",
     "output_type": "stream",
     "text": [
      "[2020-09-26 18:27:57] - word2vec.py[line:1407] - INFO: collected 4 word types from a corpus of 1445501 raw words and 232 sentences\n",
      "[2020-09-26 18:27:57] - word2vec.py[line:1458] - INFO: Loading a fresh vocabulary\n",
      "[2020-09-26 18:27:57] - word2vec.py[line:1482] - INFO: effective_min_count=1 retains 4 unique words (100% of original 4, drops 0)\n",
      "[2020-09-26 18:27:57] - word2vec.py[line:1488] - INFO: effective_min_count=1 leaves 1445501 word corpus (100% of original 1445501, drops 0)\n",
      "[2020-09-26 18:27:57] - word2vec.py[line:1547] - INFO: deleting the raw counts dictionary of 4 items\n",
      "[2020-09-26 18:27:57] - word2vec.py[line:1550] - INFO: sample=0.001 downsamples 3 most-common words\n",
      "[2020-09-26 18:27:57] - word2vec.py[line:1553] - INFO: downsampling leaves estimated 73269 word corpus (5.1% of prior 1445501)\n",
      "[2020-09-26 18:27:57] - word2vec.py[line:1648] - INFO: constructing a huffman tree from 4 words\n",
      "[2020-09-26 18:27:57] - word2vec.py[line:1673] - INFO: built huffman tree with maximum node depth 3\n",
      "[2020-09-26 18:27:57] - base_any2vec.py[line:1008] - INFO: estimated required memory for 4 words and 64 dimensions: 5872 bytes\n",
      "[2020-09-26 18:27:57] - word2vec.py[line:1699] - INFO: resetting layer weights\n",
      "[2020-09-26 18:27:57] - base_any2vec.py[line:1196] - INFO: training model with -1 workers on 4 vocabulary and 64 features, using sg=0 hs=1 sample=0.001 negative=5 window=10000\n",
      "[2020-09-26 18:27:57] - base_any2vec.py[line:1332] - INFO: EPOCH - 1 : training on 0 raw words (0 effective words) took 0.0s, 0 effective words/s\n",
      "[2020-09-26 18:27:57] - base_any2vec.py[line:1343] - WARNING: EPOCH - 1 : supplied example count (0) did not equal expected count (232)\n",
      "[2020-09-26 18:27:57] - base_any2vec.py[line:1348] - WARNING: EPOCH - 1 : supplied raw word count (0) did not equal expected count (1445501)\n",
      "[2020-09-26 18:27:57] - base_any2vec.py[line:1332] - INFO: EPOCH - 2 : training on 0 raw words (0 effective words) took 0.0s, 0 effective words/s\n",
      "[2020-09-26 18:27:57] - base_any2vec.py[line:1343] - WARNING: EPOCH - 2 : supplied example count (0) did not equal expected count (232)\n",
      "[2020-09-26 18:27:57] - base_any2vec.py[line:1348] - WARNING: EPOCH - 2 : supplied raw word count (0) did not equal expected count (1445501)\n",
      "[2020-09-26 18:27:57] - base_any2vec.py[line:1332] - INFO: EPOCH - 3 : training on 0 raw words (0 effective words) took 0.0s, 0 effective words/s\n",
      "[2020-09-26 18:27:57] - base_any2vec.py[line:1343] - WARNING: EPOCH - 3 : supplied example count (0) did not equal expected count (232)\n",
      "[2020-09-26 18:27:57] - base_any2vec.py[line:1348] - WARNING: EPOCH - 3 : supplied raw word count (0) did not equal expected count (1445501)\n",
      "[2020-09-26 18:27:57] - base_any2vec.py[line:1332] - INFO: EPOCH - 4 : training on 0 raw words (0 effective words) took 0.0s, 0 effective words/s\n",
      "[2020-09-26 18:27:57] - base_any2vec.py[line:1343] - WARNING: EPOCH - 4 : supplied example count (0) did not equal expected count (232)\n",
      "[2020-09-26 18:27:57] - base_any2vec.py[line:1348] - WARNING: EPOCH - 4 : supplied raw word count (0) did not equal expected count (1445501)\n",
      "[2020-09-26 18:27:57] - base_any2vec.py[line:1332] - INFO: EPOCH - 5 : training on 0 raw words (0 effective words) took 0.0s, 0 effective words/s\n",
      "[2020-09-26 18:27:57] - base_any2vec.py[line:1343] - WARNING: EPOCH - 5 : supplied example count (0) did not equal expected count (232)\n",
      "[2020-09-26 18:27:57] - base_any2vec.py[line:1348] - WARNING: EPOCH - 5 : supplied raw word count (0) did not equal expected count (1445501)\n",
      "[2020-09-26 18:27:57] - base_any2vec.py[line:1332] - INFO: EPOCH - 6 : training on 0 raw words (0 effective words) took 0.0s, 0 effective words/s\n",
      "[2020-09-26 18:27:57] - base_any2vec.py[line:1343] - WARNING: EPOCH - 6 : supplied example count (0) did not equal expected count (232)\n",
      "[2020-09-26 18:27:57] - base_any2vec.py[line:1348] - WARNING: EPOCH - 6 : supplied raw word count (0) did not equal expected count (1445501)\n",
      "[2020-09-26 18:27:57] - base_any2vec.py[line:1332] - INFO: EPOCH - 7 : training on 0 raw words (0 effective words) took 0.0s, 0 effective words/s\n",
      "[2020-09-26 18:27:57] - base_any2vec.py[line:1343] - WARNING: EPOCH - 7 : supplied example count (0) did not equal expected count (232)\n",
      "[2020-09-26 18:27:57] - base_any2vec.py[line:1348] - WARNING: EPOCH - 7 : supplied raw word count (0) did not equal expected count (1445501)\n",
      "[2020-09-26 18:27:57] - base_any2vec.py[line:1332] - INFO: EPOCH - 8 : training on 0 raw words (0 effective words) took 0.0s, 0 effective words/s\n",
      "[2020-09-26 18:27:57] - base_any2vec.py[line:1343] - WARNING: EPOCH - 8 : supplied example count (0) did not equal expected count (232)\n",
      "[2020-09-26 18:27:57] - base_any2vec.py[line:1348] - WARNING: EPOCH - 8 : supplied raw word count (0) did not equal expected count (1445501)\n",
      "[2020-09-26 18:27:57] - base_any2vec.py[line:1332] - INFO: EPOCH - 9 : training on 0 raw words (0 effective words) took 0.0s, 0 effective words/s\n",
      "[2020-09-26 18:27:57] - base_any2vec.py[line:1343] - WARNING: EPOCH - 9 : supplied example count (0) did not equal expected count (232)\n",
      "[2020-09-26 18:27:57] - base_any2vec.py[line:1348] - WARNING: EPOCH - 9 : supplied raw word count (0) did not equal expected count (1445501)\n",
      "[2020-09-26 18:27:57] - base_any2vec.py[line:1332] - INFO: EPOCH - 10 : training on 0 raw words (0 effective words) took 0.0s, 0 effective words/s\n",
      "[2020-09-26 18:27:57] - base_any2vec.py[line:1343] - WARNING: EPOCH - 10 : supplied example count (0) did not equal expected count (232)\n",
      "[2020-09-26 18:27:57] - base_any2vec.py[line:1348] - WARNING: EPOCH - 10 : supplied raw word count (0) did not equal expected count (1445501)\n",
      "[2020-09-26 18:27:58] - base_any2vec.py[line:1368] - INFO: training on a 0 raw words (0 effective words) took 0.5s, 0 effective words/s\n",
      "[2020-09-26 18:27:58] - utils.py[line:551] - INFO: saving Word2Vec object under adv_userseq_adv_prim_id_gender_word2vec.model, separately None\n",
      "[2020-09-26 18:27:58] - utils.py[line:657] - INFO: not storing attribute vectors_norm\n",
      "[2020-09-26 18:27:58] - utils.py[line:657] - INFO: not storing attribute cum_table\n",
      "[2020-09-26 18:27:58] - utils.py[line:565] - INFO: saved adv_userseq_adv_prim_id_gender_word2vec.model\n",
      "[2020-09-26 18:27:58] - utils.py[line:551] - INFO: saving Word2VecKeyedVectors object under adv_userseq_adv_prim_id_gender_word2vec.kv, separately None\n",
      "[2020-09-26 18:27:58] - utils.py[line:657] - INFO: not storing attribute vectors_norm\n",
      "[2020-09-26 18:27:58] - utils.py[line:565] - INFO: saved adv_userseq_adv_prim_id_gender_word2vec.kv\n",
      "[2020-09-26 18:27:58] - word2vec.py[line:1399] - INFO: collecting all words and their counts\n",
      "[2020-09-26 18:27:58] - word2vec.py[line:1384] - INFO: PROGRESS: at sentence #0, processed 0 words, keeping 0 word types\n"
     ]
    },
    {
     "name": "stdout",
     "output_type": "stream",
     "text": [
      "save start\n",
      "Done\n",
      "LineSentence start\n",
      "Word2Vec start\n"
     ]
    },
    {
     "name": "stderr",
     "output_type": "stream",
     "text": [
      "[2020-09-26 18:27:58] - word2vec.py[line:1407] - INFO: collected 37 word types from a corpus of 1445501 raw words and 232 sentences\n",
      "[2020-09-26 18:27:58] - word2vec.py[line:1458] - INFO: Loading a fresh vocabulary\n",
      "[2020-09-26 18:27:58] - word2vec.py[line:1482] - INFO: effective_min_count=1 retains 37 unique words (100% of original 37, drops 0)\n",
      "[2020-09-26 18:27:58] - word2vec.py[line:1488] - INFO: effective_min_count=1 leaves 1445501 word corpus (100% of original 1445501, drops 0)\n",
      "[2020-09-26 18:27:58] - word2vec.py[line:1547] - INFO: deleting the raw counts dictionary of 37 items\n",
      "[2020-09-26 18:27:58] - word2vec.py[line:1550] - INFO: sample=0.001 downsamples 31 most-common words\n",
      "[2020-09-26 18:27:58] - word2vec.py[line:1553] - INFO: downsampling leaves estimated 288189 word corpus (19.9% of prior 1445501)\n",
      "[2020-09-26 18:27:58] - word2vec.py[line:1648] - INFO: constructing a huffman tree from 37 words\n",
      "[2020-09-26 18:27:58] - word2vec.py[line:1673] - INFO: built huffman tree with maximum node depth 12\n",
      "[2020-09-26 18:27:58] - base_any2vec.py[line:1008] - INFO: estimated required memory for 37 words and 64 dimensions: 54316 bytes\n",
      "[2020-09-26 18:27:58] - word2vec.py[line:1699] - INFO: resetting layer weights\n",
      "[2020-09-26 18:27:58] - base_any2vec.py[line:1196] - INFO: training model with -1 workers on 37 vocabulary and 64 features, using sg=0 hs=1 sample=0.001 negative=5 window=10000\n",
      "[2020-09-26 18:27:58] - base_any2vec.py[line:1332] - INFO: EPOCH - 1 : training on 0 raw words (0 effective words) took 0.0s, 0 effective words/s\n",
      "[2020-09-26 18:27:58] - base_any2vec.py[line:1343] - WARNING: EPOCH - 1 : supplied example count (0) did not equal expected count (232)\n",
      "[2020-09-26 18:27:58] - base_any2vec.py[line:1348] - WARNING: EPOCH - 1 : supplied raw word count (0) did not equal expected count (1445501)\n",
      "[2020-09-26 18:27:58] - base_any2vec.py[line:1332] - INFO: EPOCH - 2 : training on 0 raw words (0 effective words) took 0.0s, 0 effective words/s\n",
      "[2020-09-26 18:27:58] - base_any2vec.py[line:1343] - WARNING: EPOCH - 2 : supplied example count (0) did not equal expected count (232)\n",
      "[2020-09-26 18:27:58] - base_any2vec.py[line:1348] - WARNING: EPOCH - 2 : supplied raw word count (0) did not equal expected count (1445501)\n",
      "[2020-09-26 18:27:58] - base_any2vec.py[line:1332] - INFO: EPOCH - 3 : training on 0 raw words (0 effective words) took 0.0s, 0 effective words/s\n",
      "[2020-09-26 18:27:58] - base_any2vec.py[line:1343] - WARNING: EPOCH - 3 : supplied example count (0) did not equal expected count (232)\n",
      "[2020-09-26 18:27:58] - base_any2vec.py[line:1348] - WARNING: EPOCH - 3 : supplied raw word count (0) did not equal expected count (1445501)\n",
      "[2020-09-26 18:27:58] - base_any2vec.py[line:1332] - INFO: EPOCH - 4 : training on 0 raw words (0 effective words) took 0.0s, 0 effective words/s\n",
      "[2020-09-26 18:27:58] - base_any2vec.py[line:1343] - WARNING: EPOCH - 4 : supplied example count (0) did not equal expected count (232)\n",
      "[2020-09-26 18:27:58] - base_any2vec.py[line:1348] - WARNING: EPOCH - 4 : supplied raw word count (0) did not equal expected count (1445501)\n",
      "[2020-09-26 18:27:58] - base_any2vec.py[line:1332] - INFO: EPOCH - 5 : training on 0 raw words (0 effective words) took 0.0s, 0 effective words/s\n",
      "[2020-09-26 18:27:58] - base_any2vec.py[line:1343] - WARNING: EPOCH - 5 : supplied example count (0) did not equal expected count (232)\n",
      "[2020-09-26 18:27:58] - base_any2vec.py[line:1348] - WARNING: EPOCH - 5 : supplied raw word count (0) did not equal expected count (1445501)\n",
      "[2020-09-26 18:27:58] - base_any2vec.py[line:1332] - INFO: EPOCH - 6 : training on 0 raw words (0 effective words) took 0.0s, 0 effective words/s\n",
      "[2020-09-26 18:27:58] - base_any2vec.py[line:1343] - WARNING: EPOCH - 6 : supplied example count (0) did not equal expected count (232)\n",
      "[2020-09-26 18:27:58] - base_any2vec.py[line:1348] - WARNING: EPOCH - 6 : supplied raw word count (0) did not equal expected count (1445501)\n",
      "[2020-09-26 18:27:58] - base_any2vec.py[line:1332] - INFO: EPOCH - 7 : training on 0 raw words (0 effective words) took 0.0s, 0 effective words/s\n",
      "[2020-09-26 18:27:58] - base_any2vec.py[line:1343] - WARNING: EPOCH - 7 : supplied example count (0) did not equal expected count (232)\n",
      "[2020-09-26 18:27:58] - base_any2vec.py[line:1348] - WARNING: EPOCH - 7 : supplied raw word count (0) did not equal expected count (1445501)\n",
      "[2020-09-26 18:27:58] - base_any2vec.py[line:1332] - INFO: EPOCH - 8 : training on 0 raw words (0 effective words) took 0.0s, 0 effective words/s\n",
      "[2020-09-26 18:27:58] - base_any2vec.py[line:1343] - WARNING: EPOCH - 8 : supplied example count (0) did not equal expected count (232)\n",
      "[2020-09-26 18:27:58] - base_any2vec.py[line:1348] - WARNING: EPOCH - 8 : supplied raw word count (0) did not equal expected count (1445501)\n",
      "[2020-09-26 18:27:59] - base_any2vec.py[line:1332] - INFO: EPOCH - 9 : training on 0 raw words (0 effective words) took 0.0s, 0 effective words/s\n",
      "[2020-09-26 18:27:59] - base_any2vec.py[line:1343] - WARNING: EPOCH - 9 : supplied example count (0) did not equal expected count (232)\n",
      "[2020-09-26 18:27:59] - base_any2vec.py[line:1348] - WARNING: EPOCH - 9 : supplied raw word count (0) did not equal expected count (1445501)\n",
      "[2020-09-26 18:27:59] - base_any2vec.py[line:1332] - INFO: EPOCH - 10 : training on 0 raw words (0 effective words) took 0.0s, 0 effective words/s\n",
      "[2020-09-26 18:27:59] - base_any2vec.py[line:1343] - WARNING: EPOCH - 10 : supplied example count (0) did not equal expected count (232)\n",
      "[2020-09-26 18:27:59] - base_any2vec.py[line:1348] - WARNING: EPOCH - 10 : supplied raw word count (0) did not equal expected count (1445501)\n",
      "[2020-09-26 18:27:59] - base_any2vec.py[line:1368] - INFO: training on a 0 raw words (0 effective words) took 1.4s, 0 effective words/s\n",
      "[2020-09-26 18:27:59] - utils.py[line:551] - INFO: saving Word2Vec object under adv_userseq_adv_prim_id_residence_word2vec.model, separately None\n",
      "[2020-09-26 18:27:59] - utils.py[line:657] - INFO: not storing attribute vectors_norm\n",
      "[2020-09-26 18:27:59] - utils.py[line:657] - INFO: not storing attribute cum_table\n",
      "[2020-09-26 18:27:59] - utils.py[line:565] - INFO: saved adv_userseq_adv_prim_id_residence_word2vec.model\n",
      "[2020-09-26 18:27:59] - utils.py[line:551] - INFO: saving Word2VecKeyedVectors object under adv_userseq_adv_prim_id_residence_word2vec.kv, separately None\n",
      "[2020-09-26 18:27:59] - utils.py[line:657] - INFO: not storing attribute vectors_norm\n",
      "[2020-09-26 18:27:59] - utils.py[line:565] - INFO: saved adv_userseq_adv_prim_id_residence_word2vec.kv\n"
     ]
    },
    {
     "name": "stdout",
     "output_type": "stream",
     "text": [
      "save start\n",
      "Done\n"
     ]
    }
   ],
   "source": [
    "f1_f2_list = [['task_id','age'],['task_id','city'],['task_id','city_rank'],['task_id','device_name'],['task_id','career'],['task_id','gender'],\n",
    "              ['task_id','residence'],['adv_id','age'],['adv_id','city'],['adv_id','city_rank'],['adv_id','device_name'],['adv_id','career'],\n",
    "              ['adv_id','gender'],['adv_id','residence'],['creat_type_cd','age'],['creat_type_cd','city'],['creat_type_cd','city_rank'],\n",
    "              ['creat_type_cd','device_name'],['creat_type_cd','career'],['creat_type_cd','gender'],['creat_type_cd','residence'],\n",
    "              ['indu_name','age'],['indu_name','city'],['indu_name','city_rank'],['indu_name','device_name'],['indu_name','career'],['indu_name','gender'],\n",
    "              ['indu_name','residence'],['adv_prim_id','age'],['adv_prim_id','city'],['adv_prim_id','city_rank'],['adv_prim_id','device_name'],\n",
    "              ['adv_prim_id','career'],['adv_prim_id','gender'],['adv_prim_id','residence']]\n",
    "for i in f1_f2_list:\n",
    "    f1_f2_w2v(str(i[0])+'_'+str(i[1]))"
   ]
  },
  {
   "cell_type": "markdown",
   "metadata": {},
   "source": [
    "# avg"
   ]
  },
  {
   "cell_type": "code",
   "execution_count": 10,
   "metadata": {
    "ExecuteTime": {
     "end_time": "2020-09-26T10:28:01.064685Z",
     "start_time": "2020-09-26T10:27:59.904070Z"
    }
   },
   "outputs": [],
   "source": [
    "from gensim.models import KeyedVectors\n",
    "from tensorflow.keras.preprocessing.text import Tokenizer\n",
    "import numpy as np\n",
    "from base import Cache\n",
    "from tqdm import tqdm\n",
    "import pandas as pd \n"
   ]
  },
  {
   "cell_type": "code",
   "execution_count": 11,
   "metadata": {
    "ExecuteTime": {
     "end_time": "2020-09-26T10:28:01.073055Z",
     "start_time": "2020-09-26T10:28:01.067747Z"
    }
   },
   "outputs": [],
   "source": [
    "def get_embedding(f1_f2,f1):\n",
    "    path = 'adv_userseq_'+f1_f2+'_word2vec.kv'\n",
    "    wv = KeyedVectors.load(path, mmap='r')\n",
    "    list_df = Cache.reload_cache('CACHE_list_df_adv_userseq_'+f1_f2+'.pkl')\n",
    "    list_df.columns=['list',f1] \n",
    "    f = open('adv_userseq_'+f1_f2+'.txt','r')\n",
    "    ind = 0\n",
    "    buf = []\n",
    "    for i in f:\n",
    "        buf_ = np.zeros(64)\n",
    "        for j in i.strip().split(' '):\n",
    "            buf_ = buf_+wv[j]\n",
    "        buf_ = buf_/len(i) # 求平均\n",
    "        buf_f1 = list_df.at[ind, f1]\n",
    "        buf__ = []\n",
    "        buf_ = buf_.tolist()\n",
    "        buf__.append(buf_)\n",
    "        buf__.append(buf_f1)\n",
    "        buf.append(buf__)\n",
    "        ind = ind+1\n",
    "    df_f1_list = pd.DataFrame(buf) \n",
    "    Cache.cache_data(df_f1_list, nm_marker='list_df_avg_adv_userseq_'+f1_f2)\n",
    "    return 0"
   ]
  },
  {
   "cell_type": "code",
   "execution_count": 12,
   "metadata": {
    "ExecuteTime": {
     "end_time": "2020-09-26T10:30:02.110769Z",
     "start_time": "2020-09-26T10:28:01.074168Z"
    },
    "jupyter": {
     "outputs_hidden": true
    }
   },
   "outputs": [
    {
     "name": "stderr",
     "output_type": "stream",
     "text": [
      "  0%|          | 0/35 [00:00<?, ?it/s][2020-09-26 18:28:01] - utils.py[line:431] - INFO: loading Word2VecKeyedVectors object from adv_userseq_task_id_age_word2vec.kv\n",
      "[2020-09-26 18:28:01] - utils.py[line:503] - INFO: setting ignored attribute vectors_norm to None\n",
      "[2020-09-26 18:28:01] - utils.py[line:437] - INFO: loaded adv_userseq_task_id_age_word2vec.kv\n",
      "[2020-09-26 18:28:01] - __init__.py[line:126] - INFO: Successfully Reload: /home/zhangqibot/proj/digix/zlh/stage2/cached_data/CACHE_list_df_adv_userseq_task_id_age.pkl\n",
      "[2020-09-26 18:28:04] - __init__.py[line:111] - INFO: Cache Successfully! File name: /home/zhangqibot/proj/digix/zlh/stage2/cached_data/CACHE_list_df_avg_adv_userseq_task_id_age.pkl\n",
      "  3%|▎         | 1/35 [00:03<01:45,  3.11s/it][2020-09-26 18:28:04] - utils.py[line:431] - INFO: loading Word2VecKeyedVectors object from adv_userseq_task_id_city_word2vec.kv\n",
      "[2020-09-26 18:28:04] - utils.py[line:503] - INFO: setting ignored attribute vectors_norm to None\n",
      "[2020-09-26 18:28:04] - utils.py[line:437] - INFO: loaded adv_userseq_task_id_city_word2vec.kv\n",
      "[2020-09-26 18:28:04] - __init__.py[line:126] - INFO: Successfully Reload: /home/zhangqibot/proj/digix/zlh/stage2/cached_data/CACHE_list_df_adv_userseq_task_id_city.pkl\n",
      "[2020-09-26 18:28:08] - __init__.py[line:111] - INFO: Cache Successfully! File name: /home/zhangqibot/proj/digix/zlh/stage2/cached_data/CACHE_list_df_avg_adv_userseq_task_id_city.pkl\n",
      "  6%|▌         | 2/35 [00:07<01:53,  3.44s/it][2020-09-26 18:28:08] - utils.py[line:431] - INFO: loading Word2VecKeyedVectors object from adv_userseq_task_id_city_rank_word2vec.kv\n",
      "[2020-09-26 18:28:08] - utils.py[line:503] - INFO: setting ignored attribute vectors_norm to None\n",
      "[2020-09-26 18:28:08] - utils.py[line:437] - INFO: loaded adv_userseq_task_id_city_rank_word2vec.kv\n",
      "[2020-09-26 18:28:08] - __init__.py[line:126] - INFO: Successfully Reload: /home/zhangqibot/proj/digix/zlh/stage2/cached_data/CACHE_list_df_adv_userseq_task_id_city_rank.pkl\n",
      "[2020-09-26 18:28:11] - __init__.py[line:111] - INFO: Cache Successfully! File name: /home/zhangqibot/proj/digix/zlh/stage2/cached_data/CACHE_list_df_avg_adv_userseq_task_id_city_rank.pkl\n",
      "  9%|▊         | 3/35 [00:10<01:50,  3.46s/it][2020-09-26 18:28:11] - utils.py[line:431] - INFO: loading Word2VecKeyedVectors object from adv_userseq_task_id_device_name_word2vec.kv\n",
      "[2020-09-26 18:28:11] - utils.py[line:503] - INFO: setting ignored attribute vectors_norm to None\n",
      "[2020-09-26 18:28:11] - utils.py[line:437] - INFO: loaded adv_userseq_task_id_device_name_word2vec.kv\n",
      "[2020-09-26 18:28:12] - __init__.py[line:126] - INFO: Successfully Reload: /home/zhangqibot/proj/digix/zlh/stage2/cached_data/CACHE_list_df_adv_userseq_task_id_device_name.pkl\n",
      "[2020-09-26 18:28:15] - __init__.py[line:111] - INFO: Cache Successfully! File name: /home/zhangqibot/proj/digix/zlh/stage2/cached_data/CACHE_list_df_avg_adv_userseq_task_id_device_name.pkl\n",
      " 11%|█▏        | 4/35 [00:14<01:45,  3.41s/it][2020-09-26 18:28:15] - utils.py[line:431] - INFO: loading Word2VecKeyedVectors object from adv_userseq_task_id_career_word2vec.kv\n",
      "[2020-09-26 18:28:15] - utils.py[line:503] - INFO: setting ignored attribute vectors_norm to None\n",
      "[2020-09-26 18:28:15] - utils.py[line:437] - INFO: loaded adv_userseq_task_id_career_word2vec.kv\n",
      "[2020-09-26 18:28:15] - __init__.py[line:126] - INFO: Successfully Reload: /home/zhangqibot/proj/digix/zlh/stage2/cached_data/CACHE_list_df_adv_userseq_task_id_career.pkl\n",
      "[2020-09-26 18:28:18] - __init__.py[line:111] - INFO: Cache Successfully! File name: /home/zhangqibot/proj/digix/zlh/stage2/cached_data/CACHE_list_df_avg_adv_userseq_task_id_career.pkl\n",
      " 14%|█▍        | 5/35 [00:18<01:46,  3.55s/it][2020-09-26 18:28:19] - utils.py[line:431] - INFO: loading Word2VecKeyedVectors object from adv_userseq_task_id_gender_word2vec.kv\n",
      "[2020-09-26 18:28:19] - utils.py[line:503] - INFO: setting ignored attribute vectors_norm to None\n",
      "[2020-09-26 18:28:19] - utils.py[line:437] - INFO: loaded adv_userseq_task_id_gender_word2vec.kv\n",
      "[2020-09-26 18:28:19] - __init__.py[line:126] - INFO: Successfully Reload: /home/zhangqibot/proj/digix/zlh/stage2/cached_data/CACHE_list_df_adv_userseq_task_id_gender.pkl\n",
      "[2020-09-26 18:28:22] - __init__.py[line:111] - INFO: Cache Successfully! File name: /home/zhangqibot/proj/digix/zlh/stage2/cached_data/CACHE_list_df_avg_adv_userseq_task_id_gender.pkl\n",
      " 17%|█▋        | 6/35 [00:21<01:39,  3.43s/it][2020-09-26 18:28:22] - utils.py[line:431] - INFO: loading Word2VecKeyedVectors object from adv_userseq_task_id_residence_word2vec.kv\n",
      "[2020-09-26 18:28:22] - utils.py[line:503] - INFO: setting ignored attribute vectors_norm to None\n",
      "[2020-09-26 18:28:22] - utils.py[line:437] - INFO: loaded adv_userseq_task_id_residence_word2vec.kv\n",
      "[2020-09-26 18:28:22] - __init__.py[line:126] - INFO: Successfully Reload: /home/zhangqibot/proj/digix/zlh/stage2/cached_data/CACHE_list_df_adv_userseq_task_id_residence.pkl\n",
      "[2020-09-26 18:28:25] - __init__.py[line:111] - INFO: Cache Successfully! File name: /home/zhangqibot/proj/digix/zlh/stage2/cached_data/CACHE_list_df_avg_adv_userseq_task_id_residence.pkl\n",
      " 20%|██        | 7/35 [00:24<01:34,  3.36s/it][2020-09-26 18:28:25] - utils.py[line:431] - INFO: loading Word2VecKeyedVectors object from adv_userseq_adv_id_age_word2vec.kv\n",
      "[2020-09-26 18:28:25] - utils.py[line:503] - INFO: setting ignored attribute vectors_norm to None\n",
      "[2020-09-26 18:28:25] - utils.py[line:437] - INFO: loaded adv_userseq_adv_id_age_word2vec.kv\n",
      "[2020-09-26 18:28:25] - __init__.py[line:126] - INFO: Successfully Reload: /home/zhangqibot/proj/digix/zlh/stage2/cached_data/CACHE_list_df_adv_userseq_adv_id_age.pkl\n",
      "[2020-09-26 18:28:29] - __init__.py[line:111] - INFO: Cache Successfully! File name: /home/zhangqibot/proj/digix/zlh/stage2/cached_data/CACHE_list_df_avg_adv_userseq_adv_id_age.pkl\n",
      " 23%|██▎       | 8/35 [00:28<01:37,  3.61s/it][2020-09-26 18:28:29] - utils.py[line:431] - INFO: loading Word2VecKeyedVectors object from adv_userseq_adv_id_city_word2vec.kv\n",
      "[2020-09-26 18:28:29] - utils.py[line:503] - INFO: setting ignored attribute vectors_norm to None\n",
      "[2020-09-26 18:28:29] - utils.py[line:437] - INFO: loaded adv_userseq_adv_id_city_word2vec.kv\n",
      "[2020-09-26 18:28:30] - __init__.py[line:126] - INFO: Successfully Reload: /home/zhangqibot/proj/digix/zlh/stage2/cached_data/CACHE_list_df_adv_userseq_adv_id_city.pkl\n",
      "[2020-09-26 18:28:33] - __init__.py[line:111] - INFO: Cache Successfully! File name: /home/zhangqibot/proj/digix/zlh/stage2/cached_data/CACHE_list_df_avg_adv_userseq_adv_id_city.pkl\n",
      " 26%|██▌       | 9/35 [00:32<01:36,  3.72s/it][2020-09-26 18:28:33] - utils.py[line:431] - INFO: loading Word2VecKeyedVectors object from adv_userseq_adv_id_city_rank_word2vec.kv\n",
      "[2020-09-26 18:28:33] - utils.py[line:503] - INFO: setting ignored attribute vectors_norm to None\n",
      "[2020-09-26 18:28:33] - utils.py[line:437] - INFO: loaded adv_userseq_adv_id_city_rank_word2vec.kv\n",
      "[2020-09-26 18:28:33] - __init__.py[line:126] - INFO: Successfully Reload: /home/zhangqibot/proj/digix/zlh/stage2/cached_data/CACHE_list_df_adv_userseq_adv_id_city_rank.pkl\n",
      "[2020-09-26 18:28:36] - __init__.py[line:111] - INFO: Cache Successfully! File name: /home/zhangqibot/proj/digix/zlh/stage2/cached_data/CACHE_list_df_avg_adv_userseq_adv_id_city_rank.pkl\n",
      " 29%|██▊       | 10/35 [00:35<01:31,  3.64s/it][2020-09-26 18:28:37] - utils.py[line:431] - INFO: loading Word2VecKeyedVectors object from adv_userseq_adv_id_device_name_word2vec.kv\n",
      "[2020-09-26 18:28:37] - utils.py[line:503] - INFO: setting ignored attribute vectors_norm to None\n",
      "[2020-09-26 18:28:37] - utils.py[line:437] - INFO: loaded adv_userseq_adv_id_device_name_word2vec.kv\n",
      "[2020-09-26 18:28:37] - __init__.py[line:126] - INFO: Successfully Reload: /home/zhangqibot/proj/digix/zlh/stage2/cached_data/CACHE_list_df_adv_userseq_adv_id_device_name.pkl\n",
      "[2020-09-26 18:28:40] - __init__.py[line:111] - INFO: Cache Successfully! File name: /home/zhangqibot/proj/digix/zlh/stage2/cached_data/CACHE_list_df_avg_adv_userseq_adv_id_device_name.pkl\n",
      " 31%|███▏      | 11/35 [00:39<01:24,  3.52s/it][2020-09-26 18:28:40] - utils.py[line:431] - INFO: loading Word2VecKeyedVectors object from adv_userseq_adv_id_career_word2vec.kv\n"
     ]
    },
    {
     "name": "stderr",
     "output_type": "stream",
     "text": [
      "[2020-09-26 18:28:40] - utils.py[line:503] - INFO: setting ignored attribute vectors_norm to None\n",
      "[2020-09-26 18:28:40] - utils.py[line:437] - INFO: loaded adv_userseq_adv_id_career_word2vec.kv\n",
      "[2020-09-26 18:28:40] - __init__.py[line:126] - INFO: Successfully Reload: /home/zhangqibot/proj/digix/zlh/stage2/cached_data/CACHE_list_df_adv_userseq_adv_id_career.pkl\n",
      "[2020-09-26 18:28:43] - __init__.py[line:111] - INFO: Cache Successfully! File name: /home/zhangqibot/proj/digix/zlh/stage2/cached_data/CACHE_list_df_avg_adv_userseq_adv_id_career.pkl\n",
      " 34%|███▍      | 12/35 [00:42<01:19,  3.45s/it][2020-09-26 18:28:43] - utils.py[line:431] - INFO: loading Word2VecKeyedVectors object from adv_userseq_adv_id_gender_word2vec.kv\n",
      "[2020-09-26 18:28:43] - utils.py[line:503] - INFO: setting ignored attribute vectors_norm to None\n",
      "[2020-09-26 18:28:43] - utils.py[line:437] - INFO: loaded adv_userseq_adv_id_gender_word2vec.kv\n",
      "[2020-09-26 18:28:43] - __init__.py[line:126] - INFO: Successfully Reload: /home/zhangqibot/proj/digix/zlh/stage2/cached_data/CACHE_list_df_adv_userseq_adv_id_gender.pkl\n",
      "[2020-09-26 18:28:46] - __init__.py[line:111] - INFO: Cache Successfully! File name: /home/zhangqibot/proj/digix/zlh/stage2/cached_data/CACHE_list_df_avg_adv_userseq_adv_id_gender.pkl\n",
      " 37%|███▋      | 13/35 [00:45<01:14,  3.39s/it][2020-09-26 18:28:46] - utils.py[line:431] - INFO: loading Word2VecKeyedVectors object from adv_userseq_adv_id_residence_word2vec.kv\n",
      "[2020-09-26 18:28:46] - utils.py[line:503] - INFO: setting ignored attribute vectors_norm to None\n",
      "[2020-09-26 18:28:46] - utils.py[line:437] - INFO: loaded adv_userseq_adv_id_residence_word2vec.kv\n",
      "[2020-09-26 18:28:47] - __init__.py[line:126] - INFO: Successfully Reload: /home/zhangqibot/proj/digix/zlh/stage2/cached_data/CACHE_list_df_adv_userseq_adv_id_residence.pkl\n",
      "[2020-09-26 18:28:50] - __init__.py[line:111] - INFO: Cache Successfully! File name: /home/zhangqibot/proj/digix/zlh/stage2/cached_data/CACHE_list_df_avg_adv_userseq_adv_id_residence.pkl\n",
      " 40%|████      | 14/35 [00:49<01:14,  3.54s/it][2020-09-26 18:28:50] - utils.py[line:431] - INFO: loading Word2VecKeyedVectors object from adv_userseq_creat_type_cd_age_word2vec.kv\n",
      "[2020-09-26 18:28:50] - utils.py[line:503] - INFO: setting ignored attribute vectors_norm to None\n",
      "[2020-09-26 18:28:50] - utils.py[line:437] - INFO: loaded adv_userseq_creat_type_cd_age_word2vec.kv\n",
      "[2020-09-26 18:28:51] - __init__.py[line:126] - INFO: Successfully Reload: /home/zhangqibot/proj/digix/zlh/stage2/cached_data/CACHE_list_df_adv_userseq_creat_type_cd_age.pkl\n",
      "[2020-09-26 18:28:53] - __init__.py[line:111] - INFO: Cache Successfully! File name: /home/zhangqibot/proj/digix/zlh/stage2/cached_data/CACHE_list_df_avg_adv_userseq_creat_type_cd_age.pkl\n",
      " 43%|████▎     | 15/35 [00:52<01:08,  3.41s/it][2020-09-26 18:28:53] - utils.py[line:431] - INFO: loading Word2VecKeyedVectors object from adv_userseq_creat_type_cd_city_word2vec.kv\n",
      "[2020-09-26 18:28:53] - utils.py[line:503] - INFO: setting ignored attribute vectors_norm to None\n",
      "[2020-09-26 18:28:53] - utils.py[line:437] - INFO: loaded adv_userseq_creat_type_cd_city_word2vec.kv\n",
      "[2020-09-26 18:28:54] - __init__.py[line:126] - INFO: Successfully Reload: /home/zhangqibot/proj/digix/zlh/stage2/cached_data/CACHE_list_df_adv_userseq_creat_type_cd_city.pkl\n",
      "[2020-09-26 18:28:57] - __init__.py[line:111] - INFO: Cache Successfully! File name: /home/zhangqibot/proj/digix/zlh/stage2/cached_data/CACHE_list_df_avg_adv_userseq_creat_type_cd_city.pkl\n",
      " 46%|████▌     | 16/35 [00:56<01:05,  3.42s/it][2020-09-26 18:28:57] - utils.py[line:431] - INFO: loading Word2VecKeyedVectors object from adv_userseq_creat_type_cd_city_rank_word2vec.kv\n",
      "[2020-09-26 18:28:57] - utils.py[line:503] - INFO: setting ignored attribute vectors_norm to None\n",
      "[2020-09-26 18:28:57] - utils.py[line:437] - INFO: loaded adv_userseq_creat_type_cd_city_rank_word2vec.kv\n",
      "[2020-09-26 18:28:57] - __init__.py[line:126] - INFO: Successfully Reload: /home/zhangqibot/proj/digix/zlh/stage2/cached_data/CACHE_list_df_adv_userseq_creat_type_cd_city_rank.pkl\n",
      "[2020-09-26 18:29:00] - __init__.py[line:111] - INFO: Cache Successfully! File name: /home/zhangqibot/proj/digix/zlh/stage2/cached_data/CACHE_list_df_avg_adv_userseq_creat_type_cd_city_rank.pkl\n",
      " 49%|████▊     | 17/35 [00:59<00:59,  3.33s/it][2020-09-26 18:29:00] - utils.py[line:431] - INFO: loading Word2VecKeyedVectors object from adv_userseq_creat_type_cd_device_name_word2vec.kv\n",
      "[2020-09-26 18:29:00] - utils.py[line:503] - INFO: setting ignored attribute vectors_norm to None\n",
      "[2020-09-26 18:29:00] - utils.py[line:437] - INFO: loaded adv_userseq_creat_type_cd_device_name_word2vec.kv\n",
      "[2020-09-26 18:29:00] - __init__.py[line:126] - INFO: Successfully Reload: /home/zhangqibot/proj/digix/zlh/stage2/cached_data/CACHE_list_df_adv_userseq_creat_type_cd_device_name.pkl\n",
      "[2020-09-26 18:29:03] - __init__.py[line:111] - INFO: Cache Successfully! File name: /home/zhangqibot/proj/digix/zlh/stage2/cached_data/CACHE_list_df_avg_adv_userseq_creat_type_cd_device_name.pkl\n",
      " 51%|█████▏    | 18/35 [01:02<00:55,  3.27s/it][2020-09-26 18:29:03] - utils.py[line:431] - INFO: loading Word2VecKeyedVectors object from adv_userseq_creat_type_cd_career_word2vec.kv\n",
      "[2020-09-26 18:29:03] - utils.py[line:503] - INFO: setting ignored attribute vectors_norm to None\n",
      "[2020-09-26 18:29:03] - utils.py[line:437] - INFO: loaded adv_userseq_creat_type_cd_career_word2vec.kv\n",
      "[2020-09-26 18:29:03] - __init__.py[line:126] - INFO: Successfully Reload: /home/zhangqibot/proj/digix/zlh/stage2/cached_data/CACHE_list_df_adv_userseq_creat_type_cd_career.pkl\n",
      "[2020-09-26 18:29:06] - __init__.py[line:111] - INFO: Cache Successfully! File name: /home/zhangqibot/proj/digix/zlh/stage2/cached_data/CACHE_list_df_avg_adv_userseq_creat_type_cd_career.pkl\n",
      " 54%|█████▍    | 19/35 [01:05<00:52,  3.27s/it][2020-09-26 18:29:06] - utils.py[line:431] - INFO: loading Word2VecKeyedVectors object from adv_userseq_creat_type_cd_gender_word2vec.kv\n",
      "[2020-09-26 18:29:06] - utils.py[line:503] - INFO: setting ignored attribute vectors_norm to None\n",
      "[2020-09-26 18:29:06] - utils.py[line:437] - INFO: loaded adv_userseq_creat_type_cd_gender_word2vec.kv\n",
      "[2020-09-26 18:29:07] - __init__.py[line:126] - INFO: Successfully Reload: /home/zhangqibot/proj/digix/zlh/stage2/cached_data/CACHE_list_df_adv_userseq_creat_type_cd_gender.pkl\n",
      "[2020-09-26 18:29:10] - __init__.py[line:111] - INFO: Cache Successfully! File name: /home/zhangqibot/proj/digix/zlh/stage2/cached_data/CACHE_list_df_avg_adv_userseq_creat_type_cd_gender.pkl\n",
      " 57%|█████▋    | 20/35 [01:09<00:49,  3.33s/it][2020-09-26 18:29:10] - utils.py[line:431] - INFO: loading Word2VecKeyedVectors object from adv_userseq_creat_type_cd_residence_word2vec.kv\n",
      "[2020-09-26 18:29:10] - utils.py[line:503] - INFO: setting ignored attribute vectors_norm to None\n",
      "[2020-09-26 18:29:10] - utils.py[line:437] - INFO: loaded adv_userseq_creat_type_cd_residence_word2vec.kv\n",
      "[2020-09-26 18:29:10] - __init__.py[line:126] - INFO: Successfully Reload: /home/zhangqibot/proj/digix/zlh/stage2/cached_data/CACHE_list_df_adv_userseq_creat_type_cd_residence.pkl\n",
      "[2020-09-26 18:29:13] - __init__.py[line:111] - INFO: Cache Successfully! File name: /home/zhangqibot/proj/digix/zlh/stage2/cached_data/CACHE_list_df_avg_adv_userseq_creat_type_cd_residence.pkl\n",
      " 60%|██████    | 21/35 [01:12<00:47,  3.41s/it][2020-09-26 18:29:13] - utils.py[line:431] - INFO: loading Word2VecKeyedVectors object from adv_userseq_indu_name_age_word2vec.kv\n",
      "[2020-09-26 18:29:13] - utils.py[line:503] - INFO: setting ignored attribute vectors_norm to None\n",
      "[2020-09-26 18:29:13] - utils.py[line:437] - INFO: loaded adv_userseq_indu_name_age_word2vec.kv\n",
      "[2020-09-26 18:29:14] - __init__.py[line:126] - INFO: Successfully Reload: /home/zhangqibot/proj/digix/zlh/stage2/cached_data/CACHE_list_df_adv_userseq_indu_name_age.pkl\n",
      "[2020-09-26 18:29:17] - __init__.py[line:111] - INFO: Cache Successfully! File name: /home/zhangqibot/proj/digix/zlh/stage2/cached_data/CACHE_list_df_avg_adv_userseq_indu_name_age.pkl\n",
      " 63%|██████▎   | 22/35 [01:16<00:44,  3.40s/it][2020-09-26 18:29:17] - utils.py[line:431] - INFO: loading Word2VecKeyedVectors object from adv_userseq_indu_name_city_word2vec.kv\n"
     ]
    },
    {
     "name": "stderr",
     "output_type": "stream",
     "text": [
      "[2020-09-26 18:29:17] - utils.py[line:503] - INFO: setting ignored attribute vectors_norm to None\n",
      "[2020-09-26 18:29:17] - utils.py[line:437] - INFO: loaded adv_userseq_indu_name_city_word2vec.kv\n",
      "[2020-09-26 18:29:17] - __init__.py[line:126] - INFO: Successfully Reload: /home/zhangqibot/proj/digix/zlh/stage2/cached_data/CACHE_list_df_adv_userseq_indu_name_city.pkl\n",
      "[2020-09-26 18:29:21] - __init__.py[line:111] - INFO: Cache Successfully! File name: /home/zhangqibot/proj/digix/zlh/stage2/cached_data/CACHE_list_df_avg_adv_userseq_indu_name_city.pkl\n",
      " 66%|██████▌   | 23/35 [01:20<00:42,  3.58s/it][2020-09-26 18:29:21] - utils.py[line:431] - INFO: loading Word2VecKeyedVectors object from adv_userseq_indu_name_city_rank_word2vec.kv\n",
      "[2020-09-26 18:29:21] - utils.py[line:503] - INFO: setting ignored attribute vectors_norm to None\n",
      "[2020-09-26 18:29:21] - utils.py[line:437] - INFO: loaded adv_userseq_indu_name_city_rank_word2vec.kv\n",
      "[2020-09-26 18:29:21] - __init__.py[line:126] - INFO: Successfully Reload: /home/zhangqibot/proj/digix/zlh/stage2/cached_data/CACHE_list_df_adv_userseq_indu_name_city_rank.pkl\n",
      "[2020-09-26 18:29:25] - __init__.py[line:111] - INFO: Cache Successfully! File name: /home/zhangqibot/proj/digix/zlh/stage2/cached_data/CACHE_list_df_avg_adv_userseq_indu_name_city_rank.pkl\n",
      " 69%|██████▊   | 24/35 [01:24<00:40,  3.69s/it][2020-09-26 18:29:25] - utils.py[line:431] - INFO: loading Word2VecKeyedVectors object from adv_userseq_indu_name_device_name_word2vec.kv\n",
      "[2020-09-26 18:29:25] - utils.py[line:503] - INFO: setting ignored attribute vectors_norm to None\n",
      "[2020-09-26 18:29:25] - utils.py[line:437] - INFO: loaded adv_userseq_indu_name_device_name_word2vec.kv\n",
      "[2020-09-26 18:29:25] - __init__.py[line:126] - INFO: Successfully Reload: /home/zhangqibot/proj/digix/zlh/stage2/cached_data/CACHE_list_df_adv_userseq_indu_name_device_name.pkl\n",
      "[2020-09-26 18:29:28] - __init__.py[line:111] - INFO: Cache Successfully! File name: /home/zhangqibot/proj/digix/zlh/stage2/cached_data/CACHE_list_df_avg_adv_userseq_indu_name_device_name.pkl\n",
      " 71%|███████▏  | 25/35 [01:27<00:35,  3.58s/it][2020-09-26 18:29:28] - utils.py[line:431] - INFO: loading Word2VecKeyedVectors object from adv_userseq_indu_name_career_word2vec.kv\n",
      "[2020-09-26 18:29:28] - utils.py[line:503] - INFO: setting ignored attribute vectors_norm to None\n",
      "[2020-09-26 18:29:28] - utils.py[line:437] - INFO: loaded adv_userseq_indu_name_career_word2vec.kv\n",
      "[2020-09-26 18:29:28] - __init__.py[line:126] - INFO: Successfully Reload: /home/zhangqibot/proj/digix/zlh/stage2/cached_data/CACHE_list_df_adv_userseq_indu_name_career.pkl\n",
      "[2020-09-26 18:29:32] - __init__.py[line:111] - INFO: Cache Successfully! File name: /home/zhangqibot/proj/digix/zlh/stage2/cached_data/CACHE_list_df_avg_adv_userseq_indu_name_career.pkl\n",
      " 74%|███████▍  | 26/35 [01:31<00:33,  3.68s/it][2020-09-26 18:29:32] - utils.py[line:431] - INFO: loading Word2VecKeyedVectors object from adv_userseq_indu_name_gender_word2vec.kv\n",
      "[2020-09-26 18:29:32] - utils.py[line:503] - INFO: setting ignored attribute vectors_norm to None\n",
      "[2020-09-26 18:29:32] - utils.py[line:437] - INFO: loaded adv_userseq_indu_name_gender_word2vec.kv\n",
      "[2020-09-26 18:29:32] - __init__.py[line:126] - INFO: Successfully Reload: /home/zhangqibot/proj/digix/zlh/stage2/cached_data/CACHE_list_df_adv_userseq_indu_name_gender.pkl\n",
      "[2020-09-26 18:29:35] - __init__.py[line:111] - INFO: Cache Successfully! File name: /home/zhangqibot/proj/digix/zlh/stage2/cached_data/CACHE_list_df_avg_adv_userseq_indu_name_gender.pkl\n",
      " 77%|███████▋  | 27/35 [01:34<00:28,  3.58s/it][2020-09-26 18:29:35] - utils.py[line:431] - INFO: loading Word2VecKeyedVectors object from adv_userseq_indu_name_residence_word2vec.kv\n",
      "[2020-09-26 18:29:35] - utils.py[line:503] - INFO: setting ignored attribute vectors_norm to None\n",
      "[2020-09-26 18:29:35] - utils.py[line:437] - INFO: loaded adv_userseq_indu_name_residence_word2vec.kv\n",
      "[2020-09-26 18:29:36] - __init__.py[line:126] - INFO: Successfully Reload: /home/zhangqibot/proj/digix/zlh/stage2/cached_data/CACHE_list_df_adv_userseq_indu_name_residence.pkl\n",
      "[2020-09-26 18:29:38] - __init__.py[line:111] - INFO: Cache Successfully! File name: /home/zhangqibot/proj/digix/zlh/stage2/cached_data/CACHE_list_df_avg_adv_userseq_indu_name_residence.pkl\n",
      " 80%|████████  | 28/35 [01:37<00:24,  3.44s/it][2020-09-26 18:29:38] - utils.py[line:431] - INFO: loading Word2VecKeyedVectors object from adv_userseq_adv_prim_id_age_word2vec.kv\n",
      "[2020-09-26 18:29:38] - utils.py[line:503] - INFO: setting ignored attribute vectors_norm to None\n",
      "[2020-09-26 18:29:38] - utils.py[line:437] - INFO: loaded adv_userseq_adv_prim_id_age_word2vec.kv\n",
      "[2020-09-26 18:29:39] - __init__.py[line:126] - INFO: Successfully Reload: /home/zhangqibot/proj/digix/zlh/stage2/cached_data/CACHE_list_df_adv_userseq_adv_prim_id_age.pkl\n",
      "[2020-09-26 18:29:41] - __init__.py[line:111] - INFO: Cache Successfully! File name: /home/zhangqibot/proj/digix/zlh/stage2/cached_data/CACHE_list_df_avg_adv_userseq_adv_prim_id_age.pkl\n",
      " 83%|████████▎ | 29/35 [01:40<00:19,  3.31s/it][2020-09-26 18:29:41] - utils.py[line:431] - INFO: loading Word2VecKeyedVectors object from adv_userseq_adv_prim_id_city_word2vec.kv\n",
      "[2020-09-26 18:29:41] - utils.py[line:503] - INFO: setting ignored attribute vectors_norm to None\n",
      "[2020-09-26 18:29:41] - utils.py[line:437] - INFO: loaded adv_userseq_adv_prim_id_city_word2vec.kv\n",
      "[2020-09-26 18:29:42] - __init__.py[line:126] - INFO: Successfully Reload: /home/zhangqibot/proj/digix/zlh/stage2/cached_data/CACHE_list_df_adv_userseq_adv_prim_id_city.pkl\n",
      "[2020-09-26 18:29:45] - __init__.py[line:111] - INFO: Cache Successfully! File name: /home/zhangqibot/proj/digix/zlh/stage2/cached_data/CACHE_list_df_avg_adv_userseq_adv_prim_id_city.pkl\n",
      " 86%|████████▌ | 30/35 [01:44<00:17,  3.42s/it][2020-09-26 18:29:45] - utils.py[line:431] - INFO: loading Word2VecKeyedVectors object from adv_userseq_adv_prim_id_city_rank_word2vec.kv\n",
      "[2020-09-26 18:29:45] - utils.py[line:503] - INFO: setting ignored attribute vectors_norm to None\n",
      "[2020-09-26 18:29:45] - utils.py[line:437] - INFO: loaded adv_userseq_adv_prim_id_city_rank_word2vec.kv\n",
      "[2020-09-26 18:29:45] - __init__.py[line:126] - INFO: Successfully Reload: /home/zhangqibot/proj/digix/zlh/stage2/cached_data/CACHE_list_df_adv_userseq_adv_prim_id_city_rank.pkl\n",
      "[2020-09-26 18:29:49] - __init__.py[line:111] - INFO: Cache Successfully! File name: /home/zhangqibot/proj/digix/zlh/stage2/cached_data/CACHE_list_df_avg_adv_userseq_adv_prim_id_city_rank.pkl\n",
      " 89%|████████▊ | 31/35 [01:48<00:13,  3.45s/it][2020-09-26 18:29:49] - utils.py[line:431] - INFO: loading Word2VecKeyedVectors object from adv_userseq_adv_prim_id_device_name_word2vec.kv\n",
      "[2020-09-26 18:29:49] - utils.py[line:503] - INFO: setting ignored attribute vectors_norm to None\n",
      "[2020-09-26 18:29:49] - utils.py[line:437] - INFO: loaded adv_userseq_adv_prim_id_device_name_word2vec.kv\n",
      "[2020-09-26 18:29:49] - __init__.py[line:126] - INFO: Successfully Reload: /home/zhangqibot/proj/digix/zlh/stage2/cached_data/CACHE_list_df_adv_userseq_adv_prim_id_device_name.pkl\n",
      "[2020-09-26 18:29:52] - __init__.py[line:111] - INFO: Cache Successfully! File name: /home/zhangqibot/proj/digix/zlh/stage2/cached_data/CACHE_list_df_avg_adv_userseq_adv_prim_id_device_name.pkl\n",
      " 91%|█████████▏| 32/35 [01:51<00:10,  3.43s/it][2020-09-26 18:29:52] - utils.py[line:431] - INFO: loading Word2VecKeyedVectors object from adv_userseq_adv_prim_id_career_word2vec.kv\n",
      "[2020-09-26 18:29:52] - utils.py[line:503] - INFO: setting ignored attribute vectors_norm to None\n",
      "[2020-09-26 18:29:52] - utils.py[line:437] - INFO: loaded adv_userseq_adv_prim_id_career_word2vec.kv\n",
      "[2020-09-26 18:29:52] - __init__.py[line:126] - INFO: Successfully Reload: /home/zhangqibot/proj/digix/zlh/stage2/cached_data/CACHE_list_df_adv_userseq_adv_prim_id_career.pkl\n",
      "[2020-09-26 18:29:55] - __init__.py[line:111] - INFO: Cache Successfully! File name: /home/zhangqibot/proj/digix/zlh/stage2/cached_data/CACHE_list_df_avg_adv_userseq_adv_prim_id_career.pkl\n",
      " 94%|█████████▍| 33/35 [01:54<00:06,  3.31s/it][2020-09-26 18:29:55] - utils.py[line:431] - INFO: loading Word2VecKeyedVectors object from adv_userseq_adv_prim_id_gender_word2vec.kv\n"
     ]
    },
    {
     "name": "stderr",
     "output_type": "stream",
     "text": [
      "[2020-09-26 18:29:55] - utils.py[line:503] - INFO: setting ignored attribute vectors_norm to None\n",
      "[2020-09-26 18:29:55] - utils.py[line:437] - INFO: loaded adv_userseq_adv_prim_id_gender_word2vec.kv\n",
      "[2020-09-26 18:29:55] - __init__.py[line:126] - INFO: Successfully Reload: /home/zhangqibot/proj/digix/zlh/stage2/cached_data/CACHE_list_df_adv_userseq_adv_prim_id_gender.pkl\n",
      "[2020-09-26 18:29:58] - __init__.py[line:111] - INFO: Cache Successfully! File name: /home/zhangqibot/proj/digix/zlh/stage2/cached_data/CACHE_list_df_avg_adv_userseq_adv_prim_id_gender.pkl\n",
      " 97%|█████████▋| 34/35 [01:57<00:03,  3.23s/it][2020-09-26 18:29:58] - utils.py[line:431] - INFO: loading Word2VecKeyedVectors object from adv_userseq_adv_prim_id_residence_word2vec.kv\n",
      "[2020-09-26 18:29:58] - utils.py[line:503] - INFO: setting ignored attribute vectors_norm to None\n",
      "[2020-09-26 18:29:58] - utils.py[line:437] - INFO: loaded adv_userseq_adv_prim_id_residence_word2vec.kv\n",
      "[2020-09-26 18:29:58] - __init__.py[line:126] - INFO: Successfully Reload: /home/zhangqibot/proj/digix/zlh/stage2/cached_data/CACHE_list_df_adv_userseq_adv_prim_id_residence.pkl\n",
      "[2020-09-26 18:30:02] - __init__.py[line:111] - INFO: Cache Successfully! File name: /home/zhangqibot/proj/digix/zlh/stage2/cached_data/CACHE_list_df_avg_adv_userseq_adv_prim_id_residence.pkl\n",
      "100%|██████████| 35/35 [02:01<00:00,  3.46s/it]\n"
     ]
    }
   ],
   "source": [
    "f1_f2_list = [['task_id','age'],['task_id','city'],['task_id','city_rank'],['task_id','device_name'],['task_id','career'],['task_id','gender'],\n",
    "              ['task_id','residence'],['adv_id','age'],['adv_id','city'],['adv_id','city_rank'],['adv_id','device_name'],['adv_id','career'],\n",
    "              ['adv_id','gender'],['adv_id','residence'],['creat_type_cd','age'],['creat_type_cd','city'],['creat_type_cd','city_rank'],\n",
    "              ['creat_type_cd','device_name'],['creat_type_cd','career'],['creat_type_cd','gender'],['creat_type_cd','residence'],['indu_name','age'],\n",
    "              ['indu_name','city'],['indu_name','city_rank'],['indu_name','device_name'],['indu_name','career'],['indu_name','gender'],['indu_name','residence'],\n",
    "              ['adv_prim_id','age'],['adv_prim_id','city'],['adv_prim_id','city_rank'],['adv_prim_id','device_name'],['adv_prim_id','career'],\n",
    "              ['adv_prim_id','gender'],['adv_prim_id','residence']]\n",
    "for i in tqdm(f1_f2_list):\n",
    "    get_embedding(str(i[0])+'_'+str(i[1]),i[0])\n",
    "    "
   ]
  },
  {
   "cell_type": "markdown",
   "metadata": {},
   "source": [
    "# adv_emb_mtx"
   ]
  },
  {
   "cell_type": "code",
   "execution_count": 13,
   "metadata": {
    "ExecuteTime": {
     "end_time": "2020-09-26T10:30:02.114597Z",
     "start_time": "2020-09-26T10:30:02.112044Z"
    }
   },
   "outputs": [],
   "source": [
    "from gensim.models import KeyedVectors\n",
    "from tensorflow.keras.preprocessing.text import Tokenizer\n",
    "import numpy as np\n",
    "from base import Cache\n",
    "from tqdm import tqdm\n",
    "import pandas as pd \n"
   ]
  },
  {
   "cell_type": "code",
   "execution_count": 14,
   "metadata": {
    "ExecuteTime": {
     "end_time": "2020-09-26T10:30:02.124467Z",
     "start_time": "2020-09-26T10:30:02.115492Z"
    }
   },
   "outputs": [],
   "source": [
    "def get_embedding(f1_f2,f1):\n",
    "    avg_f1 = Cache.reload_cache('CACHE_list_df_avg_adv_userseq_'+f1_f2+'.pkl')\n",
    "    feature_tokens = avg_f1[[1]].values.flatten().astype(str).tolist()\n",
    "    tokenizer = Tokenizer(num_words=len(feature_tokens)+1)\n",
    "    tokenizer.fit_on_texts(feature_tokens)\n",
    "    embedding_dim = 64\n",
    "    embedding_matrix = np.random.randn(\n",
    "        len(feature_tokens)+1, embedding_dim)\n",
    "    avg_f1_copy = avg_f1.copy()\n",
    "    avg_f1_copy = avg_f1_copy.set_index(1)\n",
    "    \n",
    "    for feature in feature_tokens:\n",
    "        embedding_vector = np.array(avg_f1_copy.loc[int(feature),:].values[0])\n",
    "        if embedding_vector is not None:\n",
    "            index = tokenizer.texts_to_sequences([feature])[0][0]\n",
    "            embedding_matrix[index] = embedding_vector\n",
    "    return embedding_matrix\n",
    "\n"
   ]
  },
  {
   "cell_type": "code",
   "execution_count": 15,
   "metadata": {
    "ExecuteTime": {
     "end_time": "2020-09-26T10:30:12.207208Z",
     "start_time": "2020-09-26T10:30:02.125535Z"
    },
    "jupyter": {
     "outputs_hidden": true
    }
   },
   "outputs": [
    {
     "name": "stderr",
     "output_type": "stream",
     "text": [
      "  0%|          | 0/35 [00:00<?, ?it/s][2020-09-26 18:30:02] - __init__.py[line:126] - INFO: Successfully Reload: /home/zhangqibot/proj/digix/zlh/stage2/cached_data/CACHE_list_df_avg_adv_userseq_task_id_age.pkl\n",
      "  3%|▎         | 1/35 [00:00<00:20,  1.65it/s][2020-09-26 18:30:02] - __init__.py[line:126] - INFO: Successfully Reload: /home/zhangqibot/proj/digix/zlh/stage2/cached_data/CACHE_list_df_avg_adv_userseq_task_id_city.pkl\n",
      "  6%|▌         | 2/35 [00:01<00:21,  1.54it/s][2020-09-26 18:30:03] - __init__.py[line:126] - INFO: Successfully Reload: /home/zhangqibot/proj/digix/zlh/stage2/cached_data/CACHE_list_df_avg_adv_userseq_task_id_city_rank.pkl\n",
      "  9%|▊         | 3/35 [00:02<00:21,  1.49it/s][2020-09-26 18:30:04] - __init__.py[line:126] - INFO: Successfully Reload: /home/zhangqibot/proj/digix/zlh/stage2/cached_data/CACHE_list_df_avg_adv_userseq_task_id_device_name.pkl\n",
      " 11%|█▏        | 4/35 [00:02<00:20,  1.52it/s][2020-09-26 18:30:04] - __init__.py[line:126] - INFO: Successfully Reload: /home/zhangqibot/proj/digix/zlh/stage2/cached_data/CACHE_list_df_avg_adv_userseq_task_id_career.pkl\n",
      " 14%|█▍        | 5/35 [00:03<00:19,  1.56it/s][2020-09-26 18:30:05] - __init__.py[line:126] - INFO: Successfully Reload: /home/zhangqibot/proj/digix/zlh/stage2/cached_data/CACHE_list_df_avg_adv_userseq_task_id_gender.pkl\n",
      " 17%|█▋        | 6/35 [00:03<00:18,  1.59it/s][2020-09-26 18:30:06] - __init__.py[line:126] - INFO: Successfully Reload: /home/zhangqibot/proj/digix/zlh/stage2/cached_data/CACHE_list_df_avg_adv_userseq_task_id_residence.pkl\n",
      " 20%|██        | 7/35 [00:04<00:17,  1.60it/s][2020-09-26 18:30:06] - __init__.py[line:126] - INFO: Successfully Reload: /home/zhangqibot/proj/digix/zlh/stage2/cached_data/CACHE_list_df_avg_adv_userseq_adv_id_age.pkl\n",
      " 23%|██▎       | 8/35 [00:05<00:17,  1.51it/s][2020-09-26 18:30:07] - __init__.py[line:126] - INFO: Successfully Reload: /home/zhangqibot/proj/digix/zlh/stage2/cached_data/CACHE_list_df_avg_adv_userseq_adv_id_city.pkl\n",
      " 26%|██▌       | 9/35 [00:06<00:18,  1.40it/s][2020-09-26 18:30:08] - __init__.py[line:126] - INFO: Successfully Reload: /home/zhangqibot/proj/digix/zlh/stage2/cached_data/CACHE_list_df_avg_adv_userseq_adv_id_city_rank.pkl\n",
      " 29%|██▊       | 10/35 [00:06<00:17,  1.40it/s][2020-09-26 18:30:08] - __init__.py[line:126] - INFO: Successfully Reload: /home/zhangqibot/proj/digix/zlh/stage2/cached_data/CACHE_list_df_avg_adv_userseq_adv_id_device_name.pkl\n",
      " 31%|███▏      | 11/35 [00:07<00:17,  1.38it/s][2020-09-26 18:30:09] - __init__.py[line:126] - INFO: Successfully Reload: /home/zhangqibot/proj/digix/zlh/stage2/cached_data/CACHE_list_df_avg_adv_userseq_adv_id_career.pkl\n",
      " 34%|███▍      | 12/35 [00:08<00:16,  1.38it/s][2020-09-26 18:30:10] - __init__.py[line:126] - INFO: Successfully Reload: /home/zhangqibot/proj/digix/zlh/stage2/cached_data/CACHE_list_df_avg_adv_userseq_adv_id_gender.pkl\n",
      " 37%|███▋      | 13/35 [00:09<00:15,  1.39it/s][2020-09-26 18:30:11] - __init__.py[line:126] - INFO: Successfully Reload: /home/zhangqibot/proj/digix/zlh/stage2/cached_data/CACHE_list_df_avg_adv_userseq_adv_id_residence.pkl\n",
      " 40%|████      | 14/35 [00:09<00:15,  1.33it/s][2020-09-26 18:30:11] - __init__.py[line:126] - INFO: Successfully Reload: /home/zhangqibot/proj/digix/zlh/stage2/cached_data/CACHE_list_df_avg_adv_userseq_creat_type_cd_age.pkl\n",
      "[2020-09-26 18:30:11] - __init__.py[line:126] - INFO: Successfully Reload: /home/zhangqibot/proj/digix/zlh/stage2/cached_data/CACHE_list_df_avg_adv_userseq_creat_type_cd_city.pkl\n",
      "[2020-09-26 18:30:11] - __init__.py[line:126] - INFO: Successfully Reload: /home/zhangqibot/proj/digix/zlh/stage2/cached_data/CACHE_list_df_avg_adv_userseq_creat_type_cd_city_rank.pkl\n",
      "[2020-09-26 18:30:11] - __init__.py[line:126] - INFO: Successfully Reload: /home/zhangqibot/proj/digix/zlh/stage2/cached_data/CACHE_list_df_avg_adv_userseq_creat_type_cd_device_name.pkl\n",
      "[2020-09-26 18:30:11] - __init__.py[line:126] - INFO: Successfully Reload: /home/zhangqibot/proj/digix/zlh/stage2/cached_data/CACHE_list_df_avg_adv_userseq_creat_type_cd_career.pkl\n",
      "[2020-09-26 18:30:11] - __init__.py[line:126] - INFO: Successfully Reload: /home/zhangqibot/proj/digix/zlh/stage2/cached_data/CACHE_list_df_avg_adv_userseq_creat_type_cd_gender.pkl\n",
      "[2020-09-26 18:30:11] - __init__.py[line:126] - INFO: Successfully Reload: /home/zhangqibot/proj/digix/zlh/stage2/cached_data/CACHE_list_df_avg_adv_userseq_creat_type_cd_residence.pkl\n",
      "[2020-09-26 18:30:11] - __init__.py[line:126] - INFO: Successfully Reload: /home/zhangqibot/proj/digix/zlh/stage2/cached_data/CACHE_list_df_avg_adv_userseq_indu_name_age.pkl\n",
      "[2020-09-26 18:30:12] - __init__.py[line:126] - INFO: Successfully Reload: /home/zhangqibot/proj/digix/zlh/stage2/cached_data/CACHE_list_df_avg_adv_userseq_indu_name_city.pkl\n",
      "[2020-09-26 18:30:12] - __init__.py[line:126] - INFO: Successfully Reload: /home/zhangqibot/proj/digix/zlh/stage2/cached_data/CACHE_list_df_avg_adv_userseq_indu_name_city_rank.pkl\n",
      "[2020-09-26 18:30:12] - __init__.py[line:126] - INFO: Successfully Reload: /home/zhangqibot/proj/digix/zlh/stage2/cached_data/CACHE_list_df_avg_adv_userseq_indu_name_device_name.pkl\n",
      "[2020-09-26 18:30:12] - __init__.py[line:126] - INFO: Successfully Reload: /home/zhangqibot/proj/digix/zlh/stage2/cached_data/CACHE_list_df_avg_adv_userseq_indu_name_career.pkl\n",
      "[2020-09-26 18:30:12] - __init__.py[line:126] - INFO: Successfully Reload: /home/zhangqibot/proj/digix/zlh/stage2/cached_data/CACHE_list_df_avg_adv_userseq_indu_name_gender.pkl\n",
      "[2020-09-26 18:30:12] - __init__.py[line:126] - INFO: Successfully Reload: /home/zhangqibot/proj/digix/zlh/stage2/cached_data/CACHE_list_df_avg_adv_userseq_indu_name_residence.pkl\n",
      "[2020-09-26 18:30:12] - __init__.py[line:126] - INFO: Successfully Reload: /home/zhangqibot/proj/digix/zlh/stage2/cached_data/CACHE_list_df_avg_adv_userseq_adv_prim_id_age.pkl\n",
      " 83%|████████▎ | 29/35 [00:09<00:03,  1.90it/s][2020-09-26 18:30:12] - __init__.py[line:126] - INFO: Successfully Reload: /home/zhangqibot/proj/digix/zlh/stage2/cached_data/CACHE_list_df_avg_adv_userseq_adv_prim_id_city.pkl\n",
      "[2020-09-26 18:30:12] - __init__.py[line:126] - INFO: Successfully Reload: /home/zhangqibot/proj/digix/zlh/stage2/cached_data/CACHE_list_df_avg_adv_userseq_adv_prim_id_city_rank.pkl\n",
      "[2020-09-26 18:30:12] - __init__.py[line:126] - INFO: Successfully Reload: /home/zhangqibot/proj/digix/zlh/stage2/cached_data/CACHE_list_df_avg_adv_userseq_adv_prim_id_device_name.pkl\n",
      "[2020-09-26 18:30:12] - __init__.py[line:126] - INFO: Successfully Reload: /home/zhangqibot/proj/digix/zlh/stage2/cached_data/CACHE_list_df_avg_adv_userseq_adv_prim_id_career.pkl\n",
      "[2020-09-26 18:30:12] - __init__.py[line:126] - INFO: Successfully Reload: /home/zhangqibot/proj/digix/zlh/stage2/cached_data/CACHE_list_df_avg_adv_userseq_adv_prim_id_gender.pkl\n",
      " 97%|█████████▋| 34/35 [00:10<00:00,  2.66it/s][2020-09-26 18:30:12] - __init__.py[line:126] - INFO: Successfully Reload: /home/zhangqibot/proj/digix/zlh/stage2/cached_data/CACHE_list_df_avg_adv_userseq_adv_prim_id_residence.pkl\n",
      "100%|██████████| 35/35 [00:10<00:00,  3.48it/s]\n"
     ]
    }
   ],
   "source": [
    "if __name__ == '__main__': \n",
    "    f1_f2_list = [['task_id','age'],['task_id','city'],['task_id','city_rank'],['task_id','device_name'],['task_id','career'],['task_id','gender'],\n",
    "                  ['task_id','residence'],['adv_id','age'],['adv_id','city'],['adv_id','city_rank'],['adv_id','device_name'],['adv_id','career'],\n",
    "                  ['adv_id','gender'],['adv_id','residence'],['creat_type_cd','age'],['creat_type_cd','city'],['creat_type_cd','city_rank'],\n",
    "                  ['creat_type_cd','device_name'],['creat_type_cd','career'],['creat_type_cd','gender'],['creat_type_cd','residence'],['indu_name','age'],\n",
    "                  ['indu_name','city'],['indu_name','city_rank'],['indu_name','device_name'],['indu_name','career'],['indu_name','gender'],\n",
    "                  ['indu_name','residence'],['adv_prim_id','age'],['adv_prim_id','city'],['adv_prim_id','city_rank'],['adv_prim_id','device_name'],\n",
    "                  ['adv_prim_id','career'],['adv_prim_id','gender'],['adv_prim_id','residence']]\n",
    "    for i in tqdm(f1_f2_list):\n",
    "        mtx = get_embedding(str(i[0])+'_'+str(i[1]),i[0])\n",
    "        np.save(str(i[0])+'_'+str(i[1])+'_emb_mtx_adv_userseq_adv.npy',mtx)"
   ]
  },
  {
   "cell_type": "markdown",
   "metadata": {},
   "source": [
    "# user_emb_mtx"
   ]
  },
  {
   "cell_type": "code",
   "execution_count": 16,
   "metadata": {
    "ExecuteTime": {
     "end_time": "2020-09-26T10:30:12.210973Z",
     "start_time": "2020-09-26T10:30:12.208469Z"
    }
   },
   "outputs": [],
   "source": [
    "from gensim.models import KeyedVectors\n",
    "from tensorflow.keras.preprocessing.text import Tokenizer\n",
    "import numpy as np\n",
    "from tqdm import tqdm\n"
   ]
  },
  {
   "cell_type": "code",
   "execution_count": 17,
   "metadata": {
    "ExecuteTime": {
     "end_time": "2020-09-26T10:30:12.221246Z",
     "start_time": "2020-09-26T10:30:12.212055Z"
    }
   },
   "outputs": [],
   "source": [
    "def get_embedding(path):\n",
    "    path_kv = 'adv_userseq_'+path+'_word2vec.kv'\n",
    "    wv = KeyedVectors.load(path_kv, mmap='r')\n",
    "    feature_tokens = list(wv.vocab.keys())\n",
    "    tokenizer = Tokenizer(num_words=len(feature_tokens)+1)\n",
    "    tokenizer.fit_on_texts(feature_tokens)\n",
    "    embedding_dim = 64\n",
    "    embedding_matrix = np.random.randn(\n",
    "        len(feature_tokens)+1, embedding_dim)\n",
    "    for feature in feature_tokens:\n",
    "        embedding_vector = wv[feature]\n",
    "        if embedding_vector is not None:\n",
    "            index = tokenizer.texts_to_sequences([feature])[0][0]\n",
    "            embedding_matrix[index] = embedding_vector\n",
    "    print(embedding_matrix.shape)\n",
    "    return embedding_matrix\n",
    "\n"
   ]
  },
  {
   "cell_type": "code",
   "execution_count": 18,
   "metadata": {
    "ExecuteTime": {
     "end_time": "2020-09-26T10:30:12.410601Z",
     "start_time": "2020-09-26T10:30:12.222313Z"
    },
    "jupyter": {
     "outputs_hidden": true
    }
   },
   "outputs": [
    {
     "name": "stderr",
     "output_type": "stream",
     "text": [
      "  0%|          | 0/35 [00:00<?, ?it/s][2020-09-26 18:30:12] - utils.py[line:431] - INFO: loading Word2VecKeyedVectors object from adv_userseq_task_id_age_word2vec.kv\n",
      "[2020-09-26 18:30:12] - utils.py[line:503] - INFO: setting ignored attribute vectors_norm to None\n",
      "[2020-09-26 18:30:12] - utils.py[line:437] - INFO: loaded adv_userseq_task_id_age_word2vec.kv\n",
      "[2020-09-26 18:30:12] - utils.py[line:431] - INFO: loading Word2VecKeyedVectors object from adv_userseq_task_id_city_word2vec.kv\n",
      "[2020-09-26 18:30:12] - utils.py[line:503] - INFO: setting ignored attribute vectors_norm to None\n",
      "[2020-09-26 18:30:12] - utils.py[line:437] - INFO: loaded adv_userseq_task_id_city_word2vec.kv\n",
      "[2020-09-26 18:30:12] - utils.py[line:431] - INFO: loading Word2VecKeyedVectors object from adv_userseq_task_id_city_rank_word2vec.kv\n",
      "[2020-09-26 18:30:12] - utils.py[line:503] - INFO: setting ignored attribute vectors_norm to None\n",
      "[2020-09-26 18:30:12] - utils.py[line:437] - INFO: loaded adv_userseq_task_id_city_rank_word2vec.kv\n",
      "[2020-09-26 18:30:12] - utils.py[line:431] - INFO: loading Word2VecKeyedVectors object from adv_userseq_task_id_device_name_word2vec.kv\n",
      "[2020-09-26 18:30:12] - utils.py[line:503] - INFO: setting ignored attribute vectors_norm to None\n",
      "[2020-09-26 18:30:12] - utils.py[line:437] - INFO: loaded adv_userseq_task_id_device_name_word2vec.kv\n",
      "[2020-09-26 18:30:12] - utils.py[line:431] - INFO: loading Word2VecKeyedVectors object from adv_userseq_task_id_career_word2vec.kv\n",
      "[2020-09-26 18:30:12] - utils.py[line:503] - INFO: setting ignored attribute vectors_norm to None\n",
      "[2020-09-26 18:30:12] - utils.py[line:437] - INFO: loaded adv_userseq_task_id_career_word2vec.kv\n",
      "[2020-09-26 18:30:12] - utils.py[line:431] - INFO: loading Word2VecKeyedVectors object from adv_userseq_task_id_gender_word2vec.kv\n",
      "[2020-09-26 18:30:12] - utils.py[line:503] - INFO: setting ignored attribute vectors_norm to None\n",
      "[2020-09-26 18:30:12] - utils.py[line:437] - INFO: loaded adv_userseq_task_id_gender_word2vec.kv\n",
      "[2020-09-26 18:30:12] - utils.py[line:431] - INFO: loading Word2VecKeyedVectors object from adv_userseq_task_id_residence_word2vec.kv\n",
      "[2020-09-26 18:30:12] - utils.py[line:503] - INFO: setting ignored attribute vectors_norm to None\n",
      "[2020-09-26 18:30:12] - utils.py[line:437] - INFO: loaded adv_userseq_task_id_residence_word2vec.kv\n",
      "[2020-09-26 18:30:12] - utils.py[line:431] - INFO: loading Word2VecKeyedVectors object from adv_userseq_adv_id_age_word2vec.kv\n",
      "[2020-09-26 18:30:12] - utils.py[line:503] - INFO: setting ignored attribute vectors_norm to None\n",
      "[2020-09-26 18:30:12] - utils.py[line:437] - INFO: loaded adv_userseq_adv_id_age_word2vec.kv\n",
      "[2020-09-26 18:30:12] - utils.py[line:431] - INFO: loading Word2VecKeyedVectors object from adv_userseq_adv_id_city_word2vec.kv\n",
      "[2020-09-26 18:30:12] - utils.py[line:503] - INFO: setting ignored attribute vectors_norm to None\n",
      "[2020-09-26 18:30:12] - utils.py[line:437] - INFO: loaded adv_userseq_adv_id_city_word2vec.kv\n",
      "[2020-09-26 18:30:12] - utils.py[line:431] - INFO: loading Word2VecKeyedVectors object from adv_userseq_adv_id_city_rank_word2vec.kv\n",
      "[2020-09-26 18:30:12] - utils.py[line:503] - INFO: setting ignored attribute vectors_norm to None\n",
      "[2020-09-26 18:30:12] - utils.py[line:437] - INFO: loaded adv_userseq_adv_id_city_rank_word2vec.kv\n",
      "[2020-09-26 18:30:12] - utils.py[line:431] - INFO: loading Word2VecKeyedVectors object from adv_userseq_adv_id_device_name_word2vec.kv\n",
      "[2020-09-26 18:30:12] - utils.py[line:503] - INFO: setting ignored attribute vectors_norm to None\n",
      "[2020-09-26 18:30:12] - utils.py[line:437] - INFO: loaded adv_userseq_adv_id_device_name_word2vec.kv\n",
      "[2020-09-26 18:30:12] - utils.py[line:431] - INFO: loading Word2VecKeyedVectors object from adv_userseq_adv_id_career_word2vec.kv\n",
      "[2020-09-26 18:30:12] - utils.py[line:503] - INFO: setting ignored attribute vectors_norm to None\n",
      "[2020-09-26 18:30:12] - utils.py[line:437] - INFO: loaded adv_userseq_adv_id_career_word2vec.kv\n",
      "[2020-09-26 18:30:12] - utils.py[line:431] - INFO: loading Word2VecKeyedVectors object from adv_userseq_adv_id_gender_word2vec.kv\n",
      "[2020-09-26 18:30:12] - utils.py[line:503] - INFO: setting ignored attribute vectors_norm to None\n",
      "[2020-09-26 18:30:12] - utils.py[line:437] - INFO: loaded adv_userseq_adv_id_gender_word2vec.kv\n",
      "[2020-09-26 18:30:12] - utils.py[line:431] - INFO: loading Word2VecKeyedVectors object from adv_userseq_adv_id_residence_word2vec.kv\n",
      "[2020-09-26 18:30:12] - utils.py[line:503] - INFO: setting ignored attribute vectors_norm to None\n",
      "[2020-09-26 18:30:12] - utils.py[line:437] - INFO: loaded adv_userseq_adv_id_residence_word2vec.kv\n",
      "[2020-09-26 18:30:12] - utils.py[line:431] - INFO: loading Word2VecKeyedVectors object from adv_userseq_creat_type_cd_age_word2vec.kv\n",
      "[2020-09-26 18:30:12] - utils.py[line:503] - INFO: setting ignored attribute vectors_norm to None\n",
      "[2020-09-26 18:30:12] - utils.py[line:437] - INFO: loaded adv_userseq_creat_type_cd_age_word2vec.kv\n",
      "[2020-09-26 18:30:12] - utils.py[line:431] - INFO: loading Word2VecKeyedVectors object from adv_userseq_creat_type_cd_city_word2vec.kv\n",
      "[2020-09-26 18:30:12] - utils.py[line:503] - INFO: setting ignored attribute vectors_norm to None\n",
      "[2020-09-26 18:30:12] - utils.py[line:437] - INFO: loaded adv_userseq_creat_type_cd_city_word2vec.kv\n",
      "[2020-09-26 18:30:12] - utils.py[line:431] - INFO: loading Word2VecKeyedVectors object from adv_userseq_creat_type_cd_city_rank_word2vec.kv\n",
      "[2020-09-26 18:30:12] - utils.py[line:503] - INFO: setting ignored attribute vectors_norm to None\n",
      "[2020-09-26 18:30:12] - utils.py[line:437] - INFO: loaded adv_userseq_creat_type_cd_city_rank_word2vec.kv\n",
      "[2020-09-26 18:30:12] - utils.py[line:431] - INFO: loading Word2VecKeyedVectors object from adv_userseq_creat_type_cd_device_name_word2vec.kv\n",
      "[2020-09-26 18:30:12] - utils.py[line:503] - INFO: setting ignored attribute vectors_norm to None\n",
      "[2020-09-26 18:30:12] - utils.py[line:437] - INFO: loaded adv_userseq_creat_type_cd_device_name_word2vec.kv\n",
      "[2020-09-26 18:30:12] - utils.py[line:431] - INFO: loading Word2VecKeyedVectors object from adv_userseq_creat_type_cd_career_word2vec.kv\n",
      "[2020-09-26 18:30:12] - utils.py[line:503] - INFO: setting ignored attribute vectors_norm to None\n",
      "[2020-09-26 18:30:12] - utils.py[line:437] - INFO: loaded adv_userseq_creat_type_cd_career_word2vec.kv\n",
      "[2020-09-26 18:30:12] - utils.py[line:431] - INFO: loading Word2VecKeyedVectors object from adv_userseq_creat_type_cd_gender_word2vec.kv\n",
      "[2020-09-26 18:30:12] - utils.py[line:503] - INFO: setting ignored attribute vectors_norm to None\n",
      "[2020-09-26 18:30:12] - utils.py[line:437] - INFO: loaded adv_userseq_creat_type_cd_gender_word2vec.kv\n",
      "[2020-09-26 18:30:12] - utils.py[line:431] - INFO: loading Word2VecKeyedVectors object from adv_userseq_creat_type_cd_residence_word2vec.kv\n",
      "[2020-09-26 18:30:12] - utils.py[line:503] - INFO: setting ignored attribute vectors_norm to None\n",
      "[2020-09-26 18:30:12] - utils.py[line:437] - INFO: loaded adv_userseq_creat_type_cd_residence_word2vec.kv\n",
      " 60%|██████    | 21/35 [00:00<00:00, 207.40it/s][2020-09-26 18:30:12] - utils.py[line:431] - INFO: loading Word2VecKeyedVectors object from adv_userseq_indu_name_age_word2vec.kv\n",
      "[2020-09-26 18:30:12] - utils.py[line:503] - INFO: setting ignored attribute vectors_norm to None\n",
      "[2020-09-26 18:30:12] - utils.py[line:437] - INFO: loaded adv_userseq_indu_name_age_word2vec.kv\n",
      "[2020-09-26 18:30:12] - utils.py[line:431] - INFO: loading Word2VecKeyedVectors object from adv_userseq_indu_name_city_word2vec.kv\n",
      "[2020-09-26 18:30:12] - utils.py[line:503] - INFO: setting ignored attribute vectors_norm to None\n",
      "[2020-09-26 18:30:12] - utils.py[line:437] - INFO: loaded adv_userseq_indu_name_city_word2vec.kv\n",
      "[2020-09-26 18:30:12] - utils.py[line:431] - INFO: loading Word2VecKeyedVectors object from adv_userseq_indu_name_city_rank_word2vec.kv\n",
      "[2020-09-26 18:30:12] - utils.py[line:503] - INFO: setting ignored attribute vectors_norm to None\n",
      "[2020-09-26 18:30:12] - utils.py[line:437] - INFO: loaded adv_userseq_indu_name_city_rank_word2vec.kv\n",
      "[2020-09-26 18:30:12] - utils.py[line:431] - INFO: loading Word2VecKeyedVectors object from adv_userseq_indu_name_device_name_word2vec.kv\n",
      "[2020-09-26 18:30:12] - utils.py[line:503] - INFO: setting ignored attribute vectors_norm to None\n"
     ]
    },
    {
     "name": "stderr",
     "output_type": "stream",
     "text": [
      "[2020-09-26 18:30:12] - utils.py[line:437] - INFO: loaded adv_userseq_indu_name_device_name_word2vec.kv\n",
      "[2020-09-26 18:30:12] - utils.py[line:431] - INFO: loading Word2VecKeyedVectors object from adv_userseq_indu_name_career_word2vec.kv\n",
      "[2020-09-26 18:30:12] - utils.py[line:503] - INFO: setting ignored attribute vectors_norm to None\n",
      "[2020-09-26 18:30:12] - utils.py[line:437] - INFO: loaded adv_userseq_indu_name_career_word2vec.kv\n",
      "[2020-09-26 18:30:12] - utils.py[line:431] - INFO: loading Word2VecKeyedVectors object from adv_userseq_indu_name_gender_word2vec.kv\n",
      "[2020-09-26 18:30:12] - utils.py[line:503] - INFO: setting ignored attribute vectors_norm to None\n",
      "[2020-09-26 18:30:12] - utils.py[line:437] - INFO: loaded adv_userseq_indu_name_gender_word2vec.kv\n",
      "[2020-09-26 18:30:12] - utils.py[line:431] - INFO: loading Word2VecKeyedVectors object from adv_userseq_indu_name_residence_word2vec.kv\n",
      "[2020-09-26 18:30:12] - utils.py[line:503] - INFO: setting ignored attribute vectors_norm to None\n",
      "[2020-09-26 18:30:12] - utils.py[line:437] - INFO: loaded adv_userseq_indu_name_residence_word2vec.kv\n",
      "[2020-09-26 18:30:12] - utils.py[line:431] - INFO: loading Word2VecKeyedVectors object from adv_userseq_adv_prim_id_age_word2vec.kv\n",
      "[2020-09-26 18:30:12] - utils.py[line:503] - INFO: setting ignored attribute vectors_norm to None\n",
      "[2020-09-26 18:30:12] - utils.py[line:437] - INFO: loaded adv_userseq_adv_prim_id_age_word2vec.kv\n",
      "[2020-09-26 18:30:12] - utils.py[line:431] - INFO: loading Word2VecKeyedVectors object from adv_userseq_adv_prim_id_city_word2vec.kv\n",
      "[2020-09-26 18:30:12] - utils.py[line:503] - INFO: setting ignored attribute vectors_norm to None\n",
      "[2020-09-26 18:30:12] - utils.py[line:437] - INFO: loaded adv_userseq_adv_prim_id_city_word2vec.kv\n",
      "[2020-09-26 18:30:12] - utils.py[line:431] - INFO: loading Word2VecKeyedVectors object from adv_userseq_adv_prim_id_city_rank_word2vec.kv\n",
      "[2020-09-26 18:30:12] - utils.py[line:503] - INFO: setting ignored attribute vectors_norm to None\n",
      "[2020-09-26 18:30:12] - utils.py[line:437] - INFO: loaded adv_userseq_adv_prim_id_city_rank_word2vec.kv\n",
      "[2020-09-26 18:30:12] - utils.py[line:431] - INFO: loading Word2VecKeyedVectors object from adv_userseq_adv_prim_id_device_name_word2vec.kv\n",
      "[2020-09-26 18:30:12] - utils.py[line:503] - INFO: setting ignored attribute vectors_norm to None\n",
      "[2020-09-26 18:30:12] - utils.py[line:437] - INFO: loaded adv_userseq_adv_prim_id_device_name_word2vec.kv\n",
      "[2020-09-26 18:30:12] - utils.py[line:431] - INFO: loading Word2VecKeyedVectors object from adv_userseq_adv_prim_id_career_word2vec.kv\n",
      "[2020-09-26 18:30:12] - utils.py[line:503] - INFO: setting ignored attribute vectors_norm to None\n",
      "[2020-09-26 18:30:12] - utils.py[line:437] - INFO: loaded adv_userseq_adv_prim_id_career_word2vec.kv\n",
      "[2020-09-26 18:30:12] - utils.py[line:431] - INFO: loading Word2VecKeyedVectors object from adv_userseq_adv_prim_id_gender_word2vec.kv\n",
      "[2020-09-26 18:30:12] - utils.py[line:503] - INFO: setting ignored attribute vectors_norm to None\n",
      "[2020-09-26 18:30:12] - utils.py[line:437] - INFO: loaded adv_userseq_adv_prim_id_gender_word2vec.kv\n",
      "[2020-09-26 18:30:12] - utils.py[line:431] - INFO: loading Word2VecKeyedVectors object from adv_userseq_adv_prim_id_residence_word2vec.kv\n",
      "[2020-09-26 18:30:12] - utils.py[line:503] - INFO: setting ignored attribute vectors_norm to None\n",
      "[2020-09-26 18:30:12] - utils.py[line:437] - INFO: loaded adv_userseq_adv_prim_id_residence_word2vec.kv\n",
      "100%|██████████| 35/35 [00:00<00:00, 204.44it/s]"
     ]
    },
    {
     "name": "stdout",
     "output_type": "stream",
     "text": [
      "(10, 64)\n",
      "(346, 64)\n",
      "(6, 64)\n",
      "(92, 64)\n",
      "(11, 64)\n",
      "(5, 64)\n",
      "(38, 64)\n",
      "(10, 64)\n",
      "(346, 64)\n",
      "(6, 64)\n",
      "(92, 64)\n",
      "(11, 64)\n",
      "(5, 64)\n",
      "(38, 64)\n",
      "(9, 64)\n",
      "(345, 64)\n",
      "(5, 64)\n",
      "(91, 64)\n",
      "(10, 64)\n",
      "(4, 64)\n",
      "(37, 64)\n",
      "(10, 64)\n",
      "(346, 64)\n",
      "(6, 64)\n",
      "(92, 64)\n",
      "(11, 64)\n",
      "(5, 64)\n",
      "(38, 64)\n",
      "(10, 64)\n",
      "(346, 64)\n",
      "(6, 64)\n",
      "(92, 64)\n",
      "(11, 64)\n",
      "(5, 64)\n",
      "(38, 64)\n"
     ]
    },
    {
     "name": "stderr",
     "output_type": "stream",
     "text": [
      "\n"
     ]
    }
   ],
   "source": [
    "f1_f2_list = [['task_id','age'],['task_id','city'],['task_id','city_rank'],['task_id','device_name'],['task_id','career'],['task_id','gender'],\n",
    "              ['task_id','residence'],['adv_id','age'],['adv_id','city'],['adv_id','city_rank'],['adv_id','device_name'],['adv_id','career'],\n",
    "              ['adv_id','gender'],['adv_id','residence'],['creat_type_cd','age'],['creat_type_cd','city'],['creat_type_cd','city_rank'],\n",
    "              ['creat_type_cd','device_name'],['creat_type_cd','career'],['creat_type_cd','gender'],['creat_type_cd','residence'],['indu_name','age'],\n",
    "              ['indu_name','city'],['indu_name','city_rank'],['indu_name','device_name'],['indu_name','career'],['indu_name','gender'],\n",
    "              ['indu_name','residence'],['adv_prim_id','age'],['adv_prim_id','city'],['adv_prim_id','city_rank'],['adv_prim_id','device_name'],\n",
    "              ['adv_prim_id','career'],['adv_prim_id','gender'],['adv_prim_id','residence']]\n",
    "for i in tqdm(f1_f2_list):\n",
    "    embedding_matrix = get_embedding(str(i[0])+'_'+str(i[1]))\n",
    "    np.save(str(i[0])+'_'+str(i[1])+'_emb_mtx_adv_userseq_user.npy',embedding_matrix)"
   ]
  },
  {
   "cell_type": "markdown",
   "metadata": {},
   "source": [
    "# input_adv"
   ]
  },
  {
   "cell_type": "code",
   "execution_count": 19,
   "metadata": {
    "ExecuteTime": {
     "end_time": "2020-09-26T10:30:12.415079Z",
     "start_time": "2020-09-26T10:30:12.411931Z"
    }
   },
   "outputs": [],
   "source": [
    "from tensorflow.keras.preprocessing.text import Tokenizer\n",
    "from tensorflow.keras.preprocessing.sequence import pad_sequences\n",
    "from gensim.models import Word2Vec, KeyedVectors\n",
    "import numpy as np\n",
    "from tqdm import tqdm\n",
    "from base import Cache\n"
   ]
  },
  {
   "cell_type": "code",
   "execution_count": 20,
   "metadata": {
    "ExecuteTime": {
     "end_time": "2020-09-26T10:30:12.426318Z",
     "start_time": "2020-09-26T10:30:12.416347Z"
    }
   },
   "outputs": [],
   "source": [
    "def input_w2v(f1_f2,all_data,f1):\n",
    "    feature_seq = all_data[[f1]].values.flatten().astype(str).tolist()\n",
    "\n",
    "    avg_f1 = Cache.reload_cache('CACHE_list_df_avg_adv_userseq_'+f1_f2+'.pkl')\n",
    "    feature_tokens = avg_f1[[1]].values.flatten().astype(str).tolist()\n",
    "    tokenizer = Tokenizer(num_words=len(feature_tokens)+1)\n",
    "    tokenizer.fit_on_texts(feature_tokens)\n",
    "    \n",
    "    npy_path = f1_f2\n",
    "    sequences = tokenizer.texts_to_sequences(feature_seq[:8672928])\n",
    "    x_train = pad_sequences(\n",
    "        sequences, maxlen=1, padding='post')\n",
    "    print(x_train.shape)\n",
    "    np.save(npy_path+'_adv_userseq_adv_train.npy', x_train)\n",
    "\n",
    "    sequences = tokenizer.texts_to_sequences(feature_seq[8672928:])\n",
    "    x_test = pad_sequences(\n",
    "        sequences, maxlen=1, padding='post') \n",
    "    print(x_test.shape)\n",
    "    np.save(npy_path+'_adv_userseq_adv_test.npy', x_test)\n"
   ]
  },
  {
   "cell_type": "code",
   "execution_count": 21,
   "metadata": {
    "ExecuteTime": {
     "end_time": "2020-09-26T11:26:05.835868Z",
     "start_time": "2020-09-26T10:30:12.428481Z"
    }
   },
   "outputs": [
    {
     "name": "stderr",
     "output_type": "stream",
     "text": [
      "[2020-09-26 18:30:13] - __init__.py[line:126] - INFO: Successfully Reload: /home/zhangqibot/proj/digix/zlh/stage2/cached_data/CACHE_data_sampling_pos1_neg5.pkl\n",
      "  0%|          | 0/35 [00:00<?, ?it/s][2020-09-26 18:30:20] - __init__.py[line:126] - INFO: Successfully Reload: /home/zhangqibot/proj/digix/zlh/stage2/cached_data/CACHE_list_df_avg_adv_userseq_task_id_age.pkl\n"
     ]
    },
    {
     "name": "stdout",
     "output_type": "stream",
     "text": [
      "(8672928, 1)\n",
      "(1000000, 1)\n"
     ]
    },
    {
     "name": "stderr",
     "output_type": "stream",
     "text": [
      "  3%|▎         | 1/35 [01:39<56:10, 99.14s/it][2020-09-26 18:31:57] - __init__.py[line:126] - INFO: Successfully Reload: /home/zhangqibot/proj/digix/zlh/stage2/cached_data/CACHE_list_df_avg_adv_userseq_task_id_city.pkl\n"
     ]
    },
    {
     "name": "stdout",
     "output_type": "stream",
     "text": [
      "(8672928, 1)\n"
     ]
    },
    {
     "name": "stderr",
     "output_type": "stream",
     "text": [
      "\r",
      "  6%|▌         | 2/35 [03:16<54:18, 98.73s/it]"
     ]
    },
    {
     "name": "stdout",
     "output_type": "stream",
     "text": [
      "(1000000, 1)\n"
     ]
    },
    {
     "name": "stderr",
     "output_type": "stream",
     "text": [
      "[2020-09-26 18:33:36] - __init__.py[line:126] - INFO: Successfully Reload: /home/zhangqibot/proj/digix/zlh/stage2/cached_data/CACHE_list_df_avg_adv_userseq_task_id_city_rank.pkl\n"
     ]
    },
    {
     "name": "stdout",
     "output_type": "stream",
     "text": [
      "(8672928, 1)\n"
     ]
    },
    {
     "name": "stderr",
     "output_type": "stream",
     "text": [
      "\r",
      "  9%|▊         | 3/35 [04:57<52:55, 99.24s/it]"
     ]
    },
    {
     "name": "stdout",
     "output_type": "stream",
     "text": [
      "(1000000, 1)\n"
     ]
    },
    {
     "name": "stderr",
     "output_type": "stream",
     "text": [
      "[2020-09-26 18:35:16] - __init__.py[line:126] - INFO: Successfully Reload: /home/zhangqibot/proj/digix/zlh/stage2/cached_data/CACHE_list_df_avg_adv_userseq_task_id_device_name.pkl\n"
     ]
    },
    {
     "name": "stdout",
     "output_type": "stream",
     "text": [
      "(8672928, 1)\n"
     ]
    },
    {
     "name": "stderr",
     "output_type": "stream",
     "text": [
      "\r",
      " 11%|█▏        | 4/35 [06:34<50:53, 98.49s/it]"
     ]
    },
    {
     "name": "stdout",
     "output_type": "stream",
     "text": [
      "(1000000, 1)\n"
     ]
    },
    {
     "name": "stderr",
     "output_type": "stream",
     "text": [
      "[2020-09-26 18:36:52] - __init__.py[line:126] - INFO: Successfully Reload: /home/zhangqibot/proj/digix/zlh/stage2/cached_data/CACHE_list_df_avg_adv_userseq_task_id_career.pkl\n"
     ]
    },
    {
     "name": "stdout",
     "output_type": "stream",
     "text": [
      "(8672928, 1)\n",
      "(1000000, 1)\n"
     ]
    },
    {
     "name": "stderr",
     "output_type": "stream",
     "text": [
      " 14%|█▍        | 5/35 [08:12<49:14, 98.49s/it][2020-09-26 18:38:31] - __init__.py[line:126] - INFO: Successfully Reload: /home/zhangqibot/proj/digix/zlh/stage2/cached_data/CACHE_list_df_avg_adv_userseq_task_id_gender.pkl\n"
     ]
    },
    {
     "name": "stdout",
     "output_type": "stream",
     "text": [
      "(8672928, 1)\n",
      "(1000000, 1)\n"
     ]
    },
    {
     "name": "stderr",
     "output_type": "stream",
     "text": [
      " 17%|█▋        | 6/35 [09:53<47:55, 99.15s/it][2020-09-26 18:40:13] - __init__.py[line:126] - INFO: Successfully Reload: /home/zhangqibot/proj/digix/zlh/stage2/cached_data/CACHE_list_df_avg_adv_userseq_task_id_residence.pkl\n"
     ]
    },
    {
     "name": "stdout",
     "output_type": "stream",
     "text": [
      "(8672928, 1)\n",
      "(1000000, 1)\n"
     ]
    },
    {
     "name": "stderr",
     "output_type": "stream",
     "text": [
      " 20%|██        | 7/35 [11:32<46:20, 99.31s/it][2020-09-26 18:41:53] - __init__.py[line:126] - INFO: Successfully Reload: /home/zhangqibot/proj/digix/zlh/stage2/cached_data/CACHE_list_df_avg_adv_userseq_adv_id_age.pkl\n"
     ]
    },
    {
     "name": "stdout",
     "output_type": "stream",
     "text": [
      "(8672928, 1)\n",
      "(1000000, 1)\n"
     ]
    },
    {
     "name": "stderr",
     "output_type": "stream",
     "text": [
      " 23%|██▎       | 8/35 [13:14<44:58, 99.94s/it][2020-09-26 18:43:33] - __init__.py[line:126] - INFO: Successfully Reload: /home/zhangqibot/proj/digix/zlh/stage2/cached_data/CACHE_list_df_avg_adv_userseq_adv_id_city.pkl\n"
     ]
    },
    {
     "name": "stdout",
     "output_type": "stream",
     "text": [
      "(8672928, 1)\n",
      "(1000000, 1)\n"
     ]
    },
    {
     "name": "stderr",
     "output_type": "stream",
     "text": [
      " 26%|██▌       | 9/35 [14:49<42:43, 98.60s/it][2020-09-26 18:45:08] - __init__.py[line:126] - INFO: Successfully Reload: /home/zhangqibot/proj/digix/zlh/stage2/cached_data/CACHE_list_df_avg_adv_userseq_adv_id_city_rank.pkl\n"
     ]
    },
    {
     "name": "stdout",
     "output_type": "stream",
     "text": [
      "(8672928, 1)\n",
      "(1000000, 1)\n"
     ]
    },
    {
     "name": "stderr",
     "output_type": "stream",
     "text": [
      " 29%|██▊       | 10/35 [16:26<40:54, 98.17s/it][2020-09-26 18:46:45] - __init__.py[line:126] - INFO: Successfully Reload: /home/zhangqibot/proj/digix/zlh/stage2/cached_data/CACHE_list_df_avg_adv_userseq_adv_id_device_name.pkl\n"
     ]
    },
    {
     "name": "stdout",
     "output_type": "stream",
     "text": [
      "(8672928, 1)\n",
      "(1000000, 1)\n"
     ]
    },
    {
     "name": "stderr",
     "output_type": "stream",
     "text": [
      " 31%|███▏      | 11/35 [18:05<39:21, 98.39s/it][2020-09-26 18:48:24] - __init__.py[line:126] - INFO: Successfully Reload: /home/zhangqibot/proj/digix/zlh/stage2/cached_data/CACHE_list_df_avg_adv_userseq_adv_id_career.pkl\n"
     ]
    },
    {
     "name": "stdout",
     "output_type": "stream",
     "text": [
      "(8672928, 1)\n",
      "(1000000, 1)\n"
     ]
    },
    {
     "name": "stderr",
     "output_type": "stream",
     "text": [
      " 34%|███▍      | 12/35 [19:43<37:39, 98.25s/it][2020-09-26 18:50:03] - __init__.py[line:126] - INFO: Successfully Reload: /home/zhangqibot/proj/digix/zlh/stage2/cached_data/CACHE_list_df_avg_adv_userseq_adv_id_gender.pkl\n"
     ]
    },
    {
     "name": "stdout",
     "output_type": "stream",
     "text": [
      "(8672928, 1)\n",
      "(1000000, 1)\n"
     ]
    },
    {
     "name": "stderr",
     "output_type": "stream",
     "text": [
      " 37%|███▋      | 13/35 [21:22<36:05, 98.45s/it][2020-09-26 18:51:41] - __init__.py[line:126] - INFO: Successfully Reload: /home/zhangqibot/proj/digix/zlh/stage2/cached_data/CACHE_list_df_avg_adv_userseq_adv_id_residence.pkl\n"
     ]
    },
    {
     "name": "stdout",
     "output_type": "stream",
     "text": [
      "(8672928, 1)\n",
      "(1000000, 1)\n"
     ]
    },
    {
     "name": "stderr",
     "output_type": "stream",
     "text": [
      " 40%|████      | 14/35 [23:08<35:11, 100.53s/it][2020-09-26 18:53:25] - __init__.py[line:126] - INFO: Successfully Reload: /home/zhangqibot/proj/digix/zlh/stage2/cached_data/CACHE_list_df_avg_adv_userseq_creat_type_cd_age.pkl\n"
     ]
    },
    {
     "name": "stdout",
     "output_type": "stream",
     "text": [
      "(8672928, 1)\n"
     ]
    },
    {
     "name": "stderr",
     "output_type": "stream",
     "text": [
      "\r",
      " 43%|████▎     | 15/35 [24:35<32:10, 96.54s/it] "
     ]
    },
    {
     "name": "stdout",
     "output_type": "stream",
     "text": [
      "(1000000, 1)\n"
     ]
    },
    {
     "name": "stderr",
     "output_type": "stream",
     "text": [
      "[2020-09-26 18:54:53] - __init__.py[line:126] - INFO: Successfully Reload: /home/zhangqibot/proj/digix/zlh/stage2/cached_data/CACHE_list_df_avg_adv_userseq_creat_type_cd_city.pkl\n"
     ]
    },
    {
     "name": "stdout",
     "output_type": "stream",
     "text": [
      "(8672928, 1)\n"
     ]
    },
    {
     "name": "stderr",
     "output_type": "stream",
     "text": [
      "\r",
      " 46%|████▌     | 16/35 [26:08<30:13, 95.42s/it]"
     ]
    },
    {
     "name": "stdout",
     "output_type": "stream",
     "text": [
      "(1000000, 1)\n"
     ]
    },
    {
     "name": "stderr",
     "output_type": "stream",
     "text": [
      "[2020-09-26 18:56:25] - __init__.py[line:126] - INFO: Successfully Reload: /home/zhangqibot/proj/digix/zlh/stage2/cached_data/CACHE_list_df_avg_adv_userseq_creat_type_cd_city_rank.pkl\n"
     ]
    },
    {
     "name": "stdout",
     "output_type": "stream",
     "text": [
      "(8672928, 1)\n"
     ]
    },
    {
     "name": "stderr",
     "output_type": "stream",
     "text": [
      "\r",
      " 49%|████▊     | 17/35 [27:42<28:30, 95.01s/it]"
     ]
    },
    {
     "name": "stdout",
     "output_type": "stream",
     "text": [
      "(1000000, 1)\n"
     ]
    },
    {
     "name": "stderr",
     "output_type": "stream",
     "text": [
      "[2020-09-26 18:57:59] - __init__.py[line:126] - INFO: Successfully Reload: /home/zhangqibot/proj/digix/zlh/stage2/cached_data/CACHE_list_df_avg_adv_userseq_creat_type_cd_device_name.pkl\n"
     ]
    },
    {
     "name": "stdout",
     "output_type": "stream",
     "text": [
      "(8672928, 1)\n"
     ]
    },
    {
     "name": "stderr",
     "output_type": "stream",
     "text": [
      "\r",
      " 51%|█████▏    | 18/35 [29:10<26:19, 92.90s/it]"
     ]
    },
    {
     "name": "stdout",
     "output_type": "stream",
     "text": [
      "(1000000, 1)\n"
     ]
    },
    {
     "name": "stderr",
     "output_type": "stream",
     "text": [
      "[2020-09-26 18:59:27] - __init__.py[line:126] - INFO: Successfully Reload: /home/zhangqibot/proj/digix/zlh/stage2/cached_data/CACHE_list_df_avg_adv_userseq_creat_type_cd_career.pkl\n"
     ]
    },
    {
     "name": "stdout",
     "output_type": "stream",
     "text": [
      "(8672928, 1)\n"
     ]
    },
    {
     "name": "stderr",
     "output_type": "stream",
     "text": [
      "\r",
      " 54%|█████▍    | 19/35 [30:40<24:33, 92.07s/it]"
     ]
    },
    {
     "name": "stdout",
     "output_type": "stream",
     "text": [
      "(1000000, 1)\n"
     ]
    },
    {
     "name": "stderr",
     "output_type": "stream",
     "text": [
      "[2020-09-26 19:00:57] - __init__.py[line:126] - INFO: Successfully Reload: /home/zhangqibot/proj/digix/zlh/stage2/cached_data/CACHE_list_df_avg_adv_userseq_creat_type_cd_gender.pkl\n"
     ]
    },
    {
     "name": "stdout",
     "output_type": "stream",
     "text": [
      "(8672928, 1)\n"
     ]
    },
    {
     "name": "stderr",
     "output_type": "stream",
     "text": [
      "\r",
      " 57%|█████▋    | 20/35 [32:10<22:52, 91.52s/it]"
     ]
    },
    {
     "name": "stdout",
     "output_type": "stream",
     "text": [
      "(1000000, 1)\n"
     ]
    },
    {
     "name": "stderr",
     "output_type": "stream",
     "text": [
      "[2020-09-26 19:02:28] - __init__.py[line:126] - INFO: Successfully Reload: /home/zhangqibot/proj/digix/zlh/stage2/cached_data/CACHE_list_df_avg_adv_userseq_creat_type_cd_residence.pkl\n"
     ]
    },
    {
     "name": "stdout",
     "output_type": "stream",
     "text": [
      "(8672928, 1)\n"
     ]
    },
    {
     "name": "stderr",
     "output_type": "stream",
     "text": [
      "\r",
      " 60%|██████    | 21/35 [33:42<21:23, 91.66s/it]"
     ]
    },
    {
     "name": "stdout",
     "output_type": "stream",
     "text": [
      "(1000000, 1)\n"
     ]
    },
    {
     "name": "stderr",
     "output_type": "stream",
     "text": [
      "[2020-09-26 19:04:00] - __init__.py[line:126] - INFO: Successfully Reload: /home/zhangqibot/proj/digix/zlh/stage2/cached_data/CACHE_list_df_avg_adv_userseq_indu_name_age.pkl\n"
     ]
    },
    {
     "name": "stdout",
     "output_type": "stream",
     "text": [
      "(8672928, 1)\n",
      "(1000000, 1)\n"
     ]
    },
    {
     "name": "stderr",
     "output_type": "stream",
     "text": [
      " 63%|██████▎   | 22/35 [35:16<19:59, 92.25s/it][2020-09-26 19:05:34] - __init__.py[line:126] - INFO: Successfully Reload: /home/zhangqibot/proj/digix/zlh/stage2/cached_data/CACHE_list_df_avg_adv_userseq_indu_name_city.pkl\n"
     ]
    },
    {
     "name": "stdout",
     "output_type": "stream",
     "text": [
      "(8672928, 1)\n",
      "(1000000, 1)\n"
     ]
    },
    {
     "name": "stderr",
     "output_type": "stream",
     "text": [
      " 66%|██████▌   | 23/35 [36:49<18:32, 92.67s/it][2020-09-26 19:07:07] - __init__.py[line:126] - INFO: Successfully Reload: /home/zhangqibot/proj/digix/zlh/stage2/cached_data/CACHE_list_df_avg_adv_userseq_indu_name_city_rank.pkl\n"
     ]
    },
    {
     "name": "stdout",
     "output_type": "stream",
     "text": [
      "(8672928, 1)\n",
      "(1000000, 1)\n"
     ]
    },
    {
     "name": "stderr",
     "output_type": "stream",
     "text": [
      " 69%|██████▊   | 24/35 [38:27<17:16, 94.20s/it][2020-09-26 19:08:45] - __init__.py[line:126] - INFO: Successfully Reload: /home/zhangqibot/proj/digix/zlh/stage2/cached_data/CACHE_list_df_avg_adv_userseq_indu_name_device_name.pkl\n"
     ]
    },
    {
     "name": "stdout",
     "output_type": "stream",
     "text": [
      "(8672928, 1)\n",
      "(1000000, 1)\n"
     ]
    },
    {
     "name": "stderr",
     "output_type": "stream",
     "text": [
      " 71%|███████▏  | 25/35 [40:07<15:58, 95.88s/it][2020-09-26 19:10:25] - __init__.py[line:126] - INFO: Successfully Reload: /home/zhangqibot/proj/digix/zlh/stage2/cached_data/CACHE_list_df_avg_adv_userseq_indu_name_career.pkl\n"
     ]
    },
    {
     "name": "stdout",
     "output_type": "stream",
     "text": [
      "(8672928, 1)\n",
      "(1000000, 1)\n"
     ]
    },
    {
     "name": "stderr",
     "output_type": "stream",
     "text": [
      " 74%|███████▍  | 26/35 [41:43<14:22, 95.83s/it][2020-09-26 19:12:01] - __init__.py[line:126] - INFO: Successfully Reload: /home/zhangqibot/proj/digix/zlh/stage2/cached_data/CACHE_list_df_avg_adv_userseq_indu_name_gender.pkl\n"
     ]
    },
    {
     "name": "stdout",
     "output_type": "stream",
     "text": [
      "(8672928, 1)\n",
      "(1000000, 1)\n"
     ]
    },
    {
     "name": "stderr",
     "output_type": "stream",
     "text": [
      " 77%|███████▋  | 27/35 [43:18<12:45, 95.69s/it][2020-09-26 19:13:36] - __init__.py[line:126] - INFO: Successfully Reload: /home/zhangqibot/proj/digix/zlh/stage2/cached_data/CACHE_list_df_avg_adv_userseq_indu_name_residence.pkl\n"
     ]
    },
    {
     "name": "stdout",
     "output_type": "stream",
     "text": [
      "(8672928, 1)\n",
      "(1000000, 1)\n"
     ]
    },
    {
     "name": "stderr",
     "output_type": "stream",
     "text": [
      " 80%|████████  | 28/35 [44:57<11:16, 96.64s/it][2020-09-26 19:15:15] - __init__.py[line:126] - INFO: Successfully Reload: /home/zhangqibot/proj/digix/zlh/stage2/cached_data/CACHE_list_df_avg_adv_userseq_adv_prim_id_age.pkl\n"
     ]
    },
    {
     "name": "stdout",
     "output_type": "stream",
     "text": [
      "(8672928, 1)\n",
      "(1000000, 1)\n"
     ]
    },
    {
     "name": "stderr",
     "output_type": "stream",
     "text": [
      " 83%|████████▎ | 29/35 [46:31<09:34, 95.83s/it][2020-09-26 19:16:49] - __init__.py[line:126] - INFO: Successfully Reload: /home/zhangqibot/proj/digix/zlh/stage2/cached_data/CACHE_list_df_avg_adv_userseq_adv_prim_id_city.pkl\n"
     ]
    },
    {
     "name": "stdout",
     "output_type": "stream",
     "text": [
      "(8672928, 1)\n",
      "(1000000, 1)\n"
     ]
    },
    {
     "name": "stderr",
     "output_type": "stream",
     "text": [
      " 86%|████████▌ | 30/35 [48:09<08:02, 96.53s/it][2020-09-26 19:18:27] - __init__.py[line:126] - INFO: Successfully Reload: /home/zhangqibot/proj/digix/zlh/stage2/cached_data/CACHE_list_df_avg_adv_userseq_adv_prim_id_city_rank.pkl\n"
     ]
    },
    {
     "name": "stdout",
     "output_type": "stream",
     "text": [
      "(8672928, 1)\n",
      "(1000000, 1)\n"
     ]
    },
    {
     "name": "stderr",
     "output_type": "stream",
     "text": [
      " 89%|████████▊ | 31/35 [49:42<06:22, 95.64s/it][2020-09-26 19:20:00] - __init__.py[line:126] - INFO: Successfully Reload: /home/zhangqibot/proj/digix/zlh/stage2/cached_data/CACHE_list_df_avg_adv_userseq_adv_prim_id_device_name.pkl\n"
     ]
    },
    {
     "name": "stdout",
     "output_type": "stream",
     "text": [
      "(8672928, 1)\n",
      "(1000000, 1)\n"
     ]
    },
    {
     "name": "stderr",
     "output_type": "stream",
     "text": [
      " 91%|█████████▏| 32/35 [51:16<04:44, 94.89s/it][2020-09-26 19:21:33] - __init__.py[line:126] - INFO: Successfully Reload: /home/zhangqibot/proj/digix/zlh/stage2/cached_data/CACHE_list_df_avg_adv_userseq_adv_prim_id_career.pkl\n"
     ]
    },
    {
     "name": "stdout",
     "output_type": "stream",
     "text": [
      "(8672928, 1)\n",
      "(1000000, 1)\n"
     ]
    },
    {
     "name": "stderr",
     "output_type": "stream",
     "text": [
      " 94%|█████████▍| 33/35 [52:50<03:09, 94.88s/it][2020-09-26 19:23:08] - __init__.py[line:126] - INFO: Successfully Reload: /home/zhangqibot/proj/digix/zlh/stage2/cached_data/CACHE_list_df_avg_adv_userseq_adv_prim_id_gender.pkl\n"
     ]
    },
    {
     "name": "stdout",
     "output_type": "stream",
     "text": [
      "(8672928, 1)\n",
      "(1000000, 1)\n"
     ]
    },
    {
     "name": "stderr",
     "output_type": "stream",
     "text": [
      " 97%|█████████▋| 34/35 [54:21<01:33, 93.61s/it][2020-09-26 19:24:39] - __init__.py[line:126] - INFO: Successfully Reload: /home/zhangqibot/proj/digix/zlh/stage2/cached_data/CACHE_list_df_avg_adv_userseq_adv_prim_id_residence.pkl\n"
     ]
    },
    {
     "name": "stdout",
     "output_type": "stream",
     "text": [
      "(8672928, 1)\n",
      "(1000000, 1)\n"
     ]
    },
    {
     "name": "stderr",
     "output_type": "stream",
     "text": [
      "100%|██████████| 35/35 [55:52<00:00, 95.79s/it]\n"
     ]
    }
   ],
   "source": [
    "\n",
    "f1_f2_list = [['task_id','age'],['task_id','city'],['task_id','city_rank'],['task_id','device_name'],['task_id','career'],['task_id','gender'],\n",
    "              ['task_id','residence'],['adv_id','age'],['adv_id','city'],['adv_id','city_rank'],['adv_id','device_name'],['adv_id','career'],\n",
    "              ['adv_id','gender'],['adv_id','residence'],['creat_type_cd','age'],['creat_type_cd','city'],['creat_type_cd','city_rank'],\n",
    "              ['creat_type_cd','device_name'],['creat_type_cd','career'],['creat_type_cd','gender'],['creat_type_cd','residence'],['indu_name','age'],\n",
    "              ['indu_name','city'],['indu_name','city_rank'],['indu_name','device_name'],['indu_name','career'],['indu_name','gender'],\n",
    "              ['indu_name','residence'],['adv_prim_id','age'],['adv_prim_id','city'],['adv_prim_id','city_rank'],['adv_prim_id','device_name'],\n",
    "              ['adv_prim_id','career'],['adv_prim_id','gender'],['adv_prim_id','residence']]\n",
    "data = Cache.reload_cache('CACHE_data_sampling_pos1_neg5.pkl')\n",
    "for i in tqdm(f1_f2_list):\n",
    "    input_w2v(str(i[0])+'_'+str(i[1]),data,str(i[0]))"
   ]
  },
  {
   "cell_type": "markdown",
   "metadata": {},
   "source": [
    "# input_user"
   ]
  },
  {
   "cell_type": "code",
   "execution_count": 22,
   "metadata": {
    "ExecuteTime": {
     "end_time": "2020-09-26T11:26:05.841215Z",
     "start_time": "2020-09-26T11:26:05.837598Z"
    }
   },
   "outputs": [],
   "source": [
    "from tensorflow.keras.preprocessing.text import Tokenizer\n",
    "from tensorflow.keras.preprocessing.sequence import pad_sequences\n",
    "from gensim.models import Word2Vec, KeyedVectors\n",
    "import numpy as np\n",
    "from tqdm import tqdm\n",
    "from base import Cache\n"
   ]
  },
  {
   "cell_type": "code",
   "execution_count": 23,
   "metadata": {
    "ExecuteTime": {
     "end_time": "2020-09-26T11:26:05.857176Z",
     "start_time": "2020-09-26T11:26:05.842991Z"
    }
   },
   "outputs": [],
   "source": [
    "def input_w2v(f1_f2,all_data,f2):\n",
    "    feature_seq = all_data[[f2]].values.flatten().astype(str).tolist()\n",
    "\n",
    "    path_kv = 'adv_userseq_'+f1_f2+'_word2vec.kv'\n",
    "    wv = KeyedVectors.load(path_kv, mmap='r')\n",
    "    feature_tokens = list(wv.vocab.keys())\n",
    "    \n",
    "    tokenizer = Tokenizer(num_words=len(feature_tokens)+1)\n",
    "    tokenizer.fit_on_texts(feature_tokens)\n",
    "    \n",
    "    npy_path = f1_f2\n",
    "    sequences = tokenizer.texts_to_sequences(feature_seq[:8672928])\n",
    "    x_train = pad_sequences(\n",
    "        sequences, maxlen=1, padding='post')\n",
    "    print(x_train.shape)\n",
    "    np.save(npy_path+'_adv_userseq_user_train.npy', x_train)\n",
    "\n",
    "    sequences = tokenizer.texts_to_sequences(feature_seq[8672928:])\n",
    "    x_test = pad_sequences(\n",
    "        sequences, maxlen=1, padding='post') \n",
    "    print(x_test.shape)\n",
    "    np.save(npy_path+'_adv_userseq_user_test.npy', x_test)\n"
   ]
  },
  {
   "cell_type": "code",
   "execution_count": 24,
   "metadata": {
    "ExecuteTime": {
     "end_time": "2020-09-26T12:21:46.089505Z",
     "start_time": "2020-09-26T11:26:05.858968Z"
    }
   },
   "outputs": [
    {
     "name": "stderr",
     "output_type": "stream",
     "text": [
      "[2020-09-26 19:26:06] - __init__.py[line:126] - INFO: Successfully Reload: /home/zhangqibot/proj/digix/zlh/stage2/cached_data/CACHE_data_sampling_pos1_neg5.pkl\n",
      "  0%|          | 0/35 [00:00<?, ?it/s][2020-09-26 19:26:11] - utils.py[line:431] - INFO: loading Word2VecKeyedVectors object from adv_userseq_task_id_age_word2vec.kv\n",
      "[2020-09-26 19:26:11] - utils.py[line:503] - INFO: setting ignored attribute vectors_norm to None\n",
      "[2020-09-26 19:26:11] - utils.py[line:437] - INFO: loaded adv_userseq_task_id_age_word2vec.kv\n"
     ]
    },
    {
     "name": "stdout",
     "output_type": "stream",
     "text": [
      "(8672928, 1)\n"
     ]
    },
    {
     "name": "stderr",
     "output_type": "stream",
     "text": [
      "\r",
      "  3%|▎         | 1/35 [01:25<48:40, 85.90s/it]"
     ]
    },
    {
     "name": "stdout",
     "output_type": "stream",
     "text": [
      "(1000000, 1)\n"
     ]
    },
    {
     "name": "stderr",
     "output_type": "stream",
     "text": [
      "[2020-09-26 19:27:37] - utils.py[line:431] - INFO: loading Word2VecKeyedVectors object from adv_userseq_task_id_city_word2vec.kv\n",
      "[2020-09-26 19:27:37] - utils.py[line:503] - INFO: setting ignored attribute vectors_norm to None\n",
      "[2020-09-26 19:27:37] - utils.py[line:437] - INFO: loaded adv_userseq_task_id_city_word2vec.kv\n"
     ]
    },
    {
     "name": "stdout",
     "output_type": "stream",
     "text": [
      "(8672928, 1)\n",
      "(1000000, 1)\n"
     ]
    },
    {
     "name": "stderr",
     "output_type": "stream",
     "text": [
      "  6%|▌         | 2/35 [03:01<48:50, 88.80s/it][2020-09-26 19:29:13] - utils.py[line:431] - INFO: loading Word2VecKeyedVectors object from adv_userseq_task_id_city_rank_word2vec.kv\n",
      "[2020-09-26 19:29:13] - utils.py[line:503] - INFO: setting ignored attribute vectors_norm to None\n",
      "[2020-09-26 19:29:13] - utils.py[line:437] - INFO: loaded adv_userseq_task_id_city_rank_word2vec.kv\n"
     ]
    },
    {
     "name": "stdout",
     "output_type": "stream",
     "text": [
      "(8672928, 1)\n"
     ]
    },
    {
     "name": "stderr",
     "output_type": "stream",
     "text": [
      "\r",
      "  9%|▊         | 3/35 [04:37<48:27, 90.86s/it]"
     ]
    },
    {
     "name": "stdout",
     "output_type": "stream",
     "text": [
      "(1000000, 1)\n"
     ]
    },
    {
     "name": "stderr",
     "output_type": "stream",
     "text": [
      "[2020-09-26 19:30:48] - utils.py[line:431] - INFO: loading Word2VecKeyedVectors object from adv_userseq_task_id_device_name_word2vec.kv\n",
      "[2020-09-26 19:30:48] - utils.py[line:503] - INFO: setting ignored attribute vectors_norm to None\n",
      "[2020-09-26 19:30:48] - utils.py[line:437] - INFO: loaded adv_userseq_task_id_device_name_word2vec.kv\n"
     ]
    },
    {
     "name": "stdout",
     "output_type": "stream",
     "text": [
      "(8672928, 1)\n",
      "(1000000, 1)\n"
     ]
    },
    {
     "name": "stderr",
     "output_type": "stream",
     "text": [
      " 11%|█▏        | 4/35 [06:20<48:50, 94.53s/it][2020-09-26 19:32:31] - utils.py[line:431] - INFO: loading Word2VecKeyedVectors object from adv_userseq_task_id_career_word2vec.kv\n",
      "[2020-09-26 19:32:31] - utils.py[line:503] - INFO: setting ignored attribute vectors_norm to None\n",
      "[2020-09-26 19:32:31] - utils.py[line:437] - INFO: loaded adv_userseq_task_id_career_word2vec.kv\n"
     ]
    },
    {
     "name": "stdout",
     "output_type": "stream",
     "text": [
      "(8672928, 1)\n"
     ]
    },
    {
     "name": "stderr",
     "output_type": "stream",
     "text": [
      "\r",
      " 14%|█▍        | 5/35 [07:57<47:37, 95.25s/it]"
     ]
    },
    {
     "name": "stdout",
     "output_type": "stream",
     "text": [
      "(1000000, 1)\n"
     ]
    },
    {
     "name": "stderr",
     "output_type": "stream",
     "text": [
      "[2020-09-26 19:34:08] - utils.py[line:431] - INFO: loading Word2VecKeyedVectors object from adv_userseq_task_id_gender_word2vec.kv\n",
      "[2020-09-26 19:34:08] - utils.py[line:503] - INFO: setting ignored attribute vectors_norm to None\n",
      "[2020-09-26 19:34:08] - utils.py[line:437] - INFO: loaded adv_userseq_task_id_gender_word2vec.kv\n"
     ]
    },
    {
     "name": "stdout",
     "output_type": "stream",
     "text": [
      "(8672928, 1)\n"
     ]
    },
    {
     "name": "stderr",
     "output_type": "stream",
     "text": [
      "\r",
      " 17%|█▋        | 6/35 [09:36<46:39, 96.55s/it]"
     ]
    },
    {
     "name": "stdout",
     "output_type": "stream",
     "text": [
      "(1000000, 1)\n"
     ]
    },
    {
     "name": "stderr",
     "output_type": "stream",
     "text": [
      "[2020-09-26 19:35:48] - utils.py[line:431] - INFO: loading Word2VecKeyedVectors object from adv_userseq_task_id_residence_word2vec.kv\n",
      "[2020-09-26 19:35:48] - utils.py[line:503] - INFO: setting ignored attribute vectors_norm to None\n",
      "[2020-09-26 19:35:48] - utils.py[line:437] - INFO: loaded adv_userseq_task_id_residence_word2vec.kv\n"
     ]
    },
    {
     "name": "stdout",
     "output_type": "stream",
     "text": [
      "(8672928, 1)\n",
      "(1000000, 1)\n"
     ]
    },
    {
     "name": "stderr",
     "output_type": "stream",
     "text": [
      " 20%|██        | 7/35 [11:19<45:54, 98.39s/it][2020-09-26 19:37:30] - utils.py[line:431] - INFO: loading Word2VecKeyedVectors object from adv_userseq_adv_id_age_word2vec.kv\n",
      "[2020-09-26 19:37:30] - utils.py[line:503] - INFO: setting ignored attribute vectors_norm to None\n",
      "[2020-09-26 19:37:30] - utils.py[line:437] - INFO: loaded adv_userseq_adv_id_age_word2vec.kv\n"
     ]
    },
    {
     "name": "stdout",
     "output_type": "stream",
     "text": [
      "(8672928, 1)\n"
     ]
    },
    {
     "name": "stderr",
     "output_type": "stream",
     "text": [
      "\r",
      " 23%|██▎       | 8/35 [12:57<44:13, 98.27s/it]"
     ]
    },
    {
     "name": "stdout",
     "output_type": "stream",
     "text": [
      "(1000000, 1)\n"
     ]
    },
    {
     "name": "stderr",
     "output_type": "stream",
     "text": [
      "[2020-09-26 19:39:09] - utils.py[line:431] - INFO: loading Word2VecKeyedVectors object from adv_userseq_adv_id_city_word2vec.kv\n",
      "[2020-09-26 19:39:10] - utils.py[line:503] - INFO: setting ignored attribute vectors_norm to None\n",
      "[2020-09-26 19:39:10] - utils.py[line:437] - INFO: loaded adv_userseq_adv_id_city_word2vec.kv\n"
     ]
    },
    {
     "name": "stdout",
     "output_type": "stream",
     "text": [
      "(8672928, 1)\n",
      "(1000000, 1)\n"
     ]
    },
    {
     "name": "stderr",
     "output_type": "stream",
     "text": [
      " 26%|██▌       | 9/35 [14:41<43:21, 100.08s/it][2020-09-26 19:40:52] - utils.py[line:431] - INFO: loading Word2VecKeyedVectors object from adv_userseq_adv_id_city_rank_word2vec.kv\n",
      "[2020-09-26 19:40:52] - utils.py[line:503] - INFO: setting ignored attribute vectors_norm to None\n",
      "[2020-09-26 19:40:52] - utils.py[line:437] - INFO: loaded adv_userseq_adv_id_city_rank_word2vec.kv\n"
     ]
    },
    {
     "name": "stdout",
     "output_type": "stream",
     "text": [
      "(8672928, 1)\n"
     ]
    },
    {
     "name": "stderr",
     "output_type": "stream",
     "text": [
      "\r",
      " 29%|██▊       | 10/35 [16:17<41:09, 98.76s/it]"
     ]
    },
    {
     "name": "stdout",
     "output_type": "stream",
     "text": [
      "(1000000, 1)\n"
     ]
    },
    {
     "name": "stderr",
     "output_type": "stream",
     "text": [
      "[2020-09-26 19:42:29] - utils.py[line:431] - INFO: loading Word2VecKeyedVectors object from adv_userseq_adv_id_device_name_word2vec.kv\n",
      "[2020-09-26 19:42:29] - utils.py[line:503] - INFO: setting ignored attribute vectors_norm to None\n",
      "[2020-09-26 19:42:29] - utils.py[line:437] - INFO: loaded adv_userseq_adv_id_device_name_word2vec.kv\n"
     ]
    },
    {
     "name": "stdout",
     "output_type": "stream",
     "text": [
      "(8672928, 1)\n",
      "(1000000, 1)\n"
     ]
    },
    {
     "name": "stderr",
     "output_type": "stream",
     "text": [
      " 31%|███▏      | 11/35 [17:57<39:43, 99.31s/it][2020-09-26 19:44:09] - utils.py[line:431] - INFO: loading Word2VecKeyedVectors object from adv_userseq_adv_id_career_word2vec.kv\n",
      "[2020-09-26 19:44:09] - utils.py[line:503] - INFO: setting ignored attribute vectors_norm to None\n",
      "[2020-09-26 19:44:09] - utils.py[line:437] - INFO: loaded adv_userseq_adv_id_career_word2vec.kv\n"
     ]
    },
    {
     "name": "stdout",
     "output_type": "stream",
     "text": [
      "(8672928, 1)\n"
     ]
    },
    {
     "name": "stderr",
     "output_type": "stream",
     "text": [
      "\r",
      " 34%|███▍      | 12/35 [19:32<37:28, 97.75s/it]"
     ]
    },
    {
     "name": "stdout",
     "output_type": "stream",
     "text": [
      "(1000000, 1)\n"
     ]
    },
    {
     "name": "stderr",
     "output_type": "stream",
     "text": [
      "[2020-09-26 19:45:43] - utils.py[line:431] - INFO: loading Word2VecKeyedVectors object from adv_userseq_adv_id_gender_word2vec.kv\n",
      "[2020-09-26 19:45:43] - utils.py[line:503] - INFO: setting ignored attribute vectors_norm to None\n",
      "[2020-09-26 19:45:43] - utils.py[line:437] - INFO: loaded adv_userseq_adv_id_gender_word2vec.kv\n"
     ]
    },
    {
     "name": "stdout",
     "output_type": "stream",
     "text": [
      "(8672928, 1)\n"
     ]
    },
    {
     "name": "stderr",
     "output_type": "stream",
     "text": [
      "\r",
      " 37%|███▋      | 13/35 [21:14<36:24, 99.29s/it]"
     ]
    },
    {
     "name": "stdout",
     "output_type": "stream",
     "text": [
      "(1000000, 1)\n"
     ]
    },
    {
     "name": "stderr",
     "output_type": "stream",
     "text": [
      "[2020-09-26 19:47:26] - utils.py[line:431] - INFO: loading Word2VecKeyedVectors object from adv_userseq_adv_id_residence_word2vec.kv\n",
      "[2020-09-26 19:47:26] - utils.py[line:503] - INFO: setting ignored attribute vectors_norm to None\n",
      "[2020-09-26 19:47:26] - utils.py[line:437] - INFO: loaded adv_userseq_adv_id_residence_word2vec.kv\n"
     ]
    },
    {
     "name": "stdout",
     "output_type": "stream",
     "text": [
      "(8672928, 1)\n",
      "(1000000, 1)\n"
     ]
    },
    {
     "name": "stderr",
     "output_type": "stream",
     "text": [
      " 40%|████      | 14/35 [23:02<35:38, 101.84s/it][2020-09-26 19:49:15] - utils.py[line:431] - INFO: loading Word2VecKeyedVectors object from adv_userseq_creat_type_cd_age_word2vec.kv\n",
      "[2020-09-26 19:49:15] - utils.py[line:503] - INFO: setting ignored attribute vectors_norm to None\n",
      "[2020-09-26 19:49:15] - utils.py[line:437] - INFO: loaded adv_userseq_creat_type_cd_age_word2vec.kv\n"
     ]
    },
    {
     "name": "stdout",
     "output_type": "stream",
     "text": [
      "(8672928, 1)\n"
     ]
    },
    {
     "name": "stderr",
     "output_type": "stream",
     "text": [
      "\r",
      " 43%|████▎     | 15/35 [24:39<33:27, 100.36s/it]"
     ]
    },
    {
     "name": "stdout",
     "output_type": "stream",
     "text": [
      "(1000000, 1)\n"
     ]
    },
    {
     "name": "stderr",
     "output_type": "stream",
     "text": [
      "[2020-09-26 19:50:51] - utils.py[line:431] - INFO: loading Word2VecKeyedVectors object from adv_userseq_creat_type_cd_city_word2vec.kv\n",
      "[2020-09-26 19:50:52] - utils.py[line:503] - INFO: setting ignored attribute vectors_norm to None\n",
      "[2020-09-26 19:50:52] - utils.py[line:437] - INFO: loaded adv_userseq_creat_type_cd_city_word2vec.kv\n"
     ]
    },
    {
     "name": "stdout",
     "output_type": "stream",
     "text": [
      "(8672928, 1)\n",
      "(1000000, 1)\n"
     ]
    },
    {
     "name": "stderr",
     "output_type": "stream",
     "text": [
      " 46%|████▌     | 16/35 [26:21<31:54, 100.74s/it][2020-09-26 19:52:32] - utils.py[line:431] - INFO: loading Word2VecKeyedVectors object from adv_userseq_creat_type_cd_city_rank_word2vec.kv\n",
      "[2020-09-26 19:52:32] - utils.py[line:503] - INFO: setting ignored attribute vectors_norm to None\n",
      "[2020-09-26 19:52:32] - utils.py[line:437] - INFO: loaded adv_userseq_creat_type_cd_city_rank_word2vec.kv\n"
     ]
    },
    {
     "name": "stdout",
     "output_type": "stream",
     "text": [
      "(8672928, 1)\n"
     ]
    },
    {
     "name": "stderr",
     "output_type": "stream",
     "text": [
      "\r",
      " 49%|████▊     | 17/35 [27:50<29:08, 97.15s/it] "
     ]
    },
    {
     "name": "stdout",
     "output_type": "stream",
     "text": [
      "(1000000, 1)\n"
     ]
    },
    {
     "name": "stderr",
     "output_type": "stream",
     "text": [
      "[2020-09-26 19:54:01] - utils.py[line:431] - INFO: loading Word2VecKeyedVectors object from adv_userseq_creat_type_cd_device_name_word2vec.kv\n",
      "[2020-09-26 19:54:01] - utils.py[line:503] - INFO: setting ignored attribute vectors_norm to None\n",
      "[2020-09-26 19:54:01] - utils.py[line:437] - INFO: loaded adv_userseq_creat_type_cd_device_name_word2vec.kv\n"
     ]
    },
    {
     "name": "stdout",
     "output_type": "stream",
     "text": [
      "(8672928, 1)\n",
      "(1000000, 1)\n"
     ]
    },
    {
     "name": "stderr",
     "output_type": "stream",
     "text": [
      " 51%|█████▏    | 18/35 [29:28<27:36, 97.43s/it][2020-09-26 19:55:39] - utils.py[line:431] - INFO: loading Word2VecKeyedVectors object from adv_userseq_creat_type_cd_career_word2vec.kv\n",
      "[2020-09-26 19:55:39] - utils.py[line:503] - INFO: setting ignored attribute vectors_norm to None\n",
      "[2020-09-26 19:55:39] - utils.py[line:437] - INFO: loaded adv_userseq_creat_type_cd_career_word2vec.kv\n"
     ]
    },
    {
     "name": "stdout",
     "output_type": "stream",
     "text": [
      "(8672928, 1)\n"
     ]
    },
    {
     "name": "stderr",
     "output_type": "stream",
     "text": [
      "\r",
      " 54%|█████▍    | 19/35 [30:59<25:27, 95.47s/it]"
     ]
    },
    {
     "name": "stdout",
     "output_type": "stream",
     "text": [
      "(1000000, 1)\n"
     ]
    },
    {
     "name": "stderr",
     "output_type": "stream",
     "text": [
      "[2020-09-26 19:57:10] - utils.py[line:431] - INFO: loading Word2VecKeyedVectors object from adv_userseq_creat_type_cd_gender_word2vec.kv\n",
      "[2020-09-26 19:57:10] - utils.py[line:503] - INFO: setting ignored attribute vectors_norm to None\n",
      "[2020-09-26 19:57:10] - utils.py[line:437] - INFO: loaded adv_userseq_creat_type_cd_gender_word2vec.kv\n"
     ]
    },
    {
     "name": "stdout",
     "output_type": "stream",
     "text": [
      "(8672928, 1)\n"
     ]
    },
    {
     "name": "stderr",
     "output_type": "stream",
     "text": [
      "\r",
      " 57%|█████▋    | 20/35 [32:28<23:25, 93.72s/it]"
     ]
    },
    {
     "name": "stdout",
     "output_type": "stream",
     "text": [
      "(1000000, 1)\n"
     ]
    },
    {
     "name": "stderr",
     "output_type": "stream",
     "text": [
      "[2020-09-26 19:58:40] - utils.py[line:431] - INFO: loading Word2VecKeyedVectors object from adv_userseq_creat_type_cd_residence_word2vec.kv\n",
      "[2020-09-26 19:58:40] - utils.py[line:503] - INFO: setting ignored attribute vectors_norm to None\n",
      "[2020-09-26 19:58:40] - utils.py[line:437] - INFO: loaded adv_userseq_creat_type_cd_residence_word2vec.kv\n"
     ]
    },
    {
     "name": "stdout",
     "output_type": "stream",
     "text": [
      "(8672928, 1)\n",
      "(1000000, 1)\n"
     ]
    },
    {
     "name": "stderr",
     "output_type": "stream",
     "text": [
      " 60%|██████    | 21/35 [34:07<22:14, 95.34s/it][2020-09-26 20:00:19] - utils.py[line:431] - INFO: loading Word2VecKeyedVectors object from adv_userseq_indu_name_age_word2vec.kv\n",
      "[2020-09-26 20:00:19] - utils.py[line:503] - INFO: setting ignored attribute vectors_norm to None\n",
      "[2020-09-26 20:00:19] - utils.py[line:437] - INFO: loaded adv_userseq_indu_name_age_word2vec.kv\n"
     ]
    },
    {
     "name": "stdout",
     "output_type": "stream",
     "text": [
      "(8672928, 1)\n"
     ]
    },
    {
     "name": "stderr",
     "output_type": "stream",
     "text": [
      "\r",
      " 63%|██████▎   | 22/35 [35:41<20:32, 94.83s/it]"
     ]
    },
    {
     "name": "stdout",
     "output_type": "stream",
     "text": [
      "(1000000, 1)\n"
     ]
    },
    {
     "name": "stderr",
     "output_type": "stream",
     "text": [
      "[2020-09-26 20:01:53] - utils.py[line:431] - INFO: loading Word2VecKeyedVectors object from adv_userseq_indu_name_city_word2vec.kv\n",
      "[2020-09-26 20:01:53] - utils.py[line:503] - INFO: setting ignored attribute vectors_norm to None\n",
      "[2020-09-26 20:01:53] - utils.py[line:437] - INFO: loaded adv_userseq_indu_name_city_word2vec.kv\n"
     ]
    },
    {
     "name": "stdout",
     "output_type": "stream",
     "text": [
      "(8672928, 1)\n",
      "(1000000, 1)\n"
     ]
    },
    {
     "name": "stderr",
     "output_type": "stream",
     "text": [
      " 66%|██████▌   | 23/35 [37:16<18:57, 94.76s/it][2020-09-26 20:03:27] - utils.py[line:431] - INFO: loading Word2VecKeyedVectors object from adv_userseq_indu_name_city_rank_word2vec.kv\n",
      "[2020-09-26 20:03:27] - utils.py[line:503] - INFO: setting ignored attribute vectors_norm to None\n",
      "[2020-09-26 20:03:27] - utils.py[line:437] - INFO: loaded adv_userseq_indu_name_city_rank_word2vec.kv\n"
     ]
    },
    {
     "name": "stdout",
     "output_type": "stream",
     "text": [
      "(8672928, 1)\n"
     ]
    },
    {
     "name": "stderr",
     "output_type": "stream",
     "text": [
      "\r",
      " 69%|██████▊   | 24/35 [38:45<17:05, 93.25s/it]"
     ]
    },
    {
     "name": "stdout",
     "output_type": "stream",
     "text": [
      "(1000000, 1)\n"
     ]
    },
    {
     "name": "stderr",
     "output_type": "stream",
     "text": [
      "[2020-09-26 20:04:57] - utils.py[line:431] - INFO: loading Word2VecKeyedVectors object from adv_userseq_indu_name_device_name_word2vec.kv\n",
      "[2020-09-26 20:04:57] - utils.py[line:503] - INFO: setting ignored attribute vectors_norm to None\n",
      "[2020-09-26 20:04:57] - utils.py[line:437] - INFO: loaded adv_userseq_indu_name_device_name_word2vec.kv\n"
     ]
    },
    {
     "name": "stdout",
     "output_type": "stream",
     "text": [
      "(8672928, 1)\n",
      "(1000000, 1)\n"
     ]
    },
    {
     "name": "stderr",
     "output_type": "stream",
     "text": [
      " 71%|███████▏  | 25/35 [40:19<15:34, 93.43s/it][2020-09-26 20:06:31] - utils.py[line:431] - INFO: loading Word2VecKeyedVectors object from adv_userseq_indu_name_career_word2vec.kv\n",
      "[2020-09-26 20:06:31] - utils.py[line:503] - INFO: setting ignored attribute vectors_norm to None\n",
      "[2020-09-26 20:06:31] - utils.py[line:437] - INFO: loaded adv_userseq_indu_name_career_word2vec.kv\n"
     ]
    },
    {
     "name": "stdout",
     "output_type": "stream",
     "text": [
      "(8672928, 1)\n"
     ]
    },
    {
     "name": "stderr",
     "output_type": "stream",
     "text": [
      "\r",
      " 74%|███████▍  | 26/35 [41:48<13:48, 92.09s/it]"
     ]
    },
    {
     "name": "stdout",
     "output_type": "stream",
     "text": [
      "(1000000, 1)\n"
     ]
    },
    {
     "name": "stderr",
     "output_type": "stream",
     "text": [
      "[2020-09-26 20:07:59] - utils.py[line:431] - INFO: loading Word2VecKeyedVectors object from adv_userseq_indu_name_gender_word2vec.kv\n",
      "[2020-09-26 20:07:59] - utils.py[line:503] - INFO: setting ignored attribute vectors_norm to None\n",
      "[2020-09-26 20:07:59] - utils.py[line:437] - INFO: loaded adv_userseq_indu_name_gender_word2vec.kv\n"
     ]
    },
    {
     "name": "stdout",
     "output_type": "stream",
     "text": [
      "(8672928, 1)\n"
     ]
    },
    {
     "name": "stderr",
     "output_type": "stream",
     "text": [
      "\r",
      " 77%|███████▋  | 27/35 [43:16<12:06, 90.87s/it]"
     ]
    },
    {
     "name": "stdout",
     "output_type": "stream",
     "text": [
      "(1000000, 1)\n"
     ]
    },
    {
     "name": "stderr",
     "output_type": "stream",
     "text": [
      "[2020-09-26 20:09:28] - utils.py[line:431] - INFO: loading Word2VecKeyedVectors object from adv_userseq_indu_name_residence_word2vec.kv\n",
      "[2020-09-26 20:09:28] - utils.py[line:503] - INFO: setting ignored attribute vectors_norm to None\n",
      "[2020-09-26 20:09:28] - utils.py[line:437] - INFO: loaded adv_userseq_indu_name_residence_word2vec.kv\n"
     ]
    },
    {
     "name": "stdout",
     "output_type": "stream",
     "text": [
      "(8672928, 1)\n",
      "(1000000, 1)\n"
     ]
    },
    {
     "name": "stderr",
     "output_type": "stream",
     "text": [
      " 80%|████████  | 28/35 [44:50<10:43, 91.92s/it][2020-09-26 20:11:02] - utils.py[line:431] - INFO: loading Word2VecKeyedVectors object from adv_userseq_adv_prim_id_age_word2vec.kv\n",
      "[2020-09-26 20:11:02] - utils.py[line:503] - INFO: setting ignored attribute vectors_norm to None\n",
      "[2020-09-26 20:11:02] - utils.py[line:437] - INFO: loaded adv_userseq_adv_prim_id_age_word2vec.kv\n"
     ]
    },
    {
     "name": "stdout",
     "output_type": "stream",
     "text": [
      "(8672928, 1)\n"
     ]
    },
    {
     "name": "stderr",
     "output_type": "stream",
     "text": [
      "\r",
      " 83%|████████▎ | 29/35 [46:21<09:09, 91.59s/it]"
     ]
    },
    {
     "name": "stdout",
     "output_type": "stream",
     "text": [
      "(1000000, 1)\n"
     ]
    },
    {
     "name": "stderr",
     "output_type": "stream",
     "text": [
      "[2020-09-26 20:12:33] - utils.py[line:431] - INFO: loading Word2VecKeyedVectors object from adv_userseq_adv_prim_id_city_word2vec.kv\n",
      "[2020-09-26 20:12:34] - utils.py[line:503] - INFO: setting ignored attribute vectors_norm to None\n",
      "[2020-09-26 20:12:34] - utils.py[line:437] - INFO: loaded adv_userseq_adv_prim_id_city_word2vec.kv\n"
     ]
    },
    {
     "name": "stdout",
     "output_type": "stream",
     "text": [
      "(8672928, 1)\n",
      "(1000000, 1)\n"
     ]
    },
    {
     "name": "stderr",
     "output_type": "stream",
     "text": [
      " 86%|████████▌ | 30/35 [47:57<07:44, 92.81s/it][2020-09-26 20:14:08] - utils.py[line:431] - INFO: loading Word2VecKeyedVectors object from adv_userseq_adv_prim_id_city_rank_word2vec.kv\n",
      "[2020-09-26 20:14:08] - utils.py[line:503] - INFO: setting ignored attribute vectors_norm to None\n",
      "[2020-09-26 20:14:08] - utils.py[line:437] - INFO: loaded adv_userseq_adv_prim_id_city_rank_word2vec.kv\n"
     ]
    },
    {
     "name": "stdout",
     "output_type": "stream",
     "text": [
      "(8672928, 1)\n"
     ]
    },
    {
     "name": "stderr",
     "output_type": "stream",
     "text": [
      "\r",
      " 89%|████████▊ | 31/35 [49:28<06:09, 92.39s/it]"
     ]
    },
    {
     "name": "stdout",
     "output_type": "stream",
     "text": [
      "(1000000, 1)\n"
     ]
    },
    {
     "name": "stderr",
     "output_type": "stream",
     "text": [
      "[2020-09-26 20:15:40] - utils.py[line:431] - INFO: loading Word2VecKeyedVectors object from adv_userseq_adv_prim_id_device_name_word2vec.kv\n",
      "[2020-09-26 20:15:40] - utils.py[line:503] - INFO: setting ignored attribute vectors_norm to None\n",
      "[2020-09-26 20:15:40] - utils.py[line:437] - INFO: loaded adv_userseq_adv_prim_id_device_name_word2vec.kv\n"
     ]
    },
    {
     "name": "stdout",
     "output_type": "stream",
     "text": [
      "(8672928, 1)\n",
      "(1000000, 1)\n"
     ]
    },
    {
     "name": "stderr",
     "output_type": "stream",
     "text": [
      " 91%|█████████▏| 32/35 [51:05<04:41, 93.81s/it][2020-09-26 20:17:16] - utils.py[line:431] - INFO: loading Word2VecKeyedVectors object from adv_userseq_adv_prim_id_career_word2vec.kv\n",
      "[2020-09-26 20:17:16] - utils.py[line:503] - INFO: setting ignored attribute vectors_norm to None\n",
      "[2020-09-26 20:17:16] - utils.py[line:437] - INFO: loaded adv_userseq_adv_prim_id_career_word2vec.kv\n"
     ]
    },
    {
     "name": "stdout",
     "output_type": "stream",
     "text": [
      "(8672928, 1)\n"
     ]
    },
    {
     "name": "stderr",
     "output_type": "stream",
     "text": [
      "\r",
      " 94%|█████████▍| 33/35 [52:35<03:05, 92.65s/it]"
     ]
    },
    {
     "name": "stdout",
     "output_type": "stream",
     "text": [
      "(1000000, 1)\n"
     ]
    },
    {
     "name": "stderr",
     "output_type": "stream",
     "text": [
      "[2020-09-26 20:18:47] - utils.py[line:431] - INFO: loading Word2VecKeyedVectors object from adv_userseq_adv_prim_id_gender_word2vec.kv\n",
      "[2020-09-26 20:18:47] - utils.py[line:503] - INFO: setting ignored attribute vectors_norm to None\n",
      "[2020-09-26 20:18:47] - utils.py[line:437] - INFO: loaded adv_userseq_adv_prim_id_gender_word2vec.kv\n"
     ]
    },
    {
     "name": "stdout",
     "output_type": "stream",
     "text": [
      "(8672928, 1)\n"
     ]
    },
    {
     "name": "stderr",
     "output_type": "stream",
     "text": [
      "\r",
      " 97%|█████████▋| 34/35 [54:05<01:31, 91.74s/it]"
     ]
    },
    {
     "name": "stdout",
     "output_type": "stream",
     "text": [
      "(1000000, 1)\n"
     ]
    },
    {
     "name": "stderr",
     "output_type": "stream",
     "text": [
      "[2020-09-26 20:20:17] - utils.py[line:431] - INFO: loading Word2VecKeyedVectors object from adv_userseq_adv_prim_id_residence_word2vec.kv\n",
      "[2020-09-26 20:20:17] - utils.py[line:503] - INFO: setting ignored attribute vectors_norm to None\n",
      "[2020-09-26 20:20:17] - utils.py[line:437] - INFO: loaded adv_userseq_adv_prim_id_residence_word2vec.kv\n"
     ]
    },
    {
     "name": "stdout",
     "output_type": "stream",
     "text": [
      "(8672928, 1)\n",
      "(1000000, 1)\n"
     ]
    },
    {
     "name": "stderr",
     "output_type": "stream",
     "text": [
      "100%|██████████| 35/35 [55:39<00:00, 95.41s/it]\n"
     ]
    }
   ],
   "source": [
    "f1_f2_list = [['task_id','age'],['task_id','city'],['task_id','city_rank'],['task_id','device_name'],['task_id','career'],\n",
    "              ['task_id','gender'],['task_id','residence'],['adv_id','age'],['adv_id','city'],['adv_id','city_rank'],['adv_id','device_name'],\n",
    "              ['adv_id','career'],['adv_id','gender'],['adv_id','residence'],['creat_type_cd','age'],['creat_type_cd','city'],['creat_type_cd','city_rank'],\n",
    "              ['creat_type_cd','device_name'],['creat_type_cd','career'],['creat_type_cd','gender'],['creat_type_cd','residence'],['indu_name','age'],\n",
    "              ['indu_name','city'],['indu_name','city_rank'],['indu_name','device_name'],['indu_name','career'],['indu_name','gender'],\n",
    "              ['indu_name','residence'],['adv_prim_id','age'],['adv_prim_id','city'],['adv_prim_id','city_rank'],['adv_prim_id','device_name'],\n",
    "              ['adv_prim_id','career'],['adv_prim_id','gender'],['adv_prim_id','residence']]\n",
    "data = Cache.reload_cache('CACHE_data_sampling_pos1_neg5.pkl')\n",
    "for i in tqdm(f1_f2_list):\n",
    "    input_w2v(str(i[0])+'_'+str(i[1]),data,str(i[1]))\n",
    "    "
   ]
  },
  {
   "cell_type": "code",
   "execution_count": null,
   "metadata": {},
   "outputs": [],
   "source": []
  }
 ],
 "metadata": {
  "kernelspec": {
   "display_name": "Python [conda env:tf_2.1]",
   "language": "python",
   "name": "conda-env-tf_2.1-py"
  },
  "language_info": {
   "codemirror_mode": {
    "name": "ipython",
    "version": 3
   },
   "file_extension": ".py",
   "mimetype": "text/x-python",
   "name": "python",
   "nbconvert_exporter": "python",
   "pygments_lexer": "ipython3",
   "version": "3.7.6"
  },
  "toc": {
   "base_numbering": 1,
   "nav_menu": {},
   "number_sections": true,
   "sideBar": true,
   "skip_h1_title": false,
   "title_cell": "Table of Contents",
   "title_sidebar": "Contents",
   "toc_cell": false,
   "toc_position": {},
   "toc_section_display": true,
   "toc_window_display": false
  }
 },
 "nbformat": 4,
 "nbformat_minor": 4
}
