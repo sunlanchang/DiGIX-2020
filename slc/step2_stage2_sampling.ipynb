{
 "cells": [
  {
   "cell_type": "markdown",
   "metadata": {},
   "source": [
    "# Sampling"
   ]
  },
  {
   "cell_type": "code",
   "execution_count": 3,
   "metadata": {
    "ExecuteTime": {
     "end_time": "2020-09-26T09:09:24.635513Z",
     "start_time": "2020-09-26T09:09:24.630317Z"
    }
   },
   "outputs": [],
   "source": [
    "import pandas as pd\n",
    "import numpy as np\n",
    "from base import Cache\n",
    "## 按天采样 保留比例1:5 1:5.5 都做了后续的模型\n",
    "def get_sample(df, day, neg_rate=5):\n",
    "    set1 = df.query('pt_d=={}'.format(day))  \n",
    "    set1_pos = set1.query('label==1')\n",
    "    nums_pos = set1_pos.shape[0]\n",
    "    nums_neg = nums_pos * neg_rate\n",
    "    set1_neg = set1.query('label==0')\n",
    "    set1_neg = set1_neg.sample(nums_neg, random_state=0)  \n",
    "    df_sample = pd.concat([set1_pos, set1_neg])\n",
    "    print(df_sample['label'].value_counts(), df_sample['label'].mean())\n",
    "    return df_sample\n"
   ]
  },
  {
   "cell_type": "code",
   "execution_count": 4,
   "metadata": {
    "ExecuteTime": {
     "end_time": "2020-09-26T09:09:58.540031Z",
     "start_time": "2020-09-26T09:09:25.393946Z"
    }
   },
   "outputs": [
    {
     "name": "stderr",
     "output_type": "stream",
     "text": [
      "[2020-09-26 17:09:28] - __init__.py[line:126] - INFO: Successfully Reload: /home/zhangqibot/proj/digix/zlh/stage2/cached_data/CACHE_train.pkl\n",
      "[2020-09-26 17:09:33] - __init__.py[line:126] - INFO: Successfully Reload: /home/zhangqibot/proj/digix/zlh/stage2/cached_data/CACHE_test_B.pkl\n"
     ]
    },
    {
     "name": "stdout",
     "output_type": "stream",
     "text": [
      "0    1186680\n",
      "1     237336\n",
      "Name: label, dtype: int64 0.16666666666666666\n",
      "0    1016625\n",
      "1     203325\n",
      "Name: label, dtype: int64 0.16666666666666666\n",
      "0    1010315\n",
      "1     202063\n",
      "Name: label, dtype: int64 0.16666666666666666\n",
      "0    978625\n",
      "1    195725\n",
      "Name: label, dtype: int64 0.16666666666666666\n",
      "0    925375\n",
      "1    185075\n",
      "Name: label, dtype: int64 0.16666666666666666\n",
      "0    1049685\n",
      "1     209937\n",
      "Name: label, dtype: int64 0.16666666666666666\n",
      "0    1060135\n",
      "1     212027\n",
      "Name: label, dtype: int64 0.16666666666666666\n"
     ]
    },
    {
     "name": "stderr",
     "output_type": "stream",
     "text": [
      "[2020-09-26 17:09:56] - __init__.py[line:111] - INFO: Cache Successfully! File name: /home/zhangqibot/proj/digix/zlh/stage2/cached_data/CACHE_train_sampling_pos1_neg5.pkl\n",
      "[2020-09-26 17:09:58] - __init__.py[line:111] - INFO: Cache Successfully! File name: /home/zhangqibot/proj/digix/zlh/stage2/cached_data/CACHE_data_sampling_pos1_neg5.pkl\n"
     ]
    }
   ],
   "source": [
    "train = Cache.reload_cache('CACHE_train.pkl')\n",
    "train = train.reset_index()\n",
    "train.rename(columns={'index':'raw_index'},inplace=True)\n",
    "\n",
    "test_B = Cache.reload_cache('CACHE_test_B.pkl').drop(columns = ['id'])\n",
    "test_B = test_B.reset_index()\n",
    "test_B.rename(columns={'index':'raw_index'},inplace=True)\n",
    "test_B['raw_index'] = test_B['raw_index']+41907133\n",
    "\n",
    "train_ptd_1 = get_sample(train,1)\n",
    "train_ptd_2 = get_sample(train,2)\n",
    "train_ptd_3 = get_sample(train,3)\n",
    "train_ptd_4 = get_sample(train,4)\n",
    "train_ptd_5 = get_sample(train,5)\n",
    "train_ptd_6 = get_sample(train,6)\n",
    "train_ptd_7 = get_sample(train,7)\n",
    "\n",
    "train_sampling = pd.concat([train_ptd_1,train_ptd_2], ignore_index=True)\n",
    "train_sampling = pd.concat([train_sampling,train_ptd_3], ignore_index=True)\n",
    "train_sampling = pd.concat([train_sampling,train_ptd_4], ignore_index=True)\n",
    "train_sampling = pd.concat([train_sampling,train_ptd_5], ignore_index=True)\n",
    "train_sampling = pd.concat([train_sampling,train_ptd_6], ignore_index=True)\n",
    "train_sampling = pd.concat([train_sampling,train_ptd_7], ignore_index=True)\n",
    "\n",
    "Cache.cache_data(train_sampling, nm_marker='train_sampling_pos1_neg5')\n",
    "\n",
    "sampling_data = pd.concat([train_sampling,test_B], ignore_index=True)\n",
    "Cache.cache_data(sampling_data, nm_marker='data_sampling_pos1_neg5')"
   ]
  },
  {
   "cell_type": "markdown",
   "metadata": {},
   "source": [
    "## 填充缺失值部分也有尝试作为子模型 填充方式如下："
   ]
  },
  {
   "cell_type": "code",
   "execution_count": null,
   "metadata": {},
   "outputs": [],
   "source": [
    "## 修正一些异常值 增加模型鲁棒性\n",
    "data = train_sampling\n",
    "# 修正缺失值\n",
    "sparse_features=['task_id', 'adv_id', 'creat_type_cd', 'adv_prim_id', 'dev_id', 'inter_type_cd', \n",
    "                 'slot_id', 'spread_app_id', 'tags', 'app_first_class',\n",
    "                 'app_second_class', 'city', 'device_name', 'career', 'gender',\n",
    "                 'net_type', 'residence', 'emui_dev', 'indu_name','communication_onlinerate_1','communication_onlinerate_2','communication_onlinerate_3',\n",
    "             'communication_onlinerate_4','communication_onlinerate_5','communication_onlinerate_6',\n",
    "             'communication_onlinerate_7','communication_onlinerate_8','communication_onlinerate_9',\n",
    "             'communication_onlinerate_10','communication_onlinerate_11','communication_onlinerate_12',\n",
    "             'communication_onlinerate_13','communication_onlinerate_14','communication_onlinerate_15',\n",
    "             'communication_onlinerate_16','communication_onlinerate_17','communication_onlinerate_18',\n",
    "             'communication_onlinerate_19','communication_onlinerate_20','communication_onlinerate_21',\n",
    "             'communication_onlinerate_22','communication_onlinerate_23','communication_onlinerate_24', 'age', 'city_rank']\n",
    "dense_features=['his_app_size', 'his_on_shelf_time', 'app_score', 'device_size', 'list_time', 'device_price', 'up_life_duration', \n",
    "                'up_membership_grade', 'membership_life_duration', 'consume_purchase', 'communication_avgonline_30d']\n",
    "## 认为出现-1是缺失值，sparse feature填众数 dense feature填平均值\n",
    "for var in sparse_features:\n",
    "    mode_num = data[var].mode()[0]\n",
    "    shape_null = data.query('{}==-1'.format(var)).shape[0]\n",
    "    print('process sparse int: ',var, 'fillna: ',mode_num, 'fillna_shape: ',shape_null)\n",
    "    if shape_null>0:\n",
    "        data.loc[data[var]==-1,var] = mode_num\n",
    "        data[var] = data[var].astype(int)\n",
    "    \n",
    "for var in dense_features:\n",
    "    mode_num = int(data[var].mean())\n",
    "    shape_null = data.query('{}==-1'.format(var)).shape[0]\n",
    "    print('process dense int: ',var, 'fillna: ',mode_num, 'fillna_shape: ',shape_null)\n",
    "    if shape_null>0:\n",
    "        data.loc[data[var]==-1,var] = mode_num\n",
    "        data[var] = data[var].astype(int)\n",
    "        \n",
    "Cache.cache_data(data, nm_marker='train_sampling_pos1_neg5')"
   ]
  }
 ],
 "metadata": {
  "kernelspec": {
   "display_name": "Python [conda env:tf_2.1]",
   "language": "python",
   "name": "conda-env-tf_2.1-py"
  },
  "language_info": {
   "codemirror_mode": {
    "name": "ipython",
    "version": 3
   },
   "file_extension": ".py",
   "mimetype": "text/x-python",
   "name": "python",
   "nbconvert_exporter": "python",
   "pygments_lexer": "ipython3",
   "version": "3.7.6"
  },
  "toc": {
   "base_numbering": 1,
   "nav_menu": {},
   "number_sections": true,
   "sideBar": true,
   "skip_h1_title": false,
   "title_cell": "Table of Contents",
   "title_sidebar": "Contents",
   "toc_cell": false,
   "toc_position": {},
   "toc_section_display": true,
   "toc_window_display": false
  }
 },
 "nbformat": 4,
 "nbformat_minor": 4
}
