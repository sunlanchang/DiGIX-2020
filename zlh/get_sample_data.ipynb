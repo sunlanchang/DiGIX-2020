{
 "cells": [
  {
   "cell_type": "code",
   "execution_count": 1,
   "metadata": {},
   "outputs": [
    {
     "name": "stderr",
     "output_type": "stream",
     "text": [
      "[2020-09-11 14:41:14] - __init__.py[line:127] - INFO: Successfully Reload: /home/tione/notebook/huawei/cached_data/CACHE_dataall0816.pkl\n"
     ]
    },
    {
     "name": "stdout",
     "output_type": "stream",
     "text": [
      "label                          float64\n",
      "uid                              int32\n",
      "task_id                          int16\n",
      "adv_id                           int16\n",
      "creat_type_cd                     int8\n",
      "adv_prim_id                      int16\n",
      "dev_id                            int8\n",
      "inter_type_cd                     int8\n",
      "slot_id                           int8\n",
      "spread_app_id                     int8\n",
      "tags                              int8\n",
      "app_first_class                   int8\n",
      "app_second_class                  int8\n",
      "age                               int8\n",
      "city                             int16\n",
      "city_rank                         int8\n",
      "device_name                       int8\n",
      "device_size                      int16\n",
      "career                            int8\n",
      "gender                            int8\n",
      "net_type                          int8\n",
      "residence                         int8\n",
      "his_app_size                      int8\n",
      "his_on_shelf_time                 int8\n",
      "app_score                         int8\n",
      "emui_dev                          int8\n",
      "list_time                         int8\n",
      "device_price                      int8\n",
      "up_life_duration                  int8\n",
      "up_membership_grade               int8\n",
      "membership_life_duration          int8\n",
      "consume_purchase                  int8\n",
      "communication_onlinerate        object\n",
      "communication_avgonline_30d       int8\n",
      "indu_name                         int8\n",
      "pt_d                              int8\n",
      "id                               int32\n",
      "dtype: object\n"
     ]
    },
    {
     "name": "stderr",
     "output_type": "stream",
     "text": [
      "[2020-09-11 14:42:07] - __init__.py[line:127] - INFO: Successfully Reload: /home/tione/notebook/huawei/cached_data/CACHE_cmr0816.pkl\n"
     ]
    },
    {
     "name": "stdout",
     "output_type": "stream",
     "text": [
      "label            float64\n",
      "uid                int32\n",
      "task_id            int16\n",
      "adv_id             int16\n",
      "creat_type_cd       int8\n",
      "                  ...   \n",
      "cmr_20             int64\n",
      "cmr_21             int64\n",
      "cmr_22             int64\n",
      "cmr_23             int64\n",
      "cmr_None           int64\n",
      "Length: 62, dtype: object\n"
     ]
    },
    {
     "data": {
      "text/plain": [
       "0"
      ]
     },
     "execution_count": 1,
     "metadata": {},
     "output_type": "execute_result"
    }
   ],
   "source": [
    "import pandas as pd\n",
    "import numpy as np\n",
    "import gc\n",
    "from base import Cache\n",
    "from tqdm import tqdm\n",
    "\n",
    "def reduce_mem(df, use_float16=False):\n",
    "    start_mem = df.memory_usage().sum() / 1024**2\n",
    "    tm_cols = df.select_dtypes('datetime').columns\n",
    "    colsuse = [i for i in df.columns if i!= 'label']\n",
    "    for col in colsuse:\n",
    "        if col in tm_cols:\n",
    "            continue\n",
    "        col_type = df[col].dtypes\n",
    "        if col_type != object:\n",
    "            c_min = df[col].min()\n",
    "            c_max = df[col].max()\n",
    "            if str(col_type)[:3] == 'int':\n",
    "                if c_min > np.iinfo(np.int8).min and c_max < np.iinfo(\n",
    "                        np.int8).max:\n",
    "                    df[col] = df[col].astype(np.int8)\n",
    "                elif c_min > np.iinfo(np.int16).min and c_max < np.iinfo(\n",
    "                        np.int16).max:\n",
    "                    df[col] = df[col].astype(np.int16)\n",
    "                elif c_min > np.iinfo(np.int32).min and c_max < np.iinfo(\n",
    "                        np.int32).max:\n",
    "                    df[col] = df[col].astype(np.int32)\n",
    "                elif c_min > np.iinfo(np.int64).min and c_max < np.iinfo(\n",
    "                        np.int64).max:\n",
    "                    df[col] = df[col].astype(np.int64)\n",
    "            else:\n",
    "                if use_float16 and c_min > np.finfo(\n",
    "                        np.float16).min and c_max < np.finfo(np.float16).max:\n",
    "                    df[col] = df[col].astype(np.float16)\n",
    "                elif c_min > np.finfo(np.float32).min and c_max < np.finfo(\n",
    "                        np.float32).max:\n",
    "                    df[col] = df[col].astype(np.float32)\n",
    "                else:\n",
    "                    df[col] = df[col].astype(np.float64)\n",
    "    end_mem = df.memory_usage().sum() / 1024**2\n",
    "    print('{:.2f} Mb, {:.2f} Mb ({:.2f} %)'.format(\n",
    "        start_mem, end_mem, 100 * (start_mem - end_mem) / start_mem))\n",
    "    return df\n",
    "\t\n",
    "##############################################################################################################\n",
    "# datatrain = pd.read_csv('../data/train_data.csv')\n",
    "# datatest = pd.read_csv('../data/test_data_A.csv')\n",
    "# columns_str = datatrain.columns[0]\n",
    "# gc.collect()\n",
    "# dflist = []\n",
    "# for i in tqdm(range(datatrain.shape[0])):\n",
    "#     dflist.append([ int(j) if index!=32 else j for index,j in enumerate(datatrain[columns_str].iloc[i].split('|'))])\n",
    "# dflist = pd.DataFrame(dflist,columns = columns_str.split('|'))\n",
    "# del datatrain\n",
    "# gc.collect()\n",
    "# columns_str = datatest.columns[0]\n",
    "# dflisttst = []\n",
    "# for i in tqdm(range(datatest.shape[0])):\n",
    "#     dflisttst.append([ int(j) if index!=32 else j for index,j in enumerate(datatest[columns_str].iloc[i].split('|'))])\n",
    "# del datatest\n",
    "# gc.collect()\n",
    "# dflisttst = pd.DataFrame(dflisttst,columns = columns_str.split('|'))\n",
    "# dflist['id'] = -1# train id都改成-1\n",
    "# dataall = pd.concat([dflist,dflisttst],ignore_index=True)\n",
    "# del dflist,dflisttst\n",
    "# gc.collect()\n",
    "# dataall = reduce_mem(dataall, use_float16=False)\n",
    "# Cache.cache_data(dataall, nm_marker='dataall0831')\n",
    "\n",
    "##############################################################################################################\n",
    "# # 比较慢！\n",
    "# route = []\n",
    "# for i in tqdm(range(dataall.shape[0])):\n",
    "#     route.append(dataall['communication_onlinerate'].iloc[i].split('^'))\n",
    "# route = pd.DataFrame(route)\n",
    "# route = route.fillna(-1).astype(int)\n",
    "# routes = []\n",
    "# for i in tqdm(range(route.shape[0])):\n",
    "#     routes.append(np.sum(np.eye(25)[route.iloc[i,:]],axis=0))\n",
    "# del route\n",
    "# gc.collect()\n",
    "# routes = pd.DataFrame(routes,columns=['cmr_'+str(i) for i in range(24)]+['cmr_None'])\n",
    "# routes = routes.astype(int)\n",
    "# routes = reduce_mem(routes, use_float16=False)\n",
    "# Cache.cache_data(routes, nm_marker='cmr0831')\n",
    "# del dataall,routes\n",
    "# gc.collect()\n",
    "##############################################################################################################\n",
    "\n",
    "data = Cache.reload_cache('CACHE_dataall0816.pkl')\n",
    "print(data.dtypes)\n",
    "data['communication_onlinerate'] = data['communication_onlinerate'].map(lambda x:x.replace('^',' '))\n",
    "route = Cache.reload_cache('CACHE_cmr0816.pkl')\n",
    "route_columns = [i for i in route.columns]\n",
    "data = pd.concat([data,route],axis=1)\n",
    "data1= data.query('pt_d<8').drop_duplicates()\n",
    "data2 = data.query('pt_d==8')\n",
    "data = pd.concat([data1,data2],ignore_index=True)\n",
    "data = data.sort_values(['uid','pt_d','task_id','adv_id','slot_id','net_type'],ascending=False).reset_index(drop=True)\n",
    "del data1,data2\n",
    "gc.collect()\n",
    "for var in route_columns:\n",
    "    data[var] = data[var].astype(int)\n",
    "print(data.dtypes)\n",
    "del route\n",
    "gc.collect()"
   ]
  },
  {
   "cell_type": "code",
   "execution_count": 2,
   "metadata": {},
   "outputs": [
    {
     "data": {
      "text/plain": [
       "(36056562, 62)"
      ]
     },
     "execution_count": 2,
     "metadata": {},
     "output_type": "execute_result"
    }
   ],
   "source": [
    "data.shape"
   ]
  },
  {
   "cell_type": "code",
   "execution_count": 3,
   "metadata": {},
   "outputs": [
    {
     "name": "stdout",
     "output_type": "stream",
     "text": [
      "(1752827, 62)\n"
     ]
    },
    {
     "name": "stderr",
     "output_type": "stream",
     "text": [
      "[2020-09-11 15:01:48] - __init__.py[line:112] - INFO: Cache Successfully! File name: /home/tione/notebook/huawei/cached_data/CACHE_data_sample005.pkl\n"
     ]
    }
   ],
   "source": [
    "data1= data.query('pt_d<8').groupby('pt_d').sample(frac=0.05)\n",
    "print(data1.shape)\n",
    "data2 = data.query('pt_d==8')\n",
    "data = pd.concat([data1,data2],ignore_index=True)\n",
    "data = data.sort_values(['uid','pt_d','task_id','adv_id','slot_id','net_type'],ascending=False).reset_index(drop=True)\n",
    "Cache.cache_data(data, nm_marker='data_sample005')"
   ]
  },
  {
   "cell_type": "code",
   "execution_count": 1,
   "metadata": {},
   "outputs": [],
   "source": [
    "import pandas as pd\n"
   ]
  },
  {
   "cell_type": "code",
   "execution_count": null,
   "metadata": {},
   "outputs": [],
   "source": []
  }
 ],
 "metadata": {
  "kernelspec": {
   "display_name": "conda_tensorflow2_py3",
   "language": "python",
   "name": "conda_tensorflow2_py3"
  },
  "language_info": {
   "codemirror_mode": {
    "name": "ipython",
    "version": 3
   },
   "file_extension": ".py",
   "mimetype": "text/x-python",
   "name": "python",
   "nbconvert_exporter": "python",
   "pygments_lexer": "ipython3",
   "version": "3.6.5"
  }
 },
 "nbformat": 4,
 "nbformat_minor": 4
}
