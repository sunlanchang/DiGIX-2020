{
 "cells": [
  {
   "cell_type": "markdown",
   "metadata": {},
   "source": [
    "# data-pkl"
   ]
  },
  {
   "cell_type": "code",
   "execution_count": 1,
   "metadata": {},
   "outputs": [],
   "source": [
    "import pandas as pd \n",
    "import numpy as np\n",
    "import gc\n",
    "from base import Cache\n",
    "from tqdm import tqdm\n",
    "\n",
    "\n",
    "def reduce_mem(df, use_float16=False):\n",
    "    start_mem = df.memory_usage().sum() / 1024**2\n",
    "    tm_cols = df.select_dtypes('datetime').columns\n",
    "    for col in df.columns:\n",
    "        if col in tm_cols:\n",
    "            continue\n",
    "        col_type = df[col].dtypes\n",
    "        if col_type != object:\n",
    "            c_min = df[col].min()\n",
    "            c_max = df[col].max()\n",
    "            if str(col_type)[:3] == 'int':\n",
    "                if c_min > np.iinfo(np.int8).min and c_max < np.iinfo(\n",
    "                        np.int8).max:\n",
    "                    df[col] = df[col].astype(np.int8)\n",
    "                elif c_min > np.iinfo(np.int16).min and c_max < np.iinfo(\n",
    "                        np.int16).max:\n",
    "                    df[col] = df[col].astype(np.int16)\n",
    "                elif c_min > np.iinfo(np.int32).min and c_max < np.iinfo(\n",
    "                        np.int32).max:\n",
    "                    df[col] = df[col].astype(np.int32)\n",
    "                elif c_min > np.iinfo(np.int64).min and c_max < np.iinfo(\n",
    "                        np.int64).max:\n",
    "                    df[col] = df[col].astype(np.int64)\n",
    "            else:\n",
    "                if use_float16 and c_min > np.finfo(\n",
    "                        np.float16).min and c_max < np.finfo(np.float16).max:\n",
    "                    df[col] = df[col].astype(np.float16)\n",
    "                elif c_min > np.finfo(np.float32).min and c_max < np.finfo(\n",
    "                        np.float32).max:\n",
    "                    df[col] = df[col].astype(np.float32)\n",
    "                else:\n",
    "                    df[col] = df[col].astype(np.float64)\n",
    "    end_mem = df.memory_usage().sum() / 1024**2\n",
    "    print('{:.2f} Mb, {:.2f} Mb ({:.2f} %)'.format(\n",
    "        start_mem, end_mem, 100 * (start_mem - end_mem) / start_mem))\n",
    "    return df"
   ]
  },
  {
   "cell_type": "code",
   "execution_count": 2,
   "metadata": {},
   "outputs": [
    {
     "name": "stderr",
     "output_type": "stream",
     "text": [
      "[2020-09-24 21:10:42] - __init__.py[line:111] - INFO: Cache Successfully! File name: /home/tione/notebook/huawei/yrqUni/cached_data/CACHE_train_raw.pkl\n"
     ]
    }
   ],
   "source": [
    "train = pd.read_csv(r'./data/train_data.csv', sep='|', dtype=str)\n",
    "Cache.cache_data(train, nm_marker='train_raw')"
   ]
  },
  {
   "cell_type": "code",
   "execution_count": 3,
   "metadata": {},
   "outputs": [
    {
     "name": "stderr",
     "output_type": "stream",
     "text": [
      "[2020-09-24 21:10:47] - __init__.py[line:111] - INFO: Cache Successfully! File name: /home/tione/notebook/huawei/yrqUni/cached_data/CACHE_test_A_raw.pkl\n"
     ]
    }
   ],
   "source": [
    "test_A = pd.read_csv(r'./data/test_data_A.csv', sep='|', dtype=str)\n",
    "test_A.insert(0, 'label', np.ones([1000000]))\n",
    "test_A['label'] = 2\n",
    "Cache.cache_data(test_A, nm_marker='test_A_raw')"
   ]
  },
  {
   "cell_type": "code",
   "execution_count": 4,
   "metadata": {},
   "outputs": [
    {
     "name": "stderr",
     "output_type": "stream",
     "text": [
      "[2020-09-24 21:10:53] - __init__.py[line:111] - INFO: Cache Successfully! File name: /home/tione/notebook/huawei/yrqUni/cached_data/CACHE_test_B_raw.pkl\n"
     ]
    }
   ],
   "source": [
    "test_B = pd.read_csv(r'./data/test_data_B.csv', sep='|', dtype=str)\n",
    "test_B.insert(0, 'label', np.ones([1000000]))\n",
    "test_B['label'] = 2\n",
    "Cache.cache_data(test_B, nm_marker='test_B_raw')"
   ]
  },
  {
   "cell_type": "markdown",
   "metadata": {},
   "source": [
    "# cmr-onehot"
   ]
  },
  {
   "cell_type": "code",
   "execution_count": 5,
   "metadata": {},
   "outputs": [],
   "source": [
    "import pandas as pd\n",
    "import numpy as np\n",
    "from base import Cache\n",
    "from tensorflow.keras.preprocessing.text import Tokenizer\n",
    "from tensorflow.keras.preprocessing.sequence import pad_sequences\n",
    "from tensorflow.keras.utils import to_categorical\n",
    "from tqdm import tqdm \n",
    "\n",
    "tokenizer = Tokenizer(num_words=24, filters='^')\n",
    "communication_onlinerate_dict = ['0^1^2^3^4^5^6^7^8^9^10^11^12^13^14^15^16^17^18^19^20^21^22^23']\n",
    "tokenizer.fit_on_texts(communication_onlinerate_dict)"
   ]
  },
  {
   "cell_type": "code",
   "execution_count": 6,
   "metadata": {},
   "outputs": [
    {
     "name": "stderr",
     "output_type": "stream",
     "text": [
      "[2020-09-24 21:11:46] - __init__.py[line:126] - INFO: Successfully Reload: /home/tione/notebook/huawei/yrqUni/cached_data/CACHE_train_raw.pkl\n",
      "100%|██████████| 41907133/41907133 [17:27<00:00, 40008.80it/s]\n"
     ]
    },
    {
     "name": "stdout",
     "output_type": "stream",
     "text": [
      "7673.43 Mb, 959.18 Mb (87.50 %)\n"
     ]
    },
    {
     "name": "stderr",
     "output_type": "stream",
     "text": [
      "[2020-09-24 21:50:27] - __init__.py[line:111] - INFO: Cache Successfully! File name: /home/tione/notebook/huawei/yrqUni/cached_data/CACHE_train_cmr_onehot.pkl\n"
     ]
    },
    {
     "name": "stdout",
     "output_type": "stream",
     "text": [
      "Train Done\n"
     ]
    }
   ],
   "source": [
    "data = Cache.reload_cache('CACHE_train_raw.pkl')\n",
    "communication_onlinerate_raw = data['communication_onlinerate'].tolist()\n",
    "communication_onlinerate_sequences = tokenizer.texts_to_sequences(communication_onlinerate_raw)\n",
    "communication_onlinerate_sequences = pad_sequences(communication_onlinerate_sequences, maxlen=24, padding='post')\n",
    "communication_onlinerate_onehot = []\n",
    "with tqdm(total=communication_onlinerate_sequences.shape[0]) as pbar:\n",
    "    for i in communication_onlinerate_sequences:\n",
    "        communication_onlinerate_onehot.append(np.delete(np.eye(25)[i], 0, axis=1).sum(axis=0))\n",
    "        pbar.update(1) \n",
    "communication_onlinerate_onehot = pd.DataFrame(communication_onlinerate_onehot).astype(int)\n",
    "communication_onlinerate_onehot = reduce_mem(communication_onlinerate_onehot, use_float16=True)\n",
    "Cache.cache_data(communication_onlinerate_onehot, nm_marker='train_cmr_onehot')\n",
    "print('Train Done')"
   ]
  },
  {
   "cell_type": "code",
   "execution_count": 7,
   "metadata": {},
   "outputs": [
    {
     "name": "stderr",
     "output_type": "stream",
     "text": [
      "[2020-09-24 21:50:29] - __init__.py[line:126] - INFO: Successfully Reload: /home/tione/notebook/huawei/yrqUni/cached_data/CACHE_test_A_raw.pkl\n",
      "100%|██████████| 1000000/1000000 [00:25<00:00, 39351.38it/s]\n",
      "[2020-09-24 21:51:26] - __init__.py[line:111] - INFO: Cache Successfully! File name: /home/tione/notebook/huawei/yrqUni/cached_data/CACHE_test_A_cmr_onehot.pkl\n"
     ]
    },
    {
     "name": "stdout",
     "output_type": "stream",
     "text": [
      "183.11 Mb, 22.89 Mb (87.50 %)\n",
      "Test A Done\n"
     ]
    }
   ],
   "source": [
    "data = Cache.reload_cache('CACHE_test_A_raw.pkl')\n",
    "communication_onlinerate_raw = data['communication_onlinerate'].tolist()\n",
    "communication_onlinerate_sequences = tokenizer.texts_to_sequences(communication_onlinerate_raw)\n",
    "communication_onlinerate_sequences = pad_sequences(communication_onlinerate_sequences, maxlen=24, padding='post')\n",
    "communication_onlinerate_onehot = []\n",
    "with tqdm(total=communication_onlinerate_sequences.shape[0]) as pbar:\n",
    "    for i in communication_onlinerate_sequences:\n",
    "        communication_onlinerate_onehot.append(np.delete(np.eye(25)[i], 0, axis=1).sum(axis=0))\n",
    "        pbar.update(1) \n",
    "communication_onlinerate_onehot = pd.DataFrame(communication_onlinerate_onehot).astype(int)\n",
    "communication_onlinerate_onehot = reduce_mem(communication_onlinerate_onehot, use_float16=True)\n",
    "Cache.cache_data(communication_onlinerate_onehot, nm_marker='test_A_cmr_onehot')\n",
    "print('Test A Done')"
   ]
  },
  {
   "cell_type": "code",
   "execution_count": 8,
   "metadata": {},
   "outputs": [
    {
     "name": "stderr",
     "output_type": "stream",
     "text": [
      "[2020-09-24 21:51:27] - __init__.py[line:126] - INFO: Successfully Reload: /home/tione/notebook/huawei/yrqUni/cached_data/CACHE_test_B_raw.pkl\n",
      "100%|██████████| 1000000/1000000 [00:24<00:00, 40043.11it/s]\n",
      "[2020-09-24 21:52:21] - __init__.py[line:111] - INFO: Cache Successfully! File name: /home/tione/notebook/huawei/yrqUni/cached_data/CACHE_test_B_cmr_onehot.pkl\n"
     ]
    },
    {
     "name": "stdout",
     "output_type": "stream",
     "text": [
      "183.11 Mb, 22.89 Mb (87.50 %)\n",
      "Test B Done\n"
     ]
    }
   ],
   "source": [
    "data = Cache.reload_cache('CACHE_test_B_raw.pkl')\n",
    "communication_onlinerate_raw = data['communication_onlinerate'].tolist()\n",
    "communication_onlinerate_sequences = tokenizer.texts_to_sequences(communication_onlinerate_raw)\n",
    "communication_onlinerate_sequences = pad_sequences(communication_onlinerate_sequences, maxlen=24, padding='post')\n",
    "communication_onlinerate_onehot = []\n",
    "with tqdm(total=communication_onlinerate_sequences.shape[0]) as pbar:\n",
    "    for i in communication_onlinerate_sequences:\n",
    "        communication_onlinerate_onehot.append(np.delete(np.eye(25)[i], 0, axis=1).sum(axis=0))\n",
    "        pbar.update(1) \n",
    "communication_onlinerate_onehot = pd.DataFrame(communication_onlinerate_onehot).astype(int)\n",
    "communication_onlinerate_onehot = reduce_mem(communication_onlinerate_onehot, use_float16=True)\n",
    "Cache.cache_data(communication_onlinerate_onehot, nm_marker='test_B_cmr_onehot')\n",
    "print('Test B Done')"
   ]
  },
  {
   "cell_type": "markdown",
   "metadata": {},
   "source": [
    "# concat cmr&raw"
   ]
  },
  {
   "cell_type": "code",
   "execution_count": 9,
   "metadata": {},
   "outputs": [
    {
     "name": "stderr",
     "output_type": "stream",
     "text": [
      "[2020-09-24 21:53:09] - __init__.py[line:126] - INFO: Successfully Reload: /home/tione/notebook/huawei/yrqUni/cached_data/CACHE_train_raw.pkl\n"
     ]
    },
    {
     "name": "stdout",
     "output_type": "stream",
     "text": [
      "11190.41 Mb, 1718.53 Mb (84.64 %)\n"
     ]
    },
    {
     "name": "stderr",
     "output_type": "stream",
     "text": [
      "[2020-09-24 21:58:18] - __init__.py[line:126] - INFO: Successfully Reload: /home/tione/notebook/huawei/yrqUni/cached_data/CACHE_train_cmr_onehot.pkl\n",
      "[2020-09-24 21:58:26] - __init__.py[line:111] - INFO: Cache Successfully! File name: /home/tione/notebook/huawei/yrqUni/cached_data/CACHE_train.pkl\n"
     ]
    }
   ],
   "source": [
    "data = Cache.reload_cache('CACHE_train_raw.pkl').drop(columns = ['communication_onlinerate']).astype(int)\n",
    "data = reduce_mem(data, use_float16=True)\n",
    "communication_onlinerate_onehot_data = Cache.reload_cache('CACHE_train_cmr_onehot.pkl')\n",
    "communication_onlinerate_onehot_data.columns = ['communication_onlinerate_1','communication_onlinerate_2','communication_onlinerate_3',\n",
    "                                                    'communication_onlinerate_4','communication_onlinerate_5','communication_onlinerate_6',\n",
    "                                                    'communication_onlinerate_7','communication_onlinerate_8','communication_onlinerate_9',\n",
    "                                                    'communication_onlinerate_10','communication_onlinerate_11','communication_onlinerate_12',\n",
    "                                                    'communication_onlinerate_13','communication_onlinerate_14','communication_onlinerate_15',\n",
    "                                                    'communication_onlinerate_16','communication_onlinerate_17','communication_onlinerate_18',\n",
    "                                                    'communication_onlinerate_19','communication_onlinerate_20','communication_onlinerate_21',\n",
    "                                                    'communication_onlinerate_22','communication_onlinerate_23','communication_onlinerate_24']\n",
    "data = pd.concat([data,communication_onlinerate_onehot_data], axis=1, ignore_index=True)\n",
    "data.columns = ['label','uid','task_id','adv_id','creat_type_cd','adv_prim_id','dev_id',\n",
    "                    'inter_type_cd','slot_id','spread_app_id','tags','app_first_class',\n",
    "                    'app_second_class','age','city','city_rank','device_name','device_size',\n",
    "                    'career','gender','net_type','residence','his_app_size',\n",
    "                    'his_on_shelf_time','app_score','emui_dev','list_time','device_price',\n",
    "                    'up_life_duration','up_membership_grade','membership_life_duration',\n",
    "                    'consume_purchase','communication_avgonline_30d','indu_name','pt_d',\n",
    "                    'communication_onlinerate_1','communication_onlinerate_2','communication_onlinerate_3',\n",
    "                    'communication_onlinerate_4','communication_onlinerate_5','communication_onlinerate_6',\n",
    "                    'communication_onlinerate_7','communication_onlinerate_8','communication_onlinerate_9',\n",
    "                    'communication_onlinerate_10','communication_onlinerate_11','communication_onlinerate_12',\n",
    "                    'communication_onlinerate_13','communication_onlinerate_14','communication_onlinerate_15',\n",
    "                    'communication_onlinerate_16','communication_onlinerate_17','communication_onlinerate_18',\n",
    "                    'communication_onlinerate_19','communication_onlinerate_20','communication_onlinerate_21',\n",
    "                    'communication_onlinerate_22','communication_onlinerate_23','communication_onlinerate_24']\n",
    "Cache.cache_data(data, nm_marker='train')"
   ]
  },
  {
   "cell_type": "code",
   "execution_count": 10,
   "metadata": {},
   "outputs": [
    {
     "name": "stderr",
     "output_type": "stream",
     "text": [
      "[2020-09-24 21:58:28] - __init__.py[line:126] - INFO: Successfully Reload: /home/tione/notebook/huawei/yrqUni/cached_data/CACHE_test_A_raw.pkl\n",
      "[2020-09-24 21:58:33] - __init__.py[line:126] - INFO: Successfully Reload: /home/tione/notebook/huawei/yrqUni/cached_data/CACHE_test_A_cmr_onehot.pkl\n"
     ]
    },
    {
     "name": "stdout",
     "output_type": "stream",
     "text": [
      "274.66 Mb, 44.82 Mb (83.68 %)\n"
     ]
    },
    {
     "name": "stderr",
     "output_type": "stream",
     "text": [
      "[2020-09-24 21:58:33] - __init__.py[line:111] - INFO: Cache Successfully! File name: /home/tione/notebook/huawei/yrqUni/cached_data/CACHE_test_A.pkl\n"
     ]
    }
   ],
   "source": [
    "data = Cache.reload_cache('CACHE_test_A_raw.pkl').drop(columns = ['communication_onlinerate']).astype(int)\n",
    "data = reduce_mem(data, use_float16=True)\n",
    "communication_onlinerate_onehot_data = Cache.reload_cache('CACHE_test_A_cmr_onehot.pkl')\n",
    "communication_onlinerate_onehot_data.columns = ['communication_onlinerate_1','communication_onlinerate_2','communication_onlinerate_3',\n",
    "                                                    'communication_onlinerate_4','communication_onlinerate_5','communication_onlinerate_6',\n",
    "                                                    'communication_onlinerate_7','communication_onlinerate_8','communication_onlinerate_9',\n",
    "                                                    'communication_onlinerate_10','communication_onlinerate_11','communication_onlinerate_12',\n",
    "                                                    'communication_onlinerate_13','communication_onlinerate_14','communication_onlinerate_15',\n",
    "                                                    'communication_onlinerate_16','communication_onlinerate_17','communication_onlinerate_18',\n",
    "                                                    'communication_onlinerate_19','communication_onlinerate_20','communication_onlinerate_21',\n",
    "                                                    'communication_onlinerate_22','communication_onlinerate_23','communication_onlinerate_24']\n",
    "data = pd.concat([data,communication_onlinerate_onehot_data], axis=1, ignore_index=True)\n",
    "data.columns = ['label','id','uid','task_id','adv_id','creat_type_cd','adv_prim_id','dev_id',\n",
    "                    'inter_type_cd','slot_id','spread_app_id','tags','app_first_class',\n",
    "                    'app_second_class','age','city','city_rank','device_name','device_size',\n",
    "                    'career','gender','net_type','residence','his_app_size',\n",
    "                    'his_on_shelf_time','app_score','emui_dev','list_time','device_price',\n",
    "                    'up_life_duration','up_membership_grade','membership_life_duration',\n",
    "                    'consume_purchase','communication_avgonline_30d','indu_name','pt_d',\n",
    "                    'communication_onlinerate_1','communication_onlinerate_2','communication_onlinerate_3',\n",
    "                    'communication_onlinerate_4','communication_onlinerate_5','communication_onlinerate_6',\n",
    "                    'communication_onlinerate_7','communication_onlinerate_8','communication_onlinerate_9',\n",
    "                    'communication_onlinerate_10','communication_onlinerate_11','communication_onlinerate_12',\n",
    "                    'communication_onlinerate_13','communication_onlinerate_14','communication_onlinerate_15',\n",
    "                    'communication_onlinerate_16','communication_onlinerate_17','communication_onlinerate_18',\n",
    "                    'communication_onlinerate_19','communication_onlinerate_20','communication_onlinerate_21',\n",
    "                    'communication_onlinerate_22','communication_onlinerate_23','communication_onlinerate_24']\n",
    "Cache.cache_data(data, nm_marker='test_A')"
   ]
  },
  {
   "cell_type": "code",
   "execution_count": 11,
   "metadata": {},
   "outputs": [
    {
     "name": "stderr",
     "output_type": "stream",
     "text": [
      "[2020-09-24 21:58:34] - __init__.py[line:126] - INFO: Successfully Reload: /home/tione/notebook/huawei/yrqUni/cached_data/CACHE_test_B_raw.pkl\n",
      "[2020-09-24 21:58:40] - __init__.py[line:126] - INFO: Successfully Reload: /home/tione/notebook/huawei/yrqUni/cached_data/CACHE_test_B_cmr_onehot.pkl\n",
      "[2020-09-24 21:58:40] - __init__.py[line:111] - INFO: Cache Successfully! File name: /home/tione/notebook/huawei/yrqUni/cached_data/CACHE_test_B.pkl\n"
     ]
    },
    {
     "name": "stdout",
     "output_type": "stream",
     "text": [
      "274.66 Mb, 44.82 Mb (83.68 %)\n"
     ]
    }
   ],
   "source": [
    "data = Cache.reload_cache('CACHE_test_B_raw.pkl').drop(columns = ['communication_onlinerate']).astype(int)\n",
    "data = reduce_mem(data, use_float16=True)\n",
    "communication_onlinerate_onehot_data = Cache.reload_cache('CACHE_test_B_cmr_onehot.pkl')\n",
    "communication_onlinerate_onehot_data.columns = ['communication_onlinerate_1','communication_onlinerate_2','communication_onlinerate_3',\n",
    "                                                    'communication_onlinerate_4','communication_onlinerate_5','communication_onlinerate_6',\n",
    "                                                    'communication_onlinerate_7','communication_onlinerate_8','communication_onlinerate_9',\n",
    "                                                    'communication_onlinerate_10','communication_onlinerate_11','communication_onlinerate_12',\n",
    "                                                    'communication_onlinerate_13','communication_onlinerate_14','communication_onlinerate_15',\n",
    "                                                    'communication_onlinerate_16','communication_onlinerate_17','communication_onlinerate_18',\n",
    "                                                    'communication_onlinerate_19','communication_onlinerate_20','communication_onlinerate_21',\n",
    "                                                    'communication_onlinerate_22','communication_onlinerate_23','communication_onlinerate_24']\n",
    "data = pd.concat([data,communication_onlinerate_onehot_data], axis=1, ignore_index=True)\n",
    "data.columns = ['label','id','uid','task_id','adv_id','creat_type_cd','adv_prim_id','dev_id',\n",
    "                    'inter_type_cd','slot_id','spread_app_id','tags','app_first_class',\n",
    "                    'app_second_class','age','city','city_rank','device_name','device_size',\n",
    "                    'career','gender','net_type','residence','his_app_size',\n",
    "                    'his_on_shelf_time','app_score','emui_dev','list_time','device_price',\n",
    "                    'up_life_duration','up_membership_grade','membership_life_duration',\n",
    "                    'consume_purchase','communication_avgonline_30d','indu_name','pt_d',\n",
    "                    'communication_onlinerate_1','communication_onlinerate_2','communication_onlinerate_3',\n",
    "                    'communication_onlinerate_4','communication_onlinerate_5','communication_onlinerate_6',\n",
    "                    'communication_onlinerate_7','communication_onlinerate_8','communication_onlinerate_9',\n",
    "                    'communication_onlinerate_10','communication_onlinerate_11','communication_onlinerate_12',\n",
    "                    'communication_onlinerate_13','communication_onlinerate_14','communication_onlinerate_15',\n",
    "                    'communication_onlinerate_16','communication_onlinerate_17','communication_onlinerate_18',\n",
    "                    'communication_onlinerate_19','communication_onlinerate_20','communication_onlinerate_21',\n",
    "                    'communication_onlinerate_22','communication_onlinerate_23','communication_onlinerate_24']\n",
    "Cache.cache_data(data, nm_marker='test_B')"
   ]
  },
  {
   "cell_type": "code",
   "execution_count": null,
   "metadata": {},
   "outputs": [],
   "source": []
  }
 ],
 "metadata": {
  "kernelspec": {
   "display_name": "Python [conda env:tf_2.1]",
   "language": "python",
   "name": "conda-env-tf_2.1-py"
  },
  "language_info": {
   "codemirror_mode": {
    "name": "ipython",
    "version": 3
   },
   "file_extension": ".py",
   "mimetype": "text/x-python",
   "name": "python",
   "nbconvert_exporter": "python",
   "pygments_lexer": "ipython3",
   "version": "3.7.6"
  },
  "toc": {
   "base_numbering": 1,
   "nav_menu": {},
   "number_sections": true,
   "sideBar": true,
   "skip_h1_title": false,
   "title_cell": "Table of Contents",
   "title_sidebar": "Contents",
   "toc_cell": false,
   "toc_position": {},
   "toc_section_display": true,
   "toc_window_display": false
  }
 },
 "nbformat": 4,
 "nbformat_minor": 4
}
