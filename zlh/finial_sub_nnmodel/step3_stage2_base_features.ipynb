{
 "cells": [
  {
   "cell_type": "markdown",
   "metadata": {},
   "source": [
    "# base festures"
   ]
  },
  {
   "cell_type": "code",
   "execution_count": 1,
   "metadata": {
    "ExecuteTime": {
     "end_time": "2020-09-26T09:11:59.030718Z",
     "start_time": "2020-09-26T09:11:58.762382Z"
    }
   },
   "outputs": [],
   "source": [
    "import pandas as pd \n",
    "import numpy as np\n",
    "import gc\n",
    "from base import Cache\n",
    "from tqdm import tqdm\n",
    "\n",
    "from multiprocessing import Pool\n",
    "\n",
    "def reduce_mem(df, use_float16=False):\n",
    "    start_mem = df.memory_usage().sum() / 1024**2\n",
    "    tm_cols = df.select_dtypes('datetime').columns\n",
    "    for col in df.columns:\n",
    "        if col in tm_cols:\n",
    "            continue\n",
    "        col_type = df[col].dtypes\n",
    "        if col_type != object:\n",
    "            c_min = df[col].min()\n",
    "            c_max = df[col].max()\n",
    "            if str(col_type)[:3] == 'int':\n",
    "                if c_min > np.iinfo(np.int8).min and c_max < np.iinfo(\n",
    "                        np.int8).max:\n",
    "                    df[col] = df[col].astype(np.int8)\n",
    "                elif c_min > np.iinfo(np.int16).min and c_max < np.iinfo(\n",
    "                        np.int16).max:\n",
    "                    df[col] = df[col].astype(np.int16)\n",
    "                elif c_min > np.iinfo(np.int32).min and c_max < np.iinfo(\n",
    "                        np.int32).max:\n",
    "                    df[col] = df[col].astype(np.int32)\n",
    "                elif c_min > np.iinfo(np.int64).min and c_max < np.iinfo(\n",
    "                        np.int64).max:\n",
    "                    df[col] = df[col].astype(np.int64)\n",
    "            else:\n",
    "                if use_float16 and c_min > np.finfo(\n",
    "                        np.float16).min and c_max < np.finfo(np.float16).max:\n",
    "                    df[col] = df[col].astype(np.float16)\n",
    "                elif c_min > np.finfo(np.float32).min and c_max < np.finfo(\n",
    "                        np.float32).max:\n",
    "                    df[col] = df[col].astype(np.float32)\n",
    "                else:\n",
    "                    df[col] = df[col].astype(np.float64)\n",
    "    end_mem = df.memory_usage().sum() / 1024**2\n",
    "    print('{:.2f} Mb, {:.2f} Mb ({:.2f} %)'.format(\n",
    "        start_mem, end_mem, 100 * (start_mem - end_mem) / start_mem))\n",
    "    return df"
   ]
  },
  {
   "cell_type": "code",
   "execution_count": 2,
   "metadata": {
    "ExecuteTime": {
     "end_time": "2020-09-26T09:12:03.330056Z",
     "start_time": "2020-09-26T09:12:02.405430Z"
    }
   },
   "outputs": [
    {
     "name": "stderr",
     "output_type": "stream",
     "text": [
      "[2020-09-26 17:12:03] - __init__.py[line:126] - INFO: Successfully Reload: /home/zhangqibot/proj/digix/zlh/stage2/cached_data/CACHE_data_sampling_pos1_neg5.pkl\n"
     ]
    }
   ],
   "source": [
    "data = Cache.reload_cache('CACHE_data_sampling_pos1_neg5.pkl')"
   ]
  },
  {
   "cell_type": "markdown",
   "metadata": {},
   "source": [
    "## count encode"
   ]
  },
  {
   "cell_type": "code",
   "execution_count": 3,
   "metadata": {
    "ExecuteTime": {
     "end_time": "2020-09-26T09:18:54.368032Z",
     "start_time": "2020-09-26T09:12:04.138466Z"
    },
    "jupyter": {
     "outputs_hidden": true
    }
   },
   "outputs": [
    {
     "name": "stderr",
     "output_type": "stream",
     "text": [
      "100%|██████████| 44/44 [00:02<00:00, 16.49it/s]\n"
     ]
    },
    {
     "name": "stdout",
     "output_type": "stream",
     "text": [
      "Index(['uid', 'pt_d', 'slot_id', 'slot_id_count', 'slot_id_pt_d_count'], dtype='object')\n",
      "Index(['uid', 'pt_d', 'task_id', 'task_id_count', 'task_id_pt_d_count'], dtype='object')\n",
      "Index(['uid', 'pt_d', 'dev_id', 'dev_id_count', 'dev_id_pt_d_count'], dtype='object')\n",
      "Index(['uid', 'pt_d', 'creat_type_cd', 'creat_type_cd_count',\n",
      "       'creat_type_cd_pt_d_count'],\n",
      "      dtype='object')\n",
      "Index(['uid', 'pt_d', 'tags', 'tags_count', 'tags_pt_d_count'], dtype='object')\n",
      "Index(['uid', 'pt_d', 'app_second_class', 'app_second_class_count',\n",
      "       'app_second_class_pt_d_count'],\n",
      "      dtype='object')\n",
      "Index(['uid', 'pt_d', 'device_name', 'device_name_count',\n",
      "       'device_name_pt_d_count'],\n",
      "      dtype='object')\n",
      "Index(['uid', 'pt_d', 'gender', 'gender_count', 'gender_pt_d_count'], dtype='object')\n",
      "Index(['uid', 'pt_d', 'net_type', 'net_type_count', 'net_type_pt_d_count'], dtype='object')\n",
      "Index(['uid', 'pt_d', 'emui_dev', 'emui_dev_count', 'emui_dev_pt_d_count'], dtype='object')\n",
      "Index(['uid', 'pt_d', 'spread_app_id', 'spread_app_id_count',\n",
      "       'spread_app_id_pt_d_count'],\n",
      "      dtype='object')\n",
      "Index(['uid', 'pt_d', 'inter_type_cd', 'inter_type_cd_count',\n",
      "       'inter_type_cd_pt_d_count'],\n",
      "      dtype='object')\n",
      "Index(['uid', 'pt_d', 'app_first_class', 'app_first_class_count',\n",
      "       'app_first_class_pt_d_count'],\n",
      "      dtype='object')\n",
      "Index(['uid', 'pt_d', 'adv_prim_id', 'adv_prim_id_count',\n",
      "       'adv_prim_id_pt_d_count'],\n",
      "      dtype='object')\n",
      "Index(['uid', 'pt_d', 'adv_id', 'adv_id_count', 'adv_id_pt_d_count'], dtype='object')\n",
      "Index(['uid', 'pt_d', 'career', 'career_count', 'career_pt_d_count'], dtype='object')\n",
      "Index(['uid', 'pt_d', 'age', 'age_count', 'age_pt_d_count'], dtype='object')\n",
      "Index(['uid', 'pt_d', 'city', 'city_count', 'city_pt_d_count'], dtype='object')\n",
      "Index(['uid', 'pt_d', 'residence', 'residence_count', 'residence_pt_d_count'], dtype='object')\n",
      "Index(['uid', 'pt_d', 'indu_name', 'indu_name_count', 'indu_name_pt_d_count'], dtype='object')\n",
      "Index(['uid', 'pt_d', 'communication_onlinerate_1',\n",
      "       'communication_onlinerate_1_count',\n",
      "       'communication_onlinerate_1_pt_d_count'],\n",
      "      dtype='object')\n",
      "Index(['uid', 'pt_d', 'communication_onlinerate_3',\n",
      "       'communication_onlinerate_3_count',\n",
      "       'communication_onlinerate_3_pt_d_count'],\n",
      "      dtype='object')\n",
      "Index(['uid', 'pt_d', 'communication_onlinerate_2',\n",
      "       'communication_onlinerate_2_count',\n",
      "       'communication_onlinerate_2_pt_d_count'],\n",
      "      dtype='object')\n",
      "Index(['uid', 'pt_d', 'communication_onlinerate_5',\n",
      "       'communication_onlinerate_5_count',\n",
      "       'communication_onlinerate_5_pt_d_count'],\n",
      "      dtype='object')\n",
      "Index(['uid', 'pt_d', 'communication_onlinerate_7',\n",
      "       'communication_onlinerate_7_count',\n",
      "       'communication_onlinerate_7_pt_d_count'],\n",
      "      dtype='object')\n",
      "Index(['uid', 'pt_d', 'communication_onlinerate_4',\n",
      "       'communication_onlinerate_4_count',\n",
      "       'communication_onlinerate_4_pt_d_count'],\n",
      "      dtype='object')\n",
      "Index(['uid', 'pt_d', 'communication_onlinerate_9',\n",
      "       'communication_onlinerate_9_count',\n",
      "       'communication_onlinerate_9_pt_d_count'],\n",
      "      dtype='object')\n",
      "Index(['uid', 'pt_d', 'communication_onlinerate_6',\n",
      "       'communication_onlinerate_6_count',\n",
      "       'communication_onlinerate_6_pt_d_count'],\n",
      "      dtype='object')\n",
      "Index(['uid', 'pt_d', 'communication_onlinerate_8',\n",
      "       'communication_onlinerate_8_count',\n",
      "       'communication_onlinerate_8_pt_d_count'],\n",
      "      dtype='object')\n",
      "Index(['uid', 'pt_d', 'communication_onlinerate_11',\n",
      "       'communication_onlinerate_11_count',\n",
      "       'communication_onlinerate_11_pt_d_count'],\n",
      "      dtype='object')\n",
      "Index(['uid', 'pt_d', 'communication_onlinerate_10',\n",
      "       'communication_onlinerate_10_count',\n",
      "       'communication_onlinerate_10_pt_d_count'],\n",
      "      dtype='object')\n",
      "Index(['uid', 'pt_d', 'communication_onlinerate_13',\n",
      "       'communication_onlinerate_13_count',\n",
      "       'communication_onlinerate_13_pt_d_count'],\n",
      "      dtype='object')\n",
      "Index(['uid', 'pt_d', 'communication_onlinerate_15',\n",
      "       'communication_onlinerate_15_count',\n",
      "       'communication_onlinerate_15_pt_d_count'],\n",
      "      dtype='object')\n",
      "Index(['uid', 'pt_d', 'communication_onlinerate_12',\n",
      "       'communication_onlinerate_12_count',\n",
      "       'communication_onlinerate_12_pt_d_count'],\n",
      "      dtype='object')\n",
      "Index(['uid', 'pt_d', 'communication_onlinerate_17',\n",
      "       'communication_onlinerate_17_count',\n",
      "       'communication_onlinerate_17_pt_d_count'],\n",
      "      dtype='object')\n",
      "Index(['uid', 'pt_d', 'communication_onlinerate_14',\n",
      "       'communication_onlinerate_14_count',\n",
      "       'communication_onlinerate_14_pt_d_count'],\n",
      "      dtype='object')\n",
      "Index(['uid', 'pt_d', 'communication_onlinerate_19',\n",
      "       'communication_onlinerate_19_count',\n",
      "       'communication_onlinerate_19_pt_d_count'],\n",
      "      dtype='object')\n",
      "Index(['uid', 'pt_d', 'communication_onlinerate_16',\n",
      "       'communication_onlinerate_16_count',\n",
      "       'communication_onlinerate_16_pt_d_count'],\n",
      "      dtype='object')\n",
      "Index(['uid', 'pt_d', 'communication_onlinerate_18',\n",
      "       'communication_onlinerate_18_count',\n",
      "       'communication_onlinerate_18_pt_d_count'],\n",
      "      dtype='object')\n",
      "Index(['uid', 'pt_d', 'communication_onlinerate_21',\n",
      "       'communication_onlinerate_21_count',\n",
      "       'communication_onlinerate_21_pt_d_count'],\n",
      "      dtype='object')\n",
      "Index(['uid', 'pt_d', 'communication_onlinerate_23',\n",
      "       'communication_onlinerate_23_count',\n",
      "       'communication_onlinerate_23_pt_d_count'],\n",
      "      dtype='object')\n",
      "Index(['uid', 'pt_d', 'communication_onlinerate_20',\n",
      "       'communication_onlinerate_20_count',\n",
      "       'communication_onlinerate_20_pt_d_count'],\n",
      "      dtype='object')\n",
      "Index(['uid', 'pt_d', 'communication_onlinerate_22',\n",
      "       'communication_onlinerate_22_count',\n",
      "       'communication_onlinerate_22_pt_d_count'],\n",
      "      dtype='object')\n",
      "Index(['uid', 'pt_d', 'communication_onlinerate_24',\n",
      "       'communication_onlinerate_24_count',\n",
      "       'communication_onlinerate_24_pt_d_count'],\n",
      "      dtype='object')\n",
      "Index(['task_id_count', 'task_id_pt_d_count'], dtype='object') task_id (9672928, 62)\n",
      "Index(['adv_id_count', 'adv_id_pt_d_count'], dtype='object') adv_id (9672928, 64)\n",
      "Index(['creat_type_cd_count', 'creat_type_cd_pt_d_count'], dtype='object') creat_type_cd (9672928, 66)\n",
      "Index(['adv_prim_id_count', 'adv_prim_id_pt_d_count'], dtype='object') adv_prim_id (9672928, 68)\n",
      "Index(['dev_id_count', 'dev_id_pt_d_count'], dtype='object') dev_id (9672928, 70)\n",
      "Index(['inter_type_cd_count', 'inter_type_cd_pt_d_count'], dtype='object') inter_type_cd (9672928, 72)\n",
      "Index(['slot_id_count', 'slot_id_pt_d_count'], dtype='object') slot_id (9672928, 74)\n",
      "Index(['spread_app_id_count', 'spread_app_id_pt_d_count'], dtype='object') spread_app_id (9672928, 76)\n",
      "Index(['tags_count', 'tags_pt_d_count'], dtype='object') tags (9672928, 78)\n",
      "Index(['app_first_class_count', 'app_first_class_pt_d_count'], dtype='object') app_first_class (9672928, 80)\n",
      "Index(['app_second_class_count', 'app_second_class_pt_d_count'], dtype='object') app_second_class (9672928, 82)\n",
      "Index(['city_count', 'city_pt_d_count'], dtype='object') city (9672928, 84)\n",
      "Index(['device_name_count', 'device_name_pt_d_count'], dtype='object') device_name (9672928, 86)\n",
      "Index(['career_count', 'career_pt_d_count'], dtype='object') career (9672928, 88)\n",
      "Index(['gender_count', 'gender_pt_d_count'], dtype='object') gender (9672928, 90)\n",
      "Index(['age_count', 'age_pt_d_count'], dtype='object') age (9672928, 92)\n",
      "Index(['net_type_count', 'net_type_pt_d_count'], dtype='object') net_type (9672928, 94)\n",
      "Index(['residence_count', 'residence_pt_d_count'], dtype='object') residence (9672928, 96)\n",
      "Index(['emui_dev_count', 'emui_dev_pt_d_count'], dtype='object') emui_dev (9672928, 98)\n",
      "Index(['indu_name_count', 'indu_name_pt_d_count'], dtype='object') indu_name (9672928, 100)\n",
      "Index(['communication_onlinerate_1_count', 'communication_onlinerate_1_pt_d_count'], dtype='object') communication_onlinerate_1 (9672928, 102)\n",
      "Index(['communication_onlinerate_2_count', 'communication_onlinerate_2_pt_d_count'], dtype='object') communication_onlinerate_2 (9672928, 104)\n",
      "Index(['communication_onlinerate_3_count', 'communication_onlinerate_3_pt_d_count'], dtype='object') communication_onlinerate_3 (9672928, 106)\n"
     ]
    },
    {
     "name": "stdout",
     "output_type": "stream",
     "text": [
      "Index(['communication_onlinerate_4_count', 'communication_onlinerate_4_pt_d_count'], dtype='object') communication_onlinerate_4 (9672928, 108)\n",
      "Index(['communication_onlinerate_5_count', 'communication_onlinerate_5_pt_d_count'], dtype='object') communication_onlinerate_5 (9672928, 110)\n",
      "Index(['communication_onlinerate_6_count', 'communication_onlinerate_6_pt_d_count'], dtype='object') communication_onlinerate_6 (9672928, 112)\n",
      "Index(['communication_onlinerate_7_count', 'communication_onlinerate_7_pt_d_count'], dtype='object') communication_onlinerate_7 (9672928, 114)\n",
      "Index(['communication_onlinerate_8_count', 'communication_onlinerate_8_pt_d_count'], dtype='object') communication_onlinerate_8 (9672928, 116)\n",
      "Index(['communication_onlinerate_9_count', 'communication_onlinerate_9_pt_d_count'], dtype='object') communication_onlinerate_9 (9672928, 118)\n",
      "Index(['communication_onlinerate_10_count', 'communication_onlinerate_10_pt_d_count'], dtype='object') communication_onlinerate_10 (9672928, 120)\n",
      "Index(['communication_onlinerate_11_count', 'communication_onlinerate_11_pt_d_count'], dtype='object') communication_onlinerate_11 (9672928, 122)\n",
      "Index(['communication_onlinerate_12_count', 'communication_onlinerate_12_pt_d_count'], dtype='object') communication_onlinerate_12 (9672928, 124)\n",
      "Index(['communication_onlinerate_13_count', 'communication_onlinerate_13_pt_d_count'], dtype='object') communication_onlinerate_13 (9672928, 126)\n",
      "Index(['communication_onlinerate_14_count', 'communication_onlinerate_14_pt_d_count'], dtype='object') communication_onlinerate_14 (9672928, 128)\n",
      "Index(['communication_onlinerate_15_count', 'communication_onlinerate_15_pt_d_count'], dtype='object') communication_onlinerate_15 (9672928, 130)\n",
      "Index(['communication_onlinerate_16_count', 'communication_onlinerate_16_pt_d_count'], dtype='object') communication_onlinerate_16 (9672928, 132)\n",
      "Index(['communication_onlinerate_17_count', 'communication_onlinerate_17_pt_d_count'], dtype='object') communication_onlinerate_17 (9672928, 134)\n",
      "Index(['communication_onlinerate_18_count', 'communication_onlinerate_18_pt_d_count'], dtype='object') communication_onlinerate_18 (9672928, 136)\n",
      "Index(['communication_onlinerate_19_count', 'communication_onlinerate_19_pt_d_count'], dtype='object') communication_onlinerate_19 (9672928, 138)\n",
      "Index(['communication_onlinerate_20_count', 'communication_onlinerate_20_pt_d_count'], dtype='object') communication_onlinerate_20 (9672928, 140)\n",
      "Index(['communication_onlinerate_21_count', 'communication_onlinerate_21_pt_d_count'], dtype='object') communication_onlinerate_21 (9672928, 142)\n",
      "Index(['communication_onlinerate_22_count', 'communication_onlinerate_22_pt_d_count'], dtype='object') communication_onlinerate_22 (9672928, 144)\n",
      "Index(['communication_onlinerate_23_count', 'communication_onlinerate_23_pt_d_count'], dtype='object') communication_onlinerate_23 (9672928, 146)\n",
      "Index(['communication_onlinerate_24_count', 'communication_onlinerate_24_pt_d_count'], dtype='object') communication_onlinerate_24 (9672928, 148)\n",
      "7186.14 Mb, 3902.10 Mb (45.70 %)\n"
     ]
    }
   ],
   "source": [
    "from multiprocessing import Pool\n",
    "\n",
    "cate_cols = ['task_id', 'adv_id', 'creat_type_cd', 'adv_prim_id', 'dev_id', 'inter_type_cd', 'slot_id', 'spread_app_id',\n",
    "             'tags', 'app_first_class', 'app_second_class', 'city', 'device_name', 'career', 'gender', 'age', 'net_type',\n",
    "             'residence', 'emui_dev', 'indu_name', \n",
    "             'communication_onlinerate_1','communication_onlinerate_2','communication_onlinerate_3',\n",
    "             'communication_onlinerate_4','communication_onlinerate_5','communication_onlinerate_6',\n",
    "             'communication_onlinerate_7','communication_onlinerate_8','communication_onlinerate_9',\n",
    "             'communication_onlinerate_10','communication_onlinerate_11','communication_onlinerate_12',\n",
    "             'communication_onlinerate_13','communication_onlinerate_14','communication_onlinerate_15',\n",
    "             'communication_onlinerate_16','communication_onlinerate_17','communication_onlinerate_18',\n",
    "             'communication_onlinerate_19','communication_onlinerate_20','communication_onlinerate_21',\n",
    "             'communication_onlinerate_22','communication_onlinerate_23','communication_onlinerate_24']\n",
    "cate_cols_df = []\n",
    "for var in tqdm(cate_cols):\n",
    "    cate_cols_df.append(data[['uid', 'pt_d', var]])\n",
    "\n",
    "\n",
    "def cls(df):\n",
    "    ## 列的countencoding，当天内的count归一化encoding\n",
    "    ## 做countencoding时优先以train部分做映射\n",
    "    f = df.columns[-1]\n",
    "    mapping = dict(df.query('pt_d<8')[f].value_counts() / df.query('pt_d<8')[f].value_counts().max())  # 只统计train\n",
    "    mapping_test = dict(df.query('pt_d>=8')[f].value_counts() / df.query('pt_d>=8')[f].value_counts().max())  # 只统计test\n",
    "    for key, value in mapping_test.items():\n",
    "        # 优先用train\n",
    "        if key not in mapping:\n",
    "            mapping[key] = value\n",
    "    df[f + '_count'] = df[f].map(mapping)  # 映射\n",
    "    fe = df.groupby([f, 'pt_d'])['uid'].count().rename(f'{f}_pt_d_count').reset_index()  # 当天统计count\n",
    "    fe_max = fe.groupby('pt_d')[f'{f}_pt_d_count'].max().rename(f'{f}_pt_d_count_max').reset_index()\n",
    "    fe = fe.merge(fe_max, on='pt_d', how='left')\n",
    "    fe[f'{f}_pt_d_count'] = fe[f'{f}_pt_d_count'] / fe[f'{f}_pt_d_count_max']\n",
    "    fe[f'{f}_pt_d_count'] = fe[f'{f}_pt_d_count'].fillna(0)\n",
    "    del fe[f'{f}_pt_d_count_max']\n",
    "    df = df.merge(fe, on=[f, 'pt_d'], how='left')\n",
    "    print(df.columns)\n",
    "    return df[[f, 'pt_d', f + '_count', f'{f}_pt_d_count']]\n",
    "\n",
    "\n",
    "with Pool(10) as p:\n",
    "    result = p.map(cls, cate_cols_df)\n",
    "for index, fe in enumerate(result):\n",
    "    f = cate_cols[index]\n",
    "    data = pd.concat([data, fe[fe.columns[-2:]]], axis=1)\n",
    "    print(fe.columns[-2:], f, data.shape)\n",
    "    del fe\n",
    "    gc.collect()\n",
    "del result, f, cate_cols_df\n",
    "gc.collect()\n",
    "data = reduce_mem(data, use_float16=False)\n",
    "\n",
    "# print(data)"
   ]
  },
  {
   "cell_type": "markdown",
   "metadata": {},
   "source": [
    "## target encode"
   ]
  },
  {
   "cell_type": "code",
   "execution_count": 4,
   "metadata": {
    "ExecuteTime": {
     "end_time": "2020-09-26T10:23:23.584142Z",
     "start_time": "2020-09-26T09:18:54.369594Z"
    }
   },
   "outputs": [
    {
     "name": "stderr",
     "output_type": "stream",
     "text": [
      "\r",
      "  0%|          | 0/7 [00:00<?, ?it/s]"
     ]
    },
    {
     "name": "stdout",
     "output_type": "stream",
     "text": [
      "**************************task_id**************************\n",
      "**************************adv_id**************************\n",
      "**************************dev_id**************************\n",
      "**************************spread_app_id**************************\n",
      "**************************indu_name**************************\n"
     ]
    },
    {
     "name": "stderr",
     "output_type": "stream",
     "text": [
      "\r",
      " 14%|█▍        | 1/7 [02:28<14:52, 148.71s/it]"
     ]
    },
    {
     "name": "stdout",
     "output_type": "stream",
     "text": [
      "**************************task_id**************************\n",
      "**************************adv_id**************************\n",
      "**************************dev_id**************************\n",
      "**************************spread_app_id**************************\n",
      "**************************indu_name**************************\n"
     ]
    },
    {
     "name": "stderr",
     "output_type": "stream",
     "text": [
      "\r",
      " 29%|██▊       | 2/7 [04:58<12:25, 149.13s/it]"
     ]
    },
    {
     "name": "stdout",
     "output_type": "stream",
     "text": [
      "**************************task_id**************************\n",
      "**************************adv_id**************************\n",
      "**************************dev_id**************************\n",
      "**************************spread_app_id**************************\n",
      "**************************indu_name**************************\n"
     ]
    },
    {
     "name": "stderr",
     "output_type": "stream",
     "text": [
      "\r",
      " 43%|████▎     | 3/7 [08:34<11:16, 169.09s/it]"
     ]
    },
    {
     "name": "stdout",
     "output_type": "stream",
     "text": [
      "**************************task_id**************************\n",
      "**************************adv_id**************************\n",
      "**************************dev_id**************************\n",
      "**************************spread_app_id**************************\n",
      "**************************indu_name**************************\n"
     ]
    },
    {
     "name": "stderr",
     "output_type": "stream",
     "text": [
      "\r",
      " 57%|█████▋    | 4/7 [13:59<10:47, 215.91s/it]"
     ]
    },
    {
     "name": "stdout",
     "output_type": "stream",
     "text": [
      "**************************task_id**************************\n",
      "**************************adv_id**************************\n",
      "**************************dev_id**************************\n",
      "**************************spread_app_id**************************\n",
      "**************************indu_name**************************\n"
     ]
    },
    {
     "name": "stderr",
     "output_type": "stream",
     "text": [
      "\r",
      " 71%|███████▏  | 5/7 [21:47<09:42, 291.38s/it]"
     ]
    },
    {
     "name": "stdout",
     "output_type": "stream",
     "text": [
      "**************************task_id**************************\n",
      "**************************adv_id**************************\n",
      "**************************dev_id**************************\n",
      "**************************spread_app_id**************************\n",
      "**************************indu_name**************************\n"
     ]
    },
    {
     "name": "stderr",
     "output_type": "stream",
     "text": [
      "\r",
      " 86%|████████▌ | 6/7 [32:17<06:33, 393.09s/it]"
     ]
    },
    {
     "name": "stdout",
     "output_type": "stream",
     "text": [
      "**************************task_id**************************\n",
      "**************************adv_id**************************\n",
      "**************************dev_id**************************\n",
      "**************************spread_app_id**************************\n",
      "**************************indu_name**************************\n"
     ]
    },
    {
     "name": "stderr",
     "output_type": "stream",
     "text": [
      "100%|██████████| 7/7 [45:52<00:00, 393.20s/it]\n"
     ]
    },
    {
     "name": "stdout",
     "output_type": "stream",
     "text": [
      "9141.80 Mb, 5719.39 Mb (37.44 %)\n"
     ]
    },
    {
     "name": "stderr",
     "output_type": "stream",
     "text": [
      "\r",
      "  0%|          | 0/84 [00:00<?, ?it/s]"
     ]
    },
    {
     "name": "stdout",
     "output_type": "stream",
     "text": [
      "['uidtask_id_nunique', 'uidtask_id_pt_d_nunique', 'uidadv_id_nunique', 'uidadv_id_pt_d_nunique', 'uiddev_id_nunique', 'uiddev_id_pt_d_nunique', 'uidspread_app_id_nunique', 'uidspread_app_id_pt_d_nunique', 'uidindu_name_nunique', 'uidindu_name_pt_d_nunique', 'agetask_id_nunique', 'agetask_id_pt_d_nunique', 'ageadv_id_nunique', 'ageadv_id_pt_d_nunique', 'agedev_id_nunique', 'agedev_id_pt_d_nunique', 'agespread_app_id_nunique', 'agespread_app_id_pt_d_nunique', 'ageindu_name_nunique', 'ageindu_name_pt_d_nunique', 'gendertask_id_nunique', 'gendertask_id_pt_d_nunique', 'genderadv_id_nunique', 'genderadv_id_pt_d_nunique', 'genderdev_id_nunique', 'genderdev_id_pt_d_nunique', 'genderspread_app_id_nunique', 'genderspread_app_id_pt_d_nunique', 'genderindu_name_nunique', 'genderindu_name_pt_d_nunique', 'careertask_id_nunique', 'careertask_id_pt_d_nunique', 'careeradv_id_nunique', 'careeradv_id_pt_d_nunique', 'careerdev_id_nunique', 'careerdev_id_pt_d_nunique', 'careerspread_app_id_nunique', 'careerspread_app_id_pt_d_nunique', 'careerindu_name_nunique', 'careerindu_name_pt_d_nunique', 'citytask_id_nunique', 'citytask_id_pt_d_nunique', 'cityadv_id_nunique', 'cityadv_id_pt_d_nunique', 'citydev_id_nunique', 'citydev_id_pt_d_nunique', 'cityspread_app_id_nunique', 'cityspread_app_id_pt_d_nunique', 'cityindu_name_nunique', 'cityindu_name_pt_d_nunique', 'slot_idtask_id_nunique', 'slot_idtask_id_pt_d_nunique', 'slot_idadv_id_nunique', 'slot_idadv_id_pt_d_nunique', 'slot_iddev_id_nunique', 'slot_iddev_id_pt_d_nunique', 'slot_idspread_app_id_nunique', 'slot_idspread_app_id_pt_d_nunique', 'slot_idindu_name_nunique', 'slot_idindu_name_pt_d_nunique', 'net_typetask_id_nunique', 'net_typetask_id_pt_d_nunique', 'net_typeadv_id_nunique', 'net_typeadv_id_pt_d_nunique', 'net_typedev_id_nunique', 'net_typedev_id_pt_d_nunique', 'net_typespread_app_id_nunique', 'net_typespread_app_id_pt_d_nunique', 'net_typeindu_name_nunique', 'net_typeindu_name_pt_d_nunique']\n"
     ]
    },
    {
     "name": "stderr",
     "output_type": "stream",
     "text": [
      "100%|██████████| 84/84 [14:55<00:00, 10.66s/it]\n"
     ]
    },
    {
     "name": "stdout",
     "output_type": "stream",
     "text": [
      "11918.47 Mb, 8782.03 Mb (26.32 %)\n",
      "drop list: ['communication_onlinerate_24', 'communication_onlinerate_24_count', 'communication_onlinerate_24_pt_d_count']\n"
     ]
    }
   ],
   "source": [
    "##########################groupby feature#######################\n",
    "def group_fea(data, key, target):\n",
    "    tmp = data.groupby(key, as_index=False)[target].agg({\n",
    "        key + target + '_nunique': 'nunique',\n",
    "    }).reset_index()\n",
    "    del tmp['index']\n",
    "    return tmp\n",
    "\n",
    "\n",
    "def group_fea_pt_d(data, key, target):\n",
    "    tmp = data.groupby([key, 'pt_d'], as_index=False)[target].agg({\n",
    "        key + target + '_pt_d_nunique': 'nunique',\n",
    "    }).reset_index()\n",
    "    fe = tmp.groupby('pt_d')[key + target + '_pt_d_nunique'].max().rename('dmax').reset_index()\n",
    "    tmp = tmp.merge(fe, on='pt_d', how='left')\n",
    "    tmp[key + target + '_pt_d_nunique'] = tmp[key + target + '_pt_d_nunique'] / tmp['dmax']\n",
    "    del tmp['index'], tmp['dmax']\n",
    "    print(\"**************************{}**************************\".format(target))\n",
    "    return tmp\n",
    "\n",
    "\n",
    "feature_key = ['uid', 'age', 'gender', 'career', 'city', 'slot_id', 'net_type']\n",
    "feature_target = ['task_id', 'adv_id', 'dev_id', 'spread_app_id', 'indu_name']\n",
    "\n",
    "for key in tqdm(feature_key):\n",
    "    for target in feature_target:\n",
    "        tmp = group_fea(data, key, target)\n",
    "        data = data.merge(tmp, on=key, how='left')\n",
    "        tmp = group_fea_pt_d(data, key, target)\n",
    "        data = data.merge(tmp, on=[key, 'pt_d'], how='left')\n",
    "del tmp\n",
    "gc.collect()\n",
    "data = reduce_mem(data, use_float16=False)\n",
    "\n",
    "test_df = data[data[\"pt_d\"] >= 8].copy().reset_index()\n",
    "train_df = data[data[\"pt_d\"] < 8].reset_index()\n",
    "del data\n",
    "gc.collect()\n",
    "\n",
    "# 统计做了groupby特征的特征\n",
    "group_list = []\n",
    "for s in train_df.columns:\n",
    "    if '_nunique' in s:\n",
    "        group_list.append(s)\n",
    "print(group_list)\n",
    "\n",
    "##########################target_enc feature#######################\n",
    "## 和开源基本一致\n",
    "from sklearn.model_selection import StratifiedKFold\n",
    "\n",
    "skf = StratifiedKFold(n_splits=5, shuffle=True, random_state=2020)\n",
    "enc_list = group_list + ['net_type', 'task_id', 'adv_id', 'adv_prim_id', 'age',\n",
    "                         'app_first_class', 'app_second_class', 'career', 'city', 'consume_purchase', 'uid', 'dev_id',\n",
    "                         'tags', 'slot_id']\n",
    "for f in tqdm(enc_list):\n",
    "    train_df[f + '_target_enc'] = 0\n",
    "    test_df[f + '_target_enc'] = 0\n",
    "    for i, (trn_idx, val_idx) in enumerate(skf.split(train_df, train_df['label'])):\n",
    "        trn_x = train_df[[f, 'label']].iloc[trn_idx].reset_index(drop=True)\n",
    "        val_x = train_df[[f]].iloc[val_idx].reset_index(drop=True)\n",
    "        enc_df = trn_x.groupby(f, as_index=False)['label'].agg({f + '_target_enc': 'mean'})\n",
    "        val_x = val_x.merge(enc_df, on=f, how='left')\n",
    "        test_x = test_df[[f]].merge(enc_df, on=f, how='left')\n",
    "        val_x[f + '_target_enc'] = val_x[f + '_target_enc'].fillna(train_df['label'].mean())\n",
    "        test_x[f + '_target_enc'] = test_x[f + '_target_enc'].fillna(train_df['label'].mean())\n",
    "        train_df.loc[val_idx, f + '_target_enc'] = val_x[f + '_target_enc'].values\n",
    "        test_df[f + '_target_enc'] += test_x[f + '_target_enc'].values / skf.n_splits\n",
    "\n",
    "del trn_x, val_x, enc_df, test_x\n",
    "gc.collect()\n",
    "# all features\n",
    "df_fe = pd.concat([train_df, test_df])\n",
    "del train_df, test_df\n",
    "df_fe = df_fe.sort_values('index').reset_index(drop=True)\n",
    "df_fe = reduce_mem(df_fe, use_float16=False)\n",
    "\n",
    "droplist = []\n",
    "set_test = df_fe.query('pt_d>=8')\n",
    "for var in df_fe.columns:\n",
    "    if var not in ['id', 'index', 'label', 'pt_d']:\n",
    "        if set_test[var].nunique() < 2 or set_test[var].count() < 2:\n",
    "            droplist.append(var)\n",
    "print('drop list:', droplist)\n",
    "df_fe = df_fe.drop(droplist, axis=1)"
   ]
  },
  {
   "cell_type": "markdown",
   "metadata": {},
   "source": [
    "## data merge"
   ]
  },
  {
   "cell_type": "code",
   "execution_count": 5,
   "metadata": {
    "ExecuteTime": {
     "end_time": "2020-09-26T10:23:39.958897Z",
     "start_time": "2020-09-26T10:23:23.587103Z"
    }
   },
   "outputs": [
    {
     "name": "stderr",
     "output_type": "stream",
     "text": [
      "[2020-09-26 18:23:39] - __init__.py[line:111] - INFO: Cache Successfully! File name: /home/zhangqibot/proj/digix/zlh/stage2/cached_data/CACHE_sampling_pro_feature.pkl\n"
     ]
    }
   ],
   "source": [
    "df_fe = df_fe.drop(columns = ['index'])\n",
    "Cache.cache_data(df_fe, nm_marker='sampling_pro_feature')"
   ]
  },
  {
   "cell_type": "code",
   "execution_count": null,
   "metadata": {},
   "outputs": [],
   "source": []
  }
 ],
 "metadata": {
  "kernelspec": {
   "display_name": "Python [conda env:tf_2.1]",
   "language": "python",
   "name": "conda-env-tf_2.1-py"
  },
  "language_info": {
   "codemirror_mode": {
    "name": "ipython",
    "version": 3
   },
   "file_extension": ".py",
   "mimetype": "text/x-python",
   "name": "python",
   "nbconvert_exporter": "python",
   "pygments_lexer": "ipython3",
   "version": "3.7.6"
  },
  "toc": {
   "base_numbering": 1,
   "nav_menu": {},
   "number_sections": true,
   "sideBar": true,
   "skip_h1_title": false,
   "title_cell": "Table of Contents",
   "title_sidebar": "Contents",
   "toc_cell": false,
   "toc_position": {},
   "toc_section_display": true,
   "toc_window_display": false
  }
 },
 "nbformat": 4,
 "nbformat_minor": 4
}
